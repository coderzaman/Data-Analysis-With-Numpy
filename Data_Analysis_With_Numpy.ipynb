{
  "nbformat": 4,
  "nbformat_minor": 0,
  "metadata": {
    "colab": {
      "provenance": [],
      "toc_visible": true,
      "collapsed_sections": [
        "IaBRaIe2F9oY",
        "1OLI0nX8PgV3",
        "-AJqpUEgP3QE",
        "AtAQedanlavb",
        "eKwdADeOkXtp",
        "hn_P9LaFFxGh",
        "3QreeZfu4jFr",
        "P3wU_vGf-l5T",
        "9FIBUSKR-vJ6",
        "RDx_ZXq1NGZT",
        "1RLTzhiBYwC1",
        "fxHDefnhOJjU",
        "0NZyddQ0R2Hq",
        "ItsUXVfqR5QS",
        "s4HR-gMER8rh",
        "ejxD9djHd3T0",
        "ODZR1bhgnzoO",
        "jm4Gze8h50Eo",
        "Qxf4pKex0OT4",
        "fWiBBEnQ0Zvz",
        "a0-PkjyXZWju",
        "pKvF2E8km9NX",
        "lO1XsGbhZjsm",
        "0SoJH5XEnJC_",
        "x5rnFsxKuCY9",
        "5RMu9cC3J2PJ",
        "z46XGysZTpc1",
        "Dno31_STkXXF",
        "JXOvym8ynQwX",
        "mu9iBJH3tCUA",
        "2p_e-uUDvkI2",
        "evLIMQ6kd7Dm",
        "JKKLfUZkd7Dp",
        "TlH27Ke1d7Dr",
        "nUDrdK5Ld7Ds",
        "SKzJyBVMd7Dt"
      ],
      "authorship_tag": "ABX9TyPlSbSc6ACHlTjhxRkbcpvk",
      "include_colab_link": true
    },
    "kernelspec": {
      "name": "python3",
      "display_name": "Python 3"
    },
    "language_info": {
      "name": "python"
    }
  },
  "cells": [
    {
      "cell_type": "markdown",
      "metadata": {
        "id": "view-in-github",
        "colab_type": "text"
      },
      "source": [
        "<a href=\"https://colab.research.google.com/github/coderzaman/Data-Analysis-With-Numpy/blob/main/Data_Analysis_With_Numpy.ipynb\" target=\"_parent\"><img src=\"https://colab.research.google.com/assets/colab-badge.svg\" alt=\"Open In Colab\"/></a>"
      ]
    },
    {
      "cell_type": "markdown",
      "source": [
        "# **Introduction to NumPy**"
      ],
      "metadata": {
        "id": "IaBRaIe2F9oY"
      }
    },
    {
      "cell_type": "markdown",
      "source": [
        "\n",
        "NumPy stands for **Num**erical **Py**thon. It's a fundamental library for scientific computing in Python.\n",
        "\n",
        "At its core, NumPy provides a powerful object called an `ndarray`, which stands for **n-dimensional array**. This object is the key to NumPy's speed and power.\n",
        "\n",
        "-----\n",
        "\n",
        "## **Why is NumPy Faster than a Python List?**\n",
        "\n",
        "While a NumPy `ndarray` might seem similar to a Python `list`, it has crucial architectural differences that make it significantly faster for numerical operations. The two main reasons are **data type homogeneity** and **contiguous memory layout**.\n",
        "\n",
        "### **1. Homogeneous Data Types**\n",
        "\n",
        "A NumPy array is **homogeneous**, meaning all elements inside the array must be of the **same data type** (e.g., all 32-bit integers or all 64-bit floats).\n",
        "\n",
        "  * **NumPy `ndarray`**: Since every element is the same type, NumPy knows exactly how much memory each element takes up and doesn't need to perform type-checking when iterating or performing operations.\n",
        "  * **Python `list`**: A list is **heterogeneous**. It can contain different data types (`int`, `string`, `object`, etc.). When you perform an operation on a list, Python must check the data type of each element before it can proceed, which adds significant overhead and slows down the process.\n",
        "\n",
        "### **2. Contiguous Memory Layout**\n",
        "\n",
        "This is the most important reason for NumPy's speed advantage.\n",
        "\n",
        "  * **NumPy `ndarray`**: Array data is stored in a single, **contiguous block of memory**. This means if the first element is at memory address 1000, the next element (of the same integer type) will be right next to it at 1004, the next at 1008, and so on. Computers are highly optimized to work with contiguous memory blocks. This is often called being \"cache-friendly.\"\n",
        "\n",
        "  * **Python `list`**: A list doesn't store the actual data items contiguously. Instead, it stores **pointers** to objects that are scattered across different locations in memory. To access the next item, the program has to follow the pointer to find it, an extra step that slows things down.\n",
        "\n",
        "-----\n",
        "\n",
        "## **The Power of Vectorization & SIMD(Single Instruction Multiple Data)**\n",
        "\n",
        "These two features—homogeneous types and contiguous memory—unlock a powerful programming paradigm called **vectorization**.\n",
        "\n",
        "**Vectorization** is the process of executing operations on entire arrays at once, instead of iterating through elements one by one with a `for` loop.\n",
        "\n",
        "For example, to multiply every element in a list by 5, you would write a loop:\n",
        "\n",
        "```python\n",
        "my_list = [1, 2, 3, 4, 5]\n",
        "for i in range(len(my_list)):\n",
        "    my_list[i] = my_list[i] * 5\n",
        "```\n",
        "\n",
        "With NumPy, you can perform this operation on the whole array in a single line:\n",
        "\n",
        "```python\n",
        "import numpy as np\n",
        "my_array = np.array([1, 2, 3, 4, 5])\n",
        "my_array = my_array * 5 # This is vectorization!\n",
        "```\n",
        "\n",
        "This is possible because NumPy can pass the entire block of contiguous data to highly optimized, pre-compiled C code. This code, in turn, can leverage modern CPU features like **SIMD (Single Instruction, Multiple Data)**. SIMD allows a single CPU instruction (e.g., \"multiply by 5\") to be performed on multiple data elements simultaneously, leading to massive performance gains.\n",
        "\n",
        "-----\n",
        "\n",
        "## **What Else is NumPy Used For? 🧑‍🔬**\n",
        "\n",
        "Because of its speed and efficiency, NumPy is the foundation of the scientific Python ecosystem. It provides a vast library of high-level mathematical functions that operate on `ndarray`s, including:\n",
        "\n",
        "  * **Linear Algebra**: Matrix multiplication, determinants, solving linear equations, and more.\n",
        "  * **Statistics**: Calculating mean, median, standard deviation, etc.\n",
        "  * **Fourier Transforms** and routines for shape manipulation.\n",
        "  * It serves as the underlying data structure for other major libraries, most notably **Pandas**, **SciPy**, and **Scikit-learn**."
      ],
      "metadata": {
        "id": "11ENfEJwPYIX"
      }
    },
    {
      "cell_type": "markdown",
      "source": [
        "## **NumPy পরিচিতি**"
      ],
      "metadata": {
        "id": "g27IntsqOq1j"
      }
    },
    {
      "cell_type": "markdown",
      "source": [
        "\n",
        "NumPy-এর পূর্ণরূপ হলো **Num**erical **Py**thon। এটি পাইথনে সায়েন্টিফিক কম্পিউটিং-এর জন্য একটি মৌলিক লাইব্রেরি।\n",
        "\n",
        "NumPy-এর কেন্দ্রে রয়েছে `ndarray` নামক একটি শক্তিশালী অবজেক্ট, যার অর্থ **n-dimensional array** (এন-ডাইমেনশনাল অ্যারে)। এই অবজেক্টটিই NumPy-এর গতি এবং ক্ষমতার মূল চাবিকাঠি।\n",
        "\n",
        "-----\n",
        "\n",
        "## **NumPy কেন Python List-এর চেয়ে দ্রুত?**\n",
        "\n",
        "যদিও একটি NumPy `ndarray`-কে পাইথনের `list`-এর মতোই মনে হতে পারে, তবে এর কিছু গুরুত্বপূর্ণ আর্কিটেকচারাল পার্থক্য রয়েছে যা এটিকে নিউমেরিক্যাল অপারেশনের জন্য অনেক বেশি দ্রুত করে তোলে। এর দুটি প্রধান কারণ হলো **সমজাতীয় ডেটা টাইপ** এবং **ধারাবাহিক মেমরি লেআউট**।\n",
        "\n",
        "### **১. সমজাতীয় ডেটা টাইপ (Homogeneous Data Types)**\n",
        "\n",
        "একটি NumPy অ্যারে **সমজাতীয় (homogeneous)** হয়, অর্থাৎ অ্যারের ভিতরের সমস্ত উপাদান অবশ্যই **একই ডেটা টাইপের** হতে হবে (যেমন, সব 32-bit integer অথবা সব 64-bit float)।\n",
        "\n",
        "  * **NumPy `ndarray`**: যেহেতু প্রতিটি উপাদান একই ধরনের, তাই NumPy ঠিকভাবে জানে প্রতিটি উপাদানের জন্য কতটা মেমরি প্রয়োজন। এর ফলে কোনো অপারেশন চালানোর সময় ডেটা টাইপ চেক করার প্রয়োজন হয় না।\n",
        "  * **Python `list`**: একটি লিস্ট **বিষমজাতীয় (heterogeneous)** হতে পারে। এতে বিভিন্ন ডেটা টাইপের উপাদান (`int`, `string`, `object` ইত্যাদি) থাকতে পারে। যখন একটি লিস্টের উপর কোনো অপারেশন করা হয়, তখন পাইথনকে প্রতিটি উপাদানের ডেটা টাইপ পরীক্ষা করতে হয়, যা অতিরিক্ত সময় নেয় এবং প্রক্রিয়াটিকে ধীর করে দেয়।\n",
        "\n",
        "### **২. ধারাবাহিক মেমরি লেআউট (Contiguous Memory Layout)**\n",
        "\n",
        "NumPy-এর গতির পেছনে এটিই সবচেয়ে গুরুত্বপূর্ণ কারণ।\n",
        "\n",
        "  * **NumPy `ndarray`**: অ্যারের ডেটা একটিমাত্র, **ধারাবাহিক মেমরি ব্লকে (contiguous block of memory)** সংরক্ষিত থাকে। এর মানে হলো, যদি প্রথম উপাদানটি মেমরি অ্যাড্রেস 1000-এ থাকে, তবে পরবর্তী (একই টাইপের) উপাদানটি ঠিক তার পাশেই 1004-এ থাকবে, তার পরেরটি 1008-এ, এবং এভাবেই চলতে থাকবে। কম্পিউটার এই ধরনের ধারাবাহিক মেমরি ব্লকের সাথে কাজ করতে অত্যন্ত অপ্টিমাইজড। একে প্রায়শই \"ক্যাশ-ফ্রেন্ডলি\" (cache-friendly) বলা হয়।\n",
        "\n",
        "  * **Python `list`**: একটি লিস্ট তার আসল ডেটা আইটেমগুলো ধারাবাহিকভাবে সংরক্ষণ করে না। পরিবর্তে, এটি মেমরির বিভিন্ন স্থানে ছড়িয়ে ছিটিয়ে থাকা অবজেক্টগুলোর **পয়েন্টার (pointers)** সংরক্ষণ করে। পরবর্তী আইটেমটি অ্যাক্সেস করার জন্য, প্রোগ্রামকে সেই পয়েন্টার অনুসরণ করে তাকে খুঁজে বের করতে হয়, যা একটি অতিরিক্ত ধাপ এবং প্রক্রিয়াটিকে ধীর করে দেয়।\n",
        "\n",
        "-----\n",
        "\n",
        "## **ভেক্টরাইজেশন এবং SIMD(Single Instruction Multiple Data)-এর শক্তি**\n",
        "\n",
        "এই দুটি বৈশিষ্ট্য—সমজাতীয় টাইপ এবং ধারাবাহিক মেমরি—একটি শক্তিশালী প্রোগ্রামিং কৌশলকে সম্ভব করে তোলে, যার নাম **ভেক্টরাইজেশন (vectorization)**।\n",
        "\n",
        "**ভেক্টরাইজেশন** হলো `for` লুপ ব্যবহার করে এক এক করে উপাদানের উপর কাজ না করে, একবারে পুরো অ্যারের উপর অপারেশন চালানো।\n",
        "\n",
        "উদাহরণস্বরূপ, একটি লিস্টের প্রতিটি উপাদানকে 5 দিয়ে গুণ করতে, আপনাকে একটি লুপ লিখতে হবে:\n",
        "\n",
        "```python\n",
        "my_list = [1, 2, 3, 4, 5]\n",
        "for i in range(len(my_list)):\n",
        "    my_list[i] = my_list[i] * 5\n",
        "```\n",
        "\n",
        "কিন্তু NumPy ব্যবহার করে, আপনি এই কাজটি একটিমাত্র লাইনে পুরো অ্যারের উপর করতে পারেন:\n",
        "\n",
        "```python\n",
        "import numpy as np\n",
        "my_array = np.array([1, 2, 3, 4, 5])\n",
        "my_array = my_array * 5 # এটাই ভেক্টরাইজেশন!\n",
        "```\n",
        "\n",
        "এটি সম্ভব কারণ NumPy পুরো ধারাবাহিক ডেটা ব্লকটিকে অত্যন্ত অপ্টিমাইজড এবং প্রি-কম্পাইলড C কোডের কাছে পাঠাতে পারে। এই C কোডটি আধুনিক CPU-এর **SIMD (Single Instruction, Multiple Data)**-এর মতো ফিচার ব্যবহার করতে পারে। SIMD একটিমাত্র CPU নির্দেশকে (যেমন, \"5 দ্বারা গুণ করো\") একই সময়ে একাধিক ডেটা উপাদানের উপর প্রয়োগ করতে দেয়, যার ফলে গতি বৃদ্ধি পায়।\n",
        "\n",
        "-----\n",
        "\n",
        "## **NumPy আর কী কী কাজে ব্যবহৃত হয়? 🧑‍🔬**\n",
        "\n",
        "এর গতি এবং কার্যকারিতার কারণে, NumPy সায়েন্টিফিক পাইথন ইকোসিস্টেমের ভিত্তি। এটি `ndarray`-এর উপর কাজ করার জন্য উচ্চ-স্তরের গাণিতিক ফাংশনের একটি বিশাল লাইব্রেরি সরবরাহ করে, যার মধ্যে রয়েছে:\n",
        "\n",
        "  * **রৈখিক বীজগণিত (Linear Algebra)**: ম্যাট্রিক্স গুণ, ডিটারমিন্যান্ট, রৈখিক সমীকরণ সমাধান এবং আরও অনেক কিছু।\n",
        "  * **পরিসংখ্যান (Statistics)**: গড় (mean), মধ্যক (median), স্ট্যান্ডার্ড ডেভিয়েশন (standard deviation) ইত্যাদি গণনা করা।\n",
        "  * **ফুরিয়ার ট্রান্সফর্ম** এবং শেপ ম্যানিপুলেশনের জন্য বিভিন্ন রুটিন।\n",
        "  * এটি অন্যান্য প্রধান লাইব্রেরি যেমন **Pandas**, **SciPy**, এবং **Scikit-learn**-এর মূল ডেটা স্ট্রাকচার হিসাবে কাজ করে।"
      ],
      "metadata": {
        "id": "X0owKTgJPNwx"
      }
    },
    {
      "cell_type": "markdown",
      "source": [
        "# **The NumPy `ndarray` and its Attributes**"
      ],
      "metadata": {
        "id": "1OLI0nX8PgV3"
      }
    },
    {
      "cell_type": "markdown",
      "source": [
        "As we've learned, the core of NumPy is the **`ndarray`** (N-dimensional array). It's a collection of one or more items of the **same data type**.\n",
        "\n",
        "Let's first understand the problem it solves by looking at a standard Python list.\n",
        "\n",
        "-----\n",
        "\n",
        "## **The Problem with Python Lists**\n",
        "\n",
        "If you try to perform a mathematical operation like multiplication on a list, it doesn't behave as you might expect for numerical tasks.\n",
        "\n",
        "```python\n",
        "# A standard Python list\n",
        "arr_list = [1, 2, 3]\n",
        "\n",
        "# Multiplying the list by 5\n",
        "print(arr_list * 5)\n",
        "```\n",
        "\n",
        "**Output:** `[1, 2, 3, 1, 2, 3, 1, 2, 3, 1, 2, 3, 1, 2, 3]`\n",
        "\n",
        "Instead of multiplying each element by 5, Python **duplicates the list** 5 times. To get the desired result, you need to use a loop or list comprehension, which is slower for large datasets.\n",
        "\n",
        "```python\n",
        "# Using a loop to multiply each item\n",
        "multiplied_list = [item * 5 for item in arr_list]\n",
        "print(multiplied_list)\n",
        "```\n",
        "\n",
        "**Output:** `[5, 10, 15]`\n",
        "\n",
        "-----\n",
        "\n",
        "## **NumPy Arrays: The Solution ✨**\n",
        "\n",
        "NumPy arrays allow you to perform these operations directly on the entire array. This is called **vectorization**, and it uses low-level features like **SIMD** to execute the operation on all elements at once, making it incredibly fast.\n",
        "\n",
        "### **Creating a NumPy Array**\n",
        "\n",
        "First, we need to import the NumPy package. The standard convention is to import it as `np`.\n",
        "\n",
        "```python\n",
        "import numpy as np\n",
        "\n",
        "# Creating a NumPy array from a list\n",
        "arr1 = np.array([1, 2, 3])\n",
        "\n",
        "print(arr1 * 5)\n",
        "print(type(arr1))\n",
        "```\n",
        "\n",
        "**Output:**\n",
        "\n",
        "```\n",
        "[ 5 10 15]\n",
        "<class 'numpy.ndarray'>\n",
        "```\n",
        "\n",
        "-----\n",
        "\n",
        "## **Dimensions in NumPy Arrays**\n",
        "\n",
        "NumPy arrays can have any number of dimensions.\n",
        "\n",
        "### **1D Array (Vector)**\n",
        "\n",
        "A 1D array is the simplest form, like a single list.\n",
        "\n",
        "```python\n",
        "arr1 = np.array([1, 2, 3])\n",
        "```\n",
        "\n",
        "### **2D Array (Matrix)**\n",
        "\n",
        "A 2D array is like a table with rows and columns. It's essentially an array of arrays.\n",
        "\n",
        "```python\n",
        "arr2 = np.array([\n",
        "    [1, 2, 3],\n",
        "    [4, 5, 6]\n",
        "])\n",
        "```\n",
        "\n",
        "### **3D Array (Tensor)**\n",
        "\n",
        "A 3D array can be visualized as a **collection of 2D arrays (matrices)** stacked on top of each other. This is very common in areas like image processing, where an image can be represented as three 2D arrays: one for the Red channel, one for Green, and one for Blue.\n",
        "\n",
        "You can think of it as having **depth (or layers), rows, and columns**.\n",
        "\n",
        "```python\n",
        "arr3 = np.array([\n",
        "    # First Layer (or Matrix)\n",
        "    [\n",
        "      [1, 2, 3],\n",
        "      [4, 5, 6]\n",
        "    ],\n",
        "    # Second Layer (or Matrix)\n",
        "    [\n",
        "      [7, 8, 9],\n",
        "      [10, 11, 12]\n",
        "    ]\n",
        "])\n",
        "```\n",
        "\n",
        "-----\n",
        "\n",
        "## **Key Array Attributes**\n",
        "\n",
        "You can inspect the properties of an `ndarray` using its attributes.\n",
        "\n",
        "### **`.ndim`**\n",
        "\n",
        "This attribute tells you the **number of dimensions** (or axes) of the array.\n",
        "\n",
        "```python\n",
        "print(f\"arr1 dimensions: {arr1.ndim}\") # Output: 1\n",
        "print(f\"arr2 dimensions: {arr2.ndim}\") # Output: 2\n",
        "print(f\"arr3 dimensions: {arr3.ndim}\") # Output: 3\n",
        "```\n",
        "\n",
        "### **`.shape`**\n",
        "\n",
        "This attribute returns a **tuple** representing the size of the array in each dimension. It's one of the most important attributes.\n",
        "\n",
        "```python\n",
        "print(f\"arr1 shape: {arr1.shape}\")\n",
        "print(f\"arr2 shape: {arr2.shape}\")\n",
        "print(f\"arr3 shape: {arr3.shape}\")\n",
        "```\n",
        "\n",
        "**Output:**\n",
        "\n",
        "```\n",
        "arr1 shape: (3,)\n",
        "arr2 shape: (2, 3)\n",
        "arr3 shape: (2, 2, 3)\n",
        "```\n",
        "\n",
        "**How to read the shape tuple:**\n",
        "\n",
        "  * `(3,)`: This is a **1D array** with **3 elements** along its single axis.\n",
        "  * `(2, 3)`: This is a **2D array** with **2 rows** and **3 columns**.\n",
        "  * `(2, 2, 3)`: This is a **3D array**. You can read it from left to right: It has **2 layers/matrices**. Each matrix has **2 rows** and **3 columns**.\n",
        "\n",
        "### **`.size`**\n",
        "\n",
        "This attribute gives you the **total number of elements** in the array. It's simply the product of the numbers in the shape tuple.\n",
        "\n",
        "```python\n",
        "print(f\"arr1 size: {arr1.size}\") # Output: 3\n",
        "print(f\"arr2 size: {arr2.size}\") # Output: 2 * 3 = 6\n",
        "print(f\"arr3 size: {arr3.size}\") # Output: 2 * 2 * 3 = 12\n",
        "```\n",
        "\n",
        "-----\n",
        "\n",
        "### **`.dtype`**\n",
        "\n",
        "The **`.dtype`** (data type) attribute is crucial. It tells you exactly what kind of data is stored inside the NumPy array. Since every element in a NumPy array must be of the **same type**, this attribute defines the type for the entire array.\n",
        "\n",
        "This uniformity is a cornerstone of NumPy's efficiency. Knowing the exact data type allows NumPy to store the data in a compact, predictable way and use optimized, low-level functions for computation.\n",
        "\n",
        "-----\n",
        "\n",
        "### **How NumPy Determines `dtype`**\n",
        "\n",
        "When you create a NumPy array without specifying a type, NumPy **infers** the most suitable `dtype` from the input data.\n",
        "\n",
        "  * If you provide only integers, it will choose an integer type (like `int64`).\n",
        "  * If you include even one floating-point number, it will promote the entire array to a float type (like `float64`) to avoid losing information.\n",
        "\n",
        "Let's look at the arrays we created earlier, which all contained only integers:\n",
        "\n",
        "```python\n",
        "import numpy as np\n",
        "\n",
        "# Let's redefine our arrays for clarity\n",
        "arr1 = np.array([1, 2, 3])\n",
        "arr2 = np.array([[1, 2, 3], [4, 5, 6]])\n",
        "arr3 = np.array([[[1, 2, 3], [4, 5, 6]], [[7, 8, 9], [10, 11, 12]]])\n",
        "\n",
        "print(f\"arr1 dtype: {arr1.dtype}\")\n",
        "print(f\"arr2 dtype: {arr2.dtype}\")\n",
        "print(f\"arr3 dtype: {arr3.dtype}\")\n",
        "```\n",
        "\n",
        "**Expected Output:**\n",
        "\n",
        "```\n",
        "arr1 dtype: int64\n",
        "arr2 dtype: int64\n",
        "arr3 dtype: int64\n",
        "```\n",
        "\n",
        "*(Note: The output might be `int32` on some systems, but `int64` is common. It refers to a 64-bit integer.)*\n",
        "\n",
        "-----\n",
        "\n",
        "### **Specifying `dtype` Manually ✍️**\n",
        "\n",
        "You can also explicitly tell NumPy what data type to use during creation. This is useful for controlling memory usage or ensuring precision.\n",
        "\n",
        "```python\n",
        "# Create an array of 64-bit floating-point numbers\n",
        "float_arr = np.array([1, 2, 3], dtype=np.float64)\n",
        "\n",
        "print(f\"Original array: {arr1}, dtype: {arr1.dtype}\")\n",
        "print(f\"New float array: {float_arr}, dtype: {float_arr.dtype}\")\n",
        "```\n",
        "\n",
        "**Output:**\n",
        "\n",
        "```\n",
        "Original array: [1 2 3], dtype: int64\n",
        "New float array: [1. 2. 3.], dtype: float64\n",
        "```\n",
        "\n",
        "Notice how NumPy added a decimal point to the numbers in `float_arr` to show they are now floats."
      ],
      "metadata": {
        "id": "-AJqpUEgP3QE"
      }
    },
    {
      "cell_type": "code",
      "source": [
        "arr = [1,2,3]\n",
        "print(arr*5) # it not multipy 5 on it. It duplicate this array to 5 times\n",
        "# for multiplying 5 with each item we need loop which slower the operaton\n",
        "arr = [i*5 for i in arr]\n",
        "print(arr)"
      ],
      "metadata": {
        "colab": {
          "base_uri": "https://localhost:8080/"
        },
        "id": "4ZQTr-wYQkhl",
        "outputId": "8993d47d-3c36-4bf3-a3d9-3b6fdb8284bd"
      },
      "execution_count": null,
      "outputs": [
        {
          "output_type": "stream",
          "name": "stdout",
          "text": [
            "[1, 2, 3, 1, 2, 3, 1, 2, 3, 1, 2, 3, 1, 2, 3]\n",
            "[5, 10, 15]\n"
          ]
        }
      ]
    },
    {
      "cell_type": "markdown",
      "source": [
        "But when we use numpy array which SIMD to allow to one single operation multipy all item with value"
      ],
      "metadata": {
        "id": "gXKYI-sTRNAe"
      }
    },
    {
      "cell_type": "code",
      "source": [
        "import numpy as np\n",
        "arr = np.array([1,2,3])\n",
        "print(arr*5)"
      ],
      "metadata": {
        "colab": {
          "base_uri": "https://localhost:8080/"
        },
        "id": "WYuhFEDNRLlr",
        "outputId": "9b236026-a2e2-4fde-ec91-1dae728df905"
      },
      "execution_count": null,
      "outputs": [
        {
          "output_type": "stream",
          "name": "stdout",
          "text": [
            "[ 5 10 15]\n"
          ]
        }
      ]
    },
    {
      "cell_type": "markdown",
      "source": [
        "## **NumPy `ndarray` এবং এর অ্যাট্রিবিউটসমূহ**"
      ],
      "metadata": {
        "id": "uJOFBHyGZ6Im"
      }
    },
    {
      "cell_type": "markdown",
      "source": [
        "আমরা আগেই জেনেছি যে NumPy-এর মূল ভিত্তি হলো **`ndarray`** (N-dimensional array)। এটি **একই ডেটা টাইপের** এক বা একাধিক আইটেমের একটি কালেকশন।\n",
        "\n",
        "প্রথমে চলুন দেখি, এটি কোন সমস্যার সমাধান করে এবং সাধারণ পাইথন লিস্টের সাথে এর পার্থক্য কোথায়।\n",
        "\n",
        "-----\n",
        "\n",
        "## **পাইথন লিস্টের সমস্যা**\n",
        "\n",
        "আপনি যদি একটি সাধারণ পাইথন লিস্টের উপর গুণ করার মতো গাণিতিক অপারেশন করতে চান, তবে এটি নিউমেরিক্যাল কাজের জন্য প্রত্যাশিত আচরণ করে না।\n",
        "\n",
        "```python\n",
        "# একটি সাধারণ পাইথন লিস্ট\n",
        "arr_list = [1, 2, 3]\n",
        "\n",
        "# লিস্টকে 5 দিয়ে গুণ করা হলো\n",
        "print(arr_list * 5)\n",
        "```\n",
        "\n",
        "**আউটপুট:** `[1, 2, 3, 1, 2, 3, 1, 2, 3, 1, 2, 3, 1, 2, 3]`\n",
        "\n",
        "এখানে প্রতিটি উপাদানকে 5 দিয়ে গুণ না করে, পাইথন লিস্টটিকে 5 বার **ডুপ্লিকেট** বা পুনরাবৃত্তি করেছে। কাঙ্ক্ষিত ফলাফল পেতে, আপনাকে একটি লুপ বা লিস্ট কম্প্রিহেনশন ব্যবহার করতে হবে, যা বড় ডেটাসেটের জন্য ধীরগতির।\n",
        "\n",
        "```python\n",
        "# প্রতিটি আইটেমকে গুণ করার জন্য লুপ ব্যবহার\n",
        "multiplied_list = [item * 5 for item in arr_list]\n",
        "print(multiplied_list)\n",
        "```\n",
        "\n",
        "**আউটপুট:** `[5, 10, 15]`\n",
        "\n",
        "-----\n",
        "\n",
        "## **NumPy অ্যারে: সমাধান ✨**\n",
        "\n",
        "NumPy অ্যারে আপনাকে এই ধরনের অপারেশন সরাসরি পুরো অ্যারের উপর করতে দেয়। একে **ভেক্টরাইজেশন (vectorization)** বলা হয় এবং এটি **SIMD**-এর মতো নিম্ন-স্তরের ফিচার ব্যবহার করে সব উপাদানের উপর একই সাথে অপারেশন চালায়, যা এটিকে অবিশ্বাস্যভাবে দ্রুত করে তোলে।\n",
        "\n",
        "### **NumPy অ্যারে তৈরি করা**\n",
        "\n",
        "প্রথমে, আমাদের NumPy প্যাকেজটি ইম্পোর্ট করতে হবে। সাধারণত এটিকে `np` হিসেবে ইম্পোর্ট করা হয়।\n",
        "\n",
        "```python\n",
        "import numpy as np\n",
        "\n",
        "# একটি লিস্ট থেকে NumPy অ্যারে তৈরি করা\n",
        "arr1 = np.array([1, 2, 3])\n",
        "\n",
        "print(arr1 * 5)\n",
        "print(type(arr1))\n",
        "```\n",
        "\n",
        "**আউটপুট:**\n",
        "\n",
        "```\n",
        "[ 5 10 15]\n",
        "<class 'numpy.ndarray'>\n",
        "```\n",
        "\n",
        "-----\n",
        "\n",
        "## **NumPy অ্যারেতে ডাইমেনশন (Dimension)**\n",
        "\n",
        "NumPy অ্যারে যেকোনো সংখ্যক ডাইমেনশনের হতে পারে।\n",
        "\n",
        "### **1D অ্যারে (ভেক্টর)**\n",
        "\n",
        "1D অ্যারে হলো সবচেয়ে সহজ রূপ, যা একটি সাধারণ লিস্টের মতো।\n",
        "\n",
        "```python\n",
        "arr1 = np.array([1, 2, 3])\n",
        "```\n",
        "\n",
        "### **2D অ্যারে (ম্যাট্রিক্স)**\n",
        "\n",
        "একটি 2D অ্যারে হলো সারি (row) এবং কলাম (column) সহ একটি টেবিলের মতো। এটি মূলত একটি অ্যারের ভিতরে থাকা একাধিক অ্যারে।\n",
        "\n",
        "```python\n",
        "arr2 = np.array([\n",
        "    [1, 2, 3],\n",
        "    [4, 5, 6]\n",
        "])\n",
        "```\n",
        "\n",
        "### **3D অ্যারে (টেনসর)**\n",
        "\n",
        "একটি 3D অ্যারে-কে কয়েকটি **2D অ্যারের (ম্যাট্রিক্স)** একটি স্ট্যাক বা floor হিসাবে কল্পনা করা যেতে পারে। এটি ইমেজ প্রসেসিং-এর মতো ক্ষেত্রে খুব সাধারণ, যেখানে একটি ছবিকে তিনটি 2D অ্যারে হিসাবে প্রকাশ করা হয়: একটি লাল (Red) চ্যানেলের জন্য, একটি সবুজ (Green) চ্যানেলের জন্য এবং একটি নীল (Blue) চ্যানেলের জন্য।\n",
        "\n",
        "আপনি এটিকে **গভীরতা (depth), সারি (row) এবং কলাম (column)** হিসেবে ভাবতে পারেন।\n",
        "\n",
        "```python\n",
        "arr3 = np.array([\n",
        "    # প্রথম স্তর (বা ম্যাট্রিক্স)\n",
        "    [\n",
        "      [1, 2, 3],\n",
        "      [4, 5, 6]\n",
        "    ],\n",
        "    # দ্বিতীয় স্তর (বা ম্যাট্রিক্স)\n",
        "    [\n",
        "      [7, 8, 9],\n",
        "      [10, 11, 12]\n",
        "    ]\n",
        "])\n",
        "```\n",
        "\n",
        "-----\n",
        "\n",
        "## **অ্যারের কিছু গুরুত্বপূর্ণ অ্যাট্রিবিউট**\n",
        "\n",
        "আপনি একটি `ndarray`-এর বৈশিষ্ট্যগুলো তার অ্যাট্রিবিউট ব্যবহার করে জানতে পারেন।\n",
        "\n",
        "### **`.ndim`**\n",
        "\n",
        "এই অ্যাট্রিবিউটটি অ্যারের **ডাইমেনশন সংখ্যা** (বা অক্ষের সংখ্যা) দেখায়।\n",
        "\n",
        "```python\n",
        "print(f\"arr1 ডাইমেনশন: {arr1.ndim}\") # আউটপুট: 1\n",
        "print(f\"arr2 ডাইমেনশন: {arr2.ndim}\") # আউটপুট: 2\n",
        "print(f\"arr3 ডাইমেনশন: {arr3.ndim}\") # আউটপুট: 3\n",
        "```\n",
        "\n",
        "### **`.shape`**\n",
        "\n",
        "এই অ্যাট্রিবিউটটি একটি **টাপল (tuple)** রিটার্ন করে যা প্রতিটি ডাইমেনশনে অ্যারের আকার দেখায়। এটি সবচেয়ে গুরুত্বপূর্ণ অ্যাট্রিবিউটগুলোর মধ্যে একটি।\n",
        "\n",
        "```python\n",
        "print(f\"arr1-এর শেপ: {arr1.shape}\")\n",
        "print(f\"arr2-এর শেপ: {arr2.shape}\")\n",
        "print(f\"arr3-এর শেপ: {arr3.shape}\")\n",
        "```\n",
        "\n",
        "**আউটপুট:**\n",
        "\n",
        "```\n",
        "arr1-এর শেপ: (3,)\n",
        "arr2-এর শেপ: (2, 3)\n",
        "arr3-এর শেপ: (2, 2, 3)\n",
        "```\n",
        "\n",
        "**শেপ টাপলটি কীভাবে পড়বেন:**\n",
        "\n",
        "  * `(3,)`: এটি একটি **1D অ্যারে** যার একটিমাত্র অক্ষে **3টি উপাদান** আছে।\n",
        "  * `(2, 3)`: এটি একটি **2D অ্যারে** যার **2টি সারি (row)** এবং **3টি কলাম (column)** আছে।\n",
        "  * `(2, 2, 3)`: এটি একটি **3D অ্যারে**। এটিকে বাম থেকে ডানে পড়ুন: এতে **2টি স্তর/ম্যাট্রিক্স** আছে। প্রতিটি ম্যাট্রিক্সে **2টি সারি** এবং **3টি কলাম** আছে।\n",
        "\n",
        "### **`.size`**\n",
        "\n",
        "এই অ্যাট্রিবিউটটি অ্যারের **মোট উপাদান সংখ্যা** দেখায়। এটি শেপ টাপলের সংখ্যাগুলোর গুণফল।\n",
        "\n",
        "```python\n",
        "print(f\"arr1-এর সাইজ: {arr1.size}\") # আউটপুট: 3\n",
        "print(f\"arr2-এর সাইজ: {arr2.size}\") # আউটপুট: 2 * 3 = 6\n",
        "print(f\"arr3-এর সাইজ: {arr3.size}\") # আউটপুট: 2 * 2 * 3 = 12\n",
        "```\n",
        "___\n",
        "\n",
        "### **`.dtype`**\n",
        "\n",
        "**`.dtype`** (data type) অ্যাট্রিবিউটটি অত্যন্ত গুরুত্বপূর্ণ। এটি আপনাকে বলে দেয় যে NumPy অ্যারের ভিতরে ঠিক কোন ধরনের ডেটা সংরক্ষণ করা আছে। যেহেতু একটি NumPy অ্যারের প্রতিটি উপাদান অবশ্যই **একই ধরনের** হতে হবে, তাই এই অ্যাট্রিবিউটটি পুরো অ্যারের জন্য সেই টাইপটি নির্ধারণ করে।\n",
        "\n",
        "এই সমজাতীয়তাই হলো NumPy-এর কার্যকারিতার মূল ভিত্তি। সঠিক ডেটা টাইপ জানার ফলে NumPy ডেটাগুলোকে একটি সুসংগঠিত উপায়ে সংরক্ষণ করতে পারে এবং গণনার জন্য অপ্টিমাইজড, নিম্ন-স্তরের ফাংশন ব্যবহার করতে পারে।\n",
        "\n",
        "-----\n",
        "\n",
        "### **NumPy কীভাবে `dtype` নির্ধারণ করে**\n",
        "\n",
        "আপনি যখন কোনো টাইপ উল্লেখ না করে একটি NumPy অ্যারে তৈরি করেন, তখন NumPy ইনপুট ডেটা থেকে সবচেয়ে উপযুক্ত **`dtype` অনুমান (infer)** করে নেয়।\n",
        "\n",
        "  * আপনি যদি শুধু পূর্ণসংখ্যা (integer) দেন, তবে এটি একটি ইন্টিজার টাইপ (যেমন `int64`) বেছে নেবে।\n",
        "  * আপনি যদি একটিও ফ্লোটিং-পয়েন্ট নম্বর (দশমিক সংখ্যা) অন্তর্ভুক্ত করেন, তবে এটি ডেটার Verlust এড়াতে পুরো অ্যারেটিকে একটি ফ্লোট টাইপে (যেমন `float64`) রূপান্তর করবে।\n",
        "\n",
        "চলুন আমাদের আগে তৈরি করা অ্যারেগুলো দেখি, যেগুলোতে শুধুমাত্র ইন্টিজার ছিল:\n",
        "\n",
        "```python\n",
        "import numpy as np\n",
        "\n",
        "# স্বচ্ছতার জন্য আমাদের অ্যারেগুলো আবার লিখি\n",
        "arr1 = np.array([1, 2, 3])\n",
        "arr2 = np.array([[1, 2, 3], [4, 5, 6]])\n",
        "arr3 = np.array([[[1, 2, 3], [4, 5, 6]], [[7, 8, 9], [10, 11, 12]]])\n",
        "\n",
        "print(f\"arr1-এর dtype: {arr1.dtype}\")\n",
        "print(f\"arr2-এর dtype: {arr2.dtype}\")\n",
        "print(f\"arr3-এর dtype: {arr3.dtype}\")\n",
        "```\n",
        "\n",
        "**প্রত্যাশিত আউটপুট:**\n",
        "\n",
        "```\n",
        "arr1-এর dtype: int64\n",
        "arr2-এর dtype: int64\n",
        "arr3-এর dtype: int64\n",
        "```\n",
        "\n",
        "*(দ্রষ্টব্য: কিছু সিস্টেমে আউটপুট `int32` হতে পারে, তবে `int64` বেশি প্রচলিত। এটি একটি 64-বিটের ইন্টিজার বোঝায়।)*\n",
        "\n",
        "-----\n",
        "\n",
        "### **`dtype` নিজে নির্দিষ্ট করা ✍️**\n",
        "\n",
        "আপনি অ্যারে তৈরির সময় NumPy-কে ডেটা টাইপ কী হবে তা স্পষ্টভাবে বলে দিতে পারেন। মেমরি ব্যবহার নিয়ন্ত্রণ করতে বা গণনার সঠিকতা নিশ্চিত করার জন্য এটি খুব দরকারি।\n",
        "\n",
        "```python\n",
        "# 64-বিট ফ্লোটিং-পয়েন্ট নম্বরের একটি অ্যারে তৈরি করা\n",
        "float_arr = np.array([1, 2, 3], dtype=np.float64)\n",
        "\n",
        "print(f\"আসল অ্যারে: {arr1}, dtype: {arr1.dtype}\")\n",
        "print(f\"নতুন ফ্লোট অ্যারে: {float_arr}, dtype: {float_arr.dtype}\")\n",
        "```\n",
        "\n",
        "**আউটপুট:**\n",
        "\n",
        "```\n",
        "আসল অ্যারে: [1 2 3], dtype: int64\n",
        "নতুন ফ্লোট অ্যারে: [1. 2. 3.], dtype: float64\n",
        "```\n",
        "\n",
        "লক্ষ্য করুন, `float_arr`-এর সংখ্যাগুলোকে ফ্লোট হিসেবে দেখানোর জন্য NumPy কীভাবে তাদের সাথে একটি দশমিক বিন্দু যোগ করেছে।"
      ],
      "metadata": {
        "id": "BxlozIwQZ0nx"
      }
    },
    {
      "cell_type": "code",
      "source": [
        "import numpy as np\n",
        "arr1 = np.array([1, 2, 3])\n",
        "print(arr1)\n",
        "print()\n",
        "\n",
        "arr2 = np.array([\n",
        "    [1, 2, 3],\n",
        "    [4, 5, 6]\n",
        "])\n",
        "print(arr2)\n",
        "print()\n",
        "\n",
        "arr3 = np.array([\n",
        "    [\n",
        "      [1, 2, 3],\n",
        "      [4, 5, 6]\n",
        "    ],\n",
        "    [\n",
        "      [7, 8, 9],\n",
        "      [10, 11, 12]\n",
        "    ],\n",
        "])\n",
        "print(arr3)\n",
        "print()\n",
        "\n",
        "# Types of Array\n",
        "print(type(arr1))\n",
        "print(type(arr2))\n",
        "print(type(arr3))"
      ],
      "metadata": {
        "colab": {
          "base_uri": "https://localhost:8080/"
        },
        "id": "2awFHW1qa9Tx",
        "outputId": "706b4315-3a35-4e8d-cf48-83fc15cbb4b7"
      },
      "execution_count": null,
      "outputs": [
        {
          "output_type": "stream",
          "name": "stdout",
          "text": [
            "[1 2 3]\n",
            "\n",
            "[[1 2 3]\n",
            " [4 5 6]]\n",
            "\n",
            "[[[ 1  2  3]\n",
            "  [ 4  5  6]]\n",
            "\n",
            " [[ 7  8  9]\n",
            "  [10 11 12]]]\n",
            "\n",
            "<class 'numpy.ndarray'>\n",
            "<class 'numpy.ndarray'>\n",
            "<class 'numpy.ndarray'>\n"
          ]
        }
      ]
    },
    {
      "cell_type": "markdown",
      "source": [
        "### **Attributes**"
      ],
      "metadata": {
        "id": "XCdgXzYVcMtE"
      }
    },
    {
      "cell_type": "code",
      "source": [
        "print(arr1.ndim)\n",
        "print(arr2.ndim)\n",
        "print(arr3.ndim)"
      ],
      "metadata": {
        "colab": {
          "base_uri": "https://localhost:8080/"
        },
        "id": "beKkR-YWcWV7",
        "outputId": "5a17e81a-1f2d-4536-f463-209ec815b8cf"
      },
      "execution_count": null,
      "outputs": [
        {
          "output_type": "stream",
          "name": "stdout",
          "text": [
            "1\n",
            "2\n",
            "3\n"
          ]
        }
      ]
    },
    {
      "cell_type": "code",
      "source": [
        "print(arr1.shape)\n",
        "print(arr2.shape)\n",
        "print(arr3.shape)"
      ],
      "metadata": {
        "colab": {
          "base_uri": "https://localhost:8080/"
        },
        "id": "bKLGyVZRciEq",
        "outputId": "c70da034-fba6-4fc7-9d81-ac507eed88c7"
      },
      "execution_count": null,
      "outputs": [
        {
          "output_type": "stream",
          "name": "stdout",
          "text": [
            "(3,)\n",
            "(2, 3)\n",
            "(2, 2, 3)\n"
          ]
        }
      ]
    },
    {
      "cell_type": "code",
      "source": [
        "print(arr1.dtype)\n",
        "print(arr2.dtype)\n",
        "print(arr3.dtype)"
      ],
      "metadata": {
        "colab": {
          "base_uri": "https://localhost:8080/"
        },
        "id": "kASU3QiAcmrB",
        "outputId": "ccb73514-3a71-4049-d3a8-e2d053443cfa"
      },
      "execution_count": null,
      "outputs": [
        {
          "output_type": "stream",
          "name": "stdout",
          "text": [
            "int64\n",
            "int64\n",
            "int64\n"
          ]
        }
      ]
    },
    {
      "cell_type": "code",
      "source": [
        "print(arr1.size)\n",
        "print(arr2.size)\n",
        "print(arr3.size)"
      ],
      "metadata": {
        "colab": {
          "base_uri": "https://localhost:8080/"
        },
        "id": "MbCoculNc1th",
        "outputId": "f16d1c15-899c-4fe1-a8b9-8fa475e3f9b4"
      },
      "execution_count": null,
      "outputs": [
        {
          "output_type": "stream",
          "name": "stdout",
          "text": [
            "3\n",
            "6\n",
            "12\n"
          ]
        }
      ]
    },
    {
      "cell_type": "markdown",
      "source": [
        "# **NumPy Data Types: Upcasting and Type Control**"
      ],
      "metadata": {
        "id": "AtAQedanlavb"
      }
    },
    {
      "cell_type": "markdown",
      "source": [
        "NumPy's efficiency comes from its strict, uniform data types. When you create an array, NumPy has a smart system for deciding the `dtype` for you, a process called **upcasting**.\n",
        "\n",
        "-----\n",
        "\n",
        "## **Automatic Type Inference: The Rule of Upcasting 🧠**\n",
        "\n",
        "NumPy's primary rule is: **never lose information**. It will automatically \"upcast\" the data type of the entire array to the most general or precise type present in the input data.\n",
        "\n",
        "1.  **All Integers → Integer Type**\n",
        "    If all you provide are integers, NumPy creates an integer array. The specific kind (`int32` or `int64`) depends on your computer's operating system architecture (64-bit OS usually defaults to `int64`).\n",
        "\n",
        "    ```python\n",
        "    import numpy as np\n",
        "    arr_i = np.array([1, 2, 3])\n",
        "    print(arr_i.dtype) # Output: int64 (or int32 on some systems)\n",
        "    ```\n",
        "\n",
        "2.  **Integer + Float → Float Type**\n",
        "    If the array contains even a single floating-point number, NumPy upcasts the *entire array* to a float type to preserve the decimal part.\n",
        "\n",
        "    ```python\n",
        "    arr_f = np.array([1, 2.3, 3])\n",
        "    print(arr_f.dtype) # Output: float64\n",
        "    ```\n",
        "\n",
        "3.  **Anything + String → String Type**\n",
        "    The string is the most general type. If a string is present, everything else is converted to a string.\n",
        "\n",
        "    ```python\n",
        "    arr_s = np.array([1, 2.3, \"avc\"])\n",
        "    print(arr_s.dtype) # Output: <U32\n",
        "    ```\n",
        "\n",
        "    Here, `<U32` means a **Unicode string** with a maximum length of **32 characters**.\n",
        "\n",
        "-----\n",
        "\n",
        "## **A Note on Precision: `float32` vs. `float64`**\n",
        "\n",
        "When NumPy upcasts to a float, it typically defaults to `float64`. This is known as **double-precision**.\n",
        "\n",
        "  * **Single Precision (`float32`)**: Uses 32 bits of memory. It's faster and uses less memory but is less precise (about 7 decimal digits of precision).\n",
        "  * **Double Precision (`float64`)**: Uses 64 bits of memory. It's the default because it is much more precise (about 15-16 decimal digits), which is crucial for scientific and financial calculations.\n",
        "\n",
        "Think of it like a measuring tape. Single precision is like measuring to the nearest millimeter, while double precision is like measuring to the nearest micrometer.\n",
        "\n",
        "-----\n",
        "\n",
        "## **Manually Controlling `dtype` (and its Dangers ⚠️)**\n",
        "\n",
        "You can force a specific `dtype` during array creation, but you must be careful.\n",
        "\n",
        "### **1. \"Safe\" but Lossy Downcasting**\n",
        "\n",
        "You can force a float array to be an integer array. This is considered \"downcasting\". NumPy will allow it, but it will **truncate** (cut off) the decimal part, leading to data loss.\n",
        "\n",
        "```python\n",
        "# The .3 in 2.3 will be lost\n",
        "arr_downcast = np.array([1, 2.3, 3], dtype=np.int64)\n",
        "print(arr_downcast)      # Output: [1 2 3]\n",
        "print(arr_downcast.dtype) # Output: int64\n",
        "```\n",
        "\n",
        "### **2. Invalid Conversion Errors**\n",
        "\n",
        "You cannot downcast when it's impossible. Trying to convert a non-numeric string like `\"asd\"` into a number will raise a `ValueError`.\n",
        "\n",
        "```python\n",
        "# This will cause an error!\n",
        "# arr_error = np.array([1, 2.3, \"asd\"], dtype=np.int64)\n",
        "# ValueError: invalid literal for int() with base 10: 'asd'\n",
        "```\n",
        "\n",
        "### **3. Out-of-Range Errors**\n",
        "\n",
        "Specifying a smaller data type to save memory can be risky. If a value doesn't fit within the range of the specified type, you'll get an `OverflowError`. The range for `int8` is only **-128 to 127**.\n",
        "\n",
        "```python\n",
        "# This will cause an error because 422 is too large for int8\n",
        "# arr_overflow = np.array([1, 2, 422], dtype=np.int8)\n",
        "# OverflowError: Python int too large to convert to C long\n",
        "```\n",
        "\n",
        "-----\n",
        "\n",
        "## **Changing Type After Creation: `.astype()`**\n",
        "\n",
        "If you have an existing array, you can create a new copy with a different `dtype` using the `.astype()` method. This is a very common and useful operation.\n",
        "\n",
        "```python\n",
        "arr_float = np.array([1.1, 2.7, 3.5])\n",
        "print(f\"Original array: {arr_float}, dtype: {arr_float.dtype}\")\n",
        "\n",
        "# Create a new integer copy\n",
        "arr_int = arr_float.astype(np.int32)\n",
        "print(f\"New array: {arr_int}, dtype: {arr_int.dtype}\")\n",
        "```\n",
        "\n",
        "**Output:**\n",
        "\n",
        "```\n",
        "Original array: [1.1 2.7 3.5], dtype: float64\n",
        "New array: [1 2 3], dtype: int32\n",
        "```\n",
        "\n",
        "Notice again that the decimal values were **truncated**, not rounded."
      ],
      "metadata": {
        "id": "jLK5r9ZKlWST"
      }
    },
    {
      "cell_type": "markdown",
      "source": [
        "## **NumPy ডেটা টাইপ: আপকাস্টিং এবং টাইপ কন্ট্রোল**"
      ],
      "metadata": {
        "id": "-R7EDwtsvCTm"
      }
    },
    {
      "cell_type": "markdown",
      "source": [
        "NumPy-এর কার্যকারিতার মূলে রয়েছে এর কঠোর এবং অভিন্ন ডেটা টাইপ। আপনি যখন একটি অ্যারে তৈরি করেন, NumPy আপনার জন্য `dtype` নির্ধারণ করার জন্য একটি স্মার্ট সিস্টেম ব্যবহার করে, এই প্রক্রিয়াটিকে **আপকাস্টিং (upcasting)** বলা হয়।\n",
        "\n",
        "-----\n",
        "\n",
        "## **স্বয়ংক্রিয় টাইপ নির্ধারণ: আপকাস্টিং-এর নিয়ম 🧠**\n",
        "\n",
        "NumPy-এর মূল নিয়ম হলো: **কখনোই ডেটা হারানো যাবে না**। এটি ইনপুট ডেটার মধ্যে সবচেয়ে সাধারণ বা সুনির্দিষ্ট (precise) টাইপটিকে বেছে নেয় এবং পুরো অ্যারের ডেটা টাইপকে সেই অনুযায়ী \"আপকাস্ট\" বা উন্নত করে।\n",
        "\n",
        "1.  **সব ইন্টিজার → ইন্টিজার টাইপ**\n",
        "    যদি আপনি শুধু ইন্টিজার দেন, NumPy একটি ইন্টিজার অ্যারে তৈরি করবে। নির্দিষ্ট ধরনটি (`int32` বা `int64`) আপনার কম্পিউটারের অপারেটিং সিস্টেম আর্কিটেকচারের উপর নির্ভর করে (64-বিট OS সাধারণত `int64` ব্যবহার করে)।\n",
        "\n",
        "    ```python\n",
        "    import numpy as np\n",
        "    arr_i = np.array([1, 2, 3])\n",
        "    print(arr_i.dtype) # আউটপুট: int64 (কিছু সিস্টেমে int32 হতে পারে)\n",
        "    ```\n",
        "\n",
        "2.  **ইন্টিজার + ফ্লোট → ফ্লোট টাইপ**\n",
        "    অ্যারেতে যদি একটিও ফ্লোটিং-পয়েন্ট নম্বর (দশমিক সংখ্যা) থাকে, তবে NumPy দশমিক অংশটি রক্ষা করার জন্য *পুরো অ্যারেটিকে* একটি ফ্লোট টাইপে আপকাস্ট করে।\n",
        "\n",
        "    ```python\n",
        "    arr_f = np.array([1, 2.3, 3])\n",
        "    print(arr_f.dtype) # আউটপুট: float64\n",
        "    ```\n",
        "\n",
        "3.  **যেকোনো কিছু + স্ট্রিং → স্ট্রিং টাইপ**\n",
        "    স্ট্রিং হলো সবচেয়ে সাধারণ টাইপ। যদি একটি স্ট্রিং উপস্থিত থাকে, তবে বাকি সবকিছুকে স্ট্রিং-এ রূপান্তরিত করা হয়।\n",
        "\n",
        "    ```python\n",
        "    arr_s = np.array([1, 2.3, \"avc\"])\n",
        "    print(arr_s.dtype) # আউটপুট: <U32\n",
        "    ```\n",
        "\n",
        "    এখানে `<U32` মানে হলো একটি **ইউনিকোড স্ট্রিং**, যার সর্বোচ্চ দৈর্ঘ্য **32 ক্যারেক্টার** হতে পারে।\n",
        "\n",
        "-----\n",
        "\n",
        "## **প্রিসিশন নোট: `float32` বনাম `float64`**\n",
        "\n",
        "যখন NumPy একটি ফ্লোট টাইপে আপকাস্ট করে, তখন এটি সাধারণত `float64` ব্যবহার করে। এটিকে **ডাবল-প্রিসিশন (double-precision)** বলা হয়।\n",
        "\n",
        "  * **সিঙ্গেল প্রিসিশন (`float32`)**: 32 বিট মেমরি ব্যবহার করে। এটি দ্রুত এবং কম মেমরি নেয় কিন্তু কম সুনির্দিষ্ট (প্রায় 7 দশমিক স্থান পর্যন্ত নির্ভুল)।\n",
        "  * **ডাবল প্রিসিশন (`float64`)**: 64 বিট মেমরি ব্যবহার করে। এটি ডিফল্ট কারণ এটি অনেক বেশি সুনির্দিষ্ট (প্রায় 15-16 দশমিক স্থান পর্যন্ত নির্ভুল), যা বৈজ্ঞানিক এবং আর্থিক গণনার জন্য অত্যন্ত গুরুত্বপূর্ণ।\n",
        "\n",
        "-----\n",
        "\n",
        "## **`dtype` নিজে নিয়ন্ত্রণ করা (এবং এর বিপদ ⚠️)**\n",
        "\n",
        "আপনি অ্যারে তৈরির সময় একটি নির্দিষ্ট `dtype` জোর করে সেট করতে পারেন, তবে আপনাকে সতর্ক থাকতে হবে।\n",
        "\n",
        "### **১. \"নিরাপদ\" কিন্তু ডেটা হারানো ডাউনকাস্টিং**\n",
        "\n",
        "আপনি একটি ফ্লোট অ্যারে-কে ইন্টিজার অ্যারেতে রূপান্তর করতে পারেন। একে \"ডাউনকাস্টিং\" বলা হয়। NumPy এটি করতে দেবে, কিন্তু এটি দশমিক অংশটি **ট্রাঙ্কেট (truncate)** বা কেটে ফেলবে, যার ফলে ডেটা হারিয়ে যাবে।\n",
        "\n",
        "```python\n",
        "# 2.3 এর .3 অংশটি হারিয়ে যাবে\n",
        "arr_downcast = np.array([1, 2.3, 3], dtype=np.int64)\n",
        "print(arr_downcast)      # আউটপুট: [1 2 3]\n",
        "print(arr_downcast.dtype) # আউটপুট: int64\n",
        "```\n",
        "\n",
        "### **২. ValueError**\n",
        "\n",
        "যখন রূপান্তর অসম্ভব, তখন আপনি ডাউনকাস্ট করতে পারবেন না। `\"asd\"`-এর মতো একটি নন-নিউমেরিক স্ট্রিংকে নম্বরে রূপান্তর করার চেষ্টা করলে একটি `ValueError` দেখাবে।\n",
        "\n",
        "```python\n",
        "# এটি এরর দেবে!\n",
        "# arr_error = np.array([1, 2.3, \"asd\"], dtype=np.int64)\n",
        "# ValueError: invalid literal for int() with base 10: 'asd'\n",
        "```\n",
        "\n",
        "### **৩. OverflowError**\n",
        "\n",
        "মেমরি বাঁচানোর জন্য ছোট ডেটা টাইপ নির্দিষ্ট করা ঝুঁকিপূর্ণ হতে পারে। যদি কোনো মান নির্দিষ্ট টাইপের সীমার মধ্যে না থাকে, তবে আপনি একটি `OverflowError` পাবেন। `int8`-এর সীমা শুধুমাত্র **-128 থেকে 127** পর্যন্ত।\n",
        "\n",
        "```python\n",
        "# এটি এরর দেবে কারণ 422 সংখ্যাটি int8-এর জন্য খুব বড়\n",
        "# arr_overflow = np.array([1, 2, 422], dtype=np.int8)\n",
        "# OverflowError: Python int too large to convert to C long\n",
        "```\n",
        "\n",
        "-----\n",
        "\n",
        "## **তৈরির পরে টাইপ পরিবর্তন: `.astype()`**\n",
        "\n",
        "যদি আপনার কাছে একটি অ্যারে থাকে, তবে আপনি `.astype()` মেথড ব্যবহার করে ভিন্ন `dtype` সহ একটি নতুন কপি তৈরি করতে পারেন। এটি একটি খুব সাধারণ এবং দরকারী অপারেশন।\n",
        "\n",
        "```python\n",
        "arr_float = np.array([1.1, 2.7, 3.5])\n",
        "print(f\"আসল অ্যারে: {arr_float}, dtype: {arr_float.dtype}\")\n",
        "\n",
        "# একটি নতুন ইন্টিজার কপি তৈরি করা\n",
        "arr_int = arr_float.astype(np.int32)\n",
        "print(f\"নতুন অ্যারে: {arr_int}, dtype: {arr_int.dtype}\")\n",
        "```\n",
        "\n",
        "**আউটপুট:**\n",
        "\n",
        "```\n",
        "আসল অ্যারে: [1.1 2.7 3.5], dtype: float64\n",
        "নতুন অ্যারে: [1 2 3], dtype: int32\n",
        "```\n",
        "\n",
        "এখানেও লক্ষ্য করুন যে দশমিক মানগুলো রাউন্ড না হয়ে **ট্রাঙ্কেট** বা কেটে ফেলা হয়েছে।"
      ],
      "metadata": {
        "id": "JlFrK8Rgu2cL"
      }
    },
    {
      "cell_type": "code",
      "source": [
        "arr = np.array([1,2,3])\n",
        "print(arr.dtype)"
      ],
      "metadata": {
        "colab": {
          "base_uri": "https://localhost:8080/"
        },
        "id": "O4tW_qkDlvnH",
        "outputId": "8cf42aa7-36b4-4418-e814-2c3cd0154c1c"
      },
      "execution_count": null,
      "outputs": [
        {
          "output_type": "stream",
          "name": "stdout",
          "text": [
            "int64\n"
          ]
        }
      ]
    },
    {
      "cell_type": "code",
      "source": [
        "arr = np.array([1.2,2.3,3.5])\n",
        "print(arr.dtype)"
      ],
      "metadata": {
        "colab": {
          "base_uri": "https://localhost:8080/"
        },
        "id": "UHMZlKhymv9G",
        "outputId": "3f111b1f-04fe-4375-e9b3-ddc209cc1158"
      },
      "execution_count": null,
      "outputs": [
        {
          "output_type": "stream",
          "name": "stdout",
          "text": [
            "float64\n"
          ]
        }
      ]
    },
    {
      "cell_type": "code",
      "source": [
        "arr_f = np.array([1,2.3,3])\n",
        "print(arr_f.dtype)"
      ],
      "metadata": {
        "colab": {
          "base_uri": "https://localhost:8080/"
        },
        "id": "4xPwwIMEn94_",
        "outputId": "56743297-1caa-4b23-f61a-9f57422a3316"
      },
      "execution_count": null,
      "outputs": [
        {
          "output_type": "stream",
          "name": "stdout",
          "text": [
            "float64\n"
          ]
        }
      ]
    },
    {
      "cell_type": "code",
      "source": [
        "arr_s = np.array([1,2.3,3,\"avc\"])\n",
        "print(arr_s.dtype)"
      ],
      "metadata": {
        "colab": {
          "base_uri": "https://localhost:8080/"
        },
        "id": "ME1bHAo0oagZ",
        "outputId": "3c8c5570-f64a-486a-b127-fadab9f360f1"
      },
      "execution_count": null,
      "outputs": [
        {
          "output_type": "stream",
          "name": "stdout",
          "text": [
            "<U32\n"
          ]
        }
      ]
    },
    {
      "cell_type": "code",
      "source": [
        "\n",
        "arr_f = np.array([1,2.3,3], dtype=np.uint32)\n",
        "print(arr_f.dtype)\n",
        "print(arr_f)"
      ],
      "metadata": {
        "colab": {
          "base_uri": "https://localhost:8080/"
        },
        "id": "9W4TJM3IplBl",
        "outputId": "d32728cd-a19f-4888-c738-dc9285f14a82"
      },
      "execution_count": null,
      "outputs": [
        {
          "output_type": "stream",
          "name": "stdout",
          "text": [
            "uint32\n",
            "[1 2 3]\n"
          ]
        }
      ]
    },
    {
      "cell_type": "code",
      "source": [
        "# Throw error\n",
        "# arr_f = np.array([1,2.3,\"asd\"],dtype=np.int64)\n",
        "# print(arr_f.dtype)\n"
      ],
      "metadata": {
        "id": "uhEaxQIbqM8G"
      },
      "execution_count": null,
      "outputs": []
    },
    {
      "cell_type": "code",
      "source": [
        "arr_f = np.array([1,2.3,3])\n",
        "print(arr_f.dtype)\n",
        "\n",
        "arr_f = arr.astype(np.int32)\n",
        "print(arr_f.dtype)\n"
      ],
      "metadata": {
        "colab": {
          "base_uri": "https://localhost:8080/"
        },
        "id": "gEBl_kPfsMW6",
        "outputId": "20766451-6164-46a2-84b9-f22a6a5ddd92"
      },
      "execution_count": null,
      "outputs": [
        {
          "output_type": "stream",
          "name": "stdout",
          "text": [
            "float64\n",
            "int32\n"
          ]
        }
      ]
    },
    {
      "cell_type": "code",
      "source": [
        "# show erro\n",
        "#rr= np.array([1,2,3.5,[1,2,4],\"anv\"])\n"
      ],
      "metadata": {
        "id": "ELGfKOc4s2S-"
      },
      "execution_count": null,
      "outputs": []
    },
    {
      "cell_type": "code",
      "source": [
        "arr= np.array([1,2,3.5,\"anv\"])\n",
        "print(arr.dtype)"
      ],
      "metadata": {
        "colab": {
          "base_uri": "https://localhost:8080/"
        },
        "id": "elwIHMu4tEmN",
        "outputId": "f3809cc3-616d-44a5-889d-11f2be1022ba"
      },
      "execution_count": null,
      "outputs": [
        {
          "output_type": "stream",
          "name": "stdout",
          "text": [
            "<U32\n"
          ]
        }
      ]
    },
    {
      "cell_type": "markdown",
      "source": [
        "# **Creating an `ndarray` from Existing Data**"
      ],
      "metadata": {
        "id": "eKwdADeOkXtp"
      }
    },
    {
      "cell_type": "markdown",
      "source": [
        "You can easily create NumPy arrays from standard Python data structures like lists, tuples, sets, and dictionaries. However, there are important rules and behaviors to understand for each.\n",
        "\n",
        "-----\n",
        "\n",
        "### **1. From a Python `list` 📜**\n",
        "\n",
        "This is the most common way to create an `ndarray`.\n",
        "\n",
        "### **1D Lists**\n",
        "\n",
        "NumPy handles **upcasting** automatically to preserve data. If a list contains a mix of types, NumPy will choose the most general type for the entire array.\n",
        "\n",
        "```python\n",
        "import numpy as np\n",
        "\n",
        "# A float value forces the whole array to be float64\n",
        "lst = [10, 20, 30, 40, 40.5]\n",
        "arr = np.array(lst)\n",
        "\n",
        "print(f\"Array: {arr}\")\n",
        "print(f\"Dtype: {arr.dtype}\")\n",
        "```\n",
        "\n",
        "**Output:**\n",
        "\n",
        "```\n",
        "Array: [10.  20.  30.  40.  40.5]\n",
        "Dtype: float64\n",
        "```\n",
        "\n",
        "You can manually set the `dtype` during creation or change it later with `.astype()`, but be aware of potential data loss (truncation).\n",
        "\n",
        "### **2D Lists (Matrices)**\n",
        "\n",
        "For multi-dimensional arrays, NumPy requires a consistent, **rectangular shape**.\n",
        "\n",
        "**Rule:** Every inner list must have the **same number of elements**.\n",
        "\n",
        "```python\n",
        "# This will cause an error because the lists have different lengths\n",
        "two_d_list_bad = [\n",
        "    [1, 2, 3],\n",
        "    [4, 5, 6, 7] # This list is longer\n",
        "]\n",
        "# np.array(two_d_list_bad) -> ValueError\n",
        "```\n",
        "\n",
        "### **The `ValueError` from Ragged Arrays ⚠️**\n",
        "\n",
        "When a list contains a mix of single items and other sequences (like another list), it's called a **\"ragged\" array**. Modern NumPy will raise a `ValueError` because it cannot create a simple, rectangular grid.\n",
        "\n",
        "```python\n",
        "# This is a \"ragged\" list\n",
        "mixed_lst = [10,  40.5, True, \"hello\", [1,2,3]]\n",
        "\n",
        "# This will raise a ValueError.\n",
        "# arr = np.array(mixed_lst)\n",
        "```\n",
        "\n",
        "**Error:** `ValueError: setting an array element with a sequence.`\n",
        "\n",
        "**Solution:** You can force this to work by explicitly setting `dtype=object`. This tells NumPy to create a generic container of Python objects, but you **lose all performance benefits** and the ability to do math operations. Use it sparingly.\n",
        "\n",
        "```python\n",
        "arr_object = np.array(mixed_lst, dtype=object)\n",
        "print(f\"Object array: {arr_object}, dtype: {arr_object.dtype}\")\n",
        "```\n",
        "\n",
        "**Output:**\n",
        "\n",
        "```\n",
        "Object array: [10 40.5 True 'hello' list([1, 2, 3])], dtype: object\n",
        "```\n",
        "\n",
        "-----\n",
        "\n",
        "## **2. From a Python `tuple` 📦**\n",
        "\n",
        "Creating an array from a tuple works **exactly like creating one from a list**. All the same rules of upcasting and shape uniformity apply.\n",
        "\n",
        "```python\n",
        "mat_tu = (\n",
        "          (1, 2, 3),\n",
        "          (4, 5, 6),\n",
        "          (7, 8, 9)\n",
        "         )\n",
        "arr = np.array(mat_tu)\n",
        "\n",
        "print(f\"Array from tuple:\\n{arr}\")\n",
        "print(f\"Shape: {arr.shape}\")\n",
        "```\n",
        "\n",
        "**Output:**\n",
        "\n",
        "```\n",
        "Array from tuple:\n",
        "[[1 2 3]\n",
        " [4 5 6]\n",
        " [7 8 9]]\n",
        "Shape: (3, 3)\n",
        "```\n",
        "\n",
        "-----\n",
        "\n",
        "## **3. From a Python `set` 🌀**\n",
        "\n",
        "Directly converting a set to an `ndarray` is problematic. Because sets are **unordered**, NumPy doesn't try to infer a numeric type. Instead, it creates a single-element array of `dtype=object`.\n",
        "\n",
        "**Solution:** First, convert the set to a **`list`** or **`tuple`**.\n",
        "\n",
        "```python\n",
        "st = {1, 2, 3, 4, 5}\n",
        "\n",
        "# Wrong way - creates an object array\n",
        "arr_wrong = np.array(st)\n",
        "print(f\"Wrong Way Dtype: {arr_wrong.dtype}\") # Output: object\n",
        "\n",
        "# Correct way\n",
        "arr_correct = np.array(list(st))\n",
        "print(f\"Correct Way Dtype: {arr_correct.dtype}\") # Output: int64\n",
        "```\n",
        "\n",
        "To create a 2D array, you can use a set of tuples and convert it to a list first.\n",
        "\n",
        "```python\n",
        "st_2d = {(1,2,3), (4,5,6)}\n",
        "arr_2d_from_set = np.array(list(st_2d))\n",
        "print(f\"\\n2D Array from set of tuples:\\n{arr_2d_from_set}\")\n",
        "```\n",
        "\n",
        "-----\n",
        "\n",
        "## **4. From a Python `dict` 🔑**\n",
        "\n",
        "A dictionary has a key-value structure, so it cannot be directly converted. You must first extract the `.keys()`, `.values()`, or `.items()` and then convert those to a `list`.\n",
        "\n",
        "```python\n",
        "dic = {'a': 10, 'b': 20, 'c': 30}\n",
        "\n",
        "# Convert keys to an array\n",
        "keys_arr = np.array(list(dic.keys()))\n",
        "print(f\"Keys Array: {keys_arr}\")\n",
        "\n",
        "# Convert values to an array\n",
        "values_arr = np.array(list(dic.values()))\n",
        "print(f\"Values Array: {values_arr}\")\n",
        "\n",
        "# Convert items (key-value pairs) to a 2D array\n",
        "items_arr = np.array(list(dic.items()))\n",
        "print(f\"\\nItems Array:\\n{items_arr}\")\n",
        "print(f\"Items Dtype: {items_arr.dtype}\") # Dtype is string due to upcasting\n",
        "```\n",
        "\n",
        "**Output:**\n",
        "\n",
        "```\n",
        "Keys Array: ['a' 'b' 'c']\n",
        "Values Array: [10 20 30]\n",
        "\n",
        "Items Array:\n",
        "[['a' '10']\n",
        " ['b' '20']\n",
        " ['c' '30']]\n",
        "Items Dtype: <U21\n",
        "```\n",
        "\n",
        "___\n",
        "\n",
        "\n",
        "## **বিদ্যমান ডেটা থেকে `ndarray` তৈরি করা**\n",
        "\n",
        "আপনি পাইথনের সাধারণ ডেটা স্ট্রাকচার যেমন লিস্ট, টুপল, সেট এবং ডিকশনারি থেকে সহজেই NumPy অ্যারে তৈরি করতে পারেন। তবে, প্রতিটির জন্য কিছু গুরুত্বপূর্ণ নিয়ম এবং আচরণ বোঝা প্রয়োজন।\n",
        "\n",
        "-----\n",
        "\n",
        "## **১. পাইথন `list` থেকে 📜**\n",
        "\n",
        "`ndarray` তৈরি করার এটিই সবচেয়ে প্রচলিত উপায়।\n",
        "\n",
        "### **1D লিস্ট**\n",
        "\n",
        "ডেটা রক্ষা করার জন্য NumPy স্বয়ংক্রিয়ভাবে **আপকাস্টিং (upcasting)** পরিচালনা করে। যদি একটি লিস্টে বিভিন্ন ধরণের ডেটা মিশ্রিত থাকে, তবে NumPy পুরো অ্যারের জন্য সবচেয়ে সাধারণ টাইপটি বেছে নেয়।\n",
        "\n",
        "```python\n",
        "import numpy as np\n",
        "\n",
        "# একটি ফ্লোট মান পুরো অ্যারেটিকে float64 বানিয়ে দেবে\n",
        "lst = [10, 20, 30, 40, 40.5]\n",
        "arr = np.array(lst)\n",
        "\n",
        "print(f\"অ্যারে: {arr}\")\n",
        "print(f\"Dtype: {arr.dtype}\")\n",
        "```\n",
        "\n",
        "**আউটপুট:**\n",
        "\n",
        "```\n",
        "অ্যারে: [10.  20.  30.  40.  40.5]\n",
        "Dtype: float64\n",
        "```\n",
        "\n",
        "আপনি অ্যারে তৈরির সময় `dtype` নিজে সেট করতে পারেন অথবা পরে `.astype()` দিয়ে পরিবর্তন করতে পারেন, তবে এতে ডেটা হারানোর (truncation) সম্ভাবনা থাকে।\n",
        "\n",
        "### **2D লিস্ট (ম্যাট্রিক্স)**\n",
        "\n",
        "বহুমাত্রিক (multi-dimensional) অ্যারের জন্য NumPy-কে একটি সামঞ্জস্যপূর্ণ, **আয়তক্ষেত্রাকার (rectangular) আকৃতি** প্রয়োজন।\n",
        "\n",
        "**নিয়ম:** প্রতিটি ভেতরের লিস্টে অবশ্যই **একই সংখ্যক উপাদান** থাকতে হবে।\n",
        "\n",
        "```python\n",
        "# এটি এরর দেবে কারণ লিস্টগুলোর দৈর্ঘ্য ভিন্ন\n",
        "two_d_list_bad = [\n",
        "    [1, 2, 3],\n",
        "    [4, 5, 6, 7] # এই লিস্টটি দীর্ঘ\n",
        "]\n",
        "# np.array(two_d_list_bad) -> ValueError\n",
        "```\n",
        "\n",
        "### **র‍্যাগড অ্যারে (Ragged Arrays) থেকে `ValueError` ⚠️**\n",
        "\n",
        "যখন একটি লিস্টে একক আইটেম এবং অন্যান্য সিকোয়েন্স (যেমন আরেকটি লিস্ট) মিশ্রিত থাকে, তখন তাকে **\"র‍্যাগড\" অ্যারে** বলা হয়। আধুনিক NumPy এক্ষেত্রে একটি `ValueError` দেখায় কারণ এটি একটি সহজ, আয়তক্ষেত্রাকার গ্রিড তৈরি করতে পারে না।\n",
        "\n",
        "```python\n",
        "# এটি একটি \"র‍্যাগড\" লিস্ট\n",
        "mixed_lst = [10,  40.5, True, \"hello\", [1,2,3]]\n",
        "\n",
        "# এটি একটি ValueError দেবে\n",
        "# arr = np.array(mixed_lst)\n",
        "```\n",
        "\n",
        "**এরর:** `ValueError: setting an array element with a sequence.`\n",
        "\n",
        "**সমাধান:** আপনি `dtype=object` স্পষ্টভাবে সেট করে এটি কাজ করাতে পারেন। এটি NumPy-কে পাইথন অবজেক্টগুলোর একটি সাধারণ কন্টেইনার তৈরি করতে বলে, কিন্তু এর ফলে আপনি **পারফরম্যান্সের সমস্ত সুবিধা হারাবেন** এবং গাণিতিক অপারেশন করতে পারবেন না। তাই এটি খুব কম ব্যবহার করা উচিত।\n",
        "\n",
        "```python\n",
        "arr_object = np.array(mixed_lst, dtype=object)\n",
        "print(f\"অবজেক্ট অ্যারে: {arr_object}, dtype: {arr_object.dtype}\")\n",
        "```\n",
        "\n",
        "**আউটপুট:**\n",
        "\n",
        "```\n",
        "অবজেক্ট অ্যারে: [10 40.5 True 'hello' list([1, 2, 3])], dtype: object\n",
        "```\n",
        "\n",
        "-----\n",
        "\n",
        "## **২. পাইথন `tuple` থেকে 📦**\n",
        "\n",
        "একটি টুপল থেকে অ্যারে তৈরি করা **ঠিক একটি লিস্ট থেকে অ্যারে তৈরির মতোই** কাজ করে। আপকাস্টিং এবং আকৃতির সামঞ্জস্যের সমস্ত নিয়ম এখানেও প্রযোজ্য।\n",
        "\n",
        "```python\n",
        "mat_tu = (\n",
        "          (1, 2, 3),\n",
        "          (4, 5, 6),\n",
        "          (7, 8, 9)\n",
        "         )\n",
        "arr = np.array(mat_tu)\n",
        "\n",
        "print(f\"টুপল থেকে অ্যারে:\\n{arr}\")\n",
        "print(f\"Shape: {arr.shape}\")\n",
        "```\n",
        "\n",
        "**আউটপুট:**\n",
        "\n",
        "```\n",
        "টুপল থেকে অ্যারে:\n",
        "[[1 2 3]\n",
        " [4 5 6]\n",
        " [7 8 9]]\n",
        "Shape: (3, 3)\n",
        "```\n",
        "\n",
        "-----\n",
        "\n",
        "## **৩. পাইথন `set` থেকে 🌀**\n",
        "\n",
        "সরাসরি একটি সেটকে `ndarray`-তে রূপান্তর করা একটি সমস্যা। কারণ সেট **অগোছালো (unordered)**, তাই NumPy একটি নিউমেরিক টাইপ অনুমান করার চেষ্টা করে না। পরিবর্তে, এটি পুরো সেটটিকে ধারণ করে একটি একক-উপাদানের `dtype=object` অ্যারে তৈরি করে।\n",
        "\n",
        "**সমাধান:** প্রথমে সেটটিকে একটি **`list`** বা **`tuple`**-এ রূপান্তর করুন।\n",
        "\n",
        "```python\n",
        "st = {1, 2, 3, 4, 5}\n",
        "\n",
        "# ভুল পদ্ধতি - একটি অবজেক্ট অ্যারে তৈরি করে\n",
        "arr_wrong = np.array(st)\n",
        "print(f\"ভুল পদ্ধতির Dtype: {arr_wrong.dtype}\") # আউটপুট: object\n",
        "\n",
        "# সঠিক পদ্ধতি\n",
        "arr_correct = np.array(list(st))\n",
        "print(f\"সঠিক পদ্ধতির Dtype: {arr_correct.dtype}\") # আউটপুট: int64\n",
        "```\n",
        "\n",
        "একটি 2D অ্যারে তৈরি করতে, আপনি টুপলের একটি সেট ব্যবহার করতে পারেন এবং প্রথমে সেটিকে একটি লিস্টে রূপান্তর করতে পারেন।\n",
        "\n",
        "```python\n",
        "st_2d = {(1,2,3), (4,5,6)}\n",
        "arr_2d_from_set = np.array(list(st_2d))\n",
        "print(f\"\\nটুপলের সেট থেকে 2D অ্যারে:\\n{arr_2d_from_set}\")\n",
        "```\n",
        "\n",
        "-----\n",
        "\n",
        "## **৪. পাইথন `dict` থেকে 🔑**\n",
        "\n",
        "একটি ডিকশনারিতে কী-ভ্যালু (key-value) স্ট্রাকচার থাকায় এটিকে সরাসরি রূপান্তর করা যায় না। আপনাকে প্রথমে `.keys()`, `.values()`, বা `.items()` বের করে সেগুলোকে একটি `list`-এ রূপান্তর করতে হবে।\n",
        "\n",
        "```python\n",
        "dic = {'a': 10, 'b': 20, 'c': 30}\n",
        "\n",
        "# কী (keys) থেকে অ্যারে\n",
        "keys_arr = np.array(list(dic.keys()))\n",
        "print(f\"কী অ্যারে: {keys_arr}\")\n",
        "\n",
        "# ভ্যালু (values) থেকে অ্যারে\n",
        "values_arr = np.array(list(dic.values()))\n",
        "print(f\"ভ্যালু অ্যারে: {values_arr}\")\n",
        "\n",
        "# আইটেম (items) থেকে 2D অ্যারে\n",
        "items_arr = np.array(list(dic.items()))\n",
        "print(f\"\\nআইটেম অ্যারে:\\n{items_arr}\")\n",
        "print(f\"আইটেম Dtype: {items_arr.dtype}\") # আপকাস্টিং-এর কারণে Dtype স্ট্রিং হবে\n",
        "```\n",
        "\n",
        "**আউটপুট:**\n",
        "\n",
        "```\n",
        "কী অ্যারে: ['a' 'b' 'c']\n",
        "ভ্যালু অ্যারে: [10 20 30]\n",
        "\n",
        "আইটেম অ্যারে:\n",
        "[['a' '10']\n",
        " ['b' '20']\n",
        " ['c' '30']]\n",
        "আইটেম Dtype: <U21\n",
        "```"
      ],
      "metadata": {
        "id": "85-8vrC3knQJ"
      }
    },
    {
      "cell_type": "code",
      "source": [
        "import numpy as np\n",
        "\n",
        "lst = [10, 20, 30, 40, 40.5]\n",
        "arr = np.array(lst)\n",
        "print(type(arr))\n",
        "print(arr.dtype)\n",
        "print(arr.ndim)\n",
        "\n",
        "# arr = arr.astype(np.int32)\n",
        "# print(arr.dtype)"
      ],
      "metadata": {
        "colab": {
          "base_uri": "https://localhost:8080/"
        },
        "id": "Qy0ko7GZlKyS",
        "outputId": "5f661807-32df-43e0-b27d-8647c516fb0d"
      },
      "execution_count": null,
      "outputs": [
        {
          "output_type": "stream",
          "name": "stdout",
          "text": [
            "<class 'numpy.ndarray'>\n",
            "float64\n",
            "1\n",
            "int32\n"
          ]
        }
      ]
    },
    {
      "cell_type": "code",
      "source": [
        "lst = [10, 20, 30, 40, 40.5]\n",
        "arr = np.array(lst, dtype=np.int32)\n",
        "print(type(arr))\n",
        "print(arr.dtype)"
      ],
      "metadata": {
        "colab": {
          "base_uri": "https://localhost:8080/"
        },
        "id": "cl4KDVIRmHrC",
        "outputId": "c780e1e5-1ab8-46f2-d0fc-22e4fa465ebc"
      },
      "execution_count": null,
      "outputs": [
        {
          "output_type": "stream",
          "name": "stdout",
          "text": [
            "<class 'numpy.ndarray'>\n",
            "int32\n"
          ]
        }
      ]
    },
    {
      "cell_type": "code",
      "source": [
        "mixed_lst = [10,  40.5, True, \"hello\"]\n",
        "arr = np.array(mixed_lst)\n",
        "print(type(arr))\n",
        "print(arr.dtype)\n",
        "print(arr.ndim)"
      ],
      "metadata": {
        "colab": {
          "base_uri": "https://localhost:8080/"
        },
        "id": "erh9SYTJm9yh",
        "outputId": "6ec9867d-aeb9-4d2c-e5dd-ded34243b07b"
      },
      "execution_count": null,
      "outputs": [
        {
          "output_type": "stream",
          "name": "stdout",
          "text": [
            "<class 'numpy.ndarray'>\n",
            "<U32\n",
            "1\n"
          ]
        }
      ]
    },
    {
      "cell_type": "code",
      "source": [
        "#ValueError\n",
        "# mixed_lst = [10,  40.5, True, \"hello\", [1,2,3]]\n",
        "# arr = np.array(mixed_lst)"
      ],
      "metadata": {
        "id": "5amnvHQonOj1"
      },
      "execution_count": null,
      "outputs": []
    },
    {
      "cell_type": "code",
      "source": [
        "two_d_list = [\n",
        "    [1, 2, 3],\n",
        "    [4, 5, 6]\n",
        "]\n",
        "\n",
        "arr = np.array(two_d_list)\n",
        "print(type(arr))\n",
        "print(arr.dtype)\n",
        "print(arr.ndim)"
      ],
      "metadata": {
        "colab": {
          "base_uri": "https://localhost:8080/"
        },
        "id": "3tZ_mtpQpc1w",
        "outputId": "b7487a46-0eca-46f7-e409-344c9c0d0f08"
      },
      "execution_count": null,
      "outputs": [
        {
          "output_type": "stream",
          "name": "stdout",
          "text": [
            "<class 'numpy.ndarray'>\n",
            "int64\n",
            "2\n"
          ]
        }
      ]
    },
    {
      "cell_type": "code",
      "source": [
        "# ValueError\n",
        "# two_d_list = [\n",
        "#     [1, 2, 3],\n",
        "#     [4, 5, 6, 7]\n",
        "# ]\n",
        "# two_d_array = np.array(two_d_list)"
      ],
      "metadata": {
        "id": "f5l-7Zpcnk_s"
      },
      "execution_count": null,
      "outputs": []
    },
    {
      "cell_type": "code",
      "source": [
        "tu = (1,2,3)\n",
        "arr = np.array(tu)\n",
        "print(arr)\n",
        "print(type(arr))\n",
        "print(arr.dtype)\n",
        "print(arr.ndim)"
      ],
      "metadata": {
        "colab": {
          "base_uri": "https://localhost:8080/"
        },
        "id": "Gi6CYymRqYFM",
        "outputId": "1194e929-c520-489d-d6d7-47ad6dcfa6a4"
      },
      "execution_count": null,
      "outputs": [
        {
          "output_type": "stream",
          "name": "stdout",
          "text": [
            "[1 2 3]\n",
            "<class 'numpy.ndarray'>\n",
            "int64\n",
            "1\n"
          ]
        }
      ]
    },
    {
      "cell_type": "code",
      "source": [
        "mat_tu = (\n",
        "          (1,2,3),\n",
        "          (4,5,6),\n",
        "          (7,8,9)\n",
        "          )\n",
        "arr = np.array(mat_tu)\n",
        "print(arr)\n",
        "print(type(arr))\n",
        "print(arr.dtype)\n",
        "print(arr.ndim)"
      ],
      "metadata": {
        "colab": {
          "base_uri": "https://localhost:8080/"
        },
        "id": "7gFWKn7DrAkj",
        "outputId": "4a86b179-68b9-4920-fa89-1f4ec861923c"
      },
      "execution_count": null,
      "outputs": [
        {
          "output_type": "stream",
          "name": "stdout",
          "text": [
            "[[1 2 3]\n",
            " [4 5 6]\n",
            " [7 8 9]]\n",
            "<class 'numpy.ndarray'>\n",
            "int64\n",
            "2\n"
          ]
        }
      ]
    },
    {
      "cell_type": "code",
      "source": [
        "mat_tu = (\n",
        "          (1,2,3),\n",
        "          (4,5,6),\n",
        "          (7,8,9)\n",
        "          )\n",
        "arr = np.array(mat_tu, dtype=np.int32)\n",
        "print(arr)\n",
        "print(type(arr))\n",
        "print(arr.dtype)\n",
        "print(arr.ndim)\n",
        "\n",
        "arr = arr.astype(np.int8)\n",
        "print(arr.dtype)"
      ],
      "metadata": {
        "colab": {
          "base_uri": "https://localhost:8080/"
        },
        "id": "ZcxmKlaZru23",
        "outputId": "6168a641-fb99-4fbf-cb7b-302cced40155"
      },
      "execution_count": null,
      "outputs": [
        {
          "output_type": "stream",
          "name": "stdout",
          "text": [
            "[[1 2 3]\n",
            " [4 5 6]\n",
            " [7 8 9]]\n",
            "<class 'numpy.ndarray'>\n",
            "int32\n",
            "2\n",
            "int8\n"
          ]
        }
      ]
    },
    {
      "cell_type": "code",
      "source": [
        "# st = {1,2,3,4,5}\n",
        "# arr = np.array(st, dtype=np.int32)"
      ],
      "metadata": {
        "id": "Y1rht_jgskq_"
      },
      "execution_count": null,
      "outputs": []
    },
    {
      "cell_type": "code",
      "source": [
        "st = {1,2,3,4,5}\n",
        "arr = np.array(st)\n",
        "print(arr)\n",
        "print(type(arr))\n",
        "print(arr.dtype)\n"
      ],
      "metadata": {
        "colab": {
          "base_uri": "https://localhost:8080/"
        },
        "id": "b7z173TPtNFd",
        "outputId": "6b9432bf-0904-4b96-ad65-b0aa9d82bc06"
      },
      "execution_count": null,
      "outputs": [
        {
          "output_type": "stream",
          "name": "stdout",
          "text": [
            "{1, 2, 3, 4, 5}\n",
            "<class 'numpy.ndarray'>\n",
            "object\n"
          ]
        }
      ]
    },
    {
      "cell_type": "code",
      "source": [
        "st = {1,2,3,4,5}\n",
        "arr = np.array(list(st), dtype=np.int32)\n",
        "print(arr)\n",
        "print(type(arr))\n",
        "print(arr.dtype)\n"
      ],
      "metadata": {
        "colab": {
          "base_uri": "https://localhost:8080/"
        },
        "id": "7P1_fobBtjIZ",
        "outputId": "459577e5-ff02-46a8-c582-5a9e35ea9033"
      },
      "execution_count": null,
      "outputs": [
        {
          "output_type": "stream",
          "name": "stdout",
          "text": [
            "[1 2 3 4 5]\n",
            "<class 'numpy.ndarray'>\n",
            "int32\n"
          ]
        }
      ]
    },
    {
      "cell_type": "code",
      "source": [
        "st_2d = {(1,2,3),(4,5,6)}\n",
        "arr = np.array(list(st_2d))\n",
        "print(arr)\n",
        "print(type(arr))\n",
        "print(arr.dtype)"
      ],
      "metadata": {
        "colab": {
          "base_uri": "https://localhost:8080/"
        },
        "id": "ux-w1NRlt7Vj",
        "outputId": "daf3ec6e-bc5b-42cc-b364-19d736ba767c"
      },
      "execution_count": null,
      "outputs": [
        {
          "output_type": "stream",
          "name": "stdout",
          "text": [
            "[[1 2 3]\n",
            " [4 5 6]]\n",
            "<class 'numpy.ndarray'>\n",
            "int8\n"
          ]
        }
      ]
    },
    {
      "cell_type": "code",
      "source": [
        "dic = {'a':10, 'b':20, 'c':30}\n",
        "keys = dic.keys()\n",
        "\n",
        "values = dic.values()\n",
        "\n",
        "key_value = dic.items()\n",
        "\n",
        "# It not possible directly\n",
        "keys_arr = np.array(keys)\n",
        "print(keys_arr.dtype) #object\n",
        "\n",
        "# firstly we need to convert list or tuple then make ndarry\n",
        "keys_arr = np.array(list(keys))\n",
        "print(keys_arr.dtype) #int64\n",
        "print(keys_arr)\n",
        "print()\n",
        "\n",
        "values_arr = np.array(list(values))\n",
        "print(values_arr.dtype) #int64\n",
        "print(values_arr)\n",
        "print()\n",
        "\n",
        "key_value_arr = np.array(list(key_value))\n",
        "print(key_value_arr.dtype) #object\n",
        "print(key_value_arr)\n",
        "\n"
      ],
      "metadata": {
        "colab": {
          "base_uri": "https://localhost:8080/"
        },
        "id": "OBNvelbrwGWT",
        "outputId": "f9bd8812-4368-4ab8-bc9e-becf2eab12ad"
      },
      "execution_count": null,
      "outputs": [
        {
          "output_type": "stream",
          "name": "stdout",
          "text": [
            "object\n",
            "<U1\n",
            "['a' 'b' 'c']\n",
            "\n",
            "int64\n",
            "[10 20 30]\n",
            "\n",
            "<U21\n",
            "[['a' '10']\n",
            " ['b' '20']\n",
            " ['c' '30']]\n"
          ]
        }
      ]
    },
    {
      "cell_type": "markdown",
      "source": [
        "# **Creating an `ndarray` From Scratch**"
      ],
      "metadata": {
        "id": "hn_P9LaFFxGh"
      }
    },
    {
      "cell_type": "markdown",
      "source": [
        "NumPy provides several convenient functions to create arrays from scratch without needing an existing Python data structure. These are highly efficient for initializing arrays of a specific size with placeholder values.\n",
        "\n",
        "-----\n",
        "\n",
        "## **1. `np.zeros` and `np.zeros_like`**\n",
        "\n",
        "The `np.zeros()` function creates an array of a given shape, filling it entirely with **zeros**.\n",
        "\n",
        "  * **Default `dtype`**: By default, the array is filled with floating-point zeros (`0.`) and has a `dtype` of `float64`.\n",
        "  * **Shape**: The first argument is the shape, provided as an integer for 1D arrays or a tuple for multi-dimensional arrays.\n",
        "\n",
        "<!-- end list -->\n",
        "\n",
        "```python\n",
        "import numpy as np\n",
        "\n",
        "# 1D array of zeros (float by default)\n",
        "arr_1d = np.zeros(3)\n",
        "print(f\"1D Zeros:\\n{arr_1d}\\nDtype: {arr_1d.dtype}\\n\")\n",
        "\n",
        "# 2D array of zeros, with dtype specified as integer\n",
        "arr_2d = np.zeros((2, 3), dtype=np.int32)\n",
        "print(f\"2D Integer Zeros:\\n{arr_2d}\\nDtype: {arr_2d.dtype}\")\n",
        "```\n",
        "\n",
        "### **`np.zeros_like()`**\n",
        "\n",
        "This is a handy function to create a new array of zeros that has the **exact same shape and `dtype`** as an existing array.\n",
        "\n",
        "```python\n",
        "arr_existing = np.array([[1, 2], [3, 4]])\n",
        "\n",
        "arr_zeros_like = np.zeros_like(arr_existing)\n",
        "print(f\"\\nZeros array like existing one:\\n{arr_zeros_like}\")\n",
        "print(f\"Shape: {arr_zeros_like.shape}, Dtype: {arr_zeros_like.dtype}\")\n",
        "```\n",
        "\n",
        "-----\n",
        "\n",
        "## **2. `np.ones` and `np.ones_like`**\n",
        "\n",
        "This works exactly like `np.zeros()`, but it fills the array with **ones** (`1.`) instead.\n",
        "\n",
        "```python\n",
        "# 2D array of ones (float by default)\n",
        "arr_2d_ones = np.ones((2, 3))\n",
        "print(f\"2D Ones:\\n{arr_2d_ones}\\nDtype: {arr_2d_ones.dtype}\\n\")\n",
        "\n",
        "# 3D array of ones using ones_like\n",
        "arr3_ones_like = np.ones_like(arr_zeros_like) # Using the array from the previous example\n",
        "print(f\"Ones array like the zeros one:\\n{arr3_ones_like}\")\n",
        "print(f\"Shape: {arr3_ones_like.shape}, Dtype: {arr3_ones_like.dtype}\")\n",
        "```\n",
        "\n",
        "-----\n",
        "\n",
        "## **3. `np.empty` and `np.empty_like`**\n",
        "\n",
        "The `np.empty()` function creates an array of a given shape **without initializing its entries to any particular value**.\n",
        "\n",
        "**Important Note:** The values you see in an `empty` array are not truly random. They are whatever \"garbage\" data was already present in that memory location. This function is slightly faster than `zeros` or `ones` and is useful only when you plan to immediately overwrite every element in the array yourself.\n",
        "\n",
        "```python\n",
        "# Create a 2x3 empty array. The values will be unpredictable.\n",
        "arr_empty = np.empty((2, 3))\n",
        "print(f\"Empty Array (values are arbitrary):\\n{arr_empty}\")\n",
        "```\n",
        "\n",
        "-----\n",
        "\n",
        "## **4. `np.full` and `np.full_like`**\n",
        "\n",
        "This function gives you more control by allowing you to create an array of a specific shape filled with any **`fill_value`** you choose.\n",
        "\n",
        "  * **Arguments**: It takes two main arguments: `shape` and `fill_value`.\n",
        "  * **`dtype` Inference**: NumPy infers the `dtype` from the type of the `fill_value`.\n",
        "\n",
        "<!-- end list -->\n",
        "\n",
        "```python\n",
        "# Create a 2x3 array filled with the integer 5\n",
        "arr_full_int = np.full((2, 3), 5)\n",
        "print(f\"Full array with integers:\\n{arr_full_int}\\nDtype: {arr_full_int.dtype}\\n\")\n",
        "\n",
        "# Create a 2x3 array filled with boolean True\n",
        "arr_full_bool = np.full((2, 3), True)\n",
        "print(f\"Full array with booleans:\\n{arr_full_bool}\\nDtype: {arr_full_bool.dtype}\\n\")\n",
        "\n",
        "# Create a 2x3 array filled with infinity\n",
        "arr_full_inf = np.full((2, 3), np.inf)\n",
        "print(f\"Full array with infinity:\\n{arr_full_inf}\\nDtype: {arr_full_inf.dtype}\\n\")\n",
        "```\n",
        "\n",
        "The `np.full_like()` variant creates a new array with the shape and `dtype` of an existing array, but fills it with a new specified value.\n",
        "\n",
        "```python\n",
        "arr_existing = np.array([[1, 2], [3, 4]])\n",
        "\n",
        "# Create a new array like arr_existing but filled with -1\n",
        "arr_full_like = np.full_like(arr_existing, -1)\n",
        "print(f\"Full_like array:\\n{arr_full_like}\")\n",
        "```\n",
        "___\n",
        "\n",
        "## **Creating an ndarray From Scratch(Bangla)**\n",
        "\n",
        "বিদ্যমান কোনো পাইথন ডেটা স্ট্রাকচার ছাড়াই শুরু থেকে অ্যারে তৈরি করার জন্য NumPy বেশ কিছু সুবিধাজনক ফাংশন সরবরাহ করে। একটি নির্দিষ্ট আকারের অ্যারে ইনিশিয়ালাইজ করার জন্য এগুলো অত্যন্ত কার্যকর।\n",
        "\n",
        "-----\n",
        "\n",
        "## **১. `np.zeros` এবং `np.zeros_like`**\n",
        "\n",
        "`np.zeros()` ফাংশনটি একটি নির্দিষ্ট আকারের অ্যারে তৈরি করে, যা সম্পূর্ণরূপে **শূন্য (`0`)** দিয়ে পূর্ণ থাকে।\n",
        "\n",
        "  * **ডিফল্ট `dtype`**: ডিফল্টভাবে, অ্যারেটি ফ্লোটিং-পয়েন্ট শূন্য (`0.`) দিয়ে পূর্ণ থাকে এবং এর `dtype` হয় `float64`।\n",
        "  * **শেপ (Shape)**: প্রথম আর্গুমেন্ট হলো শেপ, যা 1D অ্যারের জন্য একটি ইন্টিজার বা বহুমাত্রিক (multi-dimensional) অ্যারের জন্য একটি টুপল হিসেবে দেওয়া হয়।\n",
        "\n",
        "<!-- end list -->\n",
        "\n",
        "```python\n",
        "import numpy as np\n",
        "\n",
        "# 1D শূন্যের অ্যারে (ডিফল্টভাবে ফ্লোট)\n",
        "arr_1d = np.zeros(3)\n",
        "print(f\"1D Zeros:\\n{arr_1d}\\nDtype: {arr_1d.dtype}\\n\")\n",
        "\n",
        "# 2D শূন্যের অ্যারে, যেখানে dtype ইন্টিজার হিসেবে নির্দিষ্ট করা হয়েছে\n",
        "arr_2d = np.zeros((2, 3), dtype=np.int32)\n",
        "print(f\"2D Integer Zeros:\\n{arr_2d}\\nDtype: {arr_2d.dtype}\")\n",
        "```\n",
        "\n",
        "### **`np.zeros_like()`**\n",
        "\n",
        "এটি একটি সুবিধাজনক ফাংশন যা একটি নতুন শূন্যের অ্যারে তৈরি করে, যার **শেপ এবং `dtype`** হুবহু বিদ্যমান একটি অ্যারের মতো হয়।\n",
        "\n",
        "```python\n",
        "arr_existing = np.array([[1, 2], [3, 4]])\n",
        "\n",
        "arr_zeros_like = np.zeros_like(arr_existing)\n",
        "print(f\"\\nবিদ্যমান অ্যারের মতো শূন্যের অ্যারে:\\n{arr_zeros_like}\")\n",
        "print(f\"Shape: {arr_zeros_like.shape}, Dtype: {arr_zeros_like.dtype}\")\n",
        "```\n",
        "\n",
        "-----\n",
        "\n",
        "## **২. `np.ones` এবং `np.ones_like`**\n",
        "\n",
        "এটি `np.zeros()`-এর মতোই কাজ করে, কিন্তু এটি অ্যারেটিকে **এক (`1`)** দিয়ে পূর্ণ করে।\n",
        "\n",
        "```python\n",
        "# 2D একের অ্যারে (ডিফল্টভাবে ফ্লোট)\n",
        "arr_2d_ones = np.ones((2, 3))\n",
        "print(f\"2D Ones:\\n{arr_2d_ones}\\nDtype: {arr_2d_ones.dtype}\\n\")\n",
        "\n",
        "# ones_like ব্যবহার করে 3D একের অ্যারে\n",
        "# আগের উদাহরণ থেকে অ্যারে ব্যবহার করে\n",
        "arr3_ones_like = np.ones_like(arr_zeros_like)\n",
        "print(f\"শূন্যের অ্যারের মতো একের অ্যারে:\\n{arr3_ones_like}\")\n",
        "print(f\"Shape: {arr3_ones_like.shape}, Dtype: {arr3_ones_like.dtype}\")\n",
        "```\n",
        "\n",
        "-----\n",
        "\n",
        "## **৩. `np.empty` এবং `np.empty_like`**\n",
        "\n",
        "`np.empty()` ফাংশনটি কোনো নির্দিষ্ট মান দিয়ে উপাদানগুলোকে ইনিশিয়ালাইজ না করেই একটি নির্দিষ্ট আকারের অ্যারে তৈরি করে।\n",
        "\n",
        "**গুরুত্বপূর্ণ নোট:** একটি `empty` অ্যারেতে যে মানগুলো দেখা যায়, সেগুলো সত্যি সত্যি র‍্যান্ডম নয়। এগুলো হলো সেই মেমরি লোকেশনে আগে থেকে থাকা \"গার্বেজ\" ডেটা। এই ফাংশনটি `zeros` বা `ones`-এর চেয়ে কিছুটা দ্রুত এবং শুধুমাত্র তখনই উপযোগী যখন আপনি অ্যারের প্রতিটি উপাদানকে உடனடியாக নিজে ওভাররাইট করার পরিকল্পনা করেন।\n",
        "\n",
        "```python\n",
        "# একটি 2x3 empty অ্যারে তৈরি করা হলো। এর মানগুলো অনির্ predictable হবে।\n",
        "arr_empty = np.empty((2, 3))\n",
        "print(f\"Empty Array (মানগুলো ইচ্ছামতো হতে পারে):\\n{arr_empty}\")\n",
        "```\n",
        "\n",
        "-----\n",
        "\n",
        "## **৪. `np.full` এবং `np.full_like`**\n",
        "\n",
        "এই ফাংশনটি আপনাকে আপনার পছন্দের যেকোনো **`fill_value`** দিয়ে একটি নির্দিষ্ট আকারের অ্যারে তৈরি করার সুবিধা দেয়।\n",
        "\n",
        "  * **আর্গুমেন্টস**: এটি দুটি প্রধান আর্গুমেন্ট নেয়: `shape` এবং `fill_value`।\n",
        "  * **`dtype` অনুমান**: NumPy `fill_value`-এর টাইপ থেকে `dtype` অনুমান করে নেয়।\n",
        "\n",
        "<!-- end list -->\n",
        "\n",
        "```python\n",
        "# ইন্টিজার 5 দিয়ে পূর্ণ একটি 2x3 অ্যারে\n",
        "arr_full_int = np.full((2, 3), 5)\n",
        "print(f\"ইন্টিজার দিয়ে পূর্ণ অ্যারে:\\n{arr_full_int}\\nDtype: {arr_full_int.dtype}\\n\")\n",
        "\n",
        "# বুলিয়ান True দিয়ে পূর্ণ একটি 2x3 অ্যারে\n",
        "arr_full_bool = np.full((2, 3), True)\n",
        "print(f\"বুলিয়ান দিয়ে পূর্ণ অ্যারে:\\n{arr_full_bool}\\nDtype: {arr_full_bool.dtype}\\n\")\n",
        "\n",
        "# ইনফিনিটি দিয়ে পূর্ণ একটি 2x3 অ্যারে\n",
        "arr_full_inf = np.full((2, 3), np.inf)\n",
        "print(f\"ইনফিনিটি দিয়ে পূর্ণ অ্যারে:\\n{arr_full_inf}\\nDtype: {arr_full_inf.dtype}\\n\")\n",
        "```\n",
        "\n",
        "`np.full_like()` ভেরিয়েন্টটি একটি বিদ্যমান অ্যারের শেপ এবং `dtype` অনুযায়ী একটি নতুন অ্যারে তৈরি করে, কিন্তু সেটিকে একটি নতুন নির্দিষ্ট মান দিয়ে পূর্ণ করে।\n",
        "\n",
        "```python\n",
        "arr_existing = np.array([[1, 2], [3, 4]])\n",
        "\n",
        "# arr_existing-এর মতো একটি নতুন অ্যারে তৈরি করা হলো যা -1 দিয়ে পূর্ণ\n",
        "arr_full_like = np.full_like(arr_existing, -1)\n",
        "print(f\"Full_like অ্যারে:\\n{arr_full_like}\")\n",
        "```"
      ],
      "metadata": {
        "id": "3QreeZfu4jFr"
      }
    },
    {
      "cell_type": "markdown",
      "source": [
        "###**np.zeros**"
      ],
      "metadata": {
        "id": "P3wU_vGf-l5T"
      }
    },
    {
      "cell_type": "code",
      "source": [
        "# Make 1d array with value 0\n",
        "arr = np.zeros(3)\n",
        "print(arr)\n",
        "print(arr.dtype) # by default it will be float"
      ],
      "metadata": {
        "colab": {
          "base_uri": "https://localhost:8080/"
        },
        "id": "ZRegd8UH7sdX",
        "outputId": "63555c1a-ee07-4968-ffb8-90829f6f5209"
      },
      "execution_count": null,
      "outputs": [
        {
          "output_type": "stream",
          "name": "stdout",
          "text": [
            "[0. 0. 0.]\n",
            "float64\n"
          ]
        }
      ]
    },
    {
      "cell_type": "code",
      "source": [
        "# Make 2d arrays with value 0\n",
        "arr = np.zeros((2,3))\n",
        "print(arr)\n",
        "print(arr.dtype)"
      ],
      "metadata": {
        "colab": {
          "base_uri": "https://localhost:8080/"
        },
        "id": "onJmnIUn7uS9",
        "outputId": "782d726b-be27-41e2-b705-ddf23e8b6cad"
      },
      "execution_count": null,
      "outputs": [
        {
          "output_type": "stream",
          "name": "stdout",
          "text": [
            "[[0. 0. 0.]\n",
            " [0. 0. 0.]]\n",
            "float64\n"
          ]
        }
      ]
    },
    {
      "cell_type": "code",
      "source": [
        "# make 3d array with value 0\n",
        "arr = np.zeros((2,3,4))\n",
        "print(arr)\n",
        "print(arr.dtype)"
      ],
      "metadata": {
        "colab": {
          "base_uri": "https://localhost:8080/"
        },
        "id": "HO2meEpe7vVC",
        "outputId": "06adc26b-01c3-450d-942e-4d34f5871a3e"
      },
      "execution_count": null,
      "outputs": [
        {
          "output_type": "stream",
          "name": "stdout",
          "text": [
            "[[[0. 0. 0. 0.]\n",
            "  [0. 0. 0. 0.]\n",
            "  [0. 0. 0. 0.]]\n",
            "\n",
            " [[0. 0. 0. 0.]\n",
            "  [0. 0. 0. 0.]\n",
            "  [0. 0. 0. 0.]]]\n",
            "float64\n"
          ]
        }
      ]
    },
    {
      "cell_type": "code",
      "source": [
        "#we can determine datatype when creaing or after creating to int\n",
        "arr = np.zeros((3,3), dtype=np.int32)\n",
        "print(arr)\n",
        "print(arr.dtype)"
      ],
      "metadata": {
        "colab": {
          "base_uri": "https://localhost:8080/"
        },
        "id": "MUXlXpg6762z",
        "outputId": "ffd65c66-d961-4cb1-b1be-0c0b7457d4d1"
      },
      "execution_count": null,
      "outputs": [
        {
          "output_type": "stream",
          "name": "stdout",
          "text": [
            "[[0 0 0]\n",
            " [0 0 0]\n",
            " [0 0 0]]\n",
            "int32\n"
          ]
        }
      ]
    },
    {
      "cell_type": "code",
      "source": [
        "# We can make nd array as like previous array with value 0\n",
        "arr3 = np.array([\n",
        "    [\n",
        "      [1, 2, 3],\n",
        "      [4, 5, 6]\n",
        "    ],\n",
        "    [\n",
        "      [7, 8, 9],\n",
        "      [10, 11, 12]\n",
        "    ],\n",
        "])\n",
        "\n",
        "print(arr3)\n",
        "print(arr3.dtype)\n",
        "print(arr3.ndim)\n",
        "\n",
        "print()\n",
        "\n",
        "arr3_zeros = np.zeros_like(arr3)\n",
        "print(arr3_zeros)\n",
        "print(arr3_zeros.dtype)\n",
        "print(arr3_zeros.ndim)"
      ],
      "metadata": {
        "colab": {
          "base_uri": "https://localhost:8080/"
        },
        "id": "G4VUt2ON79AX",
        "outputId": "65725a6f-473a-4dac-bf63-c47a5fde4a95"
      },
      "execution_count": null,
      "outputs": [
        {
          "output_type": "stream",
          "name": "stdout",
          "text": [
            "[[[ 1  2  3]\n",
            "  [ 4  5  6]]\n",
            "\n",
            " [[ 7  8  9]\n",
            "  [10 11 12]]]\n",
            "int64\n",
            "3\n",
            "\n",
            "[[[0 0 0]\n",
            "  [0 0 0]]\n",
            "\n",
            " [[0 0 0]\n",
            "  [0 0 0]]]\n",
            "int64\n",
            "3\n"
          ]
        }
      ]
    },
    {
      "cell_type": "markdown",
      "source": [
        "### **np.ones**"
      ],
      "metadata": {
        "id": "9FIBUSKR-vJ6"
      }
    },
    {
      "cell_type": "code",
      "source": [
        "# Make 1d array with value 1\n",
        "arr = np.ones(3)\n",
        "print(arr)\n",
        "print(arr.dtype) # by default it will be float"
      ],
      "metadata": {
        "colab": {
          "base_uri": "https://localhost:8080/"
        },
        "outputId": "fe36d643-2d8d-490c-9776-13fb74eb2a2a",
        "id": "sZAwAVPB-zZs"
      },
      "execution_count": null,
      "outputs": [
        {
          "output_type": "stream",
          "name": "stdout",
          "text": [
            "[1. 1. 1.]\n",
            "float64\n"
          ]
        }
      ]
    },
    {
      "cell_type": "code",
      "source": [
        "# Make 2d arrays with value 1\n",
        "arr = np.ones((2,3))\n",
        "print(arr)\n",
        "print(arr.dtype)"
      ],
      "metadata": {
        "colab": {
          "base_uri": "https://localhost:8080/"
        },
        "outputId": "780d45f8-ad98-41f3-d938-a30fdde1790e",
        "id": "EBNkntV3-zZt"
      },
      "execution_count": null,
      "outputs": [
        {
          "output_type": "stream",
          "name": "stdout",
          "text": [
            "[[1. 1. 1.]\n",
            " [1. 1. 1.]]\n",
            "float64\n"
          ]
        }
      ]
    },
    {
      "cell_type": "code",
      "source": [
        "# make 3d array with value 1\n",
        "arr = np.ones((2,3,4))\n",
        "print(arr)\n",
        "print(arr.dtype)"
      ],
      "metadata": {
        "colab": {
          "base_uri": "https://localhost:8080/"
        },
        "outputId": "073f583e-092e-43ff-8eb6-959e4fad4078",
        "id": "nOLmZbdb-zZt"
      },
      "execution_count": null,
      "outputs": [
        {
          "output_type": "stream",
          "name": "stdout",
          "text": [
            "[[[1. 1. 1. 1.]\n",
            "  [1. 1. 1. 1.]\n",
            "  [1. 1. 1. 1.]]\n",
            "\n",
            " [[1. 1. 1. 1.]\n",
            "  [1. 1. 1. 1.]\n",
            "  [1. 1. 1. 1.]]]\n",
            "float64\n"
          ]
        }
      ]
    },
    {
      "cell_type": "code",
      "source": [
        "#we can determine datatype when creaing or after creating to int\n",
        "arr = np.ones((3,3), dtype=np.int32)\n",
        "print(arr)\n",
        "print(arr.dtype)"
      ],
      "metadata": {
        "colab": {
          "base_uri": "https://localhost:8080/"
        },
        "outputId": "f0e0673b-c645-4f72-f4c3-a67f96d70031",
        "id": "fCFoFbw0-zZu"
      },
      "execution_count": null,
      "outputs": [
        {
          "output_type": "stream",
          "name": "stdout",
          "text": [
            "[[1 1 1]\n",
            " [1 1 1]\n",
            " [1 1 1]]\n",
            "int32\n"
          ]
        }
      ]
    },
    {
      "cell_type": "code",
      "source": [
        "# We can make nd array as like previous array with value 0\n",
        "arr3 = np.array([\n",
        "    [\n",
        "      [1, 2, 3],\n",
        "      [4, 5, 6]\n",
        "    ],\n",
        "    [\n",
        "      [7, 8, 9],\n",
        "      [10, 11, 12]\n",
        "    ],\n",
        "])\n",
        "\n",
        "print(arr3)\n",
        "print(arr3.dtype)\n",
        "print(arr3.ndim)\n",
        "\n",
        "print()\n",
        "\n",
        "arr3_ones = np.ones_like(arr3)\n",
        "print(arr3_ones)\n",
        "print(arr3_ones.dtype)\n",
        "print(arr3_ones.ndim)"
      ],
      "metadata": {
        "colab": {
          "base_uri": "https://localhost:8080/"
        },
        "outputId": "bb6d3a21-0082-45da-cb78-2c06f13ab722",
        "id": "o4omhZ6s-zZu"
      },
      "execution_count": null,
      "outputs": [
        {
          "output_type": "stream",
          "name": "stdout",
          "text": [
            "[[[ 1  2  3]\n",
            "  [ 4  5  6]]\n",
            "\n",
            " [[ 7  8  9]\n",
            "  [10 11 12]]]\n",
            "int64\n",
            "3\n",
            "\n",
            "[[[1 1 1]\n",
            "  [1 1 1]]\n",
            "\n",
            " [[1 1 1]\n",
            "  [1 1 1]]]\n",
            "int64\n",
            "3\n"
          ]
        }
      ]
    },
    {
      "cell_type": "markdown",
      "source": [
        "### **np.empty**"
      ],
      "metadata": {
        "id": "qDpvnKVp_-AL"
      }
    },
    {
      "cell_type": "code",
      "source": [
        "# Make 1d array with random value\n",
        "arr = np.empty(3)\n",
        "print(arr)\n",
        "print(arr.dtype) # by default it will be float\n"
      ],
      "metadata": {
        "colab": {
          "base_uri": "https://localhost:8080/"
        },
        "id": "9ejyUXBB_9Ht",
        "outputId": "a9b9360c-9dda-44e8-db42-299faa12cd1f"
      },
      "execution_count": null,
      "outputs": [
        {
          "output_type": "stream",
          "name": "stdout",
          "text": [
            "[7.74860419e-304 7.74860419e-304 7.74860419e-304]\n",
            "float64\n"
          ]
        }
      ]
    },
    {
      "cell_type": "code",
      "source": [
        "\n",
        "# Make 2d arrays with random value\n",
        "arr = np.empty((2,3))\n",
        "print(arr)\n",
        "print(arr.dtype)"
      ],
      "metadata": {
        "colab": {
          "base_uri": "https://localhost:8080/"
        },
        "id": "2_GcfQzaCd1K",
        "outputId": "8af4e13d-b282-4c2c-c22e-73db3dd99887"
      },
      "execution_count": null,
      "outputs": [
        {
          "output_type": "stream",
          "name": "stdout",
          "text": [
            "[[1. 1. 1.]\n",
            " [1. 1. 1.]]\n",
            "float64\n"
          ]
        }
      ]
    },
    {
      "cell_type": "code",
      "source": [
        "\n",
        "# make 3d array with random value\n",
        "arr = np.empty((2,3,4))\n",
        "print(arr)\n",
        "print(arr.dtype)"
      ],
      "metadata": {
        "colab": {
          "base_uri": "https://localhost:8080/"
        },
        "id": "U53fg8K4Cf3W",
        "outputId": "cd38d90e-fef0-43e7-ddb2-f934e07e0894"
      },
      "execution_count": null,
      "outputs": [
        {
          "output_type": "stream",
          "name": "stdout",
          "text": [
            "[[[1. 1. 1. 1.]\n",
            "  [1. 1. 1. 1.]\n",
            "  [1. 1. 1. 1.]]\n",
            "\n",
            " [[1. 1. 1. 1.]\n",
            "  [1. 1. 1. 1.]\n",
            "  [1. 1. 1. 1.]]]\n",
            "float64\n"
          ]
        }
      ]
    },
    {
      "cell_type": "code",
      "source": [
        "#we can determine datatype when creaing or after creating to int\n",
        "arr = np.empty((3,3), dtype=np.int32)\n",
        "print(arr)\n",
        "print(arr.dtype)"
      ],
      "metadata": {
        "colab": {
          "base_uri": "https://localhost:8080/"
        },
        "id": "bx4EuW2qCi8H",
        "outputId": "4597e061-4fd2-4526-9241-4186beea705d"
      },
      "execution_count": null,
      "outputs": [
        {
          "output_type": "stream",
          "name": "stdout",
          "text": [
            "[[453752996         0         0]\n",
            " [        0        99       116]\n",
            " [      108       121  11665408]]\n",
            "int32\n"
          ]
        }
      ]
    },
    {
      "cell_type": "code",
      "source": [
        "# We can make nd array as like previous array with random value\n",
        "arr3 = np.array([\n",
        "    [\n",
        "      [1, 2, 3],\n",
        "      [4, 5, 6]\n",
        "    ],\n",
        "    [\n",
        "      [7, 8, 9],\n",
        "      [10, 11, 12]\n",
        "    ],\n",
        "])\n",
        "\n",
        "print(arr3)\n",
        "print(arr3.dtype)\n",
        "print(arr3.ndim)\n",
        "\n",
        "print()\n",
        "\n",
        "arr3_random = np.empty_like(arr3)\n",
        "print(arr3_random)\n",
        "print(arr3_random.dtype)\n",
        "print(arr3_random.ndim)"
      ],
      "metadata": {
        "colab": {
          "base_uri": "https://localhost:8080/"
        },
        "id": "V6SozqSpCl-h",
        "outputId": "6126f7ad-827c-4dbb-e455-95d078768012"
      },
      "execution_count": null,
      "outputs": [
        {
          "output_type": "stream",
          "name": "stdout",
          "text": [
            "[[[ 1  2  3]\n",
            "  [ 4  5  6]]\n",
            "\n",
            " [[ 7  8  9]\n",
            "  [10 11 12]]]\n",
            "int64\n",
            "3\n",
            "\n",
            "[[[ 1  2  3]\n",
            "  [ 4  5  6]]\n",
            "\n",
            " [[ 7  8  9]\n",
            "  [10 11 12]]]\n",
            "int64\n",
            "3\n"
          ]
        }
      ]
    },
    {
      "cell_type": "markdown",
      "source": [
        "### **np.full**"
      ],
      "metadata": {
        "id": "Flra8ERMDOGx"
      }
    },
    {
      "cell_type": "code",
      "source": [
        "arr = np.full((2,3), 5)\n",
        "print(arr)\n",
        "print(arr.dtype)"
      ],
      "metadata": {
        "colab": {
          "base_uri": "https://localhost:8080/"
        },
        "id": "Z8jjqiMuDm-l",
        "outputId": "36118007-8100-4489-f5ed-43e764cd1dfe"
      },
      "execution_count": null,
      "outputs": [
        {
          "output_type": "stream",
          "name": "stdout",
          "text": [
            "[[5 5 5]\n",
            " [5 5 5]]\n",
            "int64\n"
          ]
        }
      ]
    },
    {
      "cell_type": "code",
      "source": [
        "arr = np.full((2,3), True)\n",
        "print(arr)\n",
        "print(arr.dtype)"
      ],
      "metadata": {
        "colab": {
          "base_uri": "https://localhost:8080/"
        },
        "id": "3a6tXOyNDsqU",
        "outputId": "a795dc98-2f9f-467e-ae5f-2930a878101b"
      },
      "execution_count": null,
      "outputs": [
        {
          "output_type": "stream",
          "name": "stdout",
          "text": [
            "[[ True  True  True]\n",
            " [ True  True  True]]\n",
            "bool\n"
          ]
        }
      ]
    },
    {
      "cell_type": "code",
      "source": [
        "arr = np.full((2,3), np.inf)\n",
        "print(arr)\n",
        "print(arr.dtype)"
      ],
      "metadata": {
        "colab": {
          "base_uri": "https://localhost:8080/"
        },
        "id": "QmwnqjUQDyDJ",
        "outputId": "6e2cbd53-d914-4a98-825a-8c586944da20"
      },
      "execution_count": null,
      "outputs": [
        {
          "output_type": "stream",
          "name": "stdout",
          "text": [
            "[[inf inf inf]\n",
            " [inf inf inf]]\n",
            "float64\n"
          ]
        }
      ]
    },
    {
      "cell_type": "code",
      "source": [
        "arr3 = np.array([\n",
        "    [\n",
        "      [1, 2, 3],\n",
        "      [4, 5, 6]\n",
        "    ],\n",
        "    [\n",
        "      [7, 8, 9],\n",
        "      [10, 11, 12]\n",
        "    ],\n",
        "], dtype=np.float64)\n",
        "\n",
        "arr3_full = np.full_like(arr3, np.inf)\n",
        "print(arr3_full)\n",
        "print(arr3_full.dtype)\n",
        "print(arr3_full.ndim)\n",
        "#"
      ],
      "metadata": {
        "colab": {
          "base_uri": "https://localhost:8080/"
        },
        "id": "PYMsU-UhD6aj",
        "outputId": "383bb3f1-d019-448e-fd48-00539e93d717"
      },
      "execution_count": null,
      "outputs": [
        {
          "output_type": "stream",
          "name": "stdout",
          "text": [
            "[[[inf inf inf]\n",
            "  [inf inf inf]]\n",
            "\n",
            " [[inf inf inf]\n",
            "  [inf inf inf]]]\n",
            "float64\n",
            "3\n"
          ]
        }
      ]
    },
    {
      "cell_type": "markdown",
      "source": [
        "# **`ndarray` Generation with Random Values 🎲**"
      ],
      "metadata": {
        "id": "RDx_ZXq1NGZT"
      }
    },
    {
      "cell_type": "markdown",
      "source": [
        "Generating random data is a fundamental task in Machine Learning and Data Science. It's used for creating synthetic datasets, initializing model parameters (like the weights in a neural network), and evaluating model performance through random sampling. NumPy's `random` module provides a powerful suite of tools for this.\n",
        "\n",
        "-----\n",
        "\n",
        "## **1. `np.random.rand()`**\n",
        "\n",
        "This function creates an array of a given shape and populates it with random samples from a **uniform distribution** over the interval **[0, 1)**. This means every number between 0 (inclusive) and 1 (exclusive) has an equal chance of being generated.\n",
        "\n",
        "**Syntax Note:** Unlike other functions, you pass the dimensions as separate arguments, not as a tuple. `np.random.rand(d0, d1, ...)`\n",
        "\n",
        "```python\n",
        "import numpy as np\n",
        "\n",
        "# Create a 1D array of 4 random floats\n",
        "arr_1d = np.random.rand(4)\n",
        "print(f\"1D Random Array:\\n{arr_1d}\\n\")\n",
        "\n",
        "# Create a 2D array (4 rows, 3 columns)\n",
        "arr_2d = np.random.rand(4, 3)\n",
        "print(f\"2D Random Array:\\n{arr_2d}\\n\")\n",
        "\n",
        "# Create a 3D array\n",
        "arr_3d = np.random.rand(2, 4, 3)\n",
        "print(f\"3D Random Array:\\n{arr_3d}\")\n",
        "```\n",
        "\n",
        "The `dtype` of arrays created with `rand()` is always `float64`.\n",
        "\n",
        "-----\n",
        "\n",
        "## **2. `np.random.randint()`**\n",
        "\n",
        "This function generates an array of a given shape filled with random **integers** from a specified range.\n",
        "\n",
        "**Syntax:** `np.random.randint(low, high=None, size=None)`\n",
        "\n",
        "  * If only `low` is provided, the range is `[0, low)`.\n",
        "  * If `low` and `high` are provided, the range is `[low, high)`.\n",
        "  * `size` is a tuple that defines the shape of the array.\n",
        "\n",
        "<!-- end list -->\n",
        "\n",
        "```python\n",
        "# Generate a 2x3 array with random integers from 0 up to (but not including) 10\n",
        "arr_int1 = np.random.randint(10, size=(2, 3))\n",
        "print(f\"Random integers in [0, 10):\\n{arr_int1}\\n\")\n",
        "\n",
        "# Generate a 2x3 array with random integers from 8 up to (but not including) 10\n",
        "# The only possible values are 8 and 9\n",
        "arr_int2 = np.random.randint(8, 10, size=(2, 3))\n",
        "print(f\"Random integers in [8, 10):\\n{arr_int2}\")\n",
        "```\n",
        "\n",
        "-----\n",
        "\n",
        "## **3. `np.random.uniform()`**\n",
        "\n",
        "This function is similar to `np.random.rand()`, but it allows you to specify a custom range `[low, high)` for your uniformly distributed random **floating-point numbers**.\n",
        "\n",
        "**Syntax:** `np.random.uniform(low=0.0, high=1.0, size=None)`\n",
        "\n",
        "```python\n",
        "# Generate a 2x3 array with random floats from 0.0 up to (but not including) 10.0\n",
        "arr_uni1 = np.random.uniform(10, size=(2, 3))\n",
        "print(f\"Random floats in [0, 10):\\n{arr_uni1}\\n\")\n",
        "\n",
        "# Generate a 2x3 array with random floats from 5.0 up to (but not including) 10.0\n",
        "arr_uni2 = np.random.uniform(5, 10, size=(2, 3))\n",
        "print(f\"Random floats in [5, 10):\\n{arr_uni2}\")\n",
        "```\n",
        "___\n",
        "# **`ndarray` Generation with Random Values 🎲**\n",
        "\n",
        "মেশিন লার্নিং এবং ডেটা সায়েন্সে র‍্যান্ডম ডেটা তৈরি করা একটি মৌলিক কাজ। এটি সিন্থেটিক ডেটাসেট তৈরি করতে, মডেলের প্যারামিটার (যেমন একটি নিউরাল নেটওয়ার্কের ওয়েটস) ইনিশিয়ালাইজ করতে এবং র‍্যান্ডম স্যাম্পলিং-এর মাধ্যমে মডেলের পারফরম্যান্স মূল্যায়ন করতে ব্যবহৃত হয়। NumPy-এর `random` মডিউল এর জন্য একটি শক্তিশালী টুলকিট সরবরাহ করে।\n",
        "\n",
        "-----\n",
        "\n",
        "## **1. `np.random.rand()`**\n",
        "\n",
        "এই ফাংশনটি একটি নির্দিষ্ট আকারের অ্যারে তৈরি করে এবং এটিকে **[0, 1)** ব্যবধানের মধ্যে একটি **ইউনিফর্ম ডিস্ট্রিবিউশন** থেকে র‍্যান্ডম স্যাম্পল দিয়ে পূর্ণ করে। এর মানে হলো ০ (অন্তর্ভুক্ত) এবং ১ (ব্যতীত) এর মধ্যে প্রতিটি সংখ্যা তৈরি হওয়ার সমান সম্ভাবনা থাকে।\n",
        "\n",
        "**সিনট্যাক্স নোট:** অন্যান্য ফাংশনের মতো এখানে শেপ টুপল হিসেবে না দিয়ে, ডাইমেনশনগুলো আলাদা আর্গুমেন্ট হিসেবে পাস করতে হয়। যেমন: `np.random.rand(d0, d1, ...)`\n",
        "\n",
        "```python\n",
        "import numpy as np\n",
        "\n",
        "# ৪টি র‍্যান্ডম ফ্লোট মানের একটি 1D অ্যারে তৈরি\n",
        "arr_1d = np.random.rand(4)\n",
        "print(f\"1D Random Array:\\n{arr_1d}\\n\")\n",
        "\n",
        "# একটি 2D অ্যারে তৈরি (৪টি সারি, ৩টি কলাম)\n",
        "arr_2d = np.random.rand(4, 3)\n",
        "print(f\"2D Random Array:\\n{arr_2d}\\n\")\n",
        "\n",
        "# একটি 3D অ্যারে তৈরি\n",
        "arr_3d = np.random.rand(2, 4, 3)\n",
        "print(f\"3D Random Array:\\n{arr_3d}\")\n",
        "```\n",
        "\n",
        "`rand()` দিয়ে তৈরি অ্যারের `dtype` সবসময় `float64` হয়।\n",
        "\n",
        "-----\n",
        "\n",
        "## **2. `np.random.randint()`**\n",
        "\n",
        "এই ফাংশনটি একটি নির্দিষ্ট আকারের অ্যারে তৈরি করে যা একটি নির্দিষ্ট পরিসরের র‍্যান্ডম **পূর্ণসংখ্যা (integers)** দিয়ে পূর্ণ থাকে।\n",
        "\n",
        "**সিনট্যাক্স:** `np.random.randint(low, high=None, size=None)`\n",
        "\n",
        "  * যদি শুধু `low` দেওয়া হয়, পরিসর হবে `[0, low)`।\n",
        "  * যদি `low` এবং `high` উভয়ই দেওয়া হয়, পরিসর হবে `[low, high)`।\n",
        "  * `size` একটি টুপল যা অ্যারের শেপ নির্ধারণ করে।\n",
        "\n",
        "<!-- end list -->\n",
        "\n",
        "```python\n",
        "# ০ থেকে ১০-এর আগ পর্যন্ত (exclusive) র‍্যান্ডম ইন্টিজার দিয়ে একটি 2x3 অ্যারে তৈরি\n",
        "arr_int1 = np.random.randint(10, size=(2, 3))\n",
        "print(f\"Random integers in [0, 10):\\n{arr_int1}\\n\")\n",
        "\n",
        "# ৮ থেকে ১০-এর আগ পর্যন্ত র‍্যান্ডম ইন্টিজার দিয়ে একটি 2x3 অ্যারে তৈরি\n",
        "# এখানে শুধুমাত্র ৮ এবং ৯ মানগুলোই সম্ভব\n",
        "arr_int2 = np.random.randint(8, 10, size=(2, 3))\n",
        "print(f\"Random integers in [8, 10):\\n{arr_int2}\")\n",
        "```\n",
        "\n",
        "-----\n",
        "\n",
        "## **3. `np.random.uniform()`**\n",
        "\n",
        "এই ফাংশনটি `np.random.rand()`-এর মতোই, কিন্তু এটি আপনাকে ইউনিফর্মলি ডিস্ট্রিবিউটেড র‍্যান্ডম **ফ্লোটিং-পয়েন্ট নম্বরগুলোর** জন্য একটি কাস্টম পরিসর `[low, high)` নির্দিষ্ট করতে দেয়।\n",
        "\n",
        "**সিনট্যাক্স:** `np.random.uniform(low=0.0, high=1.0, size=None)`\n",
        "\n",
        "```python\n",
        "# ০.০ থেকে ১০.০-এর আগ পর্যন্ত র‍্যান্ডম ফ্লোট দিয়ে একটি 2x3 অ্যারে তৈরি\n",
        "arr_uni1 = np.random.uniform(10, size=(2, 3))\n",
        "print(f\"Random floats in [0, 10):\\n{arr_uni1}\\n\")\n",
        "\n",
        "# ৫.০ থেকে ১০.০-এর আগ পর্যন্ত র‍্যান্ডম ফ্লোট দিয়ে একটি 2x3 অ্যারে তৈরি\n",
        "arr_uni2 = np.random.uniform(5, 10, size=(2, 3))\n",
        "print(f\"Random floats in [5, 10):\\n{arr_uni2}\")\n",
        "```"
      ],
      "metadata": {
        "id": "uMyalSucHFbO"
      }
    },
    {
      "cell_type": "code",
      "source": [
        "# np.random.rand()\n",
        "# Create 1d array with random value\n",
        "arr = np.random.rand(4)\n",
        "print(arr)\n",
        "print(arr.dtype)\n",
        "print(arr.ndim)\n",
        "print(arr.shape)\n",
        "print(arr.dtype)\n",
        "\n",
        "print()\n",
        "# Create 2d array with random value\n",
        "arr = np.random.rand(4,3)\n",
        "print(arr)\n",
        "print(arr.dtype)\n",
        "print(arr.ndim)\n",
        "print(arr.shape)\n",
        "print(arr.dtype)\n",
        "print()\n",
        "\n",
        "# Create 3d array with random value\n",
        "arr = np.random.rand(2,4,3)\n",
        "print(arr)\n",
        "print(arr.dtype)\n",
        "print(arr.ndim)\n",
        "print(arr.shape)\n",
        "print(arr.dtype)\n",
        "\n",
        "#this value withing 0 to one range all are like equally distributed"
      ],
      "metadata": {
        "colab": {
          "base_uri": "https://localhost:8080/"
        },
        "id": "PMNLLwBsIidn",
        "outputId": "95bf34e4-5309-49da-f58f-a72c211a7f58"
      },
      "execution_count": null,
      "outputs": [
        {
          "output_type": "stream",
          "name": "stdout",
          "text": [
            "[0.47145217 0.77241083 0.32241774 0.59199957]\n",
            "float64\n",
            "1\n",
            "(4,)\n",
            "float64\n",
            "\n",
            "[[0.00329412 0.77721725 0.32284827]\n",
            " [0.60425329 0.58096305 0.03019702]\n",
            " [0.58732095 0.7322091  0.22667302]\n",
            " [0.43496581 0.05705622 0.79401279]]\n",
            "float64\n",
            "2\n",
            "(4, 3)\n",
            "float64\n",
            "\n",
            "[[[0.27697981 0.84868112 0.99422411]\n",
            "  [0.65170631 0.68871249 0.86337053]\n",
            "  [0.29273968 0.29746853 0.47385468]\n",
            "  [0.20260456 0.357075   0.17417866]]\n",
            "\n",
            " [[0.70980134 0.72491354 0.4653913 ]\n",
            "  [0.5834332  0.64951802 0.42078038]\n",
            "  [0.6456875  0.00371873 0.51257865]\n",
            "  [0.36861186 0.91544508 0.53681805]]]\n",
            "float64\n",
            "3\n",
            "(2, 4, 3)\n",
            "float64\n"
          ]
        }
      ]
    },
    {
      "cell_type": "code",
      "source": [
        "# Make int random array\n",
        "# np.random.randint(range_with_comma, shape)\n",
        "arr = np.random.randint(10, size=(2,3)) # Generate a 2x3 array with random integers from 0 up to (but not including) 10\n",
        "print(arr)\n",
        "print(arr.dtype)\n",
        "print(arr.ndim)\n",
        "print(arr.shape)\n",
        "print(arr.dtype)\n",
        "\n",
        "print()\n",
        "\n",
        "# ro we can hardcode the start to end range\n",
        "arr = np.random.randint(8,10, size=(2,3)) # Generate a 2x3 array with random integers from 8 up to (but not including) 10\n",
        "# The only possible values are 8 and 9\n",
        "print(arr)\n",
        "print(arr.dtype)\n",
        "print(arr.ndim)\n",
        "print(arr.shape)\n",
        "print(arr.dtype)"
      ],
      "metadata": {
        "colab": {
          "base_uri": "https://localhost:8080/"
        },
        "id": "jLUoDAeJJyqv",
        "outputId": "b62e1ac7-7a58-4ac5-9ef5-8b9e5516b76d"
      },
      "execution_count": null,
      "outputs": [
        {
          "output_type": "stream",
          "name": "stdout",
          "text": [
            "[[7 5 4]\n",
            " [9 8 9]]\n",
            "int64\n",
            "2\n",
            "(2, 3)\n",
            "int64\n",
            "\n",
            "[[9 8 9]\n",
            " [8 8 8]]\n",
            "int64\n",
            "2\n",
            "(2, 3)\n",
            "int64\n"
          ]
        }
      ]
    },
    {
      "cell_type": "code",
      "source": [
        "# np.random.uniform(range, shape): we can generate random floating value with in range\n",
        "\n",
        "arr = np.random.uniform(10, size=(2,3)) # Generate a 2x3 array with random floats from 0.0 up to (but not including) 10.0\n",
        "print(arr)\n",
        "print(arr.dtype)\n",
        "print(arr.ndim)\n",
        "print(arr.shape)\n",
        "print(arr.dtype)\n",
        "\n",
        "\n",
        "print()\n",
        "\n",
        "arr = np.random.uniform(5,10, size=(2,3)) # Generate a 2x3 array with random floats from 5.0 up to (but not including) 10.0\n",
        "print(arr)\n",
        "print(arr.dtype)\n",
        "print(arr.ndim)\n",
        "print(arr.shape)\n",
        "print(arr.dtype)\n"
      ],
      "metadata": {
        "colab": {
          "base_uri": "https://localhost:8080/"
        },
        "id": "XqfG1ribLJLc",
        "outputId": "c869be8e-feeb-4976-8381-643a78aa3314"
      },
      "execution_count": null,
      "outputs": [
        {
          "output_type": "stream",
          "name": "stdout",
          "text": [
            "[[5.01441972 9.60172903 7.8263776 ]\n",
            " [3.09363797 7.77904901 3.1625865 ]]\n",
            "float64\n",
            "2\n",
            "(2, 3)\n",
            "float64\n",
            "\n",
            "[[6.09132681 7.56337183 8.31283609]\n",
            " [8.79001311 9.15119675 7.47461772]]\n",
            "float64\n",
            "2\n",
            "(2, 3)\n",
            "float64\n"
          ]
        }
      ]
    },
    {
      "cell_type": "markdown",
      "source": [
        "# **`ndarray` Creation from a Range**"
      ],
      "metadata": {
        "id": "1RLTzhiBYwC1"
      }
    },
    {
      "cell_type": "markdown",
      "source": [
        "Instead of filling an array with a single value or random numbers, you can generate an array with a **sequence of numbers**. These functions are perfect for creating arrays with predictable, ordered data.\n",
        "\n",
        "-----\n",
        "\n",
        "## **1. `np.arange()`**\n",
        "\n",
        "The `np.arange()` function is very similar to Python's built-in `range()` function but returns a NumPy array instead of a list iterator. It generates values within a half-open interval `[start, stop)`.\n",
        "\n",
        "**Syntax:** `np.arange(start, stop, step)`\n",
        "\n",
        "  * **`start`**: The starting value of the sequence (inclusive).\n",
        "  * **`stop`**: The end value of the sequence (**exclusive**).\n",
        "  * **`step`**: The difference between consecutive values.\n",
        "\n",
        "<!-- end list -->\n",
        "\n",
        "```python\n",
        "import numpy as np\n",
        "\n",
        "# Create a sequence of numbers from 1 to 10\n",
        "arr = np.arange(1, 11, 1)\n",
        "print(f\"Array from arange: {arr}\\n\")\n",
        "\n",
        "# We can easily reshape the output into a matrix\n",
        "# Create a sequence from 1 to 9 and reshape it into a 3x3 matrix\n",
        "matrix = np.arange(1, 10, 1).reshape(3, 3)\n",
        "print(f\"Reshaped matrix:\\n{matrix}\")\n",
        "```\n",
        "\n",
        "-----\n",
        "\n",
        "## **2. `np.linspace()`**\n",
        "\n",
        "The `np.linspace()` function (short for **lin**ear **space**) is incredibly useful. It creates an array with a specified number of evenly spaced points over a given interval.\n",
        "\n",
        "**Key Difference:** Unlike `arange()`, `linspace()` **includes the `stop` value** in the array. You don't specify the step size; you specify how many total points you want, and NumPy calculates the step size for you.\n",
        "\n",
        "**Syntax:** `np.linspace(start, stop, num)`\n",
        "\n",
        "  * **`start`**: The starting value (inclusive).\n",
        "  * **`stop`**: The ending value (**inclusive**).\n",
        "  * **`num`**: The total number of points to generate.\n",
        "\n",
        "<!-- end list -->\n",
        "\n",
        "```python\n",
        "# Generate 10 evenly spaced points from 1 to 10. The step is 1.0.\n",
        "arr_10 = np.linspace(1, 10, 10)\n",
        "print(f\"10 points from 1 to 10:\\n{arr_10}\\n\")\n",
        "\n",
        "# Generate 19 evenly spaced points from 1 to 10. The step is calculated as 0.5.\n",
        "arr_19 = np.linspace(1, 10, 19)\n",
        "print(f\"19 points from 1 to 10:\\n{arr_19}\")\n",
        "```\n",
        "\n",
        "-----\n",
        "\n",
        "## **3. `np.logspace()`**\n",
        "\n",
        "The `np.logspace()` function is the logarithmic equivalent of `linspace()`. It generates numbers that are evenly spaced on a **logarithmic scale**. This is very useful for plotting data that spans several orders of magnitude.\n",
        "\n",
        "**How it works:** It creates a linear sequence of exponents (using `linspace`) and then raises a `base` to the power of those exponents.\n",
        "\n",
        "  * **Default Base**: The default base is `10`.\n",
        "\n",
        "**Syntax:** `np.logspace(start, stop, num, base=10.0)`\n",
        "\n",
        "```python\n",
        "# Generate 6 points from 10^0 to 10^5\n",
        "# The exponents will be [0, 1, 2, 3, 4, 5]\n",
        "arr_log = np.logspace(0, 5, 6)\n",
        "print(f\"Logspace with base 10:\\n{arr_log}\\n\")\n",
        "\n",
        "# You can also change the base\n",
        "# Generate 6 points from 2^0 to 2^5\n",
        "arr_log_base2 = np.logspace(0, 5, 6, base=2)\n",
        "print(f\"Logspace with base 2:\\n{arr_log_base2}\")\n",
        "```\n",
        "\n",
        "-----\n",
        "\n",
        "\n",
        "## **`ndarray` Creation from a Range**\n",
        "\n",
        "একটি অ্যারে শুধুমাত্র একটি নির্দিষ্ট মান বা র‍্যান্ডম সংখ্যা দিয়ে পূর্ণ না করে, আপনি **সংখ্যার ক্রম (sequence)** দিয়েও একটি অ্যারে তৈরি করতে পারেন। এই ফাংশনগুলো পূর্বাভাসযোগ্য, সাজানো ডেটা সহ অ্যারে তৈরির জন্য উপযুক্ত।\n",
        "\n",
        "-----\n",
        "\n",
        "## **১. `np.arange()`**\n",
        "\n",
        "`np.arange()` ফাংশনটি পাইথনের বিল্ট-ইন `range()` ফাংশনের মতোই, কিন্তু এটি একটি লিস্ট ইটারেটরের পরিবর্তে একটি NumPy অ্যারে রিটার্ন করে। এটি একটি অর্ধ-খোলা ব্যবধান `[start, stop)`-এর মধ্যে মান তৈরি করে।\n",
        "\n",
        "**সিনট্যাক্স:** `np.arange(start, stop, step)`\n",
        "\n",
        "  * **`start`**: ক্রমের শুরুর মান (অন্তর্ভুক্ত)।\n",
        "  * **`stop`**: ক্রমের শেষ মান (**ব্যতীত**)।\n",
        "  * **`step`**: পরপর দুটি মানের মধ্যে পার্থক্য।\n",
        "\n",
        "<!-- end list -->\n",
        "\n",
        "```python\n",
        "import numpy as np\n",
        "\n",
        "# ১ থেকে ১০ পর্যন্ত সংখ্যার একটি ক্রম তৈরি\n",
        "arr = np.arange(1, 11, 1)\n",
        "print(f\"arange থেকে তৈরি অ্যারে: {arr}\\n\")\n",
        "\n",
        "# আমরা সহজেই আউটপুটটিকে একটি ম্যাট্রিক্সে রিশেপ করতে পারি\n",
        "# ১ থেকে ৯ পর্যন্ত একটি ক্রম তৈরি করে সেটিকে 3x3 ম্যাট্রিক্সে রিশেপ করা হলো\n",
        "matrix = np.arange(1, 10, 1).reshape(3, 3)\n",
        "print(f\"রিশেপ করা ম্যাট্রিক্স:\\n{matrix}\")\n",
        "```\n",
        "\n",
        "-----\n",
        "\n",
        "## **২. `np.linspace()`**\n",
        "\n",
        "`np.linspace()` ফাংশনটি (**lin**ear **space**-এর সংক্ষিপ্ত রূপ) অত্যন্ত দরকারী। এটি একটি নির্দিষ্ট ব্যবধানে, নির্দিষ্ট সংখ্যক সমদূরবর্তী পয়েন্টসহ একটি অ্যারে তৈরি করে।\n",
        "\n",
        "**মূল পার্থক্য:** `arange()`-এর বিপরীতে, `linspace()` তার অ্যারেতে **`stop` মানটিকে অন্তর্ভুক্ত করে**। এখানে আপনি ধাপের আকার (step size) নির্দিষ্ট করেন না; বরং আপনি মোট কতগুলো পয়েন্ট চান তা নির্দিষ্ট করেন এবং NumPy আপনার জন্য ধাপের আকার গণনা করে নেয়।\n",
        "\n",
        "**সিনট্যাক্স:** `np.linspace(start, stop, num)`\n",
        "\n",
        "  * **`start`**: শুরুর মান (অন্তর্ভুক্ত)।\n",
        "  * **`stop`**: শেষ মান (**অন্তর্ভুক্ত**)।\n",
        "  * **`num`**: মোট কতগুলো পয়েন্ট তৈরি করতে হবে।\n",
        "\n",
        "<!-- end list -->\n",
        "\n",
        "```python\n",
        "# ১ থেকে ১০ পর্যন্ত ১০টি সমদূরবর্তী পয়েন্ট তৈরি। এখানে ধাপ হলো ১.০।\n",
        "arr_10 = np.linspace(1, 10, 10)\n",
        "print(f\"১ থেকে ১০ পর্যন্ত ১০টি পয়েন্ট:\\n{arr_10}\\n\")\n",
        "\n",
        "# ১ থেকে ১০ পর্যন্ত ১৯টি সমদূরবর্তী পয়েন্ট তৈরি। এখানে ধাপ গণনা করে ০.৫ পাওয়া গেছে।\n",
        "arr_19 = np.linspace(1, 10, 19)\n",
        "print(f\"১ থেকে ১০ পর্যন্ত ১৯টি পয়েন্ট:\\n{arr_19}\")\n",
        "```\n",
        "\n",
        "-----\n",
        "\n",
        "## **৩. `np.logspace()`**\n",
        "\n",
        "`np.logspace()` ফাংশনটি `linspace()`-এর লগারিদমিক সমতুল্য। এটি এমন সংখ্যা তৈরি করে যা একটি **লগারিদমিক স্কেলে** সমদূরবর্তী। যে ডেটা কয়েক অর্ডারের ম্যাগনিচিউড জুড়ে বিস্তৃত থাকে, তা প্লট করার জন্য এটি খুব দরকারী।\n",
        "\n",
        "**এটি কীভাবে কাজ করে:** এটি প্রথমে এক্সপোনেন্টগুলোর একটি রৈখিক ক্রম (`linspace` ব্যবহার করে) তৈরি করে এবং তারপরে একটি `base`-কে সেই এক্সপোনেন্টগুলোর ঘাতে (power) উন্নীত করে।\n",
        "\n",
        "  * **ডিফল্ট বেস**: ডিফল্ট বেস হলো `10`।\n",
        "\n",
        "**সিনট্যাক্স:** `np.logspace(start, stop, num, base=10.0)`\n",
        "\n",
        "```python\n",
        "# 10^0 থেকে 10^5 পর্যন্ত ৬টি পয়েন্ট তৈরি\n",
        "# এক্সপোনেন্টগুলো হবে [0, 1, 2, 3, 4, 5]\n",
        "arr_log = np.logspace(0, 5, 6)\n",
        "print(f\"বেস ১০ সহ Logspace:\\n{arr_log}\\n\")\n",
        "\n",
        "# আপনি বেস পরিবর্তনও করতে পারেন\n",
        "# 2^0 থেকে 2^5 পর্যন্ত ৬টি পয়েন্ট তৈরি\n",
        "arr_log_base2 = np.logspace(0, 5, 6, base=2)\n",
        "print(f\"বেস ২ সহ Logspace:\\n{arr_log_base2}\")\n",
        "```"
      ],
      "metadata": {
        "id": "fxHDefnhOJjU"
      }
    },
    {
      "cell_type": "markdown",
      "source": [
        "### **arange**"
      ],
      "metadata": {
        "id": "0NZyddQ0R2Hq"
      }
    },
    {
      "cell_type": "code",
      "source": [
        "arr = np.arange(1,11,1)\n",
        "print(arr)\n",
        "print(arr.dtype)\n",
        "print(arr.ndim)\n",
        "print(arr.shape)\n",
        "print(arr.dtype)"
      ],
      "metadata": {
        "colab": {
          "base_uri": "https://localhost:8080/"
        },
        "id": "zeNWdVTROI79",
        "outputId": "0381df06-c17c-40cc-bfdc-787f641b548e"
      },
      "execution_count": null,
      "outputs": [
        {
          "output_type": "stream",
          "name": "stdout",
          "text": [
            "[ 1  2  3  4  5  6  7  8  9 10]\n",
            "int64\n",
            "1\n",
            "(10,)\n",
            "int64\n"
          ]
        }
      ]
    },
    {
      "cell_type": "markdown",
      "source": [
        "### **reshape**"
      ],
      "metadata": {
        "id": "ItsUXVfqR5QS"
      }
    },
    {
      "cell_type": "code",
      "source": [
        "#Also we can make it 2d array matrix reshape function\n",
        "arr = np.arange(1,10,1)\n",
        "matrix = arr.reshape(3,3)\n",
        "print(matrix)\n",
        "print(matrix.dtype)\n",
        "print(matrix.ndim)\n",
        "print(matrix.shape)\n",
        "print(matrix.dtype)"
      ],
      "metadata": {
        "colab": {
          "base_uri": "https://localhost:8080/"
        },
        "id": "wDEOWFacPugd",
        "outputId": "e015e65a-3944-40c0-e03b-dda1df0b8d08"
      },
      "execution_count": null,
      "outputs": [
        {
          "output_type": "stream",
          "name": "stdout",
          "text": [
            "[[1 2 3]\n",
            " [4 5 6]\n",
            " [7 8 9]]\n",
            "int64\n",
            "2\n",
            "(3, 3)\n",
            "int64\n"
          ]
        }
      ]
    },
    {
      "cell_type": "markdown",
      "source": [
        "### **linspace**"
      ],
      "metadata": {
        "id": "s4HR-gMER8rh"
      }
    },
    {
      "cell_type": "code",
      "source": [
        "arr = np.linspace(1,10,10)\n",
        "print(arr)\n",
        "print(arr.dtype)\n",
        "print(arr.ndim)\n",
        "print(arr.shape)\n",
        "print(arr.dtype)\n"
      ],
      "metadata": {
        "colab": {
          "base_uri": "https://localhost:8080/"
        },
        "id": "8mzZnn9TSCDC",
        "outputId": "3888105a-9630-437e-8a97-ca6b682e216e"
      },
      "execution_count": null,
      "outputs": [
        {
          "output_type": "stream",
          "name": "stdout",
          "text": [
            "[ 1.  2.  3.  4.  5.  6.  7.  8.  9. 10.]\n",
            "float64\n",
            "1\n",
            "(10,)\n",
            "float64\n"
          ]
        }
      ]
    },
    {
      "cell_type": "code",
      "source": [
        "arr = np.linspace(1,10,11)\n",
        "print(arr)\n",
        "print(arr.dtype)\n",
        "print(arr.ndim)\n",
        "print(arr.shape)\n",
        "print(arr.dtype)"
      ],
      "metadata": {
        "colab": {
          "base_uri": "https://localhost:8080/"
        },
        "id": "tD8AY5vvSXSY",
        "outputId": "c19d2e4b-0ddc-424d-d53c-7b37b80a7780"
      },
      "execution_count": null,
      "outputs": [
        {
          "output_type": "stream",
          "name": "stdout",
          "text": [
            "[ 1.   1.9  2.8  3.7  4.6  5.5  6.4  7.3  8.2  9.1 10. ]\n",
            "float64\n",
            "1\n",
            "(11,)\n",
            "float64\n"
          ]
        }
      ]
    },
    {
      "cell_type": "code",
      "source": [
        "arr = np.linspace(1,10,19)\n",
        "print(arr)\n",
        "print(arr.dtype)\n",
        "print(arr.ndim)\n",
        "print(arr.shape)\n",
        "print(arr.dtype)"
      ],
      "metadata": {
        "colab": {
          "base_uri": "https://localhost:8080/"
        },
        "id": "ipIFxZt2SZ-a",
        "outputId": "cf87f8be-5d4f-46ec-ad5d-98ee80aeeee4"
      },
      "execution_count": null,
      "outputs": [
        {
          "output_type": "stream",
          "name": "stdout",
          "text": [
            "[ 1.   1.5  2.   2.5  3.   3.5  4.   4.5  5.   5.5  6.   6.5  7.   7.5\n",
            "  8.   8.5  9.   9.5 10. ]\n",
            "float64\n",
            "1\n",
            "(19,)\n",
            "float64\n"
          ]
        }
      ]
    },
    {
      "cell_type": "markdown",
      "source": [
        "### **logspace**\n"
      ],
      "metadata": {
        "id": "LkppMCqVVyWx"
      }
    },
    {
      "cell_type": "code",
      "source": [
        "arr = np.logspace(0,5,6)\n",
        "print(arr)"
      ],
      "metadata": {
        "colab": {
          "base_uri": "https://localhost:8080/"
        },
        "id": "S0O3ftSJWTdQ",
        "outputId": "11d6f37a-2d6b-4518-eb5e-0d22ea14992a"
      },
      "execution_count": null,
      "outputs": [
        {
          "output_type": "stream",
          "name": "stdout",
          "text": [
            "[1.e+00 1.e+01 1.e+02 1.e+03 1.e+04 1.e+05]\n"
          ]
        }
      ]
    },
    {
      "cell_type": "code",
      "source": [
        "arr = np.linspace(0,5,10)\n",
        "print(arr)\n",
        "\n",
        "print()\n",
        "arr = np.logspace(0,5,10) # here it doing 10^1, 10^0.55555556 ,  10^1.11111111 so on\n",
        "print(arr)"
      ],
      "metadata": {
        "colab": {
          "base_uri": "https://localhost:8080/"
        },
        "id": "Cew6PU4mWqii",
        "outputId": "958837d5-b504-41ea-88b1-17a1ffb48bba"
      },
      "execution_count": null,
      "outputs": [
        {
          "output_type": "stream",
          "name": "stdout",
          "text": [
            "[0.         0.55555556 1.11111111 1.66666667 2.22222222 2.77777778\n",
            " 3.33333333 3.88888889 4.44444444 5.        ]\n",
            "\n",
            "[1.00000000e+00 3.59381366e+00 1.29154967e+01 4.64158883e+01\n",
            " 1.66810054e+02 5.99484250e+02 2.15443469e+03 7.74263683e+03\n",
            " 2.78255940e+04 1.00000000e+05]\n"
          ]
        }
      ]
    },
    {
      "cell_type": "code",
      "source": [
        "# we can also change base here\n",
        "arr = np.logspace(0,5,6, base=2)\n",
        "print(arr)"
      ],
      "metadata": {
        "colab": {
          "base_uri": "https://localhost:8080/"
        },
        "id": "jxnJ_JYCXFOk",
        "outputId": "c2f1a8a5-e571-47f7-d1f6-e95935319599"
      },
      "execution_count": null,
      "outputs": [
        {
          "output_type": "stream",
          "name": "stdout",
          "text": [
            "[ 1.  2.  4.  8. 16. 32.]\n"
          ]
        }
      ]
    },
    {
      "cell_type": "markdown",
      "source": [
        "# **Creating Diagonal and Identity Matrices**"
      ],
      "metadata": {
        "id": "ejxD9djHd3T0"
      }
    },
    {
      "cell_type": "markdown",
      "source": [
        "Diagonal and identity matrices are special types of square matrices that are fundamental building blocks in linear algebra and have significant applications in machine learning algorithms.\n",
        "\n",
        "1.  **Diagonal Matrix**: A square matrix where all the elements are zero except for the elements on the **main diagonal** (where the row index equals the column index).\n",
        "2.  **Identity Matrix**: A special type of diagonal matrix where all the elements on the main diagonal are **exactly 1**, and all other elements are 0.\n",
        "\n",
        "-----\n",
        "\n",
        "## **1. `np.diag()` - Creating a Diagonal Matrix**\n",
        "\n",
        "The `np.diag()` function is versatile. When you pass it a 1D array-like object (list, tuple, or another NumPy array), it creates a 2D square matrix and places the elements of the input on the main diagonal.\n",
        "\n",
        "```python\n",
        "import numpy as np\n",
        "\n",
        "# Create a diagonal matrix from a list\n",
        "mat_diag_list = np.diag([1, 2, 3, 4])\n",
        "print(f\"Diagonal matrix from a list:\\n{mat_diag_list}\\n\")\n",
        "```\n",
        "\n",
        "**Output:**\n",
        "\n",
        "```\n",
        "Diagonal matrix from a list:\n",
        "[[1 0 0 0]\n",
        " [0 2 0 0]\n",
        " [0 0 3 0]\n",
        " [0 0 0 4]]\n",
        "```\n",
        "\n",
        "```python\n",
        "# Create a diagonal matrix from a 1D NumPy array\n",
        "mat_diag_arr = np.diag(np.arange(5, 8))\n",
        "print(f\"Diagonal matrix from a NumPy array:\\n{mat_diag_arr}\")\n",
        "```\n",
        "\n",
        "**Output:**\n",
        "\n",
        "```\n",
        "Diagonal matrix from a NumPy array:\n",
        "[[5 0 0]\n",
        " [0 6 0]\n",
        " [0 0 7]]\n",
        "```\n",
        "\n",
        "*(Note: `np.diag()` can also be used to extract the diagonal elements from an existing matrix, making it a dual-purpose function.)*\n",
        "\n",
        "-----\n",
        "\n",
        "## **2. `np.eye()` - Creating an Identity Matrix**\n",
        "\n",
        "The `np.eye()` function is the standard way to create an identity matrix. The name \"eye\" comes from the pronunciation of the letter \"I\", which is the mathematical symbol for an identity matrix.\n",
        "\n",
        "```python\n",
        "# Create a 3x3 identity matrix\n",
        "mat_identity = np.eye(3)\n",
        "print(f\"3x3 Identity Matrix:\\n{mat_identity}\\n\")\n",
        "```\n",
        "\n",
        "**Output:**\n",
        "\n",
        "```\n",
        "3x3 Identity Matrix:\n",
        "[[1. 0. 0.]\n",
        " [0. 1. 0.]\n",
        " [0. 0. 1.]]\n",
        "```\n",
        "\n",
        "The `eye()` function can also create non-square matrices and allows you to shift the diagonal of ones up or down using the optional `k` parameter.\n",
        "\n",
        "  * `k=0` (default): Main diagonal.\n",
        "  * `k > 0`: Shifts the diagonal upwards.\n",
        "  * `k < 0`: Shifts the diagonal downwards.\n",
        "\n",
        "<!-- end list -->\n",
        "\n",
        "```python\n",
        "# Create a 3x4 matrix with the main diagonal of ones\n",
        "mat_rect = np.eye(3, 4)\n",
        "print(f\"3x4 matrix with k=0:\\n{mat_rect}\\n\")\n",
        "\n",
        "# Shift the diagonal up by 1 position (k=1)\n",
        "mat_up = np.eye(3, 4, k=1)\n",
        "print(f\"3x4 matrix with k=1:\\n{mat_up}\\n\")\n",
        "\n",
        "# Shift the diagonal down by 1 position (k=-1)\n",
        "mat_down = np.eye(3, 4, k=-1)\n",
        "print(f\"3x4 matrix with k=-1:\\n{mat_down}\")\n",
        "```\n",
        "\n",
        "**Output:**\n",
        "\n",
        "```\n",
        "3x4 matrix with k=0:\n",
        "[[1. 0. 0. 0.]\n",
        " [0. 1. 0. 0.]\n",
        " [0. 0. 1. 0.]]\n",
        "\n",
        "3x4 matrix with k=1:\n",
        "[[0. 1. 0. 0.]\n",
        " [0. 0. 1. 0.]\n",
        " [0. 0. 0. 1.]]\n",
        "\n",
        "3x4 matrix with k=-1:\n",
        "[[0. 0. 0. 0.]\n",
        " [1. 0. 0. 0.]\n",
        " [0. 1. 0. 0.]]\n",
        "```\n",
        "\n",
        "-----\n",
        "\n",
        "## **Why are these matrices important in ML? 🤔**\n",
        "\n",
        "### **Identity Matrix (I)**\n",
        "\n",
        "Think of the identity matrix as the matrix equivalent of the number **1**. Just as `5 * 1 = 5`, multiplying any compatible matrix **A** by the identity matrix **I** results in **A** (`A * I = A`).\n",
        "\n",
        "  * **Initialization**: In neural networks, weight matrices are sometimes initialized to be close to an identity matrix. This ensures that, at the start of training, the layer doesn't drastically change the input, providing a stable starting point.\n",
        "  * **Regularization**: In techniques like **Ridge Regression**, a small multiple of the identity matrix (`λI`) is added to the data's covariance matrix. This helps to make the matrix invertible and prevents the model's parameters from becoming too large, which helps to reduce overfitting.\n",
        "\n",
        "### **Diagonal Matrix (D)**\n",
        "\n",
        "Diagonal matrices represent simple **scaling transformations**. When you multiply a vector by a diagonal matrix, each component of the vector is scaled by the corresponding diagonal element. This is a very efficient operation.\n",
        "\n",
        "  * **Feature Scaling/Standardization**: Operations like standardizing features can be represented by diagonal matrices.\n",
        "  * **Model Simplification**: In some probabilistic models like the **Gaussian Naive Bayes classifier**, the covariance matrix is assumed to be diagonal. This is a simplifying assumption that means the features are treated as statistically independent, which makes calculations much faster.\n",
        "  * **Optimization Algorithms**: They appear frequently in the theory behind optimization algorithms and in matrix decomposition methods like **Singular Value Decomposition (SVD)**, where the matrix of singular values (**Σ**) is a diagonal matrix.\n",
        "\n",
        "\n",
        "----\n",
        "# **Creating Diagonal and Identity Matrices(Bangla)**\n",
        "\n",
        "ডায়াগোনাল এবং আইডেন্টিটি ম্যাট্রিক্স হলো বিশেষ ধরনের বর্গ ম্যাট্রিক্স যা রৈখিক বীজগণিতের (linear algebra) মৌলিক অংশ এবং মেশিন লার্নিং অ্যালগরিদমে এদের উল্লেখযোগ্য প্রয়োগ রয়েছে।\n",
        "\n",
        "1.  **ডায়াগোনাল ম্যাট্রিক্স (Diagonal Matrix)**: একটি বর্গ ম্যাট্রিক্স যেখানে **প্রধান কর্ণ** (main diagonal) বরাবর উপাদানগুলো ছাড়া বাকি সব উপাদান শূন্য থাকে (যেখানে সারি এবং কলামের ইনডেক্স সমান)।\n",
        "2.  **আইডেন্টিটি ম্যাট্রিক্স (Identity Matrix)**: এটি একটি বিশেষ ধরনের ডায়াগোনাল ম্যাট্রিক্স যেখানে প্রধান কর্ণের সমস্ত উপাদান **ঠিক ১** থাকে এবং বাকি সব উপাদান শূন্য থাকে।\n",
        "\n",
        "-----\n",
        "\n",
        "## **1. `np.diag()` - ডায়াগোনাল ম্যাট্রিক্স তৈরি**\n",
        "\n",
        "`np.diag()` ফাংশনটি বেশ বহুমুখী। যখন আপনি এটিকে একটি 1D অ্যারের মতো অবজেক্ট (লিস্ট, টুপল, বা অন্য NumPy অ্যারে) পাস করেন, তখন এটি একটি 2D বর্গ ম্যাট্রিক্স তৈরি করে এবং ইনপুটের উপাদানগুলোকে প্রধান কর্ণে স্থাপন করে।\n",
        "\n",
        "```python\n",
        "import numpy as np\n",
        "\n",
        "# একটি লিস্ট থেকে ডায়াগোনাল ম্যাট্রিক্স তৈরি\n",
        "mat_diag_list = np.diag([1, 2, 3, 4])\n",
        "print(f\"লিস্ট থেকে ডায়াগোনাল ম্যাট্রিক্স:\\n{mat_diag_list}\\n\")\n",
        "```\n",
        "\n",
        "**আউটপুট:**\n",
        "\n",
        "```\n",
        "লিস্ট থেকে ডায়াগোনাল ম্যাট্রিক্স:\n",
        "[[1 0 0 0]\n",
        " [0 2 0 0]\n",
        " [0 0 3 0]\n",
        " [0 0 0 4]]\n",
        "```\n",
        "\n",
        "```python\n",
        "# একটি NumPy অ্যারে থেকে ডায়াগোনাল ম্যাট্রিক্স তৈরি\n",
        "mat_diag_arr = np.diag(np.arange(5, 8))\n",
        "print(f\"NumPy অ্যারে থেকে ডায়াগোনাল ম্যাট্রিক্স:\\n{mat_diag_arr}\")\n",
        "```\n",
        "\n",
        "**আউটপুট:**\n",
        "\n",
        "```\n",
        "NumPy অ্যারে থেকে ডায়াগোনাল ম্যাট্রিক্স:\n",
        "[[5 0 0]\n",
        " [0 6 0]\n",
        " [0 0 7]]\n",
        "```\n",
        "\n",
        "*(দ্রষ্টব্য: `np.diag()` একটি বিদ্যমান ম্যাট্রিক্স থেকে কর্ণের উপাদানগুলো বের করার জন্যও ব্যবহার করা যেতে পারে, যা এটিকে একটি দ্বৈত-উদ্দেশ্যমূলক ফাংশন করে তোলে।)*\n",
        "\n",
        "-----\n",
        "\n",
        "## **2. `np.eye()` - আইডেন্টিটি ম্যাট্রিক্স তৈরি**\n",
        "\n",
        "আইডেন্টিটি ম্যাট্রিক্স তৈরি করার জন্য `np.eye()` একটি স্ট্যান্ডার্ড ফাংশন। এর নাম \"eye\" এসেছে \"I\" অক্ষরের উচ্চারণ থেকে, যা আইডেন্টিটি ম্যাট্রিক্সের গাণিতিক প্রতীক।\n",
        "\n",
        "```python\n",
        "# একটি 3x3 আইডেন্টিটি ম্যাট্রিক্স তৈরি\n",
        "mat_identity = np.eye(3)\n",
        "print(f\"3x3 আইডেন্টিটি ম্যাট্রিক্স:\\n{mat_identity}\\n\")\n",
        "```\n",
        "\n",
        "**আউটপুট:**\n",
        "\n",
        "```\n",
        "3x3 আইডেন্টিটি ম্যাট্রিক্স:\n",
        "[[1. 0. 0.]\n",
        " [0. 1. 0.]\n",
        " [0. 0. 1.]]\n",
        "```\n",
        "\n",
        "`eye()` ফাংশনটি বর্গাকার নয় এমন ম্যাট্রিক্সও তৈরি করতে পারে এবং `k` প্যারামিটার ব্যবহার করে আপনি ১-এর কর্ণটিকে উপরে বা নিচে সরাতে পারেন।\n",
        "\n",
        "  * `k=0` (ডিফল্ট): প্রধান কর্ণ।\n",
        "  * `k > 0`: কর্ণটিকে উপরে সরায়।\n",
        "  * `k < 0`: কর্ণটিকে নিচে সরায়।\n",
        "\n",
        "<!-- end list -->\n",
        "\n",
        "```python\n",
        "# ১-এর প্রধান কর্ণ সহ একটি 3x4 ম্যাট্রিক্স\n",
        "mat_rect = np.eye(3, 4)\n",
        "print(f\"k=0 সহ 3x4 ম্যাট্রিক্স:\\n{mat_rect}\\n\")\n",
        "\n",
        "# কর্ণটিকে ১ ঘর উপরে সরানো হলো (k=1)\n",
        "mat_up = np.eye(3, 4, k=1)\n",
        "print(f\"k=1 সহ 3x4 ম্যাট্রিক্স:\\n{mat_up}\\n\")\n",
        "\n",
        "# কর্ণটিকে ১ ঘর নিচে সরানো হলো (k=-1)\n",
        "mat_down = np.eye(3, 4, k=-1)\n",
        "print(f\"k=-1 সহ 3x4 ম্যাট্রিক্স:\\n{mat_down}\")\n",
        "```\n",
        "\n",
        "**আউটপুট:**\n",
        "\n",
        "```\n",
        "k=0 সহ 3x4 ম্যাট্রিক্স:\n",
        "[[1. 0. 0. 0.]\n",
        " [0. 1. 0. 0.]\n",
        " [0. 0. 1. 0.]]\n",
        "\n",
        "k=1 সহ 3x4 ম্যাট্রিক্স:\n",
        "[[0. 1. 0. 0.]\n",
        " [0. 0. 1. 0.]\n",
        " [0. 0. 0. 1.]]\n",
        "\n",
        "k=-1 সহ 3x4 ম্যাট্রিক্স:\n",
        "[[0. 0. 0. 0.]\n",
        " [1. 0. 0. 0.]\n",
        " [0. 1. 0. 0.]]\n",
        "```\n",
        "\n",
        "-----\n",
        "\n",
        "## **মেশিন লার্নিং-এ এই ম্যাট্রিক্সগুলো কেন গুরুত্বপূর্ণ? 🤔**\n",
        "\n",
        "### **আইডেন্টিটি ম্যাট্রিক্স (I)**\n",
        "\n",
        "আইডেন্টিটি ম্যাট্রিক্সকে সংখ্যা **১**-এর ম্যাট্রিক্স সমতুল্য হিসেবে ভাবুন। যেমন `5 * 1 = 5` হয়, তেমনই যেকোনো সামঞ্জস্যপূর্ণ ম্যাট্রিক্স **A**-কে আইডেন্টিটি ম্যাট্রিক্স **I** দ্বারা গুণ করলে **A** পাওয়া যায় (`A * I = A`)।\n",
        "\n",
        "  * **ইনিশিয়ালাইজেশন (Initialization)**: নিউরাল নেটওয়ার্কে, ওয়েট ম্যাট্রিক্সগুলোকে কখনও কখনও আইডেন্টিটি ম্যাট্রিক্সের কাছাকাছি মানে ইনিশিয়ালাইজ করা হয়। এটি নিশ্চিত করে যে, প্রশিক্ষণের শুরুতে লেয়ারটি ইনপুটকে খুব বেশি পরিবর্তন করবে না, যা একটি স্থিতিশীল সূচনা প্রদান করে।\n",
        "  * **রেগুলারাইজেশন (Regularization)**: **রিজ রিগ্রেশন (Ridge Regression)**-এর মতো কৌশলে, ডেটার কোভ্যারিয়েন্স ম্যাট্রিক্সের সাথে আইডেন্টিটি ম্যাট্রিক্সের একটি ছোট গুণিতক (`λI`) যোগ করা হয়। এটি ম্যাট্রিক্সটিকে ইনভার্টেবল করতে সাহায্য করে এবং মডেলের প্যারামিটারগুলোকে খুব বড় হতে বাধা দেয়, যা ওভারফিটিং কমাতে সাহায্য করে।\n",
        "\n",
        "### **ডায়াগোনাল ম্যাট্রিক্স (D)**\n",
        "\n",
        "ডায়াগোনাল ম্যাট্রিক্স সাধারণ **স্কেলিং রূপান্তর (scaling transformations)** প্রকাশ করে। যখন আপনি একটি ভেক্টরকে একটি ডায়াগোনাল ম্যাট্রিক্স দ্বারা গুণ করেন, তখন ভেক্টরের প্রতিটি উপাদান সংশ্লিষ্ট ডায়াগোনাল উপাদান দ্বারা স্কেল বা গুণ হয়। এটি একটি অত্যন্ত কার্যকর অপারেশন।\n",
        "\n",
        "  * **ফিচার স্কেলিং/স্ট্যান্ডার্ডাইজেশন**: ফিচার স্ট্যান্ডার্ডাইজ করার মতো অপারেশনগুলোকে ডায়াগোনাল ম্যাট্রিক্স দ্বারা প্রকাশ করা যেতে পারে।\n",
        "  * **মডেল সরলীকরণ**: কিছু সম্ভাব্যতা মডেলে, যেমন **গাউসিয়ান নাইভ বেইজ ক্লাসিফায়ার (Gaussian Naive Bayes classifier)**, কোভ্যারিয়েন্স ম্যাট্রিক্সকে ডায়াগোনাল বলে ধরে নেওয়া হয়। এই সরল অনুমানের অর্থ হলো ফিচারগুলোকে পরিসংখ্যানগতভাবে স্বাধীন হিসেবে গণ্য করা হয়, যা গণনাকে অনেক দ্রুত করে তোলে।\n",
        "  * **অপ্টিমাইজেশন অ্যালগরিদম**: অপ্টিমাইজেশন অ্যালগরিদমের তত্ত্ব এবং **সিঙ্গুলার ভ্যালু ডিকম্পোজিশন (SVD)**-এর মতো ম্যাট্রিক্স ডিকম্পোজিশন পদ্ধতিতে এগুলো প্রায়শই দেখা যায়, যেখানে সিঙ্গুলার মানের ম্যাট্রিক্সটি (**Σ**) একটি ডায়াগোনাল ম্যাট্রিক্স।"
      ],
      "metadata": {
        "id": "Z2M3E4KJZh99"
      }
    },
    {
      "cell_type": "markdown",
      "source": [
        "### **diag()**"
      ],
      "metadata": {
        "id": "K2NInw-rbl0A"
      }
    },
    {
      "cell_type": "code",
      "source": [
        "mat = np.diag([1,2,3,4])\n",
        "print(mat)"
      ],
      "metadata": {
        "colab": {
          "base_uri": "https://localhost:8080/"
        },
        "id": "eD5G17Kobadi",
        "outputId": "35172094-2645-4c00-df3a-6b120eb7d773"
      },
      "execution_count": null,
      "outputs": [
        {
          "output_type": "stream",
          "name": "stdout",
          "text": [
            "[[1 0 0 0]\n",
            " [0 2 0 0]\n",
            " [0 0 3 0]\n",
            " [0 0 0 4]]\n"
          ]
        }
      ]
    },
    {
      "cell_type": "code",
      "source": [
        "# It can hold tuple or can be ndarray\n",
        "mat = np.diag(np.arange(1,7))\n",
        "print(mat)"
      ],
      "metadata": {
        "colab": {
          "base_uri": "https://localhost:8080/"
        },
        "id": "L3ln9hXPbyRP",
        "outputId": "7047d335-9af9-49e3-db09-8436856e707e"
      },
      "execution_count": null,
      "outputs": [
        {
          "output_type": "stream",
          "name": "stdout",
          "text": [
            "[[1 0 0 0 0 0]\n",
            " [0 2 0 0 0 0]\n",
            " [0 0 3 0 0 0]\n",
            " [0 0 0 4 0 0]\n",
            " [0 0 0 0 5 0]\n",
            " [0 0 0 0 0 6]]\n"
          ]
        }
      ]
    },
    {
      "cell_type": "markdown",
      "source": [
        "### **eye()**"
      ],
      "metadata": {
        "id": "WBcQw44mcCOY"
      }
    },
    {
      "cell_type": "code",
      "source": [
        "# identitiy Matrix\n",
        "\n",
        "mat = np.eye(3)\n",
        "print(mat)\n",
        "\n"
      ],
      "metadata": {
        "colab": {
          "base_uri": "https://localhost:8080/"
        },
        "id": "W1ScCgXbb9uy",
        "outputId": "1b0938b2-565e-45ea-a196-b13ad13c00e9"
      },
      "execution_count": null,
      "outputs": [
        {
          "output_type": "stream",
          "name": "stdout",
          "text": [
            "[[1. 0. 0.]\n",
            " [0. 1. 0.]\n",
            " [0. 0. 1.]]\n"
          ]
        }
      ]
    },
    {
      "cell_type": "code",
      "source": [
        "# we can also make identity matrix but it it is not identify matrix when it is not squar\n",
        "mat = np.eye(3,4)\n",
        "print(mat)\n"
      ],
      "metadata": {
        "colab": {
          "base_uri": "https://localhost:8080/"
        },
        "id": "pDmcth85cR8B",
        "outputId": "77eb593c-fb10-49e0-9ce4-fd6c25b98a90"
      },
      "execution_count": null,
      "outputs": [
        {
          "output_type": "stream",
          "name": "stdout",
          "text": [
            "[[1. 0. 0. 0.]\n",
            " [0. 1. 0. 0.]\n",
            " [0. 0. 1. 0.]]\n"
          ]
        }
      ]
    },
    {
      "cell_type": "code",
      "source": [
        "# We can move diagnal bottom to using -1 and top to +1\n",
        "mat = np.eye(3,4,-1)\n",
        "print(mat)"
      ],
      "metadata": {
        "colab": {
          "base_uri": "https://localhost:8080/"
        },
        "id": "an_XXp5Uchim",
        "outputId": "d87ad1c1-1c18-4002-8e24-5286b2c7c020"
      },
      "execution_count": null,
      "outputs": [
        {
          "output_type": "stream",
          "name": "stdout",
          "text": [
            "[[0. 0. 0. 0.]\n",
            " [1. 0. 0. 0.]\n",
            " [0. 1. 0. 0.]]\n"
          ]
        }
      ]
    },
    {
      "cell_type": "code",
      "source": [
        "mat = np.eye(3,4,1)\n",
        "print(mat)"
      ],
      "metadata": {
        "colab": {
          "base_uri": "https://localhost:8080/"
        },
        "id": "CGnXQIcQcrqx",
        "outputId": "5d153774-620d-48c7-cfeb-128fe1bdef19"
      },
      "execution_count": null,
      "outputs": [
        {
          "output_type": "stream",
          "name": "stdout",
          "text": [
            "[[0. 1. 0. 0.]\n",
            " [0. 0. 1. 0.]\n",
            " [0. 0. 0. 1.]]\n"
          ]
        }
      ]
    },
    {
      "cell_type": "markdown",
      "source": [
        "# **`ndarray` Indexing and Slicing**"
      ],
      "metadata": {
        "id": "ODZR1bhgnzoO"
      }
    },
    {
      "cell_type": "markdown",
      "source": [
        "Accessing and manipulating specific parts of an array is a fundamental operation. NumPy provides a powerful and flexible syntax for indexing (accessing single elements) and slicing (accessing sub-arrays) that is similar to Python lists but extended for multiple dimensions.\n",
        "\n",
        "-----\n",
        "\n",
        "## **1. Working with 1D Arrays**\n",
        "\n",
        "Indexing and slicing on 1D arrays work just like they do for Python lists.\n",
        "\n",
        "```python\n",
        "import numpy as np\n",
        "\n",
        "arr = np.arange(1, 10)\n",
        "print(f\"Original 1D array:\\n{arr}\\n\")\n",
        "```\n",
        "\n",
        "**Output:**\n",
        "\n",
        "```\n",
        "Original 1D array:\n",
        "[1 2 3 4 5 6 7 8 9]\n",
        "```\n",
        "\n",
        "### **Accessing and Modifying Elements**\n",
        "\n",
        "You use square brackets `[]` with the index of the element you want to access. Remember, indexing starts at 0.\n",
        "\n",
        "```python\n",
        "# Access the element at index 2 (the third element)\n",
        "print(f\"Element at index 2: {arr[2]}\\n\")\n",
        "\n",
        "# Change the value at index 2\n",
        "arr[2] = 100\n",
        "print(f\"Array after modification:\\n{arr}\\n\")\n",
        "```\n",
        "\n",
        "**Output:**\n",
        "\n",
        "```\n",
        "Element at index 2: 3\n",
        "\n",
        "Array after modification:\n",
        "[  1   2 100   4   5   6   7   8   9]\n",
        "```\n",
        "\n",
        "### **Slicing 1D Arrays**\n",
        "\n",
        "The slicing syntax is `[start:stop:step]`.\n",
        "\n",
        "```python\n",
        "# Slice from index 2 up to (but not including) index 9, with a step of 2\n",
        "sliced_arr = arr[2:9:2]\n",
        "print(f\"Sliced array [2:9:2]:\\n{sliced_arr}\")\n",
        "```\n",
        "\n",
        "**Output:**\n",
        "\n",
        "```\n",
        "Sliced array [2:9:2]:\n",
        "[100   5   7   9]\n",
        "```\n",
        "\n",
        "-----\n",
        "\n",
        "## **2. Working with 2D Arrays (Matrices)**\n",
        "\n",
        "For 2D arrays, indexing and slicing are extended with a comma-separated syntax: `[row_specifier, column_specifier]`.\n",
        "\n",
        "```python\n",
        "arr2 = np.arange(1, 10).reshape(3, 3)\n",
        "print(f\"Original 2D array:\\n{arr2}\\n\")\n",
        "```\n",
        "\n",
        "**Output:**\n",
        "\n",
        "```\n",
        "Original 2D array:\n",
        "[[1 2 3]\n",
        " [4 5 6]\n",
        " [7 8 9]]\n",
        "```\n",
        "\n",
        "### **Accessing and Modifying Elements**\n",
        "\n",
        "You can use `[row][col]` syntax, but the more efficient and standard NumPy way is `[row, col]`.\n",
        "\n",
        "```python\n",
        "# Access the element in the first row (index 0) and second column (index 1)\n",
        "element = arr2[0, 1] # Preferred NumPy syntax\n",
        "print(f\"Element at [0, 1]: {element}\\n\")\n",
        "\n",
        "# Reassign the value at that position\n",
        "arr2[0, 1] = 20\n",
        "print(f\"Array after modification:\\n{arr2}\\n\")\n",
        "```\n",
        "\n",
        "**Output:**\n",
        "\n",
        "```\n",
        "Element at [0, 1]: 2\n",
        "\n",
        "Array after modification:\n",
        "[[ 1 20  3]\n",
        " [ 4  5  6]\n",
        " [ 7  8  9]]\n",
        "```\n",
        "\n",
        "### **Slicing 2D Arrays**\n",
        "\n",
        "The syntax is `[row_start:row_end:row_step, col_start:col_end:col_step]`. A colon `:` by itself means \"select all\".\n",
        "\n",
        "```python\n",
        "# Let's reset the array for clarity\n",
        "arr2 = np.arange(1, 10).reshape(3, 3)\n",
        "print(f\"Reset 2D array:\\n{arr2}\\n\")\n",
        "\n",
        "# Getting one or more rows\n",
        "print(f\"Getting the second row (index 1):\\n{arr2[1, :]}\\n\") # or simply arr2[1]\n",
        "print(f\"Getting first and third rows (step=2):\\n{arr2[0:3:2, :]}\\n\")\n",
        "\n",
        "\n",
        "# Getting one or more columns\n",
        "print(f\"Getting the first column (index 0):\\n{arr2[:, 0:1]}\\n\")\n",
        "print(f\"Getting first and third columns (step=2):\\n{arr2[:, 0:3:2]}\\n\")\n",
        "\n",
        "\n",
        "# Getting a portion (submatrix)\n",
        "# Get the top-left 2x2 matrix\n",
        "# Rows 0 to 2 (exclusive), Columns 0 to 2 (exclusive)\n",
        "submatrix = arr2[0:2, 0:2]\n",
        "print(f\"Top-left 2x2 submatrix:\\n{submatrix}\")\n",
        "```\n",
        "\n",
        "**Output:**\n",
        "\n",
        "```\n",
        "Reset 2D array:\n",
        "[[1 2 3]\n",
        " [4 5 6]\n",
        " [7 8 9]]\n",
        "\n",
        "Getting the second row (index 1):\n",
        "[4 5 6]\n",
        "\n",
        "Getting first and third rows (step=2):\n",
        "[[1 2 3]\n",
        " [7 8 9]]\n",
        "\n",
        "Getting the first column (index 0):\n",
        "[[1]\n",
        " [4]\n",
        " [7]]\n",
        "\n",
        "Getting first and third columns (step=2):\n",
        "[[1 3]\n",
        " [4 6]\n",
        " [7 9]]\n",
        "\n",
        "Top-left 2x2 submatrix:\n",
        "[[1 2]\n",
        " [4 5]]\n",
        "```\n",
        "---\n",
        "\n",
        "## **`ndarray` ইনডেক্সিং এবং স্লাইসিং**\n",
        "\n",
        "একটি অ্যারের নির্দিষ্ট অংশ অ্যাক্সেস এবং পরিবর্তন করা একটি মৌলিক কাজ। NumPy **ইনডেক্সিং** (একক উপাদান অ্যাক্সেস করা) এবং **স্লাইসিং** (সাব-অ্যারে অ্যাক্সেস করা)-এর জন্য একটি শক্তিশালী এবং নমনীয় সিনট্যাক্স সরবরাহ করে, যা পাইথন লিস্টের মতোই কিন্তু একাধিক ডাইমেনশনের জন্য প্রসারিত।\n",
        "\n",
        "-----\n",
        "\n",
        "## **১. 1D অ্যারের সাথে কাজ করা**\n",
        "\n",
        "1D অ্যারেতে ইনডেক্সিং এবং স্লাইসিং পাইথন লিস্টের মতোই কাজ করে।\n",
        "\n",
        "```python\n",
        "import numpy as np\n",
        "\n",
        "arr = np.arange(1, 10)\n",
        "print(f\"মূল 1D অ্যারে:\\n{arr}\\n\")\n",
        "```\n",
        "\n",
        "**আউটপুট:**\n",
        "\n",
        "```\n",
        "মূল 1D অ্যারে:\n",
        "[1 2 3 4 5 6 7 8 9]\n",
        "```\n",
        "\n",
        "### **উপাদান অ্যাক্সেস এবং পরিবর্তন করা**\n",
        "\n",
        "আপনি যে উপাদানটি অ্যাক্সেস করতে চান তার ইনডেক্স সহ স্কয়ার ব্র্যাকেট `[]` ব্যবহার করবেন। মনে রাখবেন, ইনডেক্সিং ০ থেকে শুরু হয়।\n",
        "\n",
        "```python\n",
        "# ইনডেক্স ২-এর উপাদানটি (তৃতীয় উপাদান) অ্যাক্সেস করা\n",
        "print(f\"ইনডেক্স ২-এর উপাদান: {arr[2]}\\n\")\n",
        "\n",
        "# ইনডেক্স ২-এর মান পরিবর্তন করা\n",
        "arr[2] = 100\n",
        "print(f\"পরিবর্তনের পর অ্যারে:\\n{arr}\\n\")\n",
        "```\n",
        "\n",
        "**আউটপুট:**\n",
        "\n",
        "```\n",
        "ইনডেক্স ২-এর উপাদান: 3\n",
        "\n",
        "পরিবর্তনের পর অ্যারে:\n",
        "[  1   2 100   4   5   6   7   8   9]\n",
        "```\n",
        "\n",
        "### **1D অ্যারে স্লাইস করা**\n",
        "\n",
        "স্লাইসিং-এর সিনট্যাক্স হলো `[start:stop:step]`।\n",
        "\n",
        "```python\n",
        "# ইনডেক্স ২ থেকে ৯-এর আগ পর্যন্ত (exclusive) স্লাইস করা, যেখানে ধাপ ২\n",
        "sliced_arr = arr[2:9:2]\n",
        "print(f\"স্লাইস করা অ্যারে [2:9:2]:\\n{sliced_arr}\")\n",
        "```\n",
        "\n",
        "**আউটপুট:**\n",
        "\n",
        "```\n",
        "স্লাইস করা অ্যারে [2:9:2]:\n",
        "[100   5   7   9]\n",
        "```\n",
        "\n",
        "-----\n",
        "\n",
        "## **২. 2D অ্যারের (ম্যাট্রিক্স) সাথে কাজ করা**\n",
        "\n",
        "2D অ্যারের জন্য, ইনডেক্সিং এবং স্লাইসিং কমা-দ্বারা পৃথক করা সিনট্যাক্স ব্যবহার করে প্রসারিত করা হয়েছে: `[row_specifier, column_specifier]`।\n",
        "\n",
        "```python\n",
        "arr2 = np.arange(1, 10).reshape(3, 3)\n",
        "print(f\"মূল 2D অ্যারে:\\n{arr2}\\n\")\n",
        "```\n",
        "\n",
        "**আউটপুট:**\n",
        "\n",
        "```\n",
        "মূল 2D অ্যারে:\n",
        "[[1 2 3]\n",
        " [4 5 6]\n",
        " [7 8 9]]\n",
        "```\n",
        "\n",
        "### **উপাদান অ্যাক্সেস এবং পরিবর্তন করা**\n",
        "\n",
        "আপনি `[row][col]` সিনট্যাক্স ব্যবহার করতে পারেন, তবে NumPy-এর জন্য বেশি কার্যকর এবং স্ট্যান্ডার্ড উপায় হলো `[row, col]`।\n",
        "\n",
        "```python\n",
        "# প্রথম সারি (ইনডেক্স ০) এবং দ্বিতীয় কলামের (ইনডেক্স ১) উপাদান অ্যাক্সেস করা\n",
        "element = arr2[0, 1] # NumPy-এর পছন্দের সিনট্যাক্স\n",
        "print(f\"[0, 1] অবস্থানের উপাদান: {element}\\n\")\n",
        "\n",
        "# সেই অবস্থানের মান পরিবর্তন করা\n",
        "arr2[0, 1] = 20\n",
        "print(f\"পরিবর্তনের পর অ্যারে:\\n{arr2}\\n\")\n",
        "```\n",
        "\n",
        "**আউটপুট:**\n",
        "\n",
        "```\n",
        "[0, 1] অবস্থানের উপাদান: 2\n",
        "\n",
        "পরিবর্তনের পর অ্যারে:\n",
        "[[ 1 20  3]\n",
        " [ 4  5  6]\n",
        " [ 7  8  9]]\n",
        "```\n",
        "\n",
        "### **2D অ্যারে স্লাইস করা**\n",
        "\n",
        "সিনট্যাক্সটি হলো `[row_start:row_end:row_step, col_start:col_end:col_step]`। একটি কোলন `:` একা থাকলে তার মানে হলো \"সবগুলো নির্বাচন করো\"।\n",
        "\n",
        "```python\n",
        "# স্বচ্ছতার জন্য অ্যারেটি রিসেট করা হলো\n",
        "arr2 = np.arange(1, 10).reshape(3, 3)\n",
        "print(f\"রিসেট করা 2D অ্যারে:\\n{arr2}\\n\")\n",
        "\n",
        "# এক বা একাধিক সারি পাওয়া\n",
        "print(f\"দ্বিতীয় সারি (ইনডেক্স ১) পাওয়া:\\n{arr2[1, :]}\\n\") # অথবা শুধু arr2[1]\n",
        "print(f\"প্রথম এবং তৃতীয় সারি পাওয়া (ধাপ=২):\\n{arr2[0:3:2, :]}\\n\")\n",
        "\n",
        "\n",
        "# এক বা একাধিক কলাম পাওয়া\n",
        "print(f\"প্রথম কলাম (ইনডেক্স ০) পাওয়া:\\n{arr2[:, 0:1]}\\n\")\n",
        "print(f\"প্রথম এবং তৃতীয় কলাম পাওয়া (ধাপ=২):\\n{arr2[:, 0:3:2]}\\n\")\n",
        "\n",
        "\n",
        "# একটি অংশ (সাবম্যাট্রিক্স) পাওয়া\n",
        "# উপরের-বামের 2x2 ম্যাট্রিক্সটি পাওয়া\n",
        "# সারি ০ থেকে ২ (exclusive), কলাম ০ থেকে ২ (exclusive)\n",
        "submatrix = arr2[0:2, 0:2]\n",
        "print(f\"উপরের-বামের 2x2 সাবম্যাট্রিক্স:\\n{submatrix}\")\n",
        "```\n",
        "\n",
        "**আউটপুট:**\n",
        "\n",
        "```\n",
        "রিসেট করা 2D অ্যারে:\n",
        "[[1 2 3]\n",
        " [4 5 6]\n",
        " [7 8 9]]\n",
        "\n",
        "দ্বিতীয় সারি (ইনডেক্স ১) পাওয়া:\n",
        "[4 5 6]\n",
        "\n",
        "প্রথম এবং তৃতীয় সারি পাওয়া (ধাপ=২):\n",
        "[[1 2 3]\n",
        " [7 8 9]]\n",
        "\n",
        "প্রথম কলাম (ইনডেক্স ০) পাওয়া:\n",
        "[[1]\n",
        " [4]\n",
        " [7]]\n",
        "\n",
        "প্রথম এবং তৃতীয় কলাম পাওয়া (ধাপ=২):\n",
        "[[1 3]\n",
        " [4 6]\n",
        " [7 9]]\n",
        "\n",
        "উপরের-বামের 2x2 সাবম্যাট্রিক্স:\n",
        "[[1 2]\n",
        " [4 5]]\n",
        "```"
      ],
      "metadata": {
        "id": "fTBwjoTQid_m"
      }
    },
    {
      "cell_type": "code",
      "source": [
        "# work with 1d array\n",
        "arr = np.arange(1,10)\n",
        "print(arr)\n",
        "\n",
        "# access index\n",
        "print(arr[2])\n",
        "\n",
        "# change the value of index\n",
        "arr[2] = 100\n",
        "print(arr)\n",
        "\n",
        "\n",
        "# slicing array\n",
        "print(arr[2:9:2])"
      ],
      "metadata": {
        "colab": {
          "base_uri": "https://localhost:8080/"
        },
        "id": "MX6Obxkvkl0c",
        "outputId": "5e578793-4b29-47b9-f438-6495b4cf6b63"
      },
      "execution_count": null,
      "outputs": [
        {
          "output_type": "stream",
          "name": "stdout",
          "text": [
            "[1 2 3 4 5 6 7 8 9]\n",
            "3\n",
            "[  1   2 100   4   5   6   7   8   9]\n",
            "[100   5   7   9]\n"
          ]
        }
      ]
    },
    {
      "cell_type": "code",
      "source": [
        "# working with 2d array\n",
        "arr2 = np.reshape(np.arange(1,10),(3,3))\n",
        "print(arr2)\n",
        "\n",
        "# Accesing element\n",
        "print(arr2[0][1])\n",
        "\n",
        "# reassing value\n",
        "arr2[0][1] = 20\n",
        "print(arr2[0][1])"
      ],
      "metadata": {
        "colab": {
          "base_uri": "https://localhost:8080/"
        },
        "id": "UGO72PTUi0eK",
        "outputId": "0eb59fbb-0809-4372-eced-cd4cb4024248"
      },
      "execution_count": null,
      "outputs": [
        {
          "output_type": "stream",
          "name": "stdout",
          "text": [
            "[[1 2 3]\n",
            " [4 5 6]\n",
            " [7 8 9]]\n",
            "2\n",
            "20\n"
          ]
        }
      ]
    },
    {
      "cell_type": "code",
      "source": [
        "# Slicing 2d array\n",
        "# how it work [row_start : row_end : row_step , col_start : col_end : col_step]\n",
        "\n",
        "# Getting a row\n",
        "# working with 2d array\n",
        "arr2 = np.reshape(np.arange(1,10),(3,3))\n",
        "print(arr2)\n"
      ],
      "metadata": {
        "colab": {
          "base_uri": "https://localhost:8080/"
        },
        "id": "7IH-F6E8leu4",
        "outputId": "93fc0509-58c1-4a9a-deff-e378aaf25247"
      },
      "execution_count": null,
      "outputs": [
        {
          "output_type": "stream",
          "name": "stdout",
          "text": [
            "[[1 2 3]\n",
            " [4 5 6]\n",
            " [7 8 9]]\n",
            "[[1 2 3]\n",
            " [4 5 6]]\n"
          ]
        }
      ]
    },
    {
      "cell_type": "code",
      "source": [
        "# Gettig a row\n",
        "print(arr2[1:2,])\n",
        "\n",
        "# Getting one or more row with step\n",
        "print(arr2[0:3:2,])\n"
      ],
      "metadata": {
        "colab": {
          "base_uri": "https://localhost:8080/"
        },
        "id": "PDKAP6fHl6-l",
        "outputId": "2e4e93ed-50c1-4cf1-862c-f6d86cacfd7c"
      },
      "execution_count": null,
      "outputs": [
        {
          "output_type": "stream",
          "name": "stdout",
          "text": [
            "[[4 5 6]]\n",
            "[[1 2 3]\n",
            " [7 8 9]]\n"
          ]
        }
      ]
    },
    {
      "cell_type": "code",
      "source": [
        "# getting a column\n",
        "print(arr2[::,0:1])\n",
        "\n",
        "# Getting one or more row with step\n",
        "print(arr2[::,0:3:2])\n"
      ],
      "metadata": {
        "colab": {
          "base_uri": "https://localhost:8080/"
        },
        "id": "5xbRGgP9mnXf",
        "outputId": "82b6dc01-c332-4b01-bc87-b219056b39f5"
      },
      "execution_count": null,
      "outputs": [
        {
          "output_type": "stream",
          "name": "stdout",
          "text": [
            "[[1]\n",
            " [4]\n",
            " [7]]\n",
            "[[1 3]\n",
            " [4 6]\n",
            " [7 9]]\n"
          ]
        }
      ]
    },
    {
      "cell_type": "code",
      "source": [
        "# Getting a protion\n",
        "print(arr2[0:2, 0:2])"
      ],
      "metadata": {
        "colab": {
          "base_uri": "https://localhost:8080/"
        },
        "id": "fzlZG5y9m20l",
        "outputId": "71100026-dbba-42ea-ca19-9b6914836a9d"
      },
      "execution_count": null,
      "outputs": [
        {
          "output_type": "stream",
          "name": "stdout",
          "text": [
            "[[1 2]\n",
            " [4 5]]\n"
          ]
        }
      ]
    },
    {
      "cell_type": "markdown",
      "source": [
        "# **`ndarray`: Views, Copies, Advanced Indexing, and Iteration**"
      ],
      "metadata": {
        "id": "jm4Gze8h50Eo"
      }
    },
    {
      "cell_type": "markdown",
      "source": [
        "This note covers some advanced but crucial concepts: how NumPy handles memory when slicing, how to select elements in non-sequential ways, and the best practices for iterating over arrays.\n",
        "\n",
        "-----\n",
        "\n",
        "## **1. Slicing: View vs. Copy 🔗**\n",
        "\n",
        "This is one of the most important concepts to understand in NumPy for avoiding unexpected bugs. By default, slicing a NumPy array creates a **view**, not a copy.\n",
        "\n",
        "A **view** is a new array object that looks at the *same underlying data* as the original array. This makes slicing very fast and memory-efficient. However, it means that if you modify the view, you also modify the original array.\n",
        "\n",
        "```python\n",
        "import numpy as np\n",
        "\n",
        "arr = np.linspace(1, 10, 10, dtype=int)\n",
        "print(f\"Original array:\\n{arr}\\n\")\n",
        "\n",
        "# Slicing creates a view\n",
        "mod_arr_view = arr[1:5]\n",
        "print(f\"This is a view of the original:\\n{mod_arr_view}\\n\")\n",
        "\n",
        "# Modify the first element of the view\n",
        "mod_arr_view[0] = 200\n",
        "print(f\"The view is modified:\\n{mod_arr_view}\\n\")\n",
        "\n",
        "# The original array is also changed!\n",
        "print(f\"The original array has also been changed:\\n{arr}\\n\")\n",
        "```\n",
        "\n",
        "**Output:**\n",
        "\n",
        "```\n",
        "Original array:\n",
        "[ 1  2  3  4  5  6  7  8  9 10]\n",
        "\n",
        "This is a view of the original:\n",
        "[2 3 4 5]\n",
        "\n",
        "The view is modified:\n",
        "[200   3   4   5]\n",
        "\n",
        "The original array has also been changed:\n",
        "[  1 200   3   4   5   6   7   8   9  10]\n",
        "```\n",
        "\n",
        "### **Making an Explicit Copy**\n",
        "\n",
        "If you want to modify a slice without affecting the original array, you must create an explicit **copy** using the `.copy()` method.\n",
        "\n",
        "```python\n",
        "arr = np.linspace(1, 10, 10, dtype=int)\n",
        "print(f\"Original array:\\n{arr}\\n\")\n",
        "\n",
        "# Create an explicit copy\n",
        "mod_arr_copy = arr[0:4].copy()\n",
        "mod_arr_copy[1] = 200 # Modify the copy\n",
        "\n",
        "print(f\"The modified copy is:\\n{mod_arr_copy}\\n\")\n",
        "print(f\"The original array is NOT changed:\\n{arr}\")\n",
        "```\n",
        "\n",
        "**Output:**\n",
        "\n",
        "```\n",
        "Original array:\n",
        "[ 1  2  3  4  5  6  7  8  9 10]\n",
        "\n",
        "The modified copy is:\n",
        "[  1 200   3   4]\n",
        "\n",
        "The original array is NOT changed:\n",
        "[ 1  2  3  4  5  6  7  8  9 10]\n",
        "```\n",
        "\n",
        "-----\n",
        "\n",
        "## **2. Advanced Indexing**\n",
        "\n",
        "Standard slicing is limited to creating sequential views. Advanced indexing (also known as \"fancy indexing\") allows you to select any arbitrary set of elements.\n",
        "\n",
        "### **Integer Array Indexing**\n",
        "\n",
        "You can pass a list or an array of indices to access multiple, specific elements at once.\n",
        "\n",
        "```python\n",
        "arr = np.linspace(1, 10, 10, dtype=int)\n",
        "print(f\"Original array:\\n{arr}\\n\")\n",
        "\n",
        "# Access elements at indices 0, 1, 3, 4, and 5\n",
        "values = arr[[0, 1, 3, 4, 5]]\n",
        "print(f\"Specifically chosen values:\\n{values}\\n\")\n",
        "\n",
        "# For 2D arrays, you pass a tuple of lists: ([rows], [cols])\n",
        "arr2 = np.arange(1, 10).reshape(3, 3)\n",
        "print(f\"Original 2D array:\\n{arr2}\\n\")\n",
        "\n",
        "# Get the elements at (row 1, col 1) and (row 1, col 2)\n",
        "elements = arr2[[1, 1], [1, 2]]\n",
        "print(f\"Elements at (1,1) and (1,2):\\n{elements}\")\n",
        "```\n",
        "\n",
        "**Output:**\n",
        "\n",
        "```\n",
        "Original array:\n",
        "[ 1  2  3  4  5  6  7  8  9 10]\n",
        "\n",
        "Specifically chosen values:\n",
        "[1 2 4 5 6]\n",
        "\n",
        "Original 2D array:\n",
        "[[1 2 3]\n",
        " [4 5 6]\n",
        " [7 8 9]]\n",
        "\n",
        "Elements at (1,1) and (1,2):\n",
        "[5 6]\n",
        "```\n",
        "\n",
        "### **Boolean Indexing (Filtering)**\n",
        "\n",
        "You can use a boolean expression to select or modify elements that meet a certain condition.\n",
        "\n",
        "```python\n",
        "arr = np.arange(1, 10).reshape(3, 3)\n",
        "print(f\"Original array:\\n{arr}\\n\")\n",
        "\n",
        "# Select all elements greater than 2\n",
        "filtered_arr = arr[arr > 2]\n",
        "print(f\"Values greater than 2:\\n{filtered_arr}\\n\")\n",
        "\n",
        "# Reassign a value to all elements greater than 8\n",
        "arr[arr > 8] = 0\n",
        "print(f\"Array after reassigning values > 8 to 0:\\n{arr}\")\n",
        "```\n",
        "\n",
        "**Output:**\n",
        "\n",
        "```\n",
        "Original array:\n",
        "[[1 2 3]\n",
        " [4 5 6]\n",
        " [7 8 9]]\n",
        "\n",
        "Values greater than 2:\n",
        "[3 4 5 6 7 8 9]\n",
        "\n",
        "Array after reassigning values > 8 to 0:\n",
        "[[1 2 3]\n",
        " [4 5 6]\n",
        " [7 8 0]]\n",
        "```\n",
        "\n",
        "-----\n",
        "\n",
        "## **3. Iterating Over Arrays 🚶‍♂️**\n",
        "\n",
        "While vectorized operations are always preferred for speed, sometimes you need to loop through an array.\n",
        "\n",
        "```python\n",
        "arr = np.arange(1, 10).reshape(3, 3)\n",
        "\n",
        "# Standard Python loop iterates over rows\n",
        "print(\"Iterating over rows:\")\n",
        "for row in arr:\n",
        "  print(row)\n",
        "\n",
        "# Nested loop to access each item\n",
        "print(\"\\nIterating over each element (nested loop):\")\n",
        "for row in arr:\n",
        "  for col in row:\n",
        "    print(col, end=\" \")\n",
        "```\n",
        "\n",
        "**Output:**\n",
        "\n",
        "```\n",
        "Iterating over rows:\n",
        "[1 2 3]\n",
        "[4 5 6]\n",
        "[7 8 9]\n",
        "\n",
        "Iterating over each element (nested loop):\n",
        "1 2 3 4 5 6 7 8 9\n",
        "```\n",
        "\n",
        "### **The NumPy Way: `np.nditer()`**\n",
        "\n",
        "For large or multi-dimensional arrays, the `np.nditer()` iterator is much more efficient. It provides a clean way to visit every element regardless of the array's shape.\n",
        "\n",
        "```python\n",
        "arr = np.arange(1, 10).reshape(3, 3)\n",
        "print(\"\\n\\nIterating with np.nditer():\")\n",
        "for i in np.nditer(arr):\n",
        "  print(i, end=\" \")\n",
        "```\n",
        "\n",
        "**Output:**\n",
        "\n",
        "```\n",
        "Iterating with np.nditer():\n",
        "1 2 3 4 5 6 7 8 9\n",
        "```\n",
        "\n",
        "___\n",
        "\n",
        "## **`ndarray`: ভিউ, কপি, অ্যাডভান্সড ইনডেক্সিং এবং ইটারেশন**\n",
        "\n",
        "এই নোটে কিছু অ্যাডভান্সড কিন্তু অত্যন্ত গুরুত্বপূর্ণ বিষয় আলোচনা করা হয়েছে: স্লাইস করার সময় NumPy কীভাবে মেমরি পরিচালনা করে, নন-সিকোয়েন্সিয়াল পদ্ধতিতে কীভাবে উপাদান নির্বাচন করতে হয় এবং অ্যারের উপর ইটারেট করার সেরা উপায়গুলো কী কী।\n",
        "\n",
        "-----\n",
        "\n",
        "## **১. স্লাইসিং: ভিউ বনাম কপি 🔗**\n",
        "\n",
        "অপ্রত্যাশিত বাগ এড়ানোর জন্য NumPy-তে এটি একটি সবচেয়ে গুরুত্বপূর্ণ ধারণা। ডিফল্টভাবে, একটি NumPy অ্যারে স্লাইস করলে একটি **ভিউ (view)** তৈরি হয়, কপি নয়।\n",
        "\n",
        "একটি **ভিউ** হলো একটি নতুন অ্যারে অবজেক্ট যা মূল অ্যারের *একই ডেটার দিকে নির্দেশ করে*। এটি স্লাইসিংকে খুব দ্রুত এবং মেমরি-সাশ্রয়ী করে তোলে। তবে, এর মানে হলো আপনি যদি ভিউটি পরিবর্তন করেন, তবে মূল অ্যারেটিও পরিবর্তিত হয়ে যাবে।\n",
        "\n",
        "```python\n",
        "import numpy as np\n",
        "\n",
        "arr = np.linspace(1, 10, 10, dtype=int)\n",
        "print(f\"মূল অ্যারে:\\n{arr}\\n\")\n",
        "\n",
        "# স্লাইসিং একটি ভিউ তৈরি করে\n",
        "mod_arr_view = arr[1:5]\n",
        "print(f\"এটি মূল অ্যারের একটি ভিউ:\\n{mod_arr_view}\\n\")\n",
        "\n",
        "# ভিউয়ের প্রথম উপাদানটি পরিবর্তন করা হলো\n",
        "mod_arr_view[0] = 200\n",
        "print(f\"ভিউটি পরিবর্তিত হয়েছে:\\n{mod_arr_view}\\n\")\n",
        "\n",
        "# মূল অ্যারেটিও পরিবর্তিত হয়ে গেছে!\n",
        "print(f\"মূল অ্যারেটিও পরিবর্তিত হয়েছে:\\n{arr}\\n\")\n",
        "```\n",
        "\n",
        "**আউটপুট:**\n",
        "\n",
        "```\n",
        "মূল অ্যারে:\n",
        "[ 1  2  3  4  5  6  7  8  9 10]\n",
        "\n",
        "এটি মূল অ্যারের একটি ভিউ:\n",
        "[2 3 4 5]\n",
        "\n",
        "ভিউটি পরিবর্তিত হয়েছে:\n",
        "[200   3   4   5]\n",
        "\n",
        "মূল অ্যারেটিও পরিবর্তিত হয়েছে:\n",
        "[  1 200   3   4   5   6   7   8   9  10]\n",
        "```\n",
        "\n",
        "### **একটি সুস্পষ্ট কপি তৈরি করা**\n",
        "\n",
        "আপনি যদি মূল অ্যারেটিকে প্রভাবিত না করে একটি স্লাইস পরিবর্তন করতে চান, তবে আপনাকে অবশ্যই `.copy()` মেথড ব্যবহার করে একটি সুস্পষ্ট **কপি** তৈরি করতে হবে।\n",
        "\n",
        "```python\n",
        "arr = np.linspace(1, 10, 10, dtype=int)\n",
        "print(f\"মূল অ্যারে:\\n{arr}\\n\")\n",
        "\n",
        "# একটি সুস্পষ্ট কপি তৈরি\n",
        "mod_arr_copy = arr[0:4].copy()\n",
        "mod_arr_copy[1] = 200 # কপিটি পরিবর্তন করা হলো\n",
        "\n",
        "print(f\"পরিবর্তিত কপিটি হলো:\\n{mod_arr_copy}\\n\")\n",
        "print(f\"মূল অ্যারেটি পরিবর্তিত হয়নি:\\n{arr}\")\n",
        "```\n",
        "\n",
        "**আউটপুট:**\n",
        "\n",
        "```\n",
        "মূল অ্যারে:\n",
        "[ 1  2  3  4  5  6  7  8  9 10]\n",
        "\n",
        "পরিবর্তিত কপিটি হলো:\n",
        "[  1 200   3   4]\n",
        "\n",
        "মূল অ্যারেটি পরিবর্তিত হয়নি:\n",
        "[ 1  2  3  4  5  6  7  8  9 10]\n",
        "```\n",
        "\n",
        "-----\n",
        "\n",
        "## **২. অ্যাডভান্সড ইনডেক্সিং**\n",
        "\n",
        "স্ট্যান্ডার্ড স্লাইসিং শুধুমাত্র ক্রমিক (sequential) ভিউ তৈরি করার মধ্যে সীমাবদ্ধ। অ্যাডভান্সড ইনডেক্সিং (যাকে \"ফ্যান্সি ইনডেক্সিং\"ও বলা হয়) আপনাকে যেকোনো ইচ্ছামত উপাদান নির্বাচন করার অনুমতি দেয়।\n",
        "\n",
        "### **ইন্টিজার অ্যারে ইনডেক্সিং**\n",
        "\n",
        "আপনি একাধিক, নির্দিষ্ট উপাদান একসাথে অ্যাক্সেস করার জন্য ইনডেক্সগুলোর একটি লিস্ট বা অ্যারে পাস করতে পারেন।\n",
        "\n",
        "```python\n",
        "arr = np.linspace(1, 10, 10, dtype=int)\n",
        "print(f\"মূল অ্যারে:\\n{arr}\\n\")\n",
        "\n",
        "# ইনডেক্স ০, ১, ৩, ৪, এবং ৫ এর উপাদানগুলো অ্যাক্সেস করা\n",
        "values = arr[[0, 1, 3, 4, 5]]\n",
        "print(f\"নির্দিষ্টভাবে নির্বাচিত মান:\\n{values}\\n\")\n",
        "\n",
        "# 2D অ্যারের জন্য, আপনি লিস্টের একটি টুপল পাস করবেন: ([সারি], [কলাম])\n",
        "arr2 = np.arange(1, 10).reshape(3, 3)\n",
        "print(f\"মূল 2D অ্যারে:\\n{arr2}\\n\")\n",
        "\n",
        "# (সারি ১, কলাম ১) এবং (সারি ১, কলাম ২) এর উপাদানগুলো পাওয়া\n",
        "elements = arr2[[1, 1], [1, 2]]\n",
        "print(f\"(1,1) এবং (1,2) অবস্থানের উপাদান:\\n{elements}\")\n",
        "```\n",
        "\n",
        "**আউটপুট:**\n",
        "\n",
        "```\n",
        "মূল অ্যারে:\n",
        "[ 1  2  3  4  5  6  7  8  9 10]\n",
        "\n",
        "নির্দিষ্টভাবে নির্বাচিত মান:\n",
        "[1 2 4 5 6]\n",
        "\n",
        "মূল 2D অ্যারে:\n",
        "[[1 2 3]\n",
        " [4 5 6]\n",
        " [7 8 9]]\n",
        "\n",
        "(1,1) এবং (1,2) অবস্থানের উপাদান:\n",
        "[5 6]\n",
        "```\n",
        "\n",
        "### **বুলিয়ান ইনডেক্সিং (ফিল্টারিং)**\n",
        "\n",
        "আপনি একটি নির্দিষ্ট শর্ত পূরণকারী উপাদানগুলো নির্বাচন বা পরিবর্তন করতে একটি বুলিয়ান এক্সপ্রেশন ব্যবহার করতে পারেন।\n",
        "\n",
        "```python\n",
        "arr = np.arange(1, 10).reshape(3, 3)\n",
        "print(f\"মূল অ্যারে:\\n{arr}\\n\")\n",
        "\n",
        "# ২-এর চেয়ে বড় সমস্ত উপাদান নির্বাচন করা\n",
        "filtered_arr = arr[arr > 2]\n",
        "print(f\"২-এর চেয়ে বড় মানগুলো:\\n{filtered_arr}\\n\")\n",
        "\n",
        "# ৮-এর চেয়ে বড় সমস্ত উপাদানের মান পরিবর্তন করা\n",
        "arr[arr > 8] = 0\n",
        "print(f\"৮-এর চেয়ে বড় মানগুলোকে ০ করার পর অ্যারে:\\n{arr}\")\n",
        "```\n",
        "\n",
        "**আউটপুট:**\n",
        "\n",
        "```\n",
        "মূল অ্যারে:\n",
        "[[1 2 3]\n",
        " [4 5 6]\n",
        " [7 8 9]]\n",
        "\n",
        "২-এর চেয়ে বড় মানগুলো:\n",
        "[3 4 5 6 7 8 9]\n",
        "\n",
        "৮-এর চেয়ে বড় মানগুলোকে ০ করার পর অ্যারে:\n",
        "[[1 2 3]\n",
        " [4 5 6]\n",
        " [7 8 0]]\n",
        "```\n",
        "\n",
        "-----\n",
        "\n",
        "## **৩. অ্যারের উপর ইটারেট করা 🚶‍♂️**\n",
        "\n",
        "যদিও গতির জন্য ভেক্টরাইজড অপারেশন সবসময়ই শ্রেয়, কখনও কখনও আপনাকে একটি অ্যারের মধ্য দিয়ে লুপ করতে হতে পারে।\n",
        "\n",
        "```python\n",
        "arr = np.arange(1, 10).reshape(3, 3)\n",
        "\n",
        "# সাধারণ পাইথন লুপ সারিগুলোর উপর ইটারেট করে\n",
        "print(\"সারিগুলোর উপর ইটারেট করা:\")\n",
        "for row in arr:\n",
        "  print(row)\n",
        "\n",
        "# প্রতিটি আইটেম অ্যাক্সেস করার জন্য নেস্টেড লুপ\n",
        "print(\"\\nপ্রতিটি উপাদানের উপর ইটারেট করা (নেস্টেড লুপ):\")\n",
        "for row in arr:\n",
        "  for col in row:\n",
        "    print(col, end=\" \")\n",
        "```\n",
        "\n",
        "**আউটপুট:**\n",
        "\n",
        "```\n",
        "সারিগুলোর উপর ইটারেট করা:\n",
        "[1 2 3]\n",
        "[4 5 6]\n",
        "[7 8 9]\n",
        "\n",
        "প্রতিটি উপাদানের উপর ইটারেট করা (নেস্টেড লুপ):\n",
        "1 2 3 4 5 6 7 8 9\n",
        "```\n",
        "\n",
        "### **NumPy-এর উপায়: `np.nditer()`**\n",
        "\n",
        "বড় বা বহুমাত্রিক অ্যারের জন্য `np.nditer()` ইটারেটরটি অনেক বেশি কার্যকর। এটি অ্যারের শেপ নির্বিশেষে প্রতিটি উপাদান ভিজিট করার একটি সহজ উপায় সরবরাহ করে।\n",
        "\n",
        "```python\n",
        "arr = np.arange(1, 10).reshape(3, 3)\n",
        "print(\"\\n\\nnp.nditer() দিয়ে ইটারেট করা:\")\n",
        "for i in np.nditer(arr):\n",
        "  print(i, end=\" \")\n",
        "```\n",
        "\n",
        "**আউটপুট:**\n",
        "\n",
        "```\n",
        "np.nditer() দিয়ে ইটারেট করা:\n",
        "1 2 3 4 5 6 7 8 9\n",
        "```\n"
      ],
      "metadata": {
        "id": "-86Qp8ltoS8b"
      }
    },
    {
      "cell_type": "code",
      "source": [
        "arr = np.linspace(1,10,10, dtype=int)\n",
        "mod_arr = arr[1:5] # It not make copy it hold a portion of arr aray\n",
        "print(mod_arr)\n",
        "mod_arr[0] = 200\n",
        "# it chnge the original array\n",
        "print(arr)"
      ],
      "metadata": {
        "colab": {
          "base_uri": "https://localhost:8080/"
        },
        "id": "mXFD6tIeyf4N",
        "outputId": "015edb51-8895-4bd3-bae8-c040948a0df1"
      },
      "execution_count": null,
      "outputs": [
        {
          "output_type": "stream",
          "name": "stdout",
          "text": [
            "[2 3 4 5]\n",
            "[  1 200   3   4   5   6   7   8   9  10]\n"
          ]
        }
      ]
    },
    {
      "cell_type": "code",
      "source": [
        "# we also make copy instead of taking portion of original array which not effecting in original array\n",
        "\n",
        "arr = np.linspace(1,10,10, dtype=int)\n",
        "mod_arr = arr[0:4].copy()\n",
        "print(mod_arr)\n",
        "\n",
        "mod_arr[1] = 200\n",
        "print(mod_arr)\n",
        "print(arr)"
      ],
      "metadata": {
        "colab": {
          "base_uri": "https://localhost:8080/"
        },
        "id": "GDjsQ-mPzi22",
        "outputId": "5249bf8d-30b9-4134-bae3-ec12bf38448c"
      },
      "execution_count": null,
      "outputs": [
        {
          "output_type": "stream",
          "name": "stdout",
          "text": [
            "[1 2 3 4]\n",
            "[  1 200   3   4]\n",
            "[ 1  2  3  4  5  6  7  8  9 10]\n"
          ]
        }
      ]
    },
    {
      "cell_type": "markdown",
      "source": [
        "### **Advance Indexing**"
      ],
      "metadata": {
        "id": "EGQAaWiK0a8h"
      }
    },
    {
      "cell_type": "code",
      "source": [
        "# we can access specific multiple index which not possible with slicing\n",
        "arr = np.linspace(1,10,10, dtype=int)\n",
        "print(arr)\n",
        "values = arr[[0,1,3,4,5]]\n",
        "print(values)"
      ],
      "metadata": {
        "colab": {
          "base_uri": "https://localhost:8080/"
        },
        "id": "Dk_CXxZv08jQ",
        "outputId": "13669dc3-95b2-4ffa-de6b-7e8df71b96fc"
      },
      "execution_count": null,
      "outputs": [
        {
          "output_type": "stream",
          "name": "stdout",
          "text": [
            "[ 1  2  3  4  5  6  7  8  9 10]\n",
            "[1 2 4 5 6]\n"
          ]
        }
      ]
    },
    {
      "cell_type": "code",
      "source": [
        "# 2d array\n",
        "arr = np.linspace(1,9,9, dtype=int)\n",
        "arr = np.reshape(arr,(3,3))\n",
        "print(arr)\n",
        "\n",
        "\n",
        "#arr[[row_no_first_item, row_no_second_item,...row_no_n_item],[col_no_first_item, col_no_second_item,...col_no_n_item ]]\n",
        "print(arr[[1,1],[1,2]])\n",
        "\n"
      ],
      "metadata": {
        "colab": {
          "base_uri": "https://localhost:8080/"
        },
        "id": "t0qekHOM1nzw",
        "outputId": "bf85681f-237b-4346-e7d4-46191acb91f9"
      },
      "execution_count": null,
      "outputs": [
        {
          "output_type": "stream",
          "name": "stdout",
          "text": [
            "[[1 2 3]\n",
            " [4 5 6]\n",
            " [7 8 9]]\n",
            "[5 6]\n"
          ]
        }
      ]
    },
    {
      "cell_type": "code",
      "source": [
        "# filtering or reassing value with bollean expression\n",
        "\n",
        "print(arr[arr>2])\n",
        "\n",
        "# reassing value 0 to value greater than 8\n",
        "arr[arr>8] = 0\n",
        "\n",
        "print(arr)"
      ],
      "metadata": {
        "colab": {
          "base_uri": "https://localhost:8080/"
        },
        "id": "CnZzZzyA2ozq",
        "outputId": "98d62c18-9f5d-4422-b42b-dd953c0949f3"
      },
      "execution_count": null,
      "outputs": [
        {
          "output_type": "stream",
          "name": "stdout",
          "text": [
            "[3 4 5 6 7 8 9]\n",
            "[[1 2 3]\n",
            " [4 5 6]\n",
            " [7 8 0]]\n"
          ]
        }
      ]
    },
    {
      "cell_type": "markdown",
      "source": [
        "### **Iteration**"
      ],
      "metadata": {
        "id": "URaB84723uaj"
      }
    },
    {
      "cell_type": "code",
      "source": [
        "arr = np.linspace(1,9,9, dtype=int)\n",
        "arr = np.reshape(arr,(3,3))\n",
        "# we can itereate with for\n",
        "for row in arr:\n",
        "  print(row)\n",
        "\n",
        "# access each item\n",
        "for row in arr:\n",
        "  for col in row:\n",
        "    print(col)"
      ],
      "metadata": {
        "colab": {
          "base_uri": "https://localhost:8080/"
        },
        "id": "Ej4JynRi3rrM",
        "outputId": "de05b4d6-a31e-4426-d2ad-cafb8d0f361c"
      },
      "execution_count": null,
      "outputs": [
        {
          "output_type": "stream",
          "name": "stdout",
          "text": [
            "[1 2 3]\n",
            "[4 5 6]\n",
            "[7 8 9]\n",
            "1\n",
            "2\n",
            "3\n",
            "4\n",
            "5\n",
            "6\n",
            "7\n",
            "8\n",
            "9\n"
          ]
        }
      ]
    },
    {
      "cell_type": "code",
      "source": [
        "# best way is doint it np.nditer()\n",
        "\n",
        "arr = np.linspace(1,9,9, dtype=int)\n",
        "arr = np.reshape(arr,(3,3))\n",
        "\n",
        "for i in np.nditer(arr):\n",
        "  print(i)\n",
        "\n",
        "# it also print 3 darray with one loop\n",
        "# our arr3 is 3d array\n",
        "\n",
        "for i in np.nditer(arr3):\n",
        "  print(i)\n"
      ],
      "metadata": {
        "colab": {
          "base_uri": "https://localhost:8080/"
        },
        "id": "abLeVOjx4XIC",
        "outputId": "02ad5960-29ea-4706-827d-9a850b0216de"
      },
      "execution_count": null,
      "outputs": [
        {
          "output_type": "stream",
          "name": "stdout",
          "text": [
            "1\n",
            "2\n",
            "3\n",
            "4\n",
            "5\n",
            "6\n",
            "7\n",
            "8\n",
            "9\n",
            "1.0\n",
            "2.0\n",
            "3.0\n",
            "4.0\n",
            "5.0\n",
            "6.0\n",
            "7.0\n",
            "8.0\n",
            "9.0\n",
            "10.0\n",
            "11.0\n",
            "12.0\n"
          ]
        }
      ]
    },
    {
      "cell_type": "markdown",
      "source": [
        "# **`ndarray` Manipulation**\n"
      ],
      "metadata": {
        "id": "Qxf4pKex0OT4"
      }
    },
    {
      "cell_type": "markdown",
      "source": [
        "In Machine Learning and AI, you often need to preprocess your data. This involves changing the shape, combining, or splitting arrays to match the input format expected by a model. Array manipulation is key for tasks like splitting data into training/testing sets or separating features from target variables.\n",
        "\n",
        "-----\n",
        "\n",
        "## **1. Reshaping Arrays: `np.reshape()`**\n",
        "\n",
        "The `np.reshape()` function changes the shape of an array without changing its data.\n",
        "\n",
        "**Rule:** The total number of elements must remain the same. An array with 50 elements (e.g., shape `(10, 5)`) can be reshaped to `(5, 10)`, `(2, 25)`, or `(25, 2)`, but not `(3, 5)` because `3 * 5 = 15`, not 50.\n",
        "\n",
        "```python\n",
        "import numpy as np\n",
        "\n",
        "# Original 10x5 array (50 elements)\n",
        "arr = np.random.randint(1, 100, size=(10, 5))\n",
        "print(f\"Original shape: {arr.shape}\\n\")\n",
        "\n",
        "# Reshape to 5x10\n",
        "arr_reshaped = np.reshape(arr, (5, 10))\n",
        "print(f\"Reshaped to 5x10:\\n{arr_reshaped}\\n\")\n",
        "\n",
        "# This would cause a ValueError because 3 * 5 != 50\n",
        "# arr_error = np.reshape(arr, (3, 5))\n",
        "```\n",
        "\n",
        "-----\n",
        "\n",
        "## **2. Flattening Arrays: `flatten()` vs. `ravel()`**\n",
        "\n",
        "Sometimes you need to convert a multi-dimensional array into a single 1D array.\n",
        "\n",
        "  * **`flatten()`**: Always returns a **copy** of the array, flattened row by row.\n",
        "  * **`ravel()`**: Returns a **view** of the array if possible, which is more memory-efficient. It can flatten row-wise (`order='C'`, default) or column-wise (`order='F'`).\n",
        "\n",
        "<!-- end list -->\n",
        "\n",
        "```python\n",
        "arr = np.array([[1, 2, 3], [4, 5, 6]])\n",
        "\n",
        "# Row-wise flattening (standard)\n",
        "print(f\"Flattened (row-wise):\\n{arr.flatten()}\\n\")\n",
        "\n",
        "# Column-wise flattening using ravel\n",
        "print(f\"Raveled (column-wise):\\n{np.ravel(arr, order='F')}\")\n",
        "```\n",
        "\n",
        "**Output:**\n",
        "\n",
        "```\n",
        "Flattened (row-wise):\n",
        "[1 2 3 4 5 6]\n",
        "\n",
        "Raveled (column-wise):\n",
        "[1 4 2 5 3 6]\n",
        "```\n",
        "\n",
        "-----\n",
        "\n",
        "## **3. Combining Arrays: `np.concatenate()`**\n",
        "\n",
        "This function joins a sequence of arrays along a specified axis.\n",
        "\n",
        "**Syntax:** `np.concatenate((a, b, ...), axis=0/1)`\n",
        "\n",
        "  * `axis=0`: Stacks arrays vertically (row-wise).\n",
        "  * `axis=1`: Stacks arrays horizontally (column-wise).\n",
        "\n",
        "**Rule:**\n",
        "\n",
        "  * For `axis=0`, the number of **columns** must match.\n",
        "  * For `axis=1`, the number of **rows** must match.\n",
        "\n",
        "<!-- end list -->\n",
        "\n",
        "```python\n",
        "a = np.random.randint(1, 10, size=(2, 3))\n",
        "b = np.random.randint(20, 30, size=(2, 3))\n",
        "print(f\"Array a:\\n{a}\\n\\nArray b:\\n{b}\\n\")\n",
        "\n",
        "# Row-wise concatenation (axis=0)\n",
        "con_row = np.concatenate((a, b), axis=0)\n",
        "print(f\"Row-wise concatenation (shape {con_row.shape}):\\n{con_row}\\n\")\n",
        "\n",
        "# Column-wise concatenation (axis=1)\n",
        "con_col = np.concatenate((a, b), axis=1)\n",
        "print(f\"Column-wise concatenation (shape {con_col.shape}):\\n{con_col}\")\n",
        "```\n",
        "\n",
        "**Output:**\n",
        "\n",
        "```\n",
        "Array a:\n",
        "[[6 8 1]\n",
        " [1 3 4]]\n",
        "\n",
        "Array b:\n",
        "[[23 29 22]\n",
        " [26 25 21]]\n",
        "\n",
        "Row-wise concatenation (shape (4, 3)):\n",
        "[[ 6  8  1]\n",
        " [ 1  3  4]\n",
        " [23 29 22]\n",
        " [26 25 21]]\n",
        "\n",
        "Column-wise concatenation (shape (2, 6)):\n",
        "[[ 6  8  1 23 29 22]\n",
        " [ 1  3  4 26 25 21]]\n",
        "```\n",
        "\n",
        "### **Example: Splitting and Rejoining Features/Target**\n",
        "\n",
        "```python\n",
        "# Create a 5x10 dataset where the last column is the target\n",
        "dataset = np.random.randint(50, 100, size=(5, 10))\n",
        "\n",
        "# Split into features (all columns except the last)\n",
        "features = dataset[:, :-1]\n",
        "\n",
        "# Split into target (only the last column)\n",
        "target = dataset[:, -1:]\n",
        "\n",
        "# After some processing, we can concatenate them back\n",
        "processed_dataset = np.concatenate((features, target), axis=1)\n",
        "print(f\"Original and rejoined datasets have the same shape: {dataset.shape == processed_dataset.shape}\") # Output: True\n",
        "```\n",
        "\n",
        "-----\n",
        "\n",
        "## **4. Transposing Arrays: `.T`**\n",
        "\n",
        "Transposing an array swaps its rows and columns. This is incredibly useful for changing the orientation of your data.\n",
        "\n",
        "```python\n",
        "# Each row represents a subject (Math, Science)\n",
        "marks = np.array([\n",
        "    [80, 90, 98, 86, 78], # Math marks for 5 students\n",
        "    [70, 80, 88, 76, 68], # Science marks for 5 students\n",
        "])\n",
        "\n",
        "# Transpose to make each row represent a student's marks\n",
        "marks_T = marks.T\n",
        "print(f\"Original marks (shape {marks.shape}):\\n{marks}\\n\")\n",
        "print(f\"Transposed marks (shape {marks_T.shape}):\\n{marks_T}\")\n",
        "```\n",
        "\n",
        "**Output:**\n",
        "\n",
        "```\n",
        "Original marks (shape (2, 5)):\n",
        "[[80 90 98 86 78]\n",
        " [70 80 88 76 68]]\n",
        "\n",
        "Transposed marks (shape (5, 2)):\n",
        "[[80 70]\n",
        " [90 80]\n",
        " [98 88]\n",
        " [86 76]\n",
        " [78 68]]\n",
        "```\n",
        "\n",
        "-----\n",
        "\n",
        "## **5. Splitting Arrays**\n",
        "\n",
        "These functions divide an array into multiple sub-arrays.\n",
        "\n",
        "  * **`np.split()`**: Requires that the array can be split into an **equal** number of elements. If not, it raises a `ValueError`.\n",
        "  * **`np.array_split()`**: Will split the array into nearly-equal parts if an equal split is not possible. This is often more flexible.\n",
        "\n",
        "<!-- end list -->\n",
        "\n",
        "```python\n",
        "a = np.arange(10)\n",
        "print(f\"Original array: {a}\\n\")\n",
        "\n",
        "# This works because 10 is divisible by 2\n",
        "split_equal = np.split(a, 2)\n",
        "print(f\"Equal split with np.split():\\n{split_equal}\\n\")\n",
        "\n",
        "# This would cause an error with np.split()\n",
        "# splitted_array = np.split(a, 3)\n",
        "\n",
        "# This works with np.array_split()\n",
        "split_unequal = np.array_split(a, 3)\n",
        "print(f\"Unequal split with np.array_split():\\n{split_unequal}\")\n",
        "```\n",
        "\n",
        "**Output:**\n",
        "\n",
        "```\n",
        "Original array: [0 1 2 3 4 5 6 7 8 9]\n",
        "\n",
        "Equal split with np.split():\n",
        "[array([0, 1, 2, 3, 4]), array([5, 6, 7, 8, 9])]\n",
        "\n",
        "Unequal split with np.array_split():\n",
        "[array([0, 1, 2, 3]), array([4, 5, 6]), array([7, 8, 9])]\n",
        "```\n",
        "No, they work on multi-dimensional arrays (like matrices and 3D arrays) as well, not just 1D vectors.\n",
        "\n",
        "You can control *how* they split using the `axis` parameter:\n",
        "\n",
        "  * `axis=0` (default): Splits the array horizontally (row-wise).\n",
        "  * `axis=1`: Splits the array vertically (column-wise).\n",
        "  * `axis=2` (for 3D): Splits along the \"depth\" axis.\n",
        "\n",
        "-----\n",
        "\n",
        "### **2D Array Example**\n",
        "\n",
        "Here is a 2D matrix (6 rows, 2 columns):\n",
        "\n",
        "```python\n",
        "import numpy as np\n",
        "\n",
        "matrix = np.array([\n",
        "    [1, 2],\n",
        "    [3, 4],\n",
        "    [5, 6],\n",
        "    [7, 8],\n",
        "    [9, 10],\n",
        "    [11, 12]\n",
        "])\n",
        "\n",
        "print(f\"Original shape: {matrix.shape}\\n\")\n",
        "```\n",
        "\n",
        "**Output:**\n",
        "\n",
        "```\n",
        "Original shape: (6, 2)\n",
        "```\n",
        "\n",
        "### Splitting along `axis=0` (Row-wise)\n",
        "\n",
        "This is the default. It splits the *rows* into 3 groups.\n",
        "\n",
        "```python\n",
        "# Split into 3 arrays along axis=0\n",
        "split_rows = np.array_split(matrix, 3, axis=0)\n",
        "\n",
        "print(f\"Number of arrays after split: {len(split_rows)}\")\n",
        "print(\"Array 1:\\n\", split_rows[0])\n",
        "print(\"Array 2:\\n\", split_rows[1])\n",
        "print(\"Array 3:\\n\", split_rows[2])\n",
        "```\n",
        "\n",
        "**Output:**\n",
        "\n",
        "```\n",
        "Number of arrays after split: 3\n",
        "Array 1:\n",
        " [[1 2]\n",
        " [3 4]]\n",
        "Array 2:\n",
        " [[5 6]\n",
        " [7 8]]\n",
        "Array 3:\n",
        " [[ 9 10]\n",
        " [11 12]]\n",
        "```\n",
        "\n",
        "### Splitting along `axis=1` (Column-wise)\n",
        "\n",
        "This splits the *columns* into 2 groups.\n",
        "\n",
        "```python\n",
        "# Split into 2 arrays along axis=1\n",
        "split_cols = np.array_split(matrix, 2, axis=1)\n",
        "\n",
        "print(f\"Number of arrays after split: {len(split_cols)}\")\n",
        "print(\"Array 1:\\n\", split_cols[0])\n",
        "print(\"Array 2:\\n\", split_cols[1])\n",
        "```\n",
        "\n",
        "**Output:**\n",
        "\n",
        "```\n",
        "Number of arrays after split: 2\n",
        "Array 1:\n",
        " [[ 1]\n",
        " [ 3]\n",
        " [ 5]\n",
        " [ 7]\n",
        " [ 9]\n",
        " [11]]\n",
        "Array 2:\n",
        " [[ 2]\n",
        " [ 4]\n",
        " [ 6]\n",
        " [ 8]\n",
        " [10]\n",
        " [12]]\n",
        "```\n",
        "\n",
        "\n",
        "## **`ndarray` ম্যানিপুলেশন (Manipulation)**\n",
        "\n",
        "মেশিন লার্নিং এবং AI-তে, প্রায়শই আপনার ডেটা প্রি-প্রসেস করার প্রয়োজন হয়। এর মধ্যে রয়েছে একটি মডেলের প্রত্যাশিত ইনপুট ফরম্যাটের সাথে মেলানোর জন্য অ্যারের শেপ পরিবর্তন করা, অ্যারে একত্রিত করা বা ভাগ করা। ডেটাকে ট্রেনিং/টেস্টিং সেটে ভাগ করা বা ফিচার থেকে টার্গেট ভেরিয়েবল আলাদা করার মতো কাজের জন্য অ্যারে ম্যানিপুলেশন অত্যন্ত গুরুত্বপূর্ণ।\n",
        "\n",
        "-----\n",
        "\n",
        "### **১. অ্যারের শেপ পরিবর্তন: `np.reshape()`**\n",
        "\n",
        "`np.reshape()` ফাংশনটি একটি অ্যারের ডেটা পরিবর্তন না করে তার শেপ পরিবর্তন করে।\n",
        "\n",
        "**নিয়ম:** মোট উপাদানের সংখ্যা অবশ্যই একই থাকতে হবে। ৫০টি উপাদানসহ একটি অ্যারে (যেমন, শেপ `(10, 5)`) `(5, 10)`, `(2, 25)`, বা `(25, 2)`-এ রিশেপ করা যেতে পারে, কিন্তু `(3, 5)`-এ করা যাবে না কারণ `3 * 5 = 15`, 50 নয়।\n",
        "\n",
        "```python\n",
        "import numpy as np\n",
        "\n",
        "# মূল 10x5 অ্যারে (৫০টি উপাদান)\n",
        "arr = np.random.randint(1, 100, size=(10, 5))\n",
        "print(f\"মূল শেপ: {arr.shape}\\n\")\n",
        "\n",
        "# 5x10 এ রিশেপ করা হলো\n",
        "arr_reshaped = np.reshape(arr, (5, 10))\n",
        "print(f\"5x10 এ রিশেপ করা হয়েছে:\\n{arr_reshaped}\\n\")\n",
        "\n",
        "# এটি ValueError দেবে কারণ 3 * 5 != 50\n",
        "# arr_error = np.reshape(arr, (3, 5))\n",
        "```\n",
        "\n",
        "-----\n",
        "\n",
        "### **২. অ্যারে ফ্ল্যাট করা: `flatten()` বনাম `ravel()`**\n",
        "\n",
        "কখনও কখনও আপনাকে একটি বহুমাত্রিক (multi-dimensional) অ্যারে-কে একটি 1D অ্যারেতে রূপান্তর করতে হতে পারে।\n",
        "\n",
        "  * **`flatten()`**: সর্বদা অ্যারের একটি **কপি** রিটার্ন করে, যা সারি বরাবর ফ্ল্যাট করা থাকে।\n",
        "  * **`ravel()`**: যদি সম্ভব হয় তবে অ্যারের একটি **ভিউ** রিটার্ন করে, যা বেশি মেমরি-সাশ্রয়ী। এটি সারি-ভিত্তিক (`order='C'`, ডিফল্ট) বা কলাম-ভিত্তিক (`order='F'`) ফ্ল্যাট করতে পারে।\n",
        "\n",
        "<!-- end list -->\n",
        "\n",
        "```python\n",
        "arr = np.array([[1, 2, 3], [4, 5, 6]])\n",
        "\n",
        "# সারি-ভিত্তিক ফ্ল্যাটেনিং (স্ট্যান্ডার্ড)\n",
        "print(f\"ফ্ল্যাট করা (সারি-ভিত্তিক):\\n{arr.flatten()}\\n\")\n",
        "\n",
        "# ravel ব্যবহার করে কলাম-ভিত্তিক ফ্ল্যাটেনিং\n",
        "print(f\"র‍্যাভেল করা (কলাম-ভিত্তিক):\\n{np.ravel(arr, order='F')}\")\n",
        "```\n",
        "\n",
        "**আউটপুট:**\n",
        "\n",
        "```\n",
        "ফ্ল্যাট করা (সারি-ভিত্তিক):\n",
        "[1 2 3 4 5 6]\n",
        "\n",
        "র‍্যাভেল করা (কলাম-ভিত্তিক):\n",
        "[1 4 2 5 3 6]\n",
        "```\n",
        "\n",
        "-----\n",
        "\n",
        "### **৩. অ্যারে একত্রিত করা: `np.concatenate()`**\n",
        "\n",
        "এই ফাংশনটি একটি নির্দিষ্ট অক্ষ (axis) বরাবর একাধিক অ্যারে যুক্ত করে।\n",
        "\n",
        "**সিনট্যাক্স:** `np.concatenate((a, b, ...), axis=0/1)`\n",
        "\n",
        "  * `axis=0`: অ্যারেগুলোকে উল্লম্বভাবে (vertically) যুক্ত করে (সারি-ভিত্তিক)।\n",
        "  * `axis=1`: অ্যারেগুলোকে অনুভূমিকভাবে (horizontally) যুক্ত করে (কলাম-ভিত্তিক)।\n",
        "\n",
        "**নিয়ম:**\n",
        "\n",
        "  * `axis=0` এর জন্য, **কলামের** সংখ্যা অবশ্যই মিলতে হবে।\n",
        "  * `axis=1` এর জন্য, **সারির** সংখ্যা অবশ্যই মিলতে হবে।\n",
        "\n",
        "<!-- end list -->\n",
        "\n",
        "```python\n",
        "a = np.random.randint(1, 10, size=(2, 3))\n",
        "b = np.random.randint(20, 30, size=(2, 3))\n",
        "print(f\"অ্যারে a:\\n{a}\\n\\nঅ্যারে b:\\n{b}\\n\")\n",
        "\n",
        "# সারি-ভিত্তিক কনক্যাটেনেশন (axis=0)\n",
        "con_row = np.concatenate((a, b), axis=0)\n",
        "print(f\"সারি-ভিত্তিক কনক্যাটেনেশন (শেপ {con_row.shape}):\\n{con_row}\\n\")\n",
        "\n",
        "# কলাম-ভিত্তিক কনক্যাটেনেশন (axis=1)\n",
        "con_col = np.concatenate((a, b), axis=1)\n",
        "print(f\"কলাম-ভিত্তিক কনক্যাটেনেশন (শেপ {con_col.shape}):\\n{con_col}\")\n",
        "```\n",
        "\n",
        "**আউটপুট:**\n",
        "\n",
        "```\n",
        "অ্যারে a:\n",
        "[[6 8 1]\n",
        " [1 3 4]]\n",
        "\n",
        "অ্যারে b:\n",
        "[[23 29 22]\n",
        " [26 25 21]]\n",
        "\n",
        "সারি-ভিত্তিক কনক্যাটেনেশন (শেপ (4, 3)):\n",
        "[[ 6  8  1]\n",
        " [ 1  3  4]\n",
        " [23 29 22]\n",
        " [26 25 21]]\n",
        "\n",
        "কলাম-ভিত্তিক কনক্যাটেনেশন (শেপ (2, 6)):\n",
        "[[ 6  8  1 23 29 22]\n",
        " [ 1  3  4 26 25 21]]\n",
        "```\n",
        "\n",
        "-----\n",
        "\n",
        "### **৪. অ্যারে ট্রান্সপোজ করা: `.T`**\n",
        "\n",
        "একটি অ্যারে ট্রান্সপোজ করলে তার সারি এবং কলামগুলো互换 (swap) হয়ে যায়। ডেটার দিক পরিবর্তন করার জন্য এটি অত্যন্ত দরকারী।\n",
        "\n",
        "```python\n",
        "# প্রতিটি সারি একটি বিষয়কে প্রতিনিধিত্ব করে (গণিত, বিজ্ঞান)\n",
        "marks = np.array([\n",
        "    [80, 90, 98, 86, 78], # ৫ জন ছাত্রের গণিতের নম্বর\n",
        "    [70, 80, 88, 76, 68], # ৫ জন ছাত্রের বিজ্ঞানের নম্বর\n",
        "])\n",
        "\n",
        "# প্রতিটি সারিকে একজন ছাত্রের নম্বর হিসেবে দেখাতে ট্রান্সপোজ করা হলো\n",
        "marks_T = marks.T\n",
        "print(f\"মূল নম্বর (শেপ {marks.shape}):\\n{marks}\\n\")\n",
        "print(f\"ট্রান্সপোজড নম্বর (শেপ {marks_T.shape}):\\n{marks_T}\")\n",
        "```\n",
        "\n",
        "**আউটপুট:**\n",
        "\n",
        "```\n",
        "মূল নম্বর (শেপ (2, 5)):\n",
        "[[80 90 98 86 78]\n",
        " [70 80 88 76 68]]\n",
        "\n",
        "ট্রান্সপোজড নম্বর (শেপ (5, 2)):\n",
        "[[80 70]\n",
        " [90 80]\n",
        " [98 88]\n",
        " [86 76]\n",
        " [78 68]]\n",
        "```\n",
        "\n",
        "-----\n",
        "\n",
        "### **৫. অ্যারে বিভক্ত করা**\n",
        "\n",
        "এই ফাংশনগুলো একটি অ্যারে-কে একাধিক সাব-অ্যারেতে বিভক্ত করে।\n",
        "\n",
        "  * **`np.split()`**: এটির জন্য অ্যারেটিকে **সমান** সংখ্যক উপাদানে বিভক্ত করা আবশ্যক। যদি তা সম্ভব না হয়, এটি একটি `ValueError` দেখায়।\n",
        "  * **`np.array_split()`**: যদি সমানভাবে ভাগ করা সম্ভব না হয়, তবে এটি অ্যারেটিকে প্রায়-সমান অংশে বিভক্ত করবে। এটি প্রায়শই বেশি নমনীয়।\n",
        "\n",
        "<!-- end list -->\n",
        "\n",
        "```python\n",
        "a = np.arange(10)\n",
        "print(f\"মূল অ্যারে: {a}\\n\")\n",
        "\n",
        "# এটি কাজ করে কারণ ১০, ২ দ্বারা বিভাজ্য\n",
        "split_equal = np.split(a, 2)\n",
        "print(f\"np.split() দিয়ে সমান ভাগ:\\n{split_equal}\\n\")\n",
        "\n",
        "# np.split() দিয়ে এটি এরর দেবে\n",
        "# splitted_array = np.split(a, 3)\n",
        "\n",
        "# np.array_split() দিয়ে এটি কাজ করে\n",
        "split_unequal = np.array_split(a, 3)\n",
        "print(f\"np.array_split() দিয়ে অসমান ভাগ:\\n{split_unequal}\")\n",
        "```\n",
        "\n",
        "**আউটপুট:**\n",
        "\n",
        "```\n",
        "মূল অ্যারে: [0 1 2 3 4 5 6 7 8 9]\n",
        "\n",
        "np.split() দিয়ে সমান ভাগ:\n",
        "[array([0, 1, 2, 3, 4]), array([5, 6, 7, 8, 9])]\n",
        "\n",
        "np.array_split() দিয়ে অসমান ভাগ:\n",
        "[array([0, 1, 2, 3]), array([4, 5, 6]), array([7, 8, 9])]\n",
        "```\n"
      ],
      "metadata": {
        "id": "fWiBBEnQ0Zvz"
      }
    },
    {
      "cell_type": "code",
      "source": [
        "import numpy as np\n",
        "arr = np.random.randint(1,100,size=(10,5))\n",
        "print(arr)"
      ],
      "metadata": {
        "colab": {
          "base_uri": "https://localhost:8080/"
        },
        "id": "FB2Xsuam1L5F",
        "outputId": "37fe0e93-ede0-4e66-9f9b-cdb4bac5e909"
      },
      "execution_count": null,
      "outputs": [
        {
          "output_type": "stream",
          "name": "stdout",
          "text": [
            "[[36 30  2 75 57]\n",
            " [67 45 56 83 12]\n",
            " [37 31 35 61 86]\n",
            " [ 5 22 50 17 29]\n",
            " [83 59 34 79 67]\n",
            " [32 43 23 50  7]\n",
            " [99 75 54 97 65]\n",
            " [52  8 31 55 10]\n",
            " [90 38 83 16 31]\n",
            " [92 33 30 63  2]]\n"
          ]
        }
      ]
    },
    {
      "cell_type": "code",
      "source": [
        "# np.reshape(): Now IF we need change the shape of it we doing it reshape function\n",
        "arr1 = np.reshape(arr,(5,10))\n",
        "print(arr1)"
      ],
      "metadata": {
        "colab": {
          "base_uri": "https://localhost:8080/"
        },
        "id": "HAMlZh362CrO",
        "outputId": "c2eb4432-424b-43c6-e432-2a916dd9b95e"
      },
      "execution_count": null,
      "outputs": [
        {
          "output_type": "stream",
          "name": "stdout",
          "text": [
            "[[36 30  2 75 57 67 45 56 83 12]\n",
            " [37 31 35 61 86  5 22 50 17 29]\n",
            " [83 59 34 79 67 32 43 23 50  7]\n",
            " [99 75 54 97 65 52  8 31 55 10]\n",
            " [90 38 83 16 31 92 33 30 63  2]]\n"
          ]
        }
      ]
    },
    {
      "cell_type": "code",
      "source": [
        "# We should alert about that when you reshape like we 5,10 shape data which have 50 value we can not convert it to 3*5 which give us valueError\n",
        "# arr_e = np.reshape(arr,(3,5))\n",
        "\n",
        "# Here also 2*25 or 25*2 is also allow because it hold 50 datapoint\n",
        "arr1 = np.reshape(arr,(2,25))\n",
        "print(arr1)"
      ],
      "metadata": {
        "colab": {
          "base_uri": "https://localhost:8080/"
        },
        "id": "yPzf9RZ02f82",
        "outputId": "4d04a054-0490-40f6-b40a-c037c003d9d8"
      },
      "execution_count": null,
      "outputs": [
        {
          "output_type": "stream",
          "name": "stdout",
          "text": [
            "[[36 30  2 75 57 67 45 56 83 12 37 31 35 61 86  5 22 50 17 29 83 59 34 79\n",
            "  67]\n",
            " [32 43 23 50  7 99 75 54 97 65 52  8 31 55 10 90 38 83 16 31 92 33 30 63\n",
            "   2]]\n"
          ]
        }
      ]
    },
    {
      "cell_type": "code",
      "source": [
        "# we need flate array we can use flatten funcion and ravel function\n",
        "# flatten: doing row way flat\n",
        "# ravel: colum or row wise flat array base on parameter order=\"F\" column wise flat and order=\"C\" row wise flat the array\n",
        "arr1 = np.reshape(arr,(5,10))\n",
        "print(arr1)\n",
        "\n",
        "# row wise flat array\n",
        "print(arr1.flatten())\n",
        "print(np.ravel(arr1, order=\"C\"))\n",
        "\n",
        "#column wise flat the array\n",
        "print(np.ravel(arr1, order=\"F\"))\n"
      ],
      "metadata": {
        "colab": {
          "base_uri": "https://localhost:8080/"
        },
        "id": "Ov3rMiUh5Nv5",
        "outputId": "fd588fda-72e5-40ec-ab09-a9f4afa42c60"
      },
      "execution_count": null,
      "outputs": [
        {
          "output_type": "stream",
          "name": "stdout",
          "text": [
            "[[36 30  2 75 57 67 45 56 83 12]\n",
            " [37 31 35 61 86  5 22 50 17 29]\n",
            " [83 59 34 79 67 32 43 23 50  7]\n",
            " [99 75 54 97 65 52  8 31 55 10]\n",
            " [90 38 83 16 31 92 33 30 63  2]]\n",
            "[36 30  2 75 57 67 45 56 83 12 37 31 35 61 86  5 22 50 17 29 83 59 34 79\n",
            " 67 32 43 23 50  7 99 75 54 97 65 52  8 31 55 10 90 38 83 16 31 92 33 30\n",
            " 63  2]\n",
            "[36 30  2 75 57 67 45 56 83 12 37 31 35 61 86  5 22 50 17 29 83 59 34 79\n",
            " 67 32 43 23 50  7 99 75 54 97 65 52  8 31 55 10 90 38 83 16 31 92 33 30\n",
            " 63  2]\n",
            "[36 37 83 99 90 30 31 59 75 38  2 35 34 54 83 75 61 79 97 16 57 86 67 65\n",
            " 31 67  5 32 52 92 45 22 43  8 33 56 50 23 31 30 83 17 50 55 63 12 29  7\n",
            " 10  2]\n"
          ]
        }
      ]
    },
    {
      "cell_type": "code",
      "source": [
        "# concatenate: we can concatenate multiple array base on row wise or colum\n",
        "# np. concatenate((a,b,...n), axis=0/1) axis = 0 means rowwise contenate and 1 means column wise concatenate\n",
        "\n",
        "a = np.random.randint(1,10,size=(3,3))\n",
        "b = np.random.randint(20,30,size=(3,3))\n",
        "\n",
        "\n",
        "print(a)\n",
        "print(b)\n",
        "\n",
        "# row wise concatenate\n",
        "con_row = np.concatenate((a,b), axis=0)\n",
        "print(con_row)\n",
        "\n",
        "# column wise contenate\n",
        "con_col = np.concatenate((a,b), axis=1)\n",
        "print(con_col)"
      ],
      "metadata": {
        "colab": {
          "base_uri": "https://localhost:8080/"
        },
        "id": "T2694tpq6gcP",
        "outputId": "21471e33-002b-41d7-fa40-772b2721ee4e"
      },
      "execution_count": null,
      "outputs": [
        {
          "output_type": "stream",
          "name": "stdout",
          "text": [
            "[[1 6 5]\n",
            " [3 3 3]\n",
            " [4 3 4]]\n",
            "[[21 22 27]\n",
            " [26 20 29]\n",
            " [21 28 28]]\n",
            "[[ 1  6  5]\n",
            " [ 3  3  3]\n",
            " [ 4  3  4]\n",
            " [21 22 27]\n",
            " [26 20 29]\n",
            " [21 28 28]]\n",
            "[[ 1  6  5 21 22 27]\n",
            " [ 3  3  3 26 20 29]\n",
            " [ 4  3  4 21 28 28]]\n"
          ]
        }
      ]
    },
    {
      "cell_type": "code",
      "source": [
        "# [row_start:row_end:row_step, col_start:col_end:col_step]\n",
        "# Now craeta a example which is 5*10 matrix where last row is column\n",
        "a = np.random.randint(50,100,size=(5,10))\n",
        "print(a)\n",
        "print()\n",
        "\n",
        "fetures = a[:,0:a.shape[1]-1]\n",
        "print(fetures)\n",
        "print()\n",
        "\n",
        "target = a[:,a.shape[1]-1:]\n",
        "print(target)\n",
        "\n",
        "# some preprocessing done in fetures then we concatenate again target and fetures\n",
        "a = np.concatenate((fetures,target), axis=1)\n",
        "print(a)"
      ],
      "metadata": {
        "colab": {
          "base_uri": "https://localhost:8080/"
        },
        "id": "ybiRwaOy88fR",
        "outputId": "f578b26b-0552-4ba6-a6e2-4bff204676fd"
      },
      "execution_count": null,
      "outputs": [
        {
          "output_type": "stream",
          "name": "stdout",
          "text": [
            "[[62 98 88 61 52 85 56 66 76 80]\n",
            " [77 78 56 65 83 63 67 79 63 69]\n",
            " [51 87 72 79 58 53 81 54 94 79]\n",
            " [68 64 80 50 86 77 71 68 51 70]\n",
            " [98 52 70 87 87 74 86 86 67 57]]\n",
            "\n",
            "[[62 98 88 61 52 85 56 66 76]\n",
            " [77 78 56 65 83 63 67 79 63]\n",
            " [51 87 72 79 58 53 81 54 94]\n",
            " [68 64 80 50 86 77 71 68 51]\n",
            " [98 52 70 87 87 74 86 86 67]]\n",
            "\n",
            "[[80]\n",
            " [69]\n",
            " [79]\n",
            " [70]\n",
            " [57]]\n",
            "[[62 98 88 61 52 85 56 66 76 80]\n",
            " [77 78 56 65 83 63 67 79 63 69]\n",
            " [51 87 72 79 58 53 81 54 94 79]\n",
            " [68 64 80 50 86 77 71 68 51 70]\n",
            " [98 52 70 87 87 74 86 86 67 57]]\n"
          ]
        }
      ]
    },
    {
      "cell_type": "code",
      "source": [
        "# when we concatenate we need alert something like when we do row concatenate no of column both array should same and when column concatenate\n",
        "# no row should be equal for both array\n",
        "\n",
        "# you do no column conatenate here\n",
        "\n",
        "[\n",
        "    [1,2,3],\n",
        "    [4,5,6]\n",
        "]\n",
        "\n",
        "[\n",
        "    [1,2,3]\n",
        "]\n",
        "\n",
        "# Also we can not row concatenate here\n",
        "[\n",
        "    [1,2,3],\n",
        "    [4,5,6]\n",
        "]\n",
        "\n",
        "[\n",
        "    [1,2]\n",
        "]"
      ],
      "metadata": {
        "colab": {
          "base_uri": "https://localhost:8080/"
        },
        "id": "D6S5fU-VC61W",
        "outputId": "3af7ffc9-a513-4089-c3a1-c860dcd91103"
      },
      "execution_count": null,
      "outputs": [
        {
          "output_type": "execute_result",
          "data": {
            "text/plain": [
              "[[1, 2]]"
            ]
          },
          "metadata": {},
          "execution_count": 54
        }
      ]
    },
    {
      "cell_type": "code",
      "source": [
        "# Transpose Matrix where row can be column ro column can be row\n",
        "# like we have tow math_marks and science_mark list if convert it to feature we use tranpose here\n",
        "\n",
        "marks = np.array([\n",
        "    [80, 90, 98, 86, 78],\n",
        "    [70, 80, 88, 76, 68],\n",
        "])\n",
        "\n",
        "print(marks)\n",
        "\n",
        "make_to_feature = np.transpose(marks)\n",
        "print(make_to_feature)\n",
        "\n",
        "# or\n",
        "\n",
        "make_to_feature_2 = marks.T\n",
        "print(make_to_feature_2)\n"
      ],
      "metadata": {
        "colab": {
          "base_uri": "https://localhost:8080/"
        },
        "id": "3dfaqWDID9XS",
        "outputId": "19872115-39c8-466a-ac29-eaabd2602d3e"
      },
      "execution_count": null,
      "outputs": [
        {
          "output_type": "stream",
          "name": "stdout",
          "text": [
            "[[80 90 98 86 78]\n",
            " [70 80 88 76 68]]\n",
            "[[80 70]\n",
            " [90 80]\n",
            " [98 88]\n",
            " [86 76]\n",
            " [78 68]]\n",
            "[[80 70]\n",
            " [90 80]\n",
            " [98 88]\n",
            " [86 76]\n",
            " [78 68]]\n"
          ]
        }
      ]
    },
    {
      "cell_type": "code",
      "source": [
        "# we need some time solit the array\n",
        "# np.array_split(arr, no_of_split): try to equally split if not possible one split can be bigger then other\n",
        "# np.split(a, no_of_split): if not possible equally split throw error\n",
        "\n",
        "a = np.random.randint(10,20, size=10)\n",
        "print(a)\n",
        "\n",
        "splitted_array = np.array_split(a, 3)\n",
        "print(splitted_array)\n",
        "\n",
        "# show cause not possible equally split\n",
        "# splitted_array = np.split(a, 3)\n",
        "\n",
        "\n",
        "splitted_array = np.split(a, 2)\n",
        "print(splitted_array)"
      ],
      "metadata": {
        "colab": {
          "base_uri": "https://localhost:8080/"
        },
        "id": "38OLZ88oFzZx",
        "outputId": "3111d45b-871d-4bfc-b0e0-ed40d28efc6e"
      },
      "execution_count": null,
      "outputs": [
        {
          "output_type": "stream",
          "name": "stdout",
          "text": [
            "[17 15 14 17 15 11 18 17 16 13]\n",
            "[array([17, 15, 14, 17]), array([15, 11, 18]), array([17, 16, 13])]\n",
            "[array([17, 15, 14, 17, 15]), array([11, 18, 17, 16, 13])]\n"
          ]
        }
      ]
    },
    {
      "cell_type": "markdown",
      "source": [
        "# **`ndarray` Arithmetic and Mathematical Functions**"
      ],
      "metadata": {
        "id": "a0-PkjyXZWju"
      }
    },
    {
      "cell_type": "markdown",
      "source": [
        "NumPy provides highly optimized, element-wise mathematical operations that are significantly faster than using standard Python loops. These functions are the backbone of numerical computation in AI and Machine Learning.\n",
        "\n",
        "-----\n",
        "\n",
        "## **1. Basic Arithmetic Operators 🧮**\n",
        "\n",
        "When you use standard arithmetic operators (`+`, `-`, `*`, `/`, `%`) on two NumPy arrays of the same size, the operation is applied **element-wise**. This means the operation occurs between the elements at the same position in each array.\n",
        "\n",
        "```python\n",
        "import numpy as np\n",
        "\n",
        "# Create two random integer arrays\n",
        "x = np.array([25, 29, 21, 28, 24])\n",
        "y = np.array([8, 2, 5, 9, 3])\n",
        "\n",
        "print(f\"x = {x}\")\n",
        "print(f\"y = {y}\\n\")\n",
        "\n",
        "# Addition\n",
        "print(f\"Addition (x + y):       {x + y}\")\n",
        "# print(np.add(x, y)) # This is the equivalent function call\n",
        "\n",
        "# Subtraction\n",
        "print(f\"Subtraction (x - y):    {x - y}\")\n",
        "\n",
        "# Multiplication\n",
        "print(f\"Multiplication (x * y): {x * y}\")\n",
        "\n",
        "# Division (results in a float array)\n",
        "print(f\"Division (x / y):       {x / y}\")\n",
        "\n",
        "# Modulus (remainder)\n",
        "print(f\"Modulus (x % y):        {x % y}\")\n",
        "```\n",
        "\n",
        "**Output:**\n",
        "\n",
        "```\n",
        "x = [25 29 21 28 24]\n",
        "y = [8 2 5 9 3]\n",
        "\n",
        "Addition (x + y):       [33 31 26 37 27]\n",
        "Subtraction (x - y):    [17 27 16 19 21]\n",
        "Multiplication (x * y): [200  58 105 252  72]\n",
        "Division (x / y):       [3.125      14.5        4.2        3.11111111 8.        ]\n",
        "Modulus (x % y):        [1 1 1 1 0]\n",
        "```\n",
        "\n",
        "-----\n",
        "\n",
        "## **2. Trigonometric Functions 📐**\n",
        "\n",
        "NumPy provides a full suite of trigonometric functions that operate on each element of an array. By default, these functions assume the input is in **radians**.\n",
        "\n",
        "```python\n",
        "x = np.array([0, 30, 45, 60, 90])\n",
        "x_rad = np.deg2rad(x) # Convert degrees to radians first\n",
        "\n",
        "print(f\"Angles in Radians: {x_rad}\\n\")\n",
        "print(f\"Sine:   {np.sin(x_rad)}\")\n",
        "print(f\"Cosine: {np.cos(x_rad)}\")\n",
        "```\n",
        "\n",
        "**Output:**\n",
        "\n",
        "```\n",
        "Angles in Radians: [0.         0.52359878 0.78539816 1.04719755 1.57079633]\n",
        "\n",
        "Sine:   [0.         0.5        0.70710678 0.8660254  1.        ]\n",
        "Cosine: [1.00000000e+00 8.66025404e-01 7.07106781e-01 5.00000000e-01\n",
        " 6.12323400e-17]\n",
        "```\n",
        "\n",
        "-----\n",
        "\n",
        "## **3. Logarithmic Functions**\n",
        "\n",
        "Logarithms are essential in many ML algorithms, especially for dealing with probabilities and information theory.\n",
        "\n",
        "  * **`np.log(x)`**: Natural logarithm (base $e$).\n",
        "  * **`np.log2(x)`**: Base-2 logarithm. Answers the question, \"To what power must 2 be raised to get x?\"\n",
        "  * **`np.log10(x)`**: Base-10 logarithm.\n",
        "\n",
        "<!-- end list -->\n",
        "\n",
        "```python\n",
        "x = np.array([2, 8, 32, 100, 1000])\n",
        "\n",
        "print(f\"Base-2 Logarithm (log2): {np.log2(x)}\")\n",
        "print(f\"Base-10 Logarithm (log10): {np.log10(x)}\")\n",
        "```\n",
        "\n",
        "**Output:**\n",
        "\n",
        "```\n",
        "Base-2 Logarithm (log2): [1.         3.         5.         6.64385619 9.96578428]\n",
        "Base-10 Logarithm (log10): [0.30103    0.90309    1.50514998 2.         3.        ]\n",
        "```\n",
        "\n",
        "-----\n",
        "\n",
        "## **4. Other Important Mathematical Functions for AI/ML**\n",
        "\n",
        "Here are some more functions that you will frequently encounter.\n",
        "\n",
        "### **Aggregation Functions**\n",
        "\n",
        "These functions compute a single value from an array.\n",
        "\n",
        "```python\n",
        "x = np.array([1, 2, 3, 4, 5])\n",
        "\n",
        "print(f\"Sum: {np.sum(x)}\")             # Sum of all elements\n",
        "print(f\"Cumulative Sum: {np.cumsum(x)}\")  # Sum as elements are added\n",
        "print(f\"Mean (Average): {np.mean(x)}\") # Average value\n",
        "print(f\"Standard Deviation: {np.std(x)}\") # Measure of data spread\n",
        "print(f\"Minimum value: {np.min(x)}\")    # Smallest value\n",
        "print(f\"Maximum value: {np.max(x)}\")    # Largest value\n",
        "```\n",
        "\n",
        "**Output:**\n",
        "\n",
        "```\n",
        "Sum: 15\n",
        "Cumulative Sum: [ 1  3  6 10 15]\n",
        "Mean (Average): 3.0\n",
        "Standard Deviation: 1.4142135623730951\n",
        "Minimum value: 1\n",
        "Maximum value: 5\n",
        "```\n",
        "\n",
        "### **Exponential and Power Functions**\n",
        "\n",
        "These are critical for activation functions in neural networks and for various statistical distributions.\n",
        "\n",
        "```python\n",
        "x = np.array([1, 2, 3])\n",
        "\n",
        "print(f\"Exponential (e^x): {np.exp(x)}\")  # e raised to the power of each element\n",
        "print(f\"Square Root: {np.sqrt(x)}\")       # Square root of each element\n",
        "```\n",
        "\n",
        "**Output:**\n",
        "\n",
        "```\n",
        "Exponential (e^x): [ 2.71828183  7.3890561  20.08553692]\n",
        "Square Root: [1.         1.41421356 1.73205081]\n",
        "```\n",
        "\n",
        "### **Linear Algebra**\n",
        "\n",
        "Matrix multiplication is the most common operation in deep learning.\n",
        "\n",
        "```python\n",
        "a = np.array([[1, 2], [3, 4]])\n",
        "b = np.array([[5, 6], [7, 8]])\n",
        "\n",
        "# Matrix Multiplication (Dot Product)\n",
        "dot_product = np.dot(a, b)\n",
        "# The @ operator is a convenient shorthand for matrix multiplication\n",
        "dot_product_shorthand = a @ b\n",
        "\n",
        "print(f\"Matrix a:\\n{a}\\n\\nMatrix b:\\n{b}\\n\")\n",
        "print(f\"Dot Product (a @ b):\\n{dot_product_shorthand}\")\n",
        "```\n",
        "\n",
        "**Output:**\n",
        "\n",
        "```\n",
        "Matrix a:\n",
        "[[1 2]\n",
        " [3 4]]\n",
        "\n",
        "Matrix b:\n",
        "[[5 6]\n",
        " [7 8]]\n",
        "\n",
        "Dot Product (a @ b):\n",
        "[[19 22]\n",
        " [43 50]]\n",
        "```\n",
        "\n",
        "___\n",
        "\n",
        "## **`ndarray` অ্যারিথমেটিক এবং গাণিতিক ফাংশন**\n",
        "\n",
        "NumPy অত্যন্ত অপ্টিমাইজড, এলিমেন্ট-ওয়াইজ গাণিতিক অপারেশন সরবরাহ করে যা সাধারণ পাইথন লুপ ব্যবহারের চেয়ে অনেক দ্রুত। এই ফাংশনগুলো AI এবং মেশিন লার্নিং-এ নিউমেরিক্যাল কম্পিউটেশনের ভিত্তি।\n",
        "\n",
        "-----\n",
        "\n",
        "### **১. বেসিক অ্যারিথমেটিক অপারেটর 🧮**\n",
        "\n",
        "যখন আপনি একই আকারের দুটি NumPy অ্যারের উপর স্ট্যান্ডার্ড অ্যারিথমেটিক অপারেটর (`+`, `-`, `*`, `/`, `%`) ব্যবহার করেন, তখন অপারেশনটি **এলিমেন্ট-ওয়াইজ** (element-wise) প্রয়োগ করা হয়। এর মানে হলো, প্রতিটি অ্যারের একই অবস্থানে থাকা উপাদানগুলোর মধ্যে অপারেশনটি ঘটে।\n",
        "\n",
        "```python\n",
        "import numpy as np\n",
        "\n",
        "# দুটি র‍্যান্ডম ইন্টিজার অ্যারে তৈরি করা হলো\n",
        "x = np.array([25, 29, 21, 28, 24])\n",
        "y = np.array([8, 2, 5, 9, 3])\n",
        "\n",
        "print(f\"x = {x}\")\n",
        "print(f\"y = {y}\\n\")\n",
        "\n",
        "# যোগ\n",
        "print(f\"যোগ (x + y):       {x + y}\")\n",
        "# print(np.add(x, y)) # এটি সমতুল্য ফাংশন কল\n",
        "\n",
        "# বিয়োগ\n",
        "print(f\"বিয়োগ (x - y):    {x - y}\")\n",
        "\n",
        "# গুণ\n",
        "print(f\"গুণ (x * y): {x * y}\")\n",
        "\n",
        "# ভাগ (ফলাফল একটি ফ্লোট অ্যারে হয়)\n",
        "print(f\"ভাগ (x / y):       {x / y}\")\n",
        "\n",
        "# মডুলাস (ভাগশেষ)\n",
        "print(f\"মডুলাস (x % y):        {x % y}\")\n",
        "```\n",
        "\n",
        "**আউটপুট:**\n",
        "\n",
        "```\n",
        "x = [25 29 21 28 24]\n",
        "y = [8 2 5 9 3]\n",
        "\n",
        "যোগ (x + y):       [33 31 26 37 27]\n",
        "বিয়োগ (x - y):    [17 27 16 19 21]\n",
        "গুণ (x * y): [200  58 105 252  72]\n",
        "ভাগ (x / y):       [3.125      14.5        4.2        3.11111111 8.        ]\n",
        "মডুলাস (x % y):        [1 1 1 1 0]\n",
        "```\n",
        "\n",
        "-----\n",
        "\n",
        "### **২. ত্রিকোণমিতিক ফাংশন 📐**\n",
        "\n",
        "NumPy ত্রিকোণমিতিক ফাংশনগুলোর একটি সম্পূর্ণ সেট সরবরাহ করে যা একটি অ্যারের প্রতিটি উপাদানের উপর কাজ করে। ডিফল্টভাবে, এই ফাংশনগুলো ধরে নেয় যে ইনপুটটি **রেডিয়ানে (radians)** আছে।\n",
        "\n",
        "```python\n",
        "x = np.array([0, 30, 45, 60, 90])\n",
        "x_rad = np.deg2rad(x) # প্রথমে ডিগ্রী থেকে রেডিয়ানে রূপান্তর\n",
        "\n",
        "print(f\"রেডিয়ানে কোণ: {x_rad}\\n\")\n",
        "print(f\"Sine:   {np.sin(x_rad)}\")\n",
        "print(f\"Cosine: {np.cos(x_rad)}\")\n",
        "```\n",
        "\n",
        "**আউটপুট:**\n",
        "\n",
        "```\n",
        "রেডিয়ানে কোণ: [0.         0.52359878 0.78539816 1.04719755 1.57079633]\n",
        "\n",
        "Sine:   [0.         0.5        0.70710678 0.8660254  1.        ]\n",
        "Cosine: [1.00000000e+00 8.66025404e-01 7.07106781e-01 5.00000000e-01\n",
        " 6.12323400e-17]\n",
        "```\n",
        "\n",
        "-----\n",
        "\n",
        "### **৩. লগারিদমিক ফাংশন**\n",
        "\n",
        "অনেক মেশিন লার্নিং অ্যালগরিদমে, বিশেষ করে সম্ভাব্যতা এবং ইনফরমেশন থিওরিতে লগারিদম অপরিহার্য।\n",
        "\n",
        "  * **`np.log(x)`**: স্বাভাবিক লগারিদম (বেস $e$)।\n",
        "  * **`np.log2(x)`**: বেস-২ লগারিদম। \"২-কে কত পাওয়ারে উন্নীত করলে x পাওয়া যাবে?\" এই প্রশ্নের উত্তর দেয়।\n",
        "  * **`np.log10(x)`**: বেস-১০ লগারিদম।\n",
        "\n",
        "<!-- end list -->\n",
        "\n",
        "```python\n",
        "x = np.array([2, 8, 32, 100, 1000])\n",
        "\n",
        "print(f\"বেস-২ লগারিদম (log2): {np.log2(x)}\")\n",
        "print(f\"বেস-১০ লগারিদম (log10): {np.log10(x)}\")\n",
        "```\n",
        "\n",
        "**আউটপুট:**\n",
        "\n",
        "```\n",
        "বেস-২ লগারিদম (log2): [1.         3.         5.         6.64385619 9.96578428]\n",
        "বেস-১০ লগারিদম (log10): [0.30103    0.90309    1.50514998 2.         3.        ]\n",
        "```\n",
        "\n",
        "-----\n",
        "\n",
        "### **৪. AI/ML-এর জন্য অন্যান্য গুরুত্বপূর্ণ গাণিতিক ফাংশন**\n",
        "\n",
        "এখানে আরও কিছু ফাংশন রয়েছে যা আপনি প্রায়শই দেখবেন।\n",
        "\n",
        "### **অ্যাগ্রিগেশন ফাংশন (Aggregation Functions)**\n",
        "\n",
        "এই ফাংশনগুলো একটি অ্যারে থেকে একটি একক মান গণনা করে।\n",
        "\n",
        "```python\n",
        "x = np.array([1, 2, 3, 4, 5])\n",
        "\n",
        "print(f\"যোগফল: {np.sum(x)}\")             # সমস্ত উপাদানের যোগফল\n",
        "print(f\"ক্রমযোজিত যোগফল: {np.cumsum(x)}\")  # উপাদান যোগ হওয়ার সাথে সাথে যোগফল\n",
        "print(f\"গড়: {np.mean(x)}\") # গড় মান\n",
        "print(f\"স্ট্যান্ডার্ড ডেভিয়েশন: {np.std(x)}\") # ডেটার বিস্তৃতির পরিমাপ\n",
        "print(f\"সর্বনিম্ন মান: {np.min(x)}\")    # সবচেয়ে ছোট মান\n",
        "print(f\"সর্বোচ্চ মান: {np.max(x)}\")    # সবচেয়ে বড় মান\n",
        "```\n",
        "\n",
        "**আউটপুট:**\n",
        "\n",
        "```\n",
        "যোগফল: 15\n",
        "ক্রমযোজিত যোগফল: [ 1  3  6 10 15]\n",
        "গড়: 3.0\n",
        "স্ট্যান্ডার্ড ডেভিয়েশন: 1.4142135623730951\n",
        "সর্বনিম্ন মান: 1\n",
        "সর্বোচ্চ মান: 5\n",
        "```\n",
        "\n",
        "### **এক্সপোনেনশিয়াল এবং পাওয়ার ফাংশন**\n",
        "\n",
        "নিউরাল নেটওয়ার্কের অ্যাক্টিভেশন ফাংশন এবং বিভিন্ন পরিসংখ্যানগত ডিস্ট্রিবিউশনের জন্য এগুলো অত্যন্ত গুরুত্বপূর্ণ।\n",
        "\n",
        "```python\n",
        "x = np.array([1, 2, 3])\n",
        "\n",
        "print(f\"এক্সপোনেনশিয়াল (e^x): {np.exp(x)}\")  # e-কে প্রতিটি উপাদানের পাওয়ারে উন্নীত করা\n",
        "print(f\"বর্গমূল: {np.sqrt(x)}\")       # প্রতিটি উপাদানের বর্গমূল\n",
        "```\n",
        "\n",
        "**আউটপুট:**\n",
        "\n",
        "```\n",
        "এক্সপোনেনশিয়াল (e^x): [ 2.71828183  7.3890561  20.08553692]\n",
        "বর্গমূল: [1.         1.41421356 1.73205081]\n",
        "```\n",
        "\n",
        "### **রৈখিক বীজগণিত (Linear Algebra)**\n",
        "\n",
        "ডিপ লার্নিং-এ ম্যাট্রিক্স গুণন সবচেয়ে সাধারণ অপারেশন।\n",
        "\n",
        "```python\n",
        "a = np.array([[1, 2], [3, 4]])\n",
        "b = np.array([[5, 6], [7, 8]])\n",
        "\n",
        "# ম্যাট্রিক্স গুণন (ডট প্রোডাক্ট)\n",
        "dot_product = np.dot(a, b)\n",
        "# @ অপারেটরটি ম্যাট্রিক্স গুণনের জন্য একটি সুবিধাজনক শর্টহ্যান্ড\n",
        "dot_product_shorthand = a @ b\n",
        "\n",
        "print(f\"ম্যাট্রিক্স a:\\n{a}\\n\\nম্যাট্রিক্স b:\\n{b}\\n\")\n",
        "print(f\"ডট প্রোডাক্ট (a @ b):\\n{dot_product_shorthand}\")\n",
        "```\n",
        "\n",
        "**আউটপুট:**\n",
        "\n",
        "```\n",
        "ম্যাট্রিক্স a:\n",
        "[[1 2]\n",
        " [3 4]]\n",
        "\n",
        "ম্যাট্রিক্স b:\n",
        "[[5 6]\n",
        " [7 8]]\n",
        "\n",
        "ডট প্রোডাক্ট (a @ b):\n",
        "[[19 22]\n",
        " [43 50]]\n",
        "```"
      ],
      "metadata": {
        "id": "sOC7Kr27KNGo"
      }
    },
    {
      "cell_type": "code",
      "source": [
        "# We need Sometimes apply mathematical operation on arrays item numpy gives efficient solutioon for it\n",
        "x = np.random.randint(20,30, 10)\n",
        "y = np.random.randint(1,10, 10)\n",
        "print(x)\n",
        "print(y)\n",
        "\n",
        "# addition\n",
        "print(f\"Addition: {x+y}\")\n",
        "# print(f\"Addition: {np.add(x,y)}\")\n",
        "\n",
        "# subtraction\n",
        "print(f\"Subtraction: {x-y}\")\n",
        "\n",
        "# Multiplication\n",
        "print(f\"Multiplication: {x*y}\")\n",
        "\n",
        "# Division\n",
        "print(f\"Division: {x/y}\")\n",
        "\n",
        "# Modulas\n",
        "print(f\"Modulas: {x%y}\")"
      ],
      "metadata": {
        "colab": {
          "base_uri": "https://localhost:8080/"
        },
        "id": "XFk-NixoN9Of",
        "outputId": "be0e4c01-ce98-4f93-e2f1-08558bfb5602"
      },
      "execution_count": null,
      "outputs": [
        {
          "output_type": "stream",
          "name": "stdout",
          "text": [
            "[27 20 24 25 22 26 25 20 24 23]\n",
            "[3 9 3 6 2 8 4 7 8 7]\n",
            "Addition: [30 29 27 31 24 34 29 27 32 30]\n",
            "Subtraction: [24 11 21 19 20 18 21 13 16 16]\n",
            "Multiplication: [ 81 180  72 150  44 208 100 140 192 161]\n",
            "Division: [ 9.          2.22222222  8.          4.16666667 11.          3.25\n",
            "  6.25        2.85714286  3.          3.28571429]\n",
            "Modulas: [0 2 0 1 0 2 1 6 0 2]\n"
          ]
        }
      ]
    },
    {
      "cell_type": "code",
      "source": [
        "# there also provide trigonometry function\n",
        "# like sin, cos, tan, deg to radian, radian to degree\n",
        "\n",
        "# Degree to radian = degree(theata) * (pi/180)\n",
        "# Radian to Degree = raidan * (180/pi)\n",
        "\n",
        "\n",
        "x = np.random.randint(20,30, 10)\n",
        "print(x)\n",
        "print(np.sin(x))\n",
        "print(np.cos(x))\n",
        "print(np.tan(x))\n",
        "\n",
        "radian_to_degree = np.rad2deg(x)\n",
        "print(radian_to_degree)\n",
        "print(np.deg2rad(radian_to_degree))"
      ],
      "metadata": {
        "colab": {
          "base_uri": "https://localhost:8080/"
        },
        "id": "ABSglyA0Pj_T",
        "outputId": "07df85c6-8d38-4940-e784-301122bae2ad"
      },
      "execution_count": null,
      "outputs": [
        {
          "output_type": "stream",
          "name": "stdout",
          "text": [
            "[25 21 22 28 22 29 25 27 23 27]\n",
            "[-0.13235175  0.83665564 -0.00885131  0.27090579 -0.00885131 -0.66363388\n",
            " -0.13235175  0.95637593 -0.8462204   0.95637593]\n",
            "[ 0.99120281 -0.54772926 -0.99996083 -0.96260587 -0.99996083 -0.74805753\n",
            "  0.99120281 -0.29213881 -0.53283302 -0.29213881]\n",
            "[-0.13352641 -1.52749853  0.00885166 -0.2814296   0.00885166  0.88714284\n",
            " -0.13352641 -3.2737038   1.58815308 -3.2737038 ]\n",
            "[1432.39448783 1203.21136977 1260.50714929 1604.28182637 1260.50714929\n",
            " 1661.57760588 1432.39448783 1546.98604685 1317.8029288  1546.98604685]\n",
            "[25. 21. 22. 28. 22. 29. 25. 27. 23. 27.]\n"
          ]
        }
      ]
    },
    {
      "cell_type": "code",
      "source": [
        "# log\n",
        "# log10: how many times we divide a number with 10 until quotient is 1\n",
        "# log2: how many times we divide a number with 2 until quotient is 1\n",
        "\n",
        "x = np.array([2,8,32,100, 110])\n",
        "print(np.log10(x))\n",
        "print(np.log2(x))\n"
      ],
      "metadata": {
        "colab": {
          "base_uri": "https://localhost:8080/"
        },
        "id": "eTXUQa7NSYLV",
        "outputId": "3b84d8df-b4a1-4e24-e661-18fc6ac5ec56"
      },
      "execution_count": null,
      "outputs": [
        {
          "output_type": "stream",
          "name": "stdout",
          "text": [
            "[0.30103    0.90308999 1.50514998 2.         2.04139269]\n",
            "[1.         3.         5.         6.64385619 6.78135971]\n"
          ]
        }
      ]
    },
    {
      "cell_type": "code",
      "source": [
        "# some other\n",
        "# sum of list\n",
        "print(np.sum(x))\n",
        "\n",
        "# cumulative sum\n",
        "print(np.cumsum(x))\n"
      ],
      "metadata": {
        "colab": {
          "base_uri": "https://localhost:8080/"
        },
        "id": "dwKaxhGFT3l7",
        "outputId": "4d9d26b1-a8fb-45a8-d52b-a3ca59545b1a"
      },
      "execution_count": null,
      "outputs": [
        {
          "output_type": "stream",
          "name": "stdout",
          "text": [
            "252\n",
            "[  2  10  42 142 252]\n"
          ]
        }
      ]
    },
    {
      "cell_type": "markdown",
      "source": [
        "# **NumPy Broadcasting**"
      ],
      "metadata": {
        "id": "pKvF2E8km9NX"
      }
    },
    {
      "cell_type": "markdown",
      "source": [
        "Broadcasting is a powerful mechanism in NumPy that allows you to perform arithmetic operations on arrays of **different shapes**. It provides a convenient way of vectorizing array operations so that looping occurs in efficient, pre-compiled C code. When operating on two arrays, NumPy compares their shapes element-wise. It starts with the trailing (i.e., rightmost) dimensions and works its way left.\n",
        "\n",
        "-----\n",
        "\n",
        "## **The Simplest Case: Array and a Scalar**\n",
        "\n",
        "The most common example of broadcasting is when you perform an operation between an array and a single number (a scalar). In this case, NumPy conceptually \"stretches\" or \"duplicates\" the scalar to match the shape of the array.\n",
        "\n",
        "```python\n",
        "import numpy as np\n",
        "\n",
        "x = np.array([10, 8, 16, 100])\n",
        "\n",
        "# Here, the scalar 2 is \"broadcast\" across the array x\n",
        "result = x + 2\n",
        "print(f\"Scalar Addition:\\n{result}\")\n",
        "```\n",
        "\n",
        "**Output:**\n",
        "\n",
        "```\n",
        "Scalar Addition:\n",
        "[ 12  10  18 102]\n",
        "```\n",
        "\n",
        "This also works for multi-dimensional arrays. The scalar is broadcast to every single element.\n",
        "\n",
        "```python\n",
        "matrix = np.array([\n",
        "    [10, 20, 30],\n",
        "    [40, 50, 60]\n",
        "])\n",
        "\n",
        "# The scalar 2 is added to every element in the matrix\n",
        "print(f\"\\nMatrix + Scalar:\\n{matrix + 2}\")\n",
        "```\n",
        "\n",
        "**Output:**\n",
        "\n",
        "```\n",
        "Matrix + Scalar:\n",
        "[[12 22 32]\n",
        " [42 52 62]]\n",
        "```\n",
        "\n",
        "-----\n",
        "\n",
        "## **The Rules of Broadcasting 📜**\n",
        "\n",
        "For an operation between two arrays to be valid, NumPy follows two simple rules, checked dimension by dimension from right to left:\n",
        "\n",
        "1.  **Rule 1:** If the two arrays have a different number of dimensions, the shape of the one with fewer dimensions is **padded with ones** on its left side.\n",
        "2.  **Rule 2:** In any dimension, the sizes must either be **equal**, or one of them must be **1**.\n",
        "\n",
        "If these conditions are met, the arrays are compatible. If not, a `ValueError` is raised. During the operation, any dimension with size 1 is stretched to match the other array's size in that dimension.\n",
        "\n",
        "### **Example 1: 2D Matrix + 1D Vector**\n",
        "\n",
        "Let's see how the rules apply when adding a matrix and a vector.\n",
        "\n",
        "```python\n",
        "matrix = np.array([\n",
        "    [10, 20, 30],\n",
        "    [40, 50, 60]\n",
        "])\n",
        "vector = np.array([1, 2, 3])\n",
        "\n",
        "# Operation: matrix + vector\n",
        "# Matrix Shape: (2, 3)\n",
        "# Vector Shape: (3,)\n",
        "\n",
        "# Rule 1: Pad the vector's shape with a 1 -> (1, 3)\n",
        "# Rule 2: Compare dimensions from right to left:\n",
        "# - Trailing dim: 3 == 3 (OK)\n",
        "# - Next dim:     2 vs 1 (OK, 1 can be stretched to 2)\n",
        "\n",
        "# The vector [1, 2, 3] is stretched to become [[1, 2, 3], [1, 2, 3]]\n",
        "# and then added to the matrix.\n",
        "\n",
        "result = matrix + vector\n",
        "print(f\"Matrix (2,3) + Vector (3,):\\n{result}\")\n",
        "```\n",
        "\n",
        "**Output:**\n",
        "\n",
        "```\n",
        "Matrix (2,3) + Vector (3,):\n",
        "[[11 22 33]\n",
        " [41 52 63]]\n",
        "```\n",
        "\n",
        "### **Example 2: 3D Matrix + 2D Matrix**\n",
        "\n",
        "The same rules apply to higher dimensions.\n",
        "\n",
        "```python\n",
        "matrix_3d = np.array([\n",
        "  [\n",
        "    [10, 20, 30],\n",
        "    [40, 50, 60]\n",
        "  ],\n",
        "  [\n",
        "    [50, 60, 70],\n",
        "    [80, 90, 100]\n",
        "  ]\n",
        "])\n",
        "\n",
        "matrix_2d = np.array([[1, 2, 3], [4, 5, 6]])\n",
        "\n",
        "# Operation: matrix_3d + matrix_2d\n",
        "# 3D Matrix Shape: (2, 2, 3)\n",
        "# 2D Matrix Shape: (2, 3)\n",
        "\n",
        "# Rule 1: Pad the 2D matrix's shape -> (1, 2, 3)\n",
        "# Rule 2: Compare dimensions from right to left:\n",
        "# - Trailing dim: 3 == 3 (OK)\n",
        "# - Next dim:     2 == 2 (OK)\n",
        "# - Leading dim:  2 vs 1 (OK, 1 can be stretched to 2)\n",
        "\n",
        "# The 2D matrix is duplicated along the new leading dimension and\n",
        "# added to each \"layer\" of the 3D matrix.\n",
        "\n",
        "result = matrix_3d + matrix_2d\n",
        "print(f\"\\n3D Matrix (2,2,3) + 2D Matrix (2,3):\\n{result}\")\n",
        "```\n",
        "\n",
        "**Output:**\n",
        "\n",
        "```\n",
        "3D Matrix (2,2,3) + 2D Matrix (2,3):\n",
        "[[[ 11  22  33]\n",
        "  [ 44  55  66]]\n",
        "\n",
        " [[ 51  62  73]\n",
        "  [ 84  95 106]]]\n",
        "```\n",
        "------\n",
        "\n",
        "\n",
        "## **NumPy ব্রডকাস্টিং (Broadcasting)**\n",
        "\n",
        "ব্রডকাস্টিং হলো NumPy-এর একটি শক্তিশালী কৌশল যা আপনাকে **ভিন্ন ভিন্ন শেপের** অ্যারেগুলোর মধ্যে গাণিতিক অপারেশন চালানোর সুযোগ দেয়। এটি অ্যারে অপারেশনগুলোকে ভেক্টরাইজ করার একটি সুবিধাজনক উপায়, যার ফলে লুপিংয়ের কাজটি দক্ষ, প্রি-কম্পাইলড C কোডে সম্পন্ন হয়। দুটি অ্যারের উপর অপারেশন করার সময়, NumPy তাদের শেপগুলোকে এলিমেন্ট-ওয়াইজ তুলনা করে। এটি ডানদিকের (trailing) ডাইমেনশন থেকে শুরু করে বাম দিকে অগ্রসর হয়।\n",
        "\n",
        "-----\n",
        "\n",
        "### **সবচেয়ে সহজ উদাহরণ: অ্যারে এবং একটি স্কেলার**\n",
        "\n",
        "ব্রডকাস্টিংয়ের সবচেয়ে সাধারণ উদাহরণ হলো যখন আপনি একটি অ্যারে এবং একটি একক সংখ্যার (স্কেলার) মধ্যে অপারেশন করেন। এক্ষেত্রে, NumPy অ্যারের শেপের সাথে মেলানোর জন্য স্কেলারটিকে ধারণাগতভাবে \"প্রসারিত\" বা \"ডুপ্লিকেট\" করে।\n",
        "\n",
        "```python\n",
        "import numpy as np\n",
        "\n",
        "x = np.array([10, 8, 16, 100])\n",
        "\n",
        "# এখানে, স্কেলার 2-কে অ্যারে x জুড়ে \"ব্রডকাস্ট\" করা হয়েছে\n",
        "result = x + 2\n",
        "print(f\"স্কেলার যোগ:\\n{result}\")\n",
        "```\n",
        "\n",
        "**আউটপুট:**\n",
        "\n",
        "```\n",
        "স্কেলার যোগ:\n",
        "[ 12  10  18 102]\n",
        "```\n",
        "\n",
        "এটি বহুমাত্রিক (multi-dimensional) অ্যারের ক্ষেত্রেও কাজ করে। স্কেলারটি প্রতিটি উপাদানের সাথে ব্রডকাস্ট করা হয়।\n",
        "\n",
        "```python\n",
        "matrix = np.array([\n",
        "    [10, 20, 30],\n",
        "    [40, 50, 60]\n",
        "])\n",
        "\n",
        "# স্কেলার 2 ম্যাট্রিক্সের প্রতিটি উপাদানের সাথে যোগ করা হয়েছে\n",
        "print(f\"\\nম্যাট্রিক্স + স্কেলার:\\n{matrix + 2}\")\n",
        "```\n",
        "\n",
        "**আউটপুট:**\n",
        "\n",
        "```\n",
        "ম্যাট্রিক্স + স্কেলার:\n",
        "[[12 22 32]\n",
        " [42 52 62]]\n",
        "```\n",
        "\n",
        "-----\n",
        "\n",
        "### **ব্রডকাস্টিংয়ের নিয়মাবলী 📜**\n",
        "\n",
        "দুটি অ্যারের মধ্যে একটি অপারেশন বৈধ হওয়ার জন্য, NumPy ডান থেকে বামে ডাইমেনশন-বাই-ডাইমেনশন দুটি সহজ নিয়ম অনুসরণ করে:\n",
        "\n",
        "1.  **নিয়ম ১:** যদি দুটি অ্যারের ডাইমেনশন সংখ্যা ভিন্ন হয়, তবে কম ডাইমেনশনযুক্ত অ্যারের শেপের বাম দিকে **এক (`1`)** দিয়ে প্যাডিং করা হয়।\n",
        "2.  **নিয়ম ২:** যেকোনো ডাইমেনশনে, আকারগুলো হয় **সমান** হতে হবে, অথবা তাদের মধ্যে একটির আকার **১** হতে হবে।\n",
        "\n",
        "যদি এই শর্তগুলো পূরণ হয়, তবে অ্যারেগুলো সামঞ্জস্যপূর্ণ। যদি না হয়, তবে একটি `ValueError` দেখানো হয়। অপারেশনের সময়, ১ আকারের যেকোনো ডাইমেনশনকে অন্য অ্যারের সেই ডাইমেনশনের আকারের সাথে মেলানোর জন্য প্রসারিত করা হয়।\n",
        "\n",
        "#### **উদাহরণ ১: 2D ম্যাট্রিক্স + 1D ভেক্টর**\n",
        "\n",
        "চলুন দেখি একটি ম্যাট্রিক্স এবং একটি ভেক্টর যোগ করার সময় নিয়মগুলো কীভাবে প্রযোজ্য হয়।\n",
        "\n",
        "```python\n",
        "matrix = np.array([\n",
        "    [10, 20, 30],\n",
        "    [40, 50, 60]\n",
        "])\n",
        "vector = np.array([1, 2, 3])\n",
        "\n",
        "# অপারেশন: matrix + vector\n",
        "# ম্যাট্রিক্সের শেপ: (2, 3)\n",
        "# ভেক্টরের শেপ: (3,)\n",
        "\n",
        "# নিয়ম ১: ভেক্টরের শেপকে ১ দিয়ে প্যাড করা হলো -> (1, 3)\n",
        "# নিয়ম ২: ডান থেকে বামে ডাইমেনশন তুলনা:\n",
        "# - শেষ ডাইমেনশন: 3 == 3 (ঠিক আছে)\n",
        "# - পরবর্তী ডাইমেনশন: 2 বনাম 1 (ঠিক আছে, 1-কে 2 পর্যন্ত প্রসারিত করা যেতে পারে)\n",
        "\n",
        "# ভেক্টর [1, 2, 3]-কে প্রসারিত করে [[1, 2, 3], [1, 2, 3]] বানানো হয়\n",
        "# এবং তারপর ম্যাট্রিক্সের সাথে যোগ করা হয়।\n",
        "\n",
        "result = matrix + vector\n",
        "print(f\"ম্যাট্রিক্স (2,3) + ভেক্টর (3,):\\n{result}\")\n",
        "```\n",
        "\n",
        "**আউটপুট:**\n",
        "\n",
        "```\n",
        "ম্যাট্রিক্স (2,3) + ভেক্টর (3,):\n",
        "[[11 22 33]\n",
        " [41 52 63]]\n",
        "```\n",
        "\n",
        "#### **উদাহরণ ২: 3D ম্যাট্রিক্স + 2D ম্যাট্রিক্স**\n",
        "\n",
        "একই নিয়ম উচ্চতর ডাইমেনশনের ক্ষেত্রেও প্রযোজ্য।\n",
        "\n",
        "```python\n",
        "matrix_3d = np.array([\n",
        "  [\n",
        "    [10, 20, 30],\n",
        "    [40, 50, 60]\n",
        "  ],\n",
        "  [\n",
        "    [50, 60, 70],\n",
        "    [80, 90, 100]\n",
        "  ]\n",
        "])\n",
        "\n",
        "matrix_2d = np.array([[1, 2, 3], [4, 5, 6]])\n",
        "\n",
        "# অপারেশন: matrix_3d + matrix_2d\n",
        "# 3D ম্যাট্রিক্সের শেপ: (2, 2, 3)\n",
        "# 2D ম্যাট্রিক্সের শেপ: (2, 3)\n",
        "\n",
        "# নিয়ম ১: 2D ম্যাট্রিক্সের শেপকে প্যাড করা হলো -> (1, 2, 3)\n",
        "# নিয়ম ২: ডান থেকে বামে ডাইমেনশন তুলনা:\n",
        "# - শেষ ডাইমেনশন: 3 == 3 (ঠিক আছে)\n",
        "# - পরবর্তী ডাইমেনশন: 2 == 2 (ঠিক আছে)\n",
        "# - প্রথম ডাইমেনশন: 2 বনাম 1 (ঠিক আছে, 1-কে 2 পর্যন্ত প্রসারিত করা যেতে পারে)\n",
        "\n",
        "# 2D ম্যাট্রিক্সটিকে নতুন প্রথম ডাইমেনশন বরাবর ডুপ্লিকেট করা হয় এবং\n",
        "# 3D ম্যাট্রিক্সের প্রতিটি \"স্তরের\" সাথে যোগ করা হয়।\n",
        "\n",
        "result = matrix_3d + matrix_2d\n",
        "print(f\"\\n3D ম্যাট্রিক্স (2,2,3) + 2D ম্যাট্রিক্স (2,3):\\n{result}\")\n",
        "```\n",
        "\n",
        "**আউটপুট:**\n",
        "\n",
        "```\n",
        "3D ম্যাট্রিক্স (2,2,3) + 2D ম্যাট্রিক্স (2,3):\n",
        "[[[ 11  22  33]\n",
        "  [ 44  55  66]]\n",
        "\n",
        " [[ 51  62  73]\n",
        "  [ 84  95 106]]]\n",
        "```"
      ],
      "metadata": {
        "id": "lO1XsGbhZjsm"
      }
    },
    {
      "cell_type": "code",
      "source": [
        "x = np.array([10, 8, 16, 100])\n",
        "\n",
        "result = x ** 2\n",
        "\n",
        "print(result)\n",
        "\n",
        "# what happen here?  when we  x ** 2 write this expression it make another array of x size and put [2,2,2,2] and then square to the all element of x\n",
        "\n",
        "# We can also do additon, multplication, moudlas etc\n",
        "result = x + 2\n",
        "print(result)"
      ],
      "metadata": {
        "colab": {
          "base_uri": "https://localhost:8080/"
        },
        "id": "vKrY3kgWaLk7",
        "outputId": "c635872a-9f42-46a8-f206-7db692411f6a"
      },
      "execution_count": null,
      "outputs": [
        {
          "output_type": "stream",
          "name": "stdout",
          "text": [
            "[  100    64   256 10000]\n",
            "[ 12  10  18 102]\n"
          ]
        }
      ]
    },
    {
      "cell_type": "code",
      "source": [
        "# It also work on 2d 3d array\n",
        "matrix = np.array([\n",
        "    [10, 20, 30],\n",
        "    [40, 50, 60]\n",
        "])\n",
        "\n",
        "\n",
        "print(matrix+2)\n",
        "\n",
        "vector = np.array([1, 2, 3])\n",
        "result = matrix + vector\n",
        "print(result)\n",
        "\n",
        "# it workd like:\n",
        "#  10, 20, 30\n",
        "# +1, 2, 3\n",
        "\n",
        "# 40, 50, 60\n",
        "# +1, 2, 3\n",
        "\n",
        "# if colum size matrix and vector same it shows error"
      ],
      "metadata": {
        "colab": {
          "base_uri": "https://localhost:8080/"
        },
        "id": "K4oiPvXxbJ_M",
        "outputId": "d7a4cd5a-7244-406e-a2ff-31418e69fa0a"
      },
      "execution_count": null,
      "outputs": [
        {
          "output_type": "stream",
          "name": "stdout",
          "text": [
            "[[12 22 32]\n",
            " [42 52 62]]\n",
            "[[11 22 33]\n",
            " [41 52 63]]\n"
          ]
        }
      ]
    },
    {
      "cell_type": "code",
      "source": [
        "matrix = np.array([\n",
        "  [\n",
        "    [10, 20, 30],\n",
        "    [40, 50, 60]\n",
        "  ],\n",
        "  [\n",
        "    [50, 60, 70],\n",
        "    [80, 90, 100]\n",
        "  ]\n",
        "])\n",
        "\n",
        "result = matrix +  2\n",
        "print(result)\n",
        "print()\n",
        "\n",
        "vector = np.array([[1, 2, 3],[3,4,5]])\n",
        "result = matrix + vector\n",
        "print(result)\n"
      ],
      "metadata": {
        "colab": {
          "base_uri": "https://localhost:8080/"
        },
        "id": "lD341lcIb4Ke",
        "outputId": "67abdf67-6ce7-47a7-9f2d-1f1c81ac558f"
      },
      "execution_count": null,
      "outputs": [
        {
          "output_type": "stream",
          "name": "stdout",
          "text": [
            "[[[ 12  22  32]\n",
            "  [ 42  52  62]]\n",
            "\n",
            " [[ 52  62  72]\n",
            "  [ 82  92 102]]]\n",
            "\n",
            "[[[ 11  22  33]\n",
            "  [ 43  54  65]]\n",
            "\n",
            " [[ 51  62  73]\n",
            "  [ 83  94 105]]]\n"
          ]
        }
      ]
    },
    {
      "cell_type": "markdown",
      "source": [
        "# **NumPy Logical Functions 🧠**"
      ],
      "metadata": {
        "id": "0SoJH5XEnJC_"
      }
    },
    {
      "cell_type": "markdown",
      "source": [
        "Logical functions in NumPy are essential for data analysis and machine learning, allowing you to perform element-wise comparisons and create \"masks\" to filter your data based on certain conditions.\n",
        "\n",
        "-----\n",
        "\n",
        "## **1. Element-wise Comparisons**\n",
        "\n",
        "Just like arithmetic operators, logical comparison operators (`>`, `<`, `==`, `!=`) work on an **element-wise** basis when applied to NumPy arrays of the same shape. They compare the elements at each corresponding position and return a new **boolean array** of `True` or `False` values.\n",
        "\n",
        "```python\n",
        "import numpy as np\n",
        "\n",
        "x = np.array([10, 20, 30, 40, 50])\n",
        "y = np.array([1, 2, 30, 4, 5])\n",
        "\n",
        "print(f\"Array x: {x}\")\n",
        "print(f\"Array y: {y}\\n\")\n",
        "\n",
        "# Is each element in x GREATER THAN the corresponding element in y?\n",
        "x_is_greater_than_y = x > y\n",
        "print(f\"x > y : {x_is_greater_than_y}\")\n",
        "\n",
        "# Is each element in x LESS THAN the corresponding element in y?\n",
        "x_is_less_than_y = x < y\n",
        "print(f\"x < y : {x_is_less_than_y}\")\n",
        "\n",
        "# Is each element in x EQUAL TO the corresponding element in y?\n",
        "x_is_equal_to_y = x == y\n",
        "print(f\"x == y: {x_is_equal_to_y}\")\n",
        "```\n",
        "\n",
        "**Output:**\n",
        "\n",
        "```\n",
        "Array x: [10 20 30 40 50]\n",
        "Array y: [ 1  2 30  4  5]\n",
        "\n",
        "x > y : [ True  True False  True  True]\n",
        "x < y : [False False False False False]\n",
        "x == y: [False False  True False False]\n",
        "```\n",
        "\n",
        "Notice how the result at index 2 for `x > y` is `False` and `x == y` is `True`, because `30` is not greater than `30`, but it is equal.\n",
        "\n",
        "-----\n",
        "\n",
        "## **2. `np.all()` - Checking if Everything is True**\n",
        "\n",
        "The `np.all()` function takes a boolean array as input and returns a single `True` value only if **every single element** in that array is `True`. Otherwise, it returns `False`.\n",
        "\n",
        "```python\n",
        "# Are ALL elements in x greater than their counterparts in y?\n",
        "print(f\"np.all(x > y): {np.all(x_is_greater_than_y)}\")\n",
        "\n",
        "# Are ALL elements in x less than their counterparts in y?\n",
        "print(f\"np.all(x < y): {np.all(x_is_less_than_y)}\")\n",
        "```\n",
        "\n",
        "**Output:**\n",
        "\n",
        "```\n",
        "np.all(x > y): False\n",
        "np.all(x < y): False\n",
        "```\n",
        "\n",
        "The first result is `False` because the comparison `x > y` resulted in a boolean array that contained one `False` value.\n",
        "\n",
        "-----\n",
        "\n",
        "## **3. `np.any()` - Checking if Anything is True**\n",
        "\n",
        "The `np.any()` function takes a boolean array as input and returns `True` if **at least one element** in that array is `True`. It only returns `False` if all elements are `False`.\n",
        "\n",
        "```python\n",
        "# Is THERE ANY element in x that is greater than its counterpart in y?\n",
        "print(f\"np.any(x > y): {np.any(x_is_greater_than_y)}\")\n",
        "\n",
        "# Is THERE ANY element in x that is equal to its counterpart in y?\n",
        "print(f\"np.any(x == y): {np.any(x_is_equal_to_y)}\")\n",
        "\n",
        "# Is THERE ANY element in x that is less than its counterpart in y?\n",
        "print(f\"np.any(x < y): {np.any(x_is_less_than_y)}\")\n",
        "```\n",
        "\n",
        "**Output:**\n",
        "\n",
        "```\n",
        "np.any(x > y): True\n",
        "np.any(x == y): True\n",
        "np.any(x < y): False\n",
        "```\n",
        "\n",
        "The last result is `False` because the comparison `x < y` produced an array containing only `False` values.\n",
        "\n",
        "---\n",
        "\n",
        "## **NumPy লজিক্যাল ফাংশন 🧠**\n",
        "\n",
        "ডেটা বিশ্লেষণ এবং মেশিন লার্নিং-এর জন্য NumPy-এর লজিক্যাল ফাংশনগুলো অপরিহার্য। এগুলো আপনাকে এলিমেন্ট-ওয়াইজ তুলনা করতে এবং নির্দিষ্ট শর্তের উপর ভিত্তি করে আপনার ডেটা ফিল্টার করার জন্য \"মাস্ক\" (mask) তৈরি করতে সাহায্য করে।\n",
        "\n",
        "-----\n",
        "\n",
        "### **১. এলিমেন্ট-ওয়াইজ তুলনা**\n",
        "\n",
        "অ্যারিথমেটিক অপারেটরগুলোর মতোই, লজিক্যাল কম্পারিজন অপারেটর (`>`, `<`, `==`, `!=`) একই আকারের NumPy অ্যারের উপর **এলিমেন্ট-ওয়াইজ** (element-wise) ভিত্তিতে কাজ করে। এগুলো প্রতিটি সংশ্লিষ্ট অবস্থানের উপাদানগুলোর মধ্যে তুলনা করে এবং `True` বা `False` মান সহ একটি নতুন **বুলিয়ান অ্যারে** রিটার্ন করে।\n",
        "\n",
        "```python\n",
        "import numpy as np\n",
        "\n",
        "x = np.array([10, 20, 30, 40, 50])\n",
        "y = np.array([1, 2, 30, 4, 5])\n",
        "\n",
        "print(f\"অ্যারে x: {x}\")\n",
        "print(f\"অ্যারে y: {y}\\n\")\n",
        "\n",
        "# x-এর প্রতিটি উপাদান কি y-এর সংশ্লিষ্ট উপাদানের চেয়ে বড়?\n",
        "x_is_greater_than_y = x > y\n",
        "print(f\"x > y : {x_is_greater_than_y}\")\n",
        "\n",
        "# x-এর প্রতিটি উপাদান কি y-এর সংশ্লিষ্ট উপাদানের চেয়ে ছোট?\n",
        "x_is_less_than_y = x < y\n",
        "print(f\"x < y : {x_is_less_than_y}\")\n",
        "\n",
        "# x-এর প্রতিটি উপাদান কি y-এর সংশ্লিষ্ট উপাদানের সমান?\n",
        "x_is_equal_to_y = x == y\n",
        "print(f\"x == y: {x_is_equal_to_y}\")\n",
        "```\n",
        "\n",
        "**আউটপুট:**\n",
        "\n",
        "```\n",
        "অ্যারে x: [10 20 30 40 50]\n",
        "অ্যারে y: [ 1  2 30  4  5]\n",
        "\n",
        "x > y : [ True  True False  True  True]\n",
        "x < y : [False False False False False]\n",
        "x == y: [False False  True False False]\n",
        "```\n",
        "\n",
        "লক্ষ্য করুন, `x > y`-এর জন্য ইনডেক্স ২-এর ফলাফল `False` এবং `x == y`-এর জন্য `True` হয়েছে, কারণ `30`, `30`-এর চেয়ে বড় নয়, কিন্তু এটি সমান।\n",
        "\n",
        "-----\n",
        "\n",
        "### **২. `np.all()` - সবকিছু True কিনা তা পরীক্ষা করা**\n",
        "\n",
        "`np.all()` ফাংশনটি একটি বুলিয়ান অ্যারে ইনপুট হিসেবে নেয় এবং শুধুমাত্র তখনই একটি `True` মান রিটার্ন করে যদি সেই অ্যারের **প্রতিটি উপাদান** `True` হয়। অন্যথায়, এটি `False` রিটার্ন করে।\n",
        "\n",
        "```python\n",
        "# x-এর সমস্ত উপাদান কি y-এর প্রতিরূপের চেয়ে বড়?\n",
        "print(f\"np.all(x > y): {np.all(x_is_greater_than_y)}\")\n",
        "\n",
        "# x-এর সমস্ত উপাদান কি y-এর প্রতিরূপের চেয়ে ছোট?\n",
        "print(f\"np.all(x < y): {np.all(x_is_less_than_y)}\")\n",
        "```\n",
        "\n",
        "**আউটপুট:**\n",
        "\n",
        "```\n",
        "np.all(x > y): False\n",
        "np.all(x < y): False\n",
        "```\n",
        "\n",
        "প্রথম ফলাফলটি `False` কারণ `x > y` তুলনার ফলে যে বুলিয়ান অ্যারেটি তৈরি হয়েছিল, তাতে একটি `False` মান ছিল।\n",
        "\n",
        "-----\n",
        "\n",
        "### **৩. `np.any()` - কোনো কিছু True কিনা তা পরীক্ষা করা**\n",
        "\n",
        "`np.any()` ফাংশনটি একটি বুলিয়ান অ্যারে ইনপুট হিসেবে নেয় এবং যদি সেই অ্যারেতে **অন্তত একটি উপাদান** `True` থাকে, তবে এটি `True` রিটার্ন করে। এটি শুধুমাত্র তখনই `False` রিটার্ন করে যখন সমস্ত উপাদান `False` থাকে।\n",
        "\n",
        "```python\n",
        "# x-এ কি এমন কোনো উপাদান আছে যা y-এর প্রতিরূপের চেয়ে বড়?\n",
        "print(f\"np.any(x > y): {np.any(x_is_greater_than_y)}\")\n",
        "\n",
        "# x-এ কি এমন কোনো উপাদান আছে যা y-এর প্রতিরূপের সমান?\n",
        "print(f\"np.any(x == y): {np.any(x_is_equal_to_y)}\")\n",
        "\n",
        "# x-এ কি এমন কোনো উপাদান আছে যা y-এর প্রতিরূপের চেয়ে ছোট?\n",
        "print(f\"np.any(x < y): {np.any(x_is_less_than_y)}\")\n",
        "```\n",
        "\n",
        "**আউটপুট:**\n",
        "\n",
        "```\n",
        "np.any(x > y): True\n",
        "np.any(x == y): True\n",
        "np.any(x < y): False\n",
        "```\n",
        "\n",
        "শেষ ফলাফলটি `False` কারণ `x < y` তুলনার ফলে শুধুমাত্র `False` মানযুক্ত একটি অ্যারে তৈরি হয়েছিল।"
      ],
      "metadata": {
        "id": "_jabuU0OnR7e"
      }
    },
    {
      "cell_type": "code",
      "source": [
        "x = np.array([10,20,30,40,50])\n",
        "y = np.array([1,2,3,4,5])\n",
        "\n",
        "# check all is all greater or less than\n",
        "x_is_greaer_than_y = x > y\n",
        "print(x_is_greaer_then_y)\n",
        "\n",
        "\n",
        "x_is_less_than_y = x < y\n",
        "print(x_is_less_than_y)\n",
        "\n",
        "\n",
        "x_is_equal_to_y = x == y\n",
        "print(x_is_less_than_y)\n",
        "\n",
        "# check all value is True in list or not\n",
        "print(np.all(x_is_greaer_than_y))\n",
        "print(np.all(x_is_less_than_y))\n",
        "print(np.all(x_is_equal_to_y))\n",
        "\n",
        "\n",
        "# Check if any value True in list or not\n",
        "print(np.any(x_is_greaer_than_y))\n",
        "print(np.any(x_is_less_than_y))\n",
        "print(np.any(x_is_equal_to_y))\n"
      ],
      "metadata": {
        "colab": {
          "base_uri": "https://localhost:8080/"
        },
        "id": "Q_xTQurplhVL",
        "outputId": "b3739dac-598e-4a21-d4c9-6b8fe88d5969"
      },
      "execution_count": null,
      "outputs": [
        {
          "output_type": "stream",
          "name": "stdout",
          "text": [
            "[ True  True  True  True  True]\n",
            "[False False False False False]\n",
            "[False False False False False]\n",
            "True\n",
            "False\n",
            "False\n",
            "True\n",
            "False\n",
            "False\n"
          ]
        }
      ]
    },
    {
      "cell_type": "markdown",
      "source": [
        "# **`ndarray` Sorting**"
      ],
      "metadata": {
        "id": "x5rnFsxKuCY9"
      }
    },
    {
      "cell_type": "markdown",
      "source": [
        "\n",
        "\n",
        "Sorting is a common operation used to arrange the elements of an array in a specific order (usually ascending). NumPy provides efficient and flexible functions for sorting arrays of any dimension.\n",
        "\n",
        "It's important to understand the two main ways sorting can be done:\n",
        "\n",
        "  * **In-place sort**: The original array is modified directly.\n",
        "  * **Copy sort**: A new, sorted copy of the array is created, leaving the original array unchanged.\n",
        "\n",
        "-----\n",
        "\n",
        "## **1. Sorting 1D Arrays**\n",
        "\n",
        "### **In-place Sorting: `.sort()` Method**\n",
        "\n",
        "The `.sort()` method is called directly on a NumPy array object and sorts it **in-place**.\n",
        "\n",
        "```python\n",
        "import numpy as np\n",
        "\n",
        "x = np.array([50, 30, 40, 10, 20])\n",
        "print(f\"Original array: {x}\")\n",
        "\n",
        "# The .sort() method modifies the array 'x' directly\n",
        "x.sort()\n",
        "print(f\"Array after in-place sort: {x}\")\n",
        "```\n",
        "\n",
        "**Output:**\n",
        "\n",
        "```\n",
        "Original array: [50 30 40 10 20]\n",
        "Array after in--place sort: [10 20 30 40 50]\n",
        "```\n",
        "\n",
        "### **Copy Sorting: `np.sort()` Function**\n",
        "\n",
        "The `np.sort()` function takes an array as an argument and returns a **new, sorted copy**, leaving the original array untouched.\n",
        "\n",
        "```python\n",
        "x = np.array([50, 30, 40, 10, 20])\n",
        "print(f\"Original array: {x}\")\n",
        "\n",
        "# np.sort() returns a sorted copy\n",
        "z = np.sort(x)\n",
        "\n",
        "print(f\"The new sorted array (copy): {z}\")\n",
        "print(f\"The original array is unchanged: {x}\")\n",
        "```\n",
        "\n",
        "**Output:**\n",
        "\n",
        "```\n",
        "Original array: [50 30 40 10 20]\n",
        "The new sorted array (copy): [10 20 30 40 50]\n",
        "The original array is unchanged: [50 30 40 10 20]\n",
        "```\n",
        "\n",
        "-----\n",
        "\n",
        "## **2. Sorting Multi-dimensional Arrays**\n",
        "\n",
        "For 2D or 3D arrays, you can specify the `axis` along which to sort.\n",
        "\n",
        "  * **`axis=1` (Horizontal Sort)**: Sorts the elements **within each row**. This is the default behavior.\n",
        "  * **`axis=0` (Vertical Sort)**: Sorts the elements **down each column**.\n",
        "\n",
        "### **Sorting a 2D Array**\n",
        "\n",
        "```python\n",
        "matrix = np.array([\n",
        "    [20, 10, 8],\n",
        "    [21, 4, 3]\n",
        "])\n",
        "print(f\"Original 2D matrix:\\n{matrix}\\n\")\n",
        "\n",
        "# Horizontal sort (across columns, within each row)\n",
        "sort_horizontal = np.sort(matrix, axis=1) # axis=1 is the default\n",
        "print(f\"Horizontal sort (axis=1):\\n{sort_horizontal}\\n\")\n",
        "\n",
        "# Vertical sort (down rows, within each column)\n",
        "sort_vertical = np.sort(matrix, axis=0)\n",
        "print(f\"Vertical sort (axis=0):\\n{sort_vertical}\")\n",
        "```\n",
        "\n",
        "**Output:**\n",
        "\n",
        "```\n",
        "Original 2D matrix:\n",
        "[[20 10  8]\n",
        " [21  4  3]]\n",
        "\n",
        "Horizontal sort (axis=1):\n",
        "[[ 8 10 20]\n",
        " [ 3  4 21]]\n",
        "\n",
        "Vertical sort (axis=0):\n",
        "[[20  4  3]\n",
        " [21 10  8]]\n",
        "```\n",
        "\n",
        "### **Sorting a 3D Array**\n",
        "\n",
        "The same axis logic applies to 3D arrays. `axis=1` will sort within each \"row\" of each 2D slice, while `axis=0` will sort \"vertically\" across the different 2D slices.\n",
        "\n",
        "```python\n",
        "matrix_3d = np.array([\n",
        "  [\n",
        "    [20, 30, 10],\n",
        "    [60, 40, 50]\n",
        "  ],\n",
        "  [\n",
        "    [80, 50, 90],\n",
        "    [100, 90, 10]\n",
        "  ]\n",
        "])\n",
        "print(f\"Original 3D matrix:\\n{matrix_3d}\\n\")\n",
        "\n",
        "# Horizontal sort (axis=1 is the default for 3D as well)\n",
        "sort_horizontal_3d = np.sort(matrix_3d, axis=1)\n",
        "print(f\"Horizontal sort (axis=1) on 3D array:\\n{sort_horizontal_3d}\\n\")\n",
        "\n",
        "# Vertical sort (axis=0)\n",
        "sort_vertical_3d = np.sort(matrix_3d, axis=0)\n",
        "print(f\"Vertical sort (axis=0) on 3D array:\\n{sort_vertical_3d}\")\n",
        "```\n",
        "\n",
        "**Output:**\n",
        "\n",
        "```\n",
        "Original 3D matrix:\n",
        "[[[ 20  30  10]\n",
        "  [ 60  40  50]]\n",
        "\n",
        " [[ 80  50  90]\n",
        "  [100  90  10]]]\n",
        "\n",
        "Horizontal sort (axis=1) on 3D array:\n",
        "[[[ 10  20  30]\n",
        "  [ 40  50  60]]\n",
        "\n",
        " [[ 50  80  90]\n",
        "  [ 10  90 100]]]\n",
        "\n",
        "Vertical sort (axis=0) on 3D array:\n",
        "[[[ 20  30  10]\n",
        "  [ 60  40  10]]\n",
        "\n",
        " [[ 80  50  90]\n",
        "  [100  90  50]]]\n",
        "```\n",
        "\n",
        "__\n",
        "\n",
        "\n",
        "\n",
        "## **`ndarray` সর্টিং (Sorting)**\n",
        "\n",
        "সর্টিং একটি সাধারণ অপারেশন যা একটি অ্যারের উপাদানগুলোকে একটি নির্দিষ্ট ক্রমে (সাধারণত ঊর্ধক্রমে) সাজাতে ব্যবহৃত হয়। NumPy যেকোনো ডাইমেনশনের অ্যারে সর্ট করার জন্য কার্যকর এবং নমনীয় ফাংশন সরবরাহ করে।\n",
        "\n",
        "সর্টিং করার দুটি প্রধান উপায় বোঝা গুরুত্বপূর্ণ:\n",
        "\n",
        "  * **ইন-প্লেস সর্ট (In-place sort)**: মূল অ্যারেটি সরাসরি পরিবর্তিত হয়।\n",
        "  * **কপি সর্ট (Copy sort)**: অ্যারের একটি নতুন, সর্ট করা কপি তৈরি হয়, যা মূল অ্যারেটিকে অপরিবর্তিত রাখে।\n",
        "\n",
        "-----\n",
        "\n",
        "### **১. 1D অ্যারে সর্টিং**\n",
        "\n",
        "#### **ইন-প্লেস সর্টিং: `.sort()` মেথড**\n",
        "\n",
        "`.sort()` মেথডটি সরাসরি একটি NumPy অ্যারে অবজেক্টের উপর কল করা হয় এবং এটিকে **ইন-প্লেস** সর্ট করে।\n",
        "\n",
        "```python\n",
        "import numpy as np\n",
        "\n",
        "x = np.array([50, 30, 40, 10, 20])\n",
        "print(f\"মূল অ্যারে: {x}\")\n",
        "\n",
        "# .sort() মেথডটি 'x' অ্যারেটিকে সরাসরি পরিবর্তন করে\n",
        "x.sort()\n",
        "print(f\"ইন-প্লেস সর্টের পর অ্যারে: {x}\")\n",
        "```\n",
        "\n",
        "**আউটপুট:**\n",
        "\n",
        "```\n",
        "মূল অ্যারে: [50 30 40 10 20]\n",
        "ইন-প্লেস সর্টের পর অ্যারে: [10 20 30 40 50]\n",
        "```\n",
        "\n",
        "#### **কপি সর্টিং: `np.sort()` ফাংশন**\n",
        "\n",
        "`np.sort()` ফাংশনটি একটি অ্যারে আর্গুমেন্ট হিসেবে নেয় এবং একটি **নতুন, সর্ট করা কপি** রিটার্ন করে, যা মূল অ্যারেটিকে অপরিবর্তিত রাখে।\n",
        "\n",
        "```python\n",
        "x = np.array([50, 30, 40, 10, 20])\n",
        "print(f\"মূল অ্যারে: {x}\")\n",
        "\n",
        "# np.sort() একটি সর্ট করা কপি রিটার্ন করে\n",
        "z = np.sort(x)\n",
        "\n",
        "print(f\"নতুন সর্ট করা অ্যারে (কপি): {z}\")\n",
        "print(f\"মূল অ্যারেটি অপরিবর্তিত আছে: {x}\")\n",
        "```\n",
        "\n",
        "**আউটপুট:**\n",
        "\n",
        "```\n",
        "মূল অ্যারে: [50 30 40 10 20]\n",
        "নতুন সর্ট করা অ্যারে (কপি): [10 20 30 40 50]\n",
        "মূল অ্যারেটি অপরিবর্তিত আছে: [50 30 40 10 20]\n",
        "```\n",
        "\n",
        "-----\n",
        "\n",
        "### **২. বহুমাত্রিক (Multi-dimensional) অ্যারে সর্টিং**\n",
        "\n",
        "2D বা 3D অ্যারের জন্য, আপনি কোন `axis` বরাবর সর্ট করতে চান তা নির্দিষ্ট করতে পারেন।\n",
        "\n",
        "  * **`axis=1` (আনুভূমিক বা Horizontal Sort)**: **প্রতিটি সারির মধ্যে** উপাদানগুলোকে সর্ট করে। এটি ডিফল্ট আচরণ।\n",
        "  * **`axis=0` (উল্লম্ব বা Vertical Sort)**: **প্রতিটি কলাম বরাবর নিচের দিকে** উপাদানগুলোকে সর্ট করে।\n",
        "\n",
        "#### **2D অ্যারে সর্টিং**\n",
        "\n",
        "```python\n",
        "matrix = np.array([\n",
        "    [20, 10, 8],\n",
        "    [21, 4, 3]\n",
        "])\n",
        "print(f\"মূল 2D ম্যাট্রিক্স:\\n{matrix}\\n\")\n",
        "\n",
        "# আনুভূমিক সর্ট (কলাম বরাবর, প্রতিটি সারির মধ্যে)\n",
        "sort_horizontal = np.sort(matrix, axis=1) # axis=1 ডিফল্ট\n",
        "print(f\"আনুভূমিক সর্ট (axis=1):\\n{sort_horizontal}\\n\")\n",
        "\n",
        "# উল্লম্ব সর্ট (সারি বরাবর নিচে, প্রতিটি কলামের মধ্যে)\n",
        "sort_vertical = np.sort(matrix, axis=0)\n",
        "print(f\"উল্লম্ব সর্ট (axis=0):\\n{sort_vertical}\")\n",
        "```\n",
        "\n",
        "**আউটপুট:**\n",
        "\n",
        "```\n",
        "মূল 2D ম্যাট্রিক্স:\n",
        "[[20 10  8]\n",
        " [21  4  3]]\n",
        "\n",
        "আনুভূমিক সর্ট (axis=1):\n",
        "[[ 8 10 20]\n",
        " [ 3  4 21]]\n",
        "\n",
        "উল্লম্ব সর্ট (axis=0):\n",
        "[[20  4  3]\n",
        " [21 10  8]]\n",
        "```\n",
        "\n",
        "#### **3D অ্যারে সর্টিং**\n",
        "\n",
        "একই axis-এর যুক্তি 3D অ্যারের ক্ষেত্রেও প্রযোজ্য।\n",
        "\n",
        "```python\n",
        "matrix_3d = np.array([\n",
        "  [\n",
        "    [20, 30, 10],\n",
        "    [60, 40, 50]\n",
        "  ],\n",
        "  [\n",
        "    [80, 50, 90],\n",
        "    [100, 90, 10]\n",
        "  ]\n",
        "])\n",
        "print(f\"মূল 3D ম্যাট্রিক্স:\\n{matrix_3d}\\n\")\n",
        "\n",
        "# আনুভূমিক সর্ট (axis=1)\n",
        "sort_horizontal_3d = np.sort(matrix_3d, axis=1)\n",
        "print(f\"3D অ্যারেতে আনুভূমিক সর্ট (axis=1):\\n{sort_horizontal_3d}\\n\")\n",
        "\n",
        "# উল্লম্ব সর্ট (axis=0)\n",
        "sort_vertical_3d = np.sort(matrix_3d, axis=0)\n",
        "print(f\"3D অ্যারেতে উল্লম্ব সর্ট (axis=0):\\n{sort_vertical_3d}\")\n",
        "```\n",
        "\n",
        "**আউটপুট:**\n",
        "\n",
        "```\n",
        "মূল 3D ম্যাট্রিক্স:\n",
        "[[[ 20  30  10]\n",
        "  [ 60  40  50]]\n",
        "\n",
        " [[ 80  50  90]\n",
        "  [100  90  10]]]\n",
        "\n",
        "3D অ্যারেতে আনুভূমিক সর্ট (axis=1):\n",
        "[[[ 10  20  30]\n",
        "  [ 40  50  60]]\n",
        "\n",
        " [[ 50  80  90]\n",
        "  [ 10  90 100]]]\n",
        "\n",
        "3D অ্যারেতে উল্লম্ব সর্ট (axis=0):\n",
        "[[[ 20  30  10]\n",
        "  [ 60  40  10]]\n",
        "\n",
        " [[ 80  50  90]\n",
        "  [100  90  50]]]\n",
        "```"
      ],
      "metadata": {
        "id": "-Inij0KMo2e7"
      }
    },
    {
      "cell_type": "code",
      "source": [
        "# inplace sort 1d\n",
        "x = np.array([50,30,40,10,20])\n",
        "z = x.copy()\n",
        "\n",
        "print(z)\n",
        "z.sort() # sort z and store in z\n",
        "print(z)"
      ],
      "metadata": {
        "colab": {
          "base_uri": "https://localhost:8080/"
        },
        "id": "DEaPlgDZpo3J",
        "outputId": "fdf2f0bd-24e3-4d78-c4c8-ddfff4230670"
      },
      "execution_count": null,
      "outputs": [
        {
          "output_type": "stream",
          "name": "stdout",
          "text": [
            "[50 30 40 10 20]\n",
            "[10 20 30 40 50]\n"
          ]
        }
      ]
    },
    {
      "cell_type": "code",
      "source": [
        "# copy sorting\n",
        "x = np.array([50,30,40,10,20])\n",
        "z = np.sort(x) # it make copy of x and sort store it to z\n",
        "\n",
        "\n",
        "print(z)\n",
        "print(x)"
      ],
      "metadata": {
        "colab": {
          "base_uri": "https://localhost:8080/"
        },
        "id": "R1sBv8yUqdeh",
        "outputId": "a3179111-fce7-4729-eefc-3b0ae924e5c5"
      },
      "execution_count": null,
      "outputs": [
        {
          "output_type": "stream",
          "name": "stdout",
          "text": [
            "[10 20 30 40 50]\n",
            "[50 30 40 10 20]\n"
          ]
        }
      ]
    },
    {
      "cell_type": "code",
      "source": [
        "# 2d sorting\n",
        "# It can be horizonatl sort or vertical\n",
        "# horizon: axis= 1\n",
        "# vertical: axis = 0\n",
        "\n",
        "\n",
        "matrix=  [\n",
        "    [20, 10, 8],\n",
        "    [21, 4, 3]\n",
        "  ]\n",
        "\n",
        "sort_horizontal = np.sort(matrix) # by defaul it sort horizontally\n",
        "print(sort_horizontal)\n",
        "\n",
        "sort_vertical = np.sort(matrix, axis=0)\n",
        "print(sort_vertical)\n",
        "\n",
        "print()\n",
        "matrix = np.array([\n",
        "  [\n",
        "    [20,30, 10 ],\n",
        "    [60, 40, 50]\n",
        "  ],\n",
        "  [\n",
        "    [80, 50, 90],\n",
        "    [100, 90, 10]\n",
        "  ]\n",
        "])\n",
        "\n",
        "# 3d\n",
        "sort_horizontal = np.sort(matrix) # by defaul it sort horizontally\n",
        "print(sort_horizontal)\n",
        "print()\n",
        "sort_vertical = np.sort(matrix, axis=0)\n",
        "print(sort_vertical)"
      ],
      "metadata": {
        "colab": {
          "base_uri": "https://localhost:8080/"
        },
        "id": "jgehTfnxrKjd",
        "outputId": "8a18801a-c0c0-4df9-c0da-85d54e9fbad5"
      },
      "execution_count": null,
      "outputs": [
        {
          "output_type": "stream",
          "name": "stdout",
          "text": [
            "[[ 8 10 20]\n",
            " [ 3  4 21]]\n",
            "[[20  4  3]\n",
            " [21 10  8]]\n",
            "\n",
            "[[[ 10  20  30]\n",
            "  [ 40  50  60]]\n",
            "\n",
            " [[ 50  80  90]\n",
            "  [ 10  90 100]]]\n",
            "\n",
            "[[[ 20  30  10]\n",
            "  [ 60  40  10]]\n",
            "\n",
            " [[ 80  50  90]\n",
            "  [100  90  50]]]\n"
          ]
        }
      ]
    },
    {
      "cell_type": "markdown",
      "source": [
        "# **`ndarray` Searching and Counting**"
      ],
      "metadata": {
        "id": "5RMu9cC3J2PJ"
      }
    },
    {
      "cell_type": "markdown",
      "source": [
        "Finding elements that meet certain criteria and counting their occurrences are fundamental tasks in data analysis. NumPy provides highly optimized functions for these operations.\n",
        "\n",
        "-----\n",
        "\n",
        "## **1. Searching for Elements**\n",
        "\n",
        "### **`np.where()` - Finding Indices**\n",
        "\n",
        "The `np.where()` function is incredibly versatile for finding the indices of elements that satisfy a condition.\n",
        "\n",
        "**Syntax 1: `np.where(condition)`**\n",
        "This returns a tuple of arrays, one for each dimension, containing the indices of the elements where the condition is `True`.\n",
        "\n",
        "```python\n",
        "import numpy as np\n",
        "\n",
        "x = np.array([50, 30, 40, 10, 20])\n",
        "\n",
        "# Find the index where the value is exactly 10\n",
        "index_eq = np.where(x == 10)\n",
        "print(f\"Index where x == 10: {index_eq}\")\n",
        "\n",
        "# Find indices where values are greater than 20\n",
        "index_gt = np.where(x > 20)\n",
        "print(f\"Indices where x > 20: {index_gt}\")\n",
        "```\n",
        "\n",
        "**Output:**\n",
        "\n",
        "```\n",
        "Index where x == 10: (array([3]),)\n",
        "Indices where x > 20: (array([0, 1, 2]),)\n",
        "```\n",
        "\n",
        "For a 2D array, the output is a tuple of two arrays: `(row_indices, column_indices)`.\n",
        "\n",
        "```python\n",
        "matrix = np.array([\n",
        "    [20, 10, 8],\n",
        "    [21, 4, 3]\n",
        "])\n",
        "index_2d = np.where(matrix >= 20)\n",
        "print(f\"\\nIndices in 2D array >= 20: {index_2d}\")\n",
        "```\n",
        "\n",
        "**Output:**\n",
        "\n",
        "```\n",
        "Indices in 2D array >= 20: (array([0, 1]), array([0, 0]))\n",
        "```\n",
        "\n",
        "This means the condition is met at `(row 0, col 0)` and `(row 1, col 0)`.\n",
        "\n",
        "-----\n",
        "\n",
        "**Syntax 2: `np.where(condition, x, y)`**\n",
        "This is a powerful conditional operation. It returns a new array where elements are taken from `x` if the condition is `True`, and from `y` if the condition is `False`.\n",
        "\n",
        "```python\n",
        "y = np.array([60, 30, 30, 10, 40])\n",
        "\n",
        "# If x > y, the new element is 1, otherwise it's 0\n",
        "new_arr = np.where(x > y, 1, 0)\n",
        "print(f\"\\nConditional replacement (x > y): {new_arr}\")\n",
        "```\n",
        "\n",
        "**Output:**\n",
        "\n",
        "```\n",
        "Conditional replacement (x > y): [0 0 1 0 0]\n",
        "```\n",
        "\n",
        "-----\n",
        "\n",
        "### **`np.argmax()` and `np.argmin()` - Finding Extrema Indices**\n",
        "\n",
        "These functions return the index of the **first occurrence** of the maximum or minimum value in an array. For a 2D array, it first flattens the array and then finds the index.\n",
        "\n",
        "```python\n",
        "x = np.array([50, 30, 40, 10, 50]) # 50 appears twice\n",
        "\n",
        "# Find the index of the maximum value\n",
        "max_val_index = np.argmax(x)\n",
        "print(f\"\\nIndex of first max value: {max_val_index}\")\n",
        "\n",
        "# Find the index of the minimum value\n",
        "min_val_index = np.argmin(x)\n",
        "print(f\"Index of min value: {min_val_index}\")\n",
        "```\n",
        "\n",
        "**Output:**\n",
        "\n",
        "```\n",
        "Index of first max value: 0\n",
        "Index of min value: 3\n",
        "```\n",
        "\n",
        "-----\n",
        "\n",
        "## **2. Counting Elements**\n",
        "\n",
        "### **`np.count_nonzero()` - Counting Based on a Condition**\n",
        "\n",
        "A clever way to count elements that satisfy a condition is to use `np.count_nonzero()`. The conditional expression (e.g., `a > 43`) creates a boolean array (`True`/`False`), and `count_nonzero` effectively counts the number of `True` values.\n",
        "\n",
        "```python\n",
        "a = np.array([50, 12, 43, 88, 43, 99])\n",
        "\n",
        "print(f\"Count of elements > 43: {np.count_nonzero(a > 43)}\")\n",
        "print(f\"Count of elements == 43: {np.count_nonzero(a == 43)}\")\n",
        "```\n",
        "\n",
        "**Output:**\n",
        "\n",
        "```\n",
        "Count of elements > 43: 3\n",
        "Count of elements == 43: 2\n",
        "```\n",
        "\n",
        "-----\n",
        "\n",
        "### **`np.unique()` - Finding and Counting Unique Values**\n",
        "\n",
        "The `np.unique()` function is used to find the unique elements in an array. It can also be configured to return the counts of each unique element.\n",
        "\n",
        "**Syntax:** `np.unique(ar, return_counts=False)`\n",
        "\n",
        "```python\n",
        "a = np.array([1, 2, 2, 3, 3, 3, 4, 4, 4, 4])\n",
        "\n",
        "# Find only the unique values\n",
        "unique_values = np.unique(a)\n",
        "print(f\"\\nUnique values: {unique_values}\\n\")\n",
        "\n",
        "# Find unique values and their corresponding counts\n",
        "uni_value, count_univalue = np.unique(a, return_counts=True)\n",
        "\n",
        "print(\"Unique Values | Counts\")\n",
        "print(\"-----------------------\")\n",
        "for val, count in zip(uni_value, count_univalue):\n",
        "    print(f\"{val:13} | {count}\")\n",
        "```\n",
        "\n",
        "**Output:**\n",
        "\n",
        "```\n",
        "Unique values: [1 2 3 4]\n",
        "\n",
        "Unique Values | Counts\n",
        "-----------------------\n",
        "            1 | 1\n",
        "            2 | 2\n",
        "            3 | 3\n",
        "            4 | 4\n",
        "```\n",
        "\n",
        "___\n",
        "\n",
        "## **`ndarray` সার্চিং এবং কাউন্টিং**\n",
        "\n",
        "নির্দিষ্ট শর্ত পূরণকারী উপাদান খুঁজে বের করা এবং তাদের সংখ্যা গণনা করা ডেটা বিশ্লেষণের মৌলিক কাজ। NumPy এই অপারেশনগুলোর জন্য অত্যন্ত অপ্টিমাইজড ফাংশন সরবরাহ করে।\n",
        "\n",
        "-----\n",
        "\n",
        "### **১. উপাদান খোঁজা (Searching for Elements)**\n",
        "\n",
        "#### **`np.where()` - ইনডেক্স খোঁজা**\n",
        "\n",
        "`np.where()` ফাংশনটি কোনো শর্ত পূরণকারী উপাদানগুলোর ইনডেক্স খুঁজে বের করার জন্য অত্যন্ত বহুমুখী।\n",
        "\n",
        "**সিনট্যাক্স ১: `np.where(condition)`**\n",
        "এটি ডাইমেনশন অনুযায়ী একটি টুপল রিটার্ন করে, যেখানে শর্তটি `True` হয় এমন উপাদানগুলোর ইনডেক্স থাকে।\n",
        "\n",
        "```python\n",
        "import numpy as np\n",
        "\n",
        "x = np.array([50, 30, 40, 10, 20])\n",
        "\n",
        "# যে ইনডেক্সে মান 10 আছে তা খোঁজা\n",
        "index_eq = np.where(x == 10)\n",
        "print(f\"যেখানে x == 10 তার ইনডেক্স: {index_eq}\")\n",
        "\n",
        "# যে ইনডেক্সগুলোতে মান 20 এর চেয়ে বড় তা খোঁজা\n",
        "index_gt = np.where(x > 20)\n",
        "print(f\"যেখানে x > 20 তার ইনডেক্স: {index_gt}\")\n",
        "```\n",
        "\n",
        "**আউটপুট:**\n",
        "\n",
        "```\n",
        "যেখানে x == 10 তার ইনডেক্স: (array([3]),)\n",
        "যেখানে x > 20 তার ইনডেক্স: (array([0, 1, 2]),)\n",
        "```\n",
        "\n",
        "একটি 2D অ্যারের জন্য, আউটপুটটি দুটি অ্যারের একটি টুপল হয়: `(সারি_ইনডেক্স, কলাম_ইনডেক্স)`।\n",
        "\n",
        "```python\n",
        "matrix = np.array([\n",
        "    [20, 10, 8],\n",
        "    [21, 4, 3]\n",
        "])\n",
        "index_2d = np.where(matrix >= 20)\n",
        "print(f\"\\n2D অ্যারেতে >= 20 এমন ইনডেক্স: {index_2d}\")\n",
        "```\n",
        "\n",
        "**আউটপুট:**\n",
        "\n",
        "```\n",
        "2D অ্যারেতে >= 20 এমন ইনডেক্স: (array([0, 1]), array([0, 0]))\n",
        "```\n",
        "\n",
        "এর মানে হলো শর্তটি `(সারি ০, কলাম ০)` এবং `(সারি ১, কলাম ০)` অবস্থানে পূরণ হয়েছে।\n",
        "\n",
        "-----\n",
        "\n",
        "**সিনট্যাক্স ২: `np.where(condition, x, y)`**\n",
        "এটি একটি শক্তিশালী শর্তসাপেক্ষ অপারেশন। এটি একটি নতুন অ্যারে রিটার্ন করে যেখানে শর্তটি `True` হলে `x` থেকে এবং `False` হলে `y` থেকে উপাদান নেওয়া হয়।\n",
        "\n",
        "```python\n",
        "y = np.array([60, 30, 30, 10, 40])\n",
        "\n",
        "# যদি x > y হয়, নতুন উপাদান হবে 1, অন্যথায় 0\n",
        "new_arr = np.where(x > y, 1, 0)\n",
        "print(f\"\\nশর্তসাপেক্ষ প্রতিস্থাপন (x > y): {new_arr}\")\n",
        "```\n",
        "\n",
        "**আউটপুট:**\n",
        "\n",
        "```\n",
        "শর্তসাপেক্ষ প্রতিস্থাপন (x > y): [0 0 1 0 0]\n",
        "```\n",
        "\n",
        "-----\n",
        "\n",
        "#### **`np.argmax()` এবং `np.argmin()` - এক্সট্রিমা ইনডেক্স খোঁজা**\n",
        "\n",
        "এই ফাংশনগুলো একটি অ্যারের মধ্যে সর্বোচ্চ বা সর্বনিম্ন মানের **প্রথম ocorrência** (প্রথমবার যেখানে পাওয়া গেছে)-এর ইনডেক্স রিটার্ন করে। 2D অ্যারের ক্ষেত্রে, এটি প্রথমে অ্যারেটিকে ফ্ল্যাট করে তারপর ইনডেক্স খুঁজে বের করে।\n",
        "\n",
        "```python\n",
        "x = np.array([50, 30, 40, 10, 50]) # 50 দুইবার আছে\n",
        "\n",
        "# সর্বোচ্চ মানের ইনডেক্স খোঁজা\n",
        "max_val_index = np.argmax(x)\n",
        "print(f\"\\nপ্রথম সর্বোচ্চ মানের ইনডেক্স: {max_val_index}\")\n",
        "\n",
        "# সর্বনিম্ন মানের ইনডেক্স খোঁজা\n",
        "min_val_index = np.argmin(x)\n",
        "print(f\"সর্বনিম্ন মানের ইনডেক্স: {min_val_index}\")\n",
        "```\n",
        "\n",
        "**আউটপুট:**\n",
        "\n",
        "```\n",
        "প্রথম সর্বোচ্চ মানের ইনডেক্স: 0\n",
        "সর্বনিম্ন মানের ইনডেক্স: 3\n",
        "```\n",
        "\n",
        "-----\n",
        "\n",
        "### **২. উপাদান গণনা করা (Counting Elements)**\n",
        "\n",
        "#### **`np.count_nonzero()` - শর্তের উপর ভিত্তি করে গণনা**\n",
        "\n",
        "একটি শর্ত পূরণকারী উপাদান গণনা করার একটি চতুর উপায় হলো `np.count_nonzero()` ব্যবহার করা। শর্তমূলক এক্সপ্রেশন (যেমন, `a > 43`) একটি বুলিয়ান অ্যারে (`True`/`False`) তৈরি করে এবং `count_nonzero` কার্যকরভাবে `True` মানের সংখ্যা গণনা করে।\n",
        "\n",
        "```python\n",
        "a = np.array([50, 12, 43, 88, 43, 99])\n",
        "\n",
        "print(f\"43 এর চেয়ে বড় উপাদানের সংখ্যা: {np.count_nonzero(a > 43)}\")\n",
        "print(f\"43 এর সমান উপাদানের সংখ্যা: {np.count_nonzero(a == 43)}\")\n",
        "```\n",
        "\n",
        "**আউটপুট:**\n",
        "\n",
        "```\n",
        "43 এর চেয়ে বড় উপাদানের সংখ্যা: 3\n",
        "43 এর সমান উপাদানের সংখ্যা: 2\n",
        "```\n",
        "\n",
        "-----\n",
        "\n",
        "#### **`np.unique()` - ইউনিক মান খোঁজা এবং গণনা**\n",
        "\n",
        "`np.unique()` ফাংশনটি একটি অ্যারের মধ্যে ইউনিক বা স্বতন্ত্র উপাদানগুলো খুঁজে বের করতে ব্যবহৃত হয়। এটি প্রতিটি ইউনিক উপাদানের সংখ্যা গণনা করার জন্যও কনফিগার করা যেতে পারে।\n",
        "\n",
        "**সিনট্যাক্স:** `np.unique(ar, return_counts=False)`\n",
        "\n",
        "```python\n",
        "a = np.array([1, 2, 2, 3, 3, 3, 4, 4, 4, 4])\n",
        "\n",
        "# শুধুমাত্র ইউনিক মানগুলো খোঁজা\n",
        "unique_values = np.unique(a)\n",
        "print(f\"\\nইউনিক মানসমূহ: {unique_values}\\n\")\n",
        "\n",
        "# ইউনিক মান এবং তাদের নিজ নিজ সংখ্যা খোঁজা\n",
        "uni_value, count_univalue = np.unique(a, return_counts=True)\n",
        "\n",
        "print(\"ইউনিক মান | সংখ্যা\")\n",
        "print(\"-----------------------\")\n",
        "for val, count in zip(uni_value, count_univalue):\n",
        "    print(f\"{val:10} | {count}\")\n",
        "```\n",
        "\n",
        "**আউটপুট:**\n",
        "\n",
        "```\n",
        "ইউনিক মানসমূহ: [1 2 3 4]\n",
        "\n",
        "ইউনিক মান | সংখ্যা\n",
        "-----------------------\n",
        "         1 | 1\n",
        "         2 | 2\n",
        "         3 | 3\n",
        "         4 | 4\n",
        "```"
      ],
      "metadata": {
        "id": "zHm37_ij71R5"
      }
    },
    {
      "cell_type": "code",
      "source": [
        "x = np.array([50, 30, 40, 10, 20])\n",
        "\n",
        "# np.where\n",
        "# find any item in x if find return the index\n",
        "index = np.where(x==10) # retrun index\n",
        "\n",
        "print(index)\n",
        "\n",
        "# find index of value gretger 20\n",
        "index = np.where(x>20)\n",
        "print(index)\n",
        "\n",
        "# find index of value less 20\n",
        "index = np.where(x<20) # retrun indexs\n",
        "print(index)\n",
        "\n",
        "\n",
        "# np.where(conditon, x, y) if ture x, other wise y\n",
        "y = np.array([60, 30, 30, 10, 40])\n",
        "new_arr = np.array(np.where(x>y, 1, 0)) # retrun array\n",
        "print(new_arr)"
      ],
      "metadata": {
        "colab": {
          "base_uri": "https://localhost:8080/"
        },
        "id": "3WIBgQpe8IoI",
        "outputId": "df018cd0-a18f-4205-b0f1-43baa8274c24"
      },
      "execution_count": null,
      "outputs": [
        {
          "output_type": "stream",
          "name": "stdout",
          "text": [
            "(array([3]),)\n",
            "(array([0, 1, 2]),)\n",
            "(array([3]),)\n",
            "[0 0 1 0 0]\n"
          ]
        }
      ]
    },
    {
      "cell_type": "code",
      "source": [
        "# working with 2d array\n",
        "matrix = np.array([\n",
        "    [20, 10, 8],\n",
        "    [21, 4, 3]\n",
        "])\n",
        "\n",
        "index = np.where(matrix>=20)\n",
        "print(index)\n",
        "\n",
        "\n",
        "# here first portion is row No(array([0, 1]), and second portion is colum no array([0, 0]))\n",
        "\n",
        "# we also replace with other value with conditon\n",
        "arr = np.where(matrix>=20, 1, 0)\n",
        "print(arr)"
      ],
      "metadata": {
        "colab": {
          "base_uri": "https://localhost:8080/"
        },
        "id": "vmJ8cVg5-dZZ",
        "outputId": "37e2ee98-2480-4440-fd5c-eda62bcbc77d"
      },
      "execution_count": null,
      "outputs": [
        {
          "output_type": "stream",
          "name": "stdout",
          "text": [
            "(array([0, 1]), array([0, 0]))\n",
            "[[1 0 0]\n",
            " [1 0 0]]\n",
            "[[20 10  8]\n",
            " [21  4  3]]\n"
          ]
        }
      ]
    },
    {
      "cell_type": "code",
      "source": [
        "\n",
        "x = np.array([50, 30, 40, 10, 50])\n",
        "\n",
        "# find maximu value index from arr\n",
        "max_val_index = np.argmax(x)\n",
        "print(max_val_index)\n",
        "\n",
        "# find minimum value index from arr\n",
        "min_val_index = np.argmin(x)\n",
        "print(min_val_index)\n",
        "#note if maximum or minimum value morte than one it always return first one index\n"
      ],
      "metadata": {
        "colab": {
          "base_uri": "https://localhost:8080/"
        },
        "id": "_C0h2ukjAOdR",
        "outputId": "48a9ac4d-65df-44dc-aced-829ee53d6cc4"
      },
      "execution_count": null,
      "outputs": [
        {
          "output_type": "stream",
          "name": "stdout",
          "text": [
            "0\n",
            "3\n"
          ]
        }
      ]
    },
    {
      "cell_type": "code",
      "source": [
        "matrix = np.array([\n",
        "    [20, 10, 8],\n",
        "    [21, 40, 500],\n",
        "    [21, 40, 500]\n",
        "\n",
        "])\n",
        "# for 2d array it flatted array rowwise and find max value index\n",
        "max_val_index = np.argmax(matrix)\n",
        "print(max_val_index)"
      ],
      "metadata": {
        "colab": {
          "base_uri": "https://localhost:8080/"
        },
        "id": "iixDp_EuA_6a",
        "outputId": "9e8685ac-5f04-4d8e-d31c-cc21b154485b"
      },
      "execution_count": null,
      "outputs": [
        {
          "output_type": "stream",
          "name": "stdout",
          "text": [
            "5\n"
          ]
        }
      ]
    },
    {
      "cell_type": "code",
      "source": [
        "# counting\n",
        "\n",
        "a = np.random.randint(1,100,100)\n",
        "print(a)\n",
        "\n",
        "# count no base on conditon: np.count_nonzero()\n",
        "print(np.count_nonzero(a>43))\n",
        "print(np.count_nonzero(a<43))\n",
        "print(np.count_nonzero(a==43))\n",
        "print(np.count_nonzero(a>100))"
      ],
      "metadata": {
        "colab": {
          "base_uri": "https://localhost:8080/"
        },
        "id": "yAmrI8VoBp1F",
        "outputId": "fc37b000-f01d-433c-fa3d-73565f819c70"
      },
      "execution_count": null,
      "outputs": [
        {
          "output_type": "stream",
          "name": "stdout",
          "text": [
            "[35 44 70 10 26 45 93 18 22 61 56 33 14 95 81 73  8 81  8  6 45 82 46 52\n",
            " 64 97 92 53 48 81 75 91  5 46 11 11 27  5 39 51 57 82 57 89 62 28  8 11\n",
            " 49 37  9 31 48 63 33 45 10 20 71 76 53 14 13 64 83  9 43 60 68 74 86 39\n",
            " 63 64 26 90 23 25 29 72 76 29 32 17 12  4  4 44  4 53 75 13 57 55 25 36\n",
            " 57 71 82 38]\n",
            "55\n",
            "44\n",
            "1\n",
            "0\n"
          ]
        }
      ]
    },
    {
      "cell_type": "code",
      "source": [
        "# numpy.unique(ar, return_index=False, return_inverse=False, return_counts=False, axis=None)\n",
        "a = np.random.randint(1,100,100)\n",
        "print(a)\n",
        "\n",
        "# Find unique value\n",
        "print(np.unique(a))\n",
        "\n",
        "print()\n",
        "# find unique value occurs\n",
        "uni_value, count_univalue = np.unique(a, return_counts=True)\n",
        "print(uni_value)\n",
        "print(count_univalue)"
      ],
      "metadata": {
        "colab": {
          "base_uri": "https://localhost:8080/"
        },
        "id": "i-vjBbKKHJnj",
        "outputId": "81976f9c-5539-4142-86c0-31f0152b844e"
      },
      "execution_count": null,
      "outputs": [
        {
          "output_type": "stream",
          "name": "stdout",
          "text": [
            "[94 48 31  1 81 91 74 62 20 39 99 13 12 40 43 45 82 81 90 83 32 44 83 27\n",
            " 98 28 28 24 11 19 20  9 90 35 67 29 69 41 60 29 48 13 36 76  6 30 15 75\n",
            " 47 16 59 86  6  4 32 78 32 64 49 85 18 21  2 75 27 37 25 56 10  8  9 86\n",
            " 99 84 11 61 86 44  8 67 57  2 47 19 32 95 53 73 88 57 64 64 89  6 47 79\n",
            " 22 97 99 31]\n",
            "[ 1  2  4  6  8  9 10 11 12 13 15 16 18 19 20 21 22 24 25 27 28 29 30 31\n",
            " 32 35 36 37 39 40 41 43 44 45 47 48 49 53 56 57 59 60 61 62 64 67 69 73\n",
            " 74 75 76 78 79 81 82 83 84 85 86 88 89 90 91 94 95 97 98 99]\n",
            "\n",
            "[ 1  2  4  6  8  9 10 11 12 13 15 16 18 19 20 21 22 24 25 27 28 29 30 31\n",
            " 32 35 36 37 39 40 41 43 44 45 47 48 49 53 56 57 59 60 61 62 64 67 69 73\n",
            " 74 75 76 78 79 81 82 83 84 85 86 88 89 90 91 94 95 97 98 99]\n",
            "[1 2 1 3 2 2 1 2 1 2 1 1 1 2 2 1 1 1 1 2 2 2 1 2 4 1 1 1 1 1 1 1 2 1 3 2 1\n",
            " 1 1 2 1 1 1 1 3 2 1 1 1 2 1 1 1 2 1 2 1 1 3 1 1 2 1 1 1 1 1 3]\n"
          ]
        }
      ]
    },
    {
      "cell_type": "markdown",
      "source": [
        "# **Statistical Functions in NumPy 📊**"
      ],
      "metadata": {
        "id": "z46XGysZTpc1"
      }
    },
    {
      "cell_type": "markdown",
      "source": [
        "NumPy is a cornerstone of data analysis and machine learning in Python because it provides a wide array of fast, C-optimized statistical functions. These functions can quickly summarize, or \"describe,\" large amounts of data.\n",
        "\n",
        "-----\n",
        "\n",
        "## **Key Statistical Concepts Explained**\n",
        "\n",
        "Before we look at the code, let's clarify three of the most important statistical measures you'll use.\n",
        "\n",
        "### **What is the Median?**\n",
        "\n",
        "The **median** is the **middle value** in a dataset that has been sorted. It's a measure of central tendency, similar to the mean (average), but with one huge advantage: it is **not affected by outliers** (extremely high or low values).\n",
        "\n",
        "  * **Example:**\n",
        "      * Dataset: `[10, 20, 30, 40, 50]`\n",
        "      * Median: **30** (the middle number)\n",
        "  * **Example (with an outlier):**\n",
        "      * Dataset: `[10, 20, 30, 40, 1000]`\n",
        "      * Median: **30** (still the middle number)\n",
        "      * Mean (Average): 220 (The mean is skewed by the 1000, making it a poor representation of the data's center).\n",
        "  * **When to use it:** Use the median when you want to find the \"typical\" value in a dataset that might have extreme outliers, such as housing prices or income.\n",
        "\n",
        "### **What is Standard Deviation (`np.std`)?**\n",
        "\n",
        "The **standard deviation (std)** is a number that tells you how **spread out** your data is from the mean (average).\n",
        "\n",
        "  * A **low standard deviation** means your data points are all very close to the average. The data is **consistent**.\n",
        "\n",
        "  * A **high standard deviation** means your data points are spread far apart from the average. The data is **inconsistent** or volatile.\n",
        "\n",
        "  * **Example:**\n",
        "\n",
        "      * Student A's scores: `[80, 81, 79, 80, 80]`\n",
        "      * Mean: 80, **Std: \\~0.8** (Very low std, very consistent scores)\n",
        "      * Student B's scores: `[60, 100, 70, 90, 80]`\n",
        "      * Mean: 80, **Std: \\~14.1** (High std, very inconsistent scores)\n",
        "\n",
        "### **What is Correlation (`np.corrcoef`)?**\n",
        "\n",
        "The **correlation coefficient** measures the **strength and direction of a linear relationship** between two variables. It returns a value between -1 and +1.\n",
        "\n",
        "  * **+1 (Positive Correlation):** As one variable goes up, the other variable goes up. (e.g., study hours and exam scores).\n",
        "  * **-1 (Negative Correlation):** As one variable goes up, the other variable goes down. (e.g., car speed and travel time).\n",
        "  * **0 (No Correlation):** There is no *linear* relationship between the variables.\n",
        "\n",
        "[Image of scatter plot correlation examples]\n",
        "\n",
        "When you use `np.corrcoef(a, b)`, it returns a **2x2 correlation matrix**:\n",
        "\n",
        "```\n",
        "[[  1.0,   0.98 ]  <-- [ Corr(a,a), Corr(a,b) ]\n",
        " [ 0.98,   1.0  ]]  <-- [ Corr(b,a), Corr(b,b) ]\n",
        "```\n",
        "\n",
        "The value you care about is the one that shows the correlation between your two different variables (in this case, 0.98).\n",
        "\n",
        "-----\n",
        "\n",
        "## **Code Example: Descriptive Statistics**\n",
        "\n",
        "Let's use your example of student marks.\n",
        "\n",
        "```python\n",
        "import numpy as np\n",
        "\n",
        "# Assume 20 students, 3 subjects (Math, English, Physics)\n",
        "numbers = np.random.randint(40, 100, (20, 3))\n",
        "print(f\"Full dataset (shape {numbers.shape}):\\n{numbers}\\n\")\n",
        "\n",
        "# Slice the data into individual subjects\n",
        "math_marks = numbers[:, 0]\n",
        "english_marks = numbers[:, 1]\n",
        "physics_marks = numbers[:, 2]\n",
        "\n",
        "# --- Find Max / Min ---\n",
        "print(f\"Max Math Mark: {np.max(math_marks)}\")\n",
        "print(f\"Min English Mark: {np.min(english_marks)}\\n\")\n",
        "\n",
        "# --- Find Measures of Center ---\n",
        "print(f\"Mean (Average) Physics Mark: {np.mean(physics_marks):.2f}\")\n",
        "print(f\"Median Math Mark: {np.median(math_marks)}\\n\")\n",
        "\n",
        "# --- Find Measures of Spread ---\n",
        "print(f\"Std Deviation of Math: {np.std(math_marks):.2f}\")\n",
        "print(f\"Std Deviation of English: {np.std(english_marks):.2f}\")\n",
        "```\n",
        "\n",
        "**Output (will vary due to random numbers):**\n",
        "\n",
        "```\n",
        "Full dataset (shape (20, 3)):\n",
        "[[85 86 52]\n",
        " [83 93 42]\n",
        " ...\n",
        " [74 46 87]\n",
        " [61 88 51]]\n",
        "\n",
        "Max Math Mark: 99\n",
        "Min English Mark: 41\n",
        "\n",
        "Mean (Average) Physics Mark: 68.25\n",
        "Median Math Mark: 74.5\n",
        "\n",
        "Std Deviation of Math: 16.52\n",
        "Std Deviation of English: 17.18\n",
        "```\n",
        "\n",
        "### **A More Efficient Way (Using the `axis` Parameter)**\n",
        "\n",
        "Instead of slicing, you can perform these calculations on the whole matrix by specifying an axis. `axis=0` calculates the statistic **down the columns**.\n",
        "\n",
        "```python\n",
        "# Calculate the mean for each subject (down the columns)\n",
        "all_means = np.mean(numbers, axis=0)\n",
        "print(f\"\\nMean for (Math, English, Physics): {all_means}\\n\")\n",
        "\n",
        "# Calculate the max for each subject\n",
        "all_max = np.max(numbers, axis=0)\n",
        "print(f\"Max for (Math, English, Physics): {all_max}\")\n",
        "```\n",
        "\n",
        "**Output (will vary):**\n",
        "\n",
        "```\n",
        "Mean for (Math, English, Physics): [74.5  69.85 68.25]\n",
        "\n",
        "Max for (Math, English, Physics): [99 97 99]\n",
        "```\n",
        "\n",
        "-----\n",
        "\n",
        "## **Code Example: Correlation**\n",
        "\n",
        "Let's use your example to see if there is a relationship between hours studied and exam scores.\n",
        "\n",
        "```python\n",
        "study_hours = np.array([2, 4, 5, 6, 8])\n",
        "exam_score = np.array([60, 70, 80, 90, 99])\n",
        "\n",
        "# Calculate the correlation coefficient matrix\n",
        "correlation_matrix = np.corrcoef(study_hours, exam_score)\n",
        "\n",
        "print(f\"\\nCorrelation Matrix:\\n{correlation_matrix}\\n\")\n",
        "print(f\"The correlation is: {correlation_matrix[0, 1]:.4f}\")\n",
        "```\n",
        "\n",
        "**Output:**\n",
        "\n",
        "```\n",
        "Correlation Matrix:\n",
        "[[1.         0.98863695]\n",
        " [0.98863695 1.        ]]\n",
        "\n",
        "The correlation is: 0.9886\n",
        "```\n",
        "\n",
        "This result (0.9886) is very close to +1, indicating a **very strong positive correlation**, which makes sense: more study hours are linked to higher exam scores.\n",
        "\n",
        "\n",
        "-----\n",
        "## **NumPy-তে পরিসংখ্যানগত ফাংশন 📊**\n",
        "\n",
        "পাইথনে ডেটা বিশ্লেষণ এবং মেশিন লার্নিং-এর একটি মূল ভিত্তি হলো NumPy, কারণ এটি দ্রুতগতিসম্পন্ন, C-অপ্টিমাইজড পরিসংখ্যানগত ফাংশনের এক বিশাল ভাণ্ডার সরবরাহ করে। এই ফাংশনগুলো খুব দ্রুত বিপুল পরিমাণ ডেটাকে সংক্ষিপ্ত বা \"বর্ণনা\" করতে পারে।\n",
        "\n",
        "-----\n",
        "\n",
        "### **মূল পরিসংখ্যানগত ধারণাগুলির ব্যাখ্যা**\n",
        "\n",
        "কোড দেখার আগে, চলুন তিনটি সবচেয়ে গুরুত্বপূর্ণ পরিসংখ্যানগত পরিমাপ স্পষ্ট করে নিই যা আপনি প্রায়শই ব্যবহার করবেন।\n",
        "\n",
        "#### **মধ্যক (Median) কী?**\n",
        "\n",
        "**মধ্যক** হলো এমন একটি ডেটাসেটের **মাঝখানের মান** যা ক্রমানুসারে সাজানো হয়েছে। এটি কেন্দ্রীয় প্রবণতার (central tendency) একটি পরিমাপ, গড়ের (mean) মতোই, তবে এর একটি বিশাল সুবিধা রয়েছে: এটি **আউটলায়ার** (outliers) বা চরম (খুব বেশি বা খুব কম) মান দ্বারা প্রভাবিত হয় না।\n",
        "\n",
        "  * **উদাহরণ:**\n",
        "      * ডেটাসেট: `[10, 20, 30, 40, 50]`\n",
        "      * মধ্যক: **30** (মাঝখানের সংখ্যা)\n",
        "  * **উদাহরণ (আউটলায়ার সহ):**\n",
        "      * ডেটাসেট: `[10, 20, 30, 40, 1000]`\n",
        "      * মধ্যক: **30** (এখনও মাঝখানের সংখ্যা)\n",
        "      * গড় (Mean): 220 (গড়টি 1000 দ্বারা প্রভাবিত হয়েছে, যা ডেটার কেন্দ্রকে সঠিকভাবে উপস্থাপন করছে না)।\n",
        "  * **কখন ব্যবহার করবেন:** যখন আপনি এমন একটি ডেটাসেটের \"সাধারণ\" মান খুঁজে পেতে চান যাতে চরম আউটলায়ার থাকতে পারে, যেমন বাড়ির দাম বা আয়ের হিসাব।\n",
        "\n",
        "#### **স্ট্যান্ডার্ড ডেভিয়েশন (`np.std`) কী?**\n",
        "\n",
        "**স্ট্যান্ডার্ড ডেভিয়েশন (std)** বা আদর্শ বিচ্যুতি হলো এমন একটি সংখ্যা যা আপনাকে বলে যে আপনার ডেটা পয়েন্টগুলো গড় (mean) থেকে কতটা **ছড়িয়ে ছিটিয়ে** আছে।\n",
        "\n",
        "  * একটি **কম স্ট্যান্ডার্ড ডেভিয়েশন** মানে আপনার ডেটা পয়েন্টগুলো সব গড়ের খুব কাছাকাছি। ডেটা **সামঞ্জস্যপূর্ণ**।\n",
        "\n",
        "  * একটি **উচ্চ স্ট্যান্ডার্ড ডেভিয়েশন** মানে আপনার ডেটা পয়েন্টগুলো গড় থেকে অনেক দূরে ছড়িয়ে আছে। ডেটা **অসামঞ্জস্যপূর্ণ** বা পরিবর্তনশীল।\n",
        "\n",
        "  * **উদাহরণ:**\n",
        "\n",
        "      * ছাত্র ক-এর স্কোর: `[80, 81, 79, 80, 80]`\n",
        "      * গড়: 80, **স্ট্যান্ডার্ড ডেভিয়েশন: \\~0.8** (খুব কম, খুবই সামঞ্জস্যপূর্ণ স্কোর)\n",
        "      * ছাত্র খ-এর স্কোর: `[60, 100, 70, 90, 80]`\n",
        "      * গড়: 80, **স্ট্যান্ডার্ড ডেভিয়েশন: \\~14.1** (উচ্চ, খুবই অসামঞ্জস্যপূর্ণ স্কোর)\n",
        "\n",
        "#### **কোরিলেশন (`np.corrcoef`) কী?**\n",
        "\n",
        "**কোরিলেশন কোএফিসিয়েন্ট** বা সহসম্পর্ক সহগ দুটি ভেরিয়েবলের মধ্যে **রৈখিক সম্পর্কের শক্তি এবং দিক** পরিমাপ করে। এটি -1 এবং +1 এর মধ্যে একটি মান প্রদান করে।\n",
        "\n",
        "  * **+1 (ধনাত্মক সহসম্পর্ক):** যখন একটি ভেরিয়েবল বাড়ে, তখন অন্য ভেরিয়েবলটিও বাড়ে। (যেমন, পড়ার সময় এবং পরীক্ষার স্কোর)।\n",
        "  * **-1 (ঋণাত্মক সহসম্পর্ক):** যখন একটি ভেরিয়েবল বাড়ে, তখন অন্য ভেরিয়েবলটি কমে। (যেমন, গাড়ির গতি এবং ভ্রমণের সময়)।\n",
        "  * **0 (কোনো সহসম্পর্ক নেই):** ভেরিয়েবলগুলোর মধ্যে কোনো *রৈখিক* সম্পর্ক নেই।\n",
        "\n",
        "[Image of scatter plot correlation examples]\n",
        "\n",
        "যখন আপনি `np.corrcoef(a, b)` ব্যবহার করেন, তখন এটি একটি **2x2 কোরিলেশন ম্যাট্রিক্স** রিটার্ন করে:\n",
        "\n",
        "```\n",
        "[[  1.0,   0.98 ]  <-- [ Corr(a,a), Corr(a,b) ]\n",
        " [ 0.98,   1.0  ]]  <-- [ Corr(b,a), Corr(b,b) ]\n",
        "```\n",
        "\n",
        "আপনার যে মানটি প্রয়োজন তা হলো আপনার দুটি ভিন্ন ভেরিয়েবলের মধ্যেকার সহসম্পর্ক (এক্ষেত্রে 0.98)।\n",
        "\n",
        "-----\n",
        "\n",
        "### **কোড উদাহরণ: বর্ণনামূলক পরিসংখ্যান (Descriptive Statistics)**\n",
        "\n",
        "চলুন ছাত্রের নম্বরের উদাহরণটি ব্যবহার করি।\n",
        "\n",
        "```python\n",
        "import numpy as np\n",
        "\n",
        "# ধরা যাক ২০ জন ছাত্র, ৩টি বিষয় (গণিত, ইংরেজি, পদার্থবিজ্ঞান)\n",
        "numbers = np.random.randint(40, 100, (20, 3))\n",
        "print(f\"সম্পূর্ণ ডেটাসেট (শেপ {numbers.shape}):\\n{numbers}\\n\")\n",
        "\n",
        "# ডেটাকে বিষয়ভিত্তিক স্লাইস করা\n",
        "math_marks = numbers[:, 0]\n",
        "english_marks = numbers[:, 1]\n",
        "physics_marks = numbers[:, 2]\n",
        "\n",
        "# --- সর্বোচ্চ / সর্বনিম্ন নম্বর খোঁজা ---\n",
        "print(f\"গণিতে সর্বোচ্চ নম্বর: {np.max(math_marks)}\")\n",
        "print(f\"ইংরেজিতে সর্বনিম্ন নম্বর: {np.min(english_marks)}\\n\")\n",
        "\n",
        "# --- কেন্দ্রীয় প্রবণতা খোঁজা ---\n",
        "print(f\"পদার্থবিজ্ঞানে গড় নম্বর: {np.mean(physics_marks):.2f}\")\n",
        "print(f\"গণিতে মধ্যক নম্বর: {np.median(math_marks)}\\n\")\n",
        "\n",
        "# --- বিস্তৃতির পরিমাপ খোঁজা ---\n",
        "print(f\"গণিতের স্ট্যান্ডার্ড ডেভিয়েশন: {np.std(math_marks):.2f}\")\n",
        "print(f\"ইংরেজির স্ট্যান্ডার্ড ডেভিয়েশন: {np.std(english_marks):.2f}\")\n",
        "```\n",
        "\n",
        "**আউটপুট (র‍্যান্ডম নম্বরের কারণে পরিবর্তিত হবে):**\n",
        "\n",
        "```\n",
        "সম্পূর্ণ ডেটাসেট (শেপ (20, 3)):\n",
        "[[85 86 52]\n",
        " [83 93 42]\n",
        " ...\n",
        " [74 46 87]\n",
        " [61 88 51]]\n",
        "\n",
        "গণিতে সর্বোচ্চ নম্বর: 99\n",
        "ইংরেজিতে সর্বনিম্ন নম্বর: 41\n",
        "\n",
        "পদার্থবিজ্ঞানে গড় নম্বর: 68.25\n",
        "গণিতে মধ্যক নম্বর: 74.5\n",
        "\n",
        "গণিতের স্ট্যান্ডার্ড ডেভিয়েশন: 16.52\n",
        "ইংরেজির স্ট্যান্ডার্ড ডেভিয়েশন: 17.18\n",
        "```\n",
        "\n",
        "#### **আরও কার্যকর উপায় (`axis` প্যারামিটার ব্যবহার করে)**\n",
        "\n",
        "স্লাইস করার পরিবর্তে, আপনি `axis` নির্দিষ্ট করে পুরো ম্যাট্রিক্সের উপর এই গণনাগুলো সম্পাদন করতে পারেন। `axis=0` **কলাম বরাবর নিচের দিকে** পরিসংখ্যান গণনা করে।\n",
        "\n",
        "```python\n",
        "# প্রতিটি বিষয়ের জন্য গড় গণনা (কলাম বরাবর)\n",
        "all_means = np.mean(numbers, axis=0)\n",
        "print(f\"\\nপ্রতি বিষয়ের গড় (গণিত, ইংরেজি, পদার্থবিজ্ঞান): {all_means}\\n\")\n",
        "\n",
        "# প্রতিটি বিষয়ের জন্য সর্বোচ্চ নম্বর\n",
        "all_max = np.max(numbers, axis=0)\n",
        "print(f\"প্রতি বিষয়ের সর্বোচ্চ (গণিত, ইংরেজি, পদার্থবিজ্ঞান): {all_max}\")\n",
        "```\n",
        "\n",
        "**আউটপুট (পরিবর্তিত হবে):**\n",
        "\n",
        "```\n",
        "প্রতি বিষয়ের গড় (গণিত, ইংরেজি, পদার্থবিজ্ঞান): [74.5  69.85 68.25]\n",
        "\n",
        "প্রতি বিষয়ের সর্বোচ্চ (গণিত, ইংরেজি, পদার্থবিজ্ঞান): [99 97 99]\n",
        "```\n",
        "\n",
        "-----\n",
        "\n",
        "### **কোড উদাহরণ: কোরিলেশন (Correlation)**\n",
        "\n",
        "চলুন আপনার উদাহরণটি ব্যবহার করে দেখি যে পড়ার সময় এবং পরীক্ষার স্কোরের মধ্যে কোনো সম্পর্ক আছে কিনা।\n",
        "\n",
        "```python\n",
        "study_hours = np.array([2, 4, 5, 6, 8])\n",
        "exam_score = np.array([60, 70, 80, 90, 99])\n",
        "\n",
        "# কোরিলেশন কোএফিসিয়েন্ট ম্যাট্রিক্স গণনা\n",
        "correlation_matrix = np.corrcoef(study_hours, exam_score)\n",
        "\n",
        "print(f\"\\nকোরিলেশন ম্যাট্রিক্স:\\n{correlation_matrix}\\n\")\n",
        "print(f\"সহসম্পর্ক হলো: {correlation_matrix[0, 1]:.4f}\")\n",
        "```\n",
        "\n",
        "**আউটপুট:**\n",
        "\n",
        "```\n",
        "কোরিলেশন ম্যাট্রিক্স:\n",
        "[[1.         0.98863695]\n",
        " [0.98863695 1.        ]]\n",
        "\n",
        "সহসম্পর্ক হলো: 0.9886\n",
        "```\n",
        "\n",
        "এই ফলাফল (0.9886) +1 এর খুব কাছাকাছি, যা একটি **খুব শক্তিশালী ধনাত্মক সহসম্পর্ক** নির্দেশ করে। এটাই স্বাভাবিক: বেশি সময় ধরে পড়াশোনা করলে পরীক্ষার স্কোর বেশি হওয়ার সম্ভাবনা বাড়ে।"
      ],
      "metadata": {
        "id": "TKhn1WsVKmfO"
      }
    },
    {
      "cell_type": "code",
      "source": [
        "numbers = np.random.randint(40,100,(20,3))\n",
        "print(numbers)\n",
        "\n",
        "# Here we assume col_0= math_marks, col_1= english_marks, col_2 = physics_marks\n",
        "\n",
        "math_marks = numbers[:,0]\n",
        "english_marks = numbers[:,1]\n",
        "physics_marks = numbers[:,2]\n",
        "\n",
        "print(math_marks)\n",
        "print(english_marks)\n",
        "print(physics_marks)\n",
        "\n",
        "# find max marks from math,english and physics\n",
        "print(np.max(math_marks))\n",
        "print(np.max(english_marks))\n",
        "print(np.max(physics_marks))\n",
        "\n",
        "# find min marks from math, english and physics\n",
        "print(np.min(math_marks))\n",
        "print(np.min(english_marks))\n",
        "print(np.min(physics_marks))\n",
        "\n",
        "# fidn average marks of math, english and physics\n",
        "print(np.mean(math_marks))\n",
        "print(np.mean(english_marks))\n",
        "print(np.mean(physics_marks))\n",
        "\n",
        "# find medain marks of math, english and physics\n",
        "print(np.median(math_marks))\n",
        "print(np.median(english_marks))\n",
        "print(np.median(physics_marks))\n",
        "\n",
        "#find std devivation math, english and physics marks\n",
        "print(np.std(math_marks))\n",
        "print(np.std(english_marks))\n",
        "print(np.std(physics_marks))\n",
        "\n",
        "#find coorealtion\n",
        "study_hours = np.array([2, 4, 5, 6, 8])\n",
        "exam_score = np.array([60, 70, 80, 90, 99])\n",
        "coorelaation = np.corrcoef(study_hours, exam_score)\n",
        "print(coorelaation)\n"
      ],
      "metadata": {
        "colab": {
          "base_uri": "https://localhost:8080/"
        },
        "id": "STjrqboNKlpE",
        "outputId": "c60740f4-6479-429e-af05-e54db4300ef9"
      },
      "execution_count": null,
      "outputs": [
        {
          "output_type": "stream",
          "name": "stdout",
          "text": [
            "[[58 63 95]\n",
            " [52 76 51]\n",
            " [76 74 99]\n",
            " [65 52 77]\n",
            " [51 48 60]\n",
            " [49 40 47]\n",
            " [97 75 90]\n",
            " [67 45 63]\n",
            " [49 82 91]\n",
            " [74 71 63]\n",
            " [95 48 71]\n",
            " [47 45 49]\n",
            " [61 92 86]\n",
            " [79 76 68]\n",
            " [71 41 92]\n",
            " [44 53 72]\n",
            " [54 57 73]\n",
            " [83 47 84]\n",
            " [78 83 94]\n",
            " [62 75 79]]\n",
            "[58 52 76 65 51 49 97 67 49 74 95 47 61 79 71 44 54 83 78 62]\n",
            "[63 76 74 52 48 40 75 45 82 71 48 45 92 76 41 53 57 47 83 75]\n",
            "[95 51 99 77 60 47 90 63 91 63 71 49 86 68 92 72 73 84 94 79]\n",
            "97\n",
            "92\n",
            "99\n",
            "44\n",
            "40\n",
            "47\n",
            "65.6\n",
            "62.15\n",
            "75.2\n",
            "63.5\n",
            "60.0\n",
            "75.0\n",
            "15.304901175767194\n",
            "15.847002871205646\n",
            "15.740393895960798\n",
            "[[1.         0.98830063]\n",
            " [0.98830063 1.        ]]\n"
          ]
        }
      ]
    },
    {
      "cell_type": "markdown",
      "source": [
        "# **Linear Algebra with NumPy linalg** 📐"
      ],
      "metadata": {
        "id": "Dno31_STkXXF"
      }
    },
    {
      "cell_type": "markdown",
      "source": [
        "Linear algebra is the core of machine learning and deep learning. NumPy's `linalg` module provides all the essential tools for performing high-speed linear algebra operations.\n",
        "\n",
        "-----\n",
        "\n",
        "## **1. Matrix Multiplication: `np.matmul` or `@`**\n",
        "\n",
        "Matrix multiplication (a dot product) is the most fundamental operation in a neural network. It's how inputs are combined with weights to produce an output.\n",
        "\n",
        "Let's look at a single forward pass of a neural network layer: **Z = W \\* X + B**\n",
        "\n",
        "```python\n",
        "import numpy as np\n",
        "\n",
        "# Input vector X (shape 3x1)\n",
        "X = np.array([[0.8],\n",
        "              [0.4],\n",
        "              [0.3]])\n",
        "\n",
        "# Weight matrix W1 (shape 3x3)\n",
        "W1 = np.array([\n",
        "    [ 0.2, -0.1,  0.3],\n",
        "    [ 0.05, 0.4, -0.2],\n",
        "    [ 0.1,  0.0,  0.25]\n",
        "])\n",
        "\n",
        "# Bias vector B1 (shape 3x1)\n",
        "B1 = np.array([[0.01],\n",
        "               [0.02],\n",
        "               [-0.03]])\n",
        "\n",
        "# 1. Perform matrix multiplication (W * X)\n",
        "# We use @ as the modern, preferred operator\n",
        "z1 = W1 @ X + B1\n",
        "\n",
        "# 2. Apply an activation function (ReLU)\n",
        "def RelU(z):\n",
        "  return np.where(z > 0, z, 0)\n",
        "\n",
        "a1 = RelU(z1)\n",
        "\n",
        "print(f\"Z1 (Linear Output):\\n{z1}\\n\")\n",
        "print(f\"A1 (Activation Output):\\n{a1}\")\n",
        "```\n",
        "\n",
        "**Output:**\n",
        "\n",
        "```\n",
        "Z1 (Linear Output):\n",
        "[[0.22 ]\n",
        " [0.12 ]\n",
        " [0.125]]\n",
        "\n",
        "A1 (Activation Output):\n",
        "[[0.22 ]\n",
        " [0.12 ]\n",
        " [0.125]]\n",
        "```\n",
        "\n",
        "-----\n",
        "\n",
        "## **2. Trace of a Matrix: `np.trace()`**\n",
        "\n",
        "The **trace** of a square matrix is the **sum of the elements on the main diagonal**.\n",
        "\n",
        "```python\n",
        "x = np.array([[1, 2, 3],\n",
        "              [4, 5, 6],\n",
        "              [7, 8, 9]])\n",
        "\n",
        "# The trace is 1 + 5 + 9\n",
        "print(f\"Matrix:\\n{x}\\n\")\n",
        "print(f\"Trace of x: {np.trace(x)}\")\n",
        "```\n",
        "\n",
        "**Output:**\n",
        "\n",
        "```\n",
        "Matrix:\n",
        "[[1 2 3]\n",
        " [4 5 6]\n",
        " [7 8 9]]\n",
        "\n",
        "Trace of x: 15\n",
        "```\n",
        "\n",
        "-----\n",
        "\n",
        "## **3. Determinant of a Matrix: `np.linalg.det()`**\n",
        "\n",
        "The **determinant** is a scalar value that can be computed from a square matrix. It tells you important properties of the matrix, such as whether it is invertible.\n",
        "\n",
        "  * If `det(A) == 0`, the matrix `A` is **singular** (it has no inverse).\n",
        "  * If `det(A) != 0`, the matrix `A` is **invertible**.\n",
        "\n",
        "<!-- end list -->\n",
        "\n",
        "```python\n",
        "x = np.array([[1, 2, 3],\n",
        "              [4, 5, 6],\n",
        "              [7, 8, 9]])\n",
        "\n",
        "# Calculate the determinant\n",
        "print(f\"Determinant of x: {np.linalg.det(x):.2f}\")\n",
        "```\n",
        "\n",
        "**Output:**\n",
        "\n",
        "```\n",
        "Determinant of x: -0.00\n",
        "```\n",
        "\n",
        "*(The result is a very small number close to 0, which tells us this matrix is singular/non-invertible.)*\n",
        "\n",
        "-----\n",
        "\n",
        "## **4. Rank of a Matrix: `np.linalg.matrix_rank()`**\n",
        "\n",
        "The **rank** of a matrix is the number of **linearly independent** rows (or columns) it has. It gives you a measure of the \"dimensionality\" of the data in the matrix.\n",
        "\n",
        "  * In ML, a matrix having a rank *lower* than its dimensions (a \"low-rank\" matrix) implies that the features are correlated and there is redundancy in the data.\n",
        "\n",
        "<!-- end list -->\n",
        "\n",
        "```python\n",
        "x = np.array([[1, 2, 3],\n",
        "              [4, 5, 6],\n",
        "              [7, 8, 9]])\n",
        "\n",
        "# Calculate the rank\n",
        "print(f\"Rank of x: {np.linalg.matrix_rank(x)}\")\n",
        "```\n",
        "\n",
        "**Output:**\n",
        "\n",
        "```\n",
        "Rank of x: 2\n",
        "```\n",
        "\n",
        "*(Even though it's a 3x3 matrix, the rank is 2. This is because the third row is a linear combination of the first two (Row 3 = 2 \\* Row 2 - Row 1), so it adds no new information.)*\n",
        "\n",
        "\n",
        " ----\n",
        "\n",
        "\n",
        "## **NumPy দিয়ে রৈখিক বীজগণিত (Linear Algebra) 📐**\n",
        "\n",
        "রৈখিক বীজগণিত হলো মেশিন লার্নিং এবং ডিপ লার্নিং-এর মূল ভিত্তি। NumPy-এর `linalg` মডিউলটি দ্রুতগতিতে রৈখিক বীজগণিতের বিভিন্ন অপারেশন সম্পাদনের জন্য সমস্ত প্রয়োজনীয় টুল সরবরাহ করে।\n",
        "\n",
        "-----\n",
        "\n",
        "### **১. ম্যাট্রিক্স গুণন: `np.matmul` বা `@`**\n",
        "\n",
        "ম্যাট্রিক্স গুণন (ডট প্রোডাক্ট) একটি নিউরাল নেটওয়ার্কের সবচেয়ে মৌলিক অপারেশন। এর মাধ্যমেই ইনপুটগুলো ওয়েট (weights)-এর সাথে মিলিত হয়ে একটি আউটপুট তৈরি করে।\n",
        "\n",
        "চলুন একটি নিউরাল নেটওয়ার্ক লেয়ারের একটিমাত্র ফরোয়ার্ড পাসের দিকে নজর দেওয়া যাক: **Z = W \\* X + B**\n",
        "\n",
        "```python\n",
        "import numpy as np\n",
        "\n",
        "# ইনপুট ভেক্টর X (শেপ 3x1)\n",
        "X = np.array([[0.8],\n",
        "              [0.4],\n",
        "              [0.3]])\n",
        "\n",
        "# ওয়েট ম্যাট্রিক্স W1 (শেপ 3x3)\n",
        "W1 = np.array([\n",
        "    [ 0.2, -0.1,  0.3],\n",
        "    [ 0.05, 0.4, -0.2],\n",
        "    [ 0.1,  0.0,  0.25]\n",
        "])\n",
        "\n",
        "# বায়াস ভেক্টর B1 (শেপ 3x1)\n",
        "B1 = np.array([[0.01],\n",
        "               [0.02],\n",
        "               [-0.03]])\n",
        "\n",
        "# ১. ম্যাট্রিক্স গুণন করা হলো (W * X)\n",
        "# আমরা আধুনিক এবং পছন্দের অপারেটর @ ব্যবহার করছি\n",
        "z1 = W1 @ X + B1\n",
        "\n",
        "# ২. একটি অ্যাক্টিভেশন ফাংশন (ReLU) প্রয়োগ করা হলো\n",
        "def RelU(z):\n",
        "  return np.where(z > 0, z, 0)\n",
        "\n",
        "a1 = RelU(z1)\n",
        "\n",
        "print(f\"Z1 (রৈখিক আউটপুট):\\n{z1}\\n\")\n",
        "print(f\"A1 (অ্যাক্টিভেশন আউটপুট):\\n{a1}\")\n",
        "```\n",
        "\n",
        "**আউটপুট:**\n",
        "\n",
        "```\n",
        "Z1 (রৈখিক আউটপুট):\n",
        "[[0.22 ]\n",
        " [0.12 ]\n",
        " [0.125]]\n",
        "\n",
        "A1 (অ্যাক্টিভেশন আউটপুট):\n",
        "[[0.22 ]\n",
        " [0.12 ]\n",
        " [0.125]]\n",
        "```\n",
        "\n",
        "-----\n",
        "\n",
        "### **২. ম্যাট্রিক্সের ট্রেস: `np.trace()`**\n",
        "\n",
        "একটি বর্গ ম্যাট্রিক্সের **ট্রেস** হলো তার **প্রধান কর্ণের উপাদানগুলোর যোগফল**।\n",
        "\n",
        "```python\n",
        "x = np.array([[1, 2, 3],\n",
        "              [4, 5, 6],\n",
        "              [7, 8, 9]])\n",
        "\n",
        "# ট্রেস হলো 1 + 5 + 9\n",
        "print(f\"ম্যাট্রিক্স:\\n{x}\\n\")\n",
        "print(f\"x-এর ট্রেস: {np.trace(x)}\")\n",
        "```\n",
        "\n",
        "**আউটপুট:**\n",
        "\n",
        "```\n",
        "ম্যাট্রিক্স:\n",
        "[[1 2 3]\n",
        " [4 5 6]\n",
        " [7 8 9]]\n",
        "\n",
        "x-এর ট্রেস: 15\n",
        "```\n",
        "\n",
        "-----\n",
        "\n",
        "### **৩. ম্যাট্রিক্সের ডিটারমিন্যান্ট: `np.linalg.det()`**\n",
        "\n",
        "**ডিটারমিন্যান্ট** হলো একটি স্কেলার মান যা একটি বর্গ ম্যাট্রিক্স থেকে গণনা করা যায়। এটি ম্যাট্রিক্সের গুরুত্বপূর্ণ বৈশিষ্ট্য সম্পর্কে বলে, যেমন এটি ইনভার্টেবল (invertible) কিনা।\n",
        "\n",
        "  * যদি `det(A) == 0` হয়, তবে ম্যাট্রিক্স `A` **সিঙ্গুলার** (singular) (এর কোনো ইনভার্স নেই)।\n",
        "  * যদি `det(A) != 0` হয়, তবে ম্যাট্রিক্স `A` **ইনভার্টেবল**।\n",
        "\n",
        "<!-- end list -->\n",
        "\n",
        "```python\n",
        "x = np.array([[1, 2, 3],\n",
        "              [4, 5, 6],\n",
        "              [7, 8, 9]])\n",
        "\n",
        "# ডিটারমিন্যান্ট গণনা করা হলো\n",
        "print(f\"x-এর ডিটারমিন্যান্ট: {np.linalg.det(x):.2f}\")\n",
        "```\n",
        "\n",
        "**আউটপুট:**\n",
        "\n",
        "```\n",
        "x-এর ডিটারমিন্যান্ট: -0.00\n",
        "```\n",
        "\n",
        "*(ফলাফলটি ০-এর খুব কাছাকাছি একটি ছোট সংখ্যা, যা আমাদের বলে যে এই ম্যাট্রিক্সটি সিঙ্গুলার/নন-ইনভার্টেবল।)*\n",
        "\n",
        "-----\n",
        "\n",
        "### **৪. ম্যাট্রিক্সের র‍্যাঙ্ক: `np.linalg.matrix_rank()`**\n",
        "\n",
        "একটি ম্যাট্রিক্সের **র‍্যাঙ্ক** হলো তার **রৈখিকভাবে স্বাধীন** (linearly independent) সারি (বা কলাম)-এর সংখ্যা। এটি আপনাকে ম্যাট্রিক্সের ডেটার \"ডাইমেনশনালিটি\"-র একটি পরিমাপ দেয়।\n",
        "\n",
        "  * মেশিন লার্নিং-এ, একটি ম্যাট্রিক্সের র‍্যাঙ্ক তার ডাইমেনশনের চেয়ে কম হওয়া (একটি \"লো-র‍্যাঙ্ক\" ম্যাট্রিক্স) বোঝায় যে ফিচারগুলো পরস্পর সম্পর্কযুক্ত এবং ডেটাতে অপ্রয়োজনীয় তথ্য রয়েছে।\n",
        "\n",
        "<!-- end list -->\n",
        "\n",
        "```python\n",
        "x = np.array([[1, 2, 3],\n",
        "              [4, 5, 6],\n",
        "              [7, 8, 9]])\n",
        "\n",
        "# র‍্যাঙ্ক গণনা করা হলো\n",
        "print(f\"x-এর র‍্যাঙ্ক: {np.linalg.matrix_rank(x)}\")\n",
        "```\n",
        "\n",
        "**আউটপুট:**\n",
        "\n",
        "```\n",
        "x-এর র‍্যাঙ্ক: 2\n",
        "```\n",
        "\n",
        "*(যদিও এটি একটি 3x3 ম্যাট্রিক্স, এর র‍্যাঙ্ক 2। কারণ তৃতীয় সারিটি প্রথম দুটি সারির একটি রৈখিক সংমিশ্রণ (সারি 3 = 2 \\* সারি 2 - সারি 1), তাই এটি কোনো নতুন তথ্য যোগ করে না।)*"
      ],
      "metadata": {
        "id": "Xrobhz4eWMbv"
      }
    },
    {
      "cell_type": "code",
      "source": [
        "#Matrix multiplication\n",
        "X = np.array([[0.8, 0.40, 0.30]]).T\n",
        "W1 =  np.array([\n",
        "      [0.20, -0.10, 0.30],\n",
        "      [0.05, 0.40, -0.20],\n",
        "      [0.10, 0.00, 0.25],\n",
        "    ])\n",
        "B1 =  np.array([[0.01, 0.02, -0.03]]).T\n",
        "\n",
        "z1 = np.matmul(W1,X) + B1\n",
        "\n",
        "\n",
        "\n",
        "def RelU(z):\n",
        "  return np.where(z>0,z,0)\n",
        "\n",
        "a1 = RelU(z1)\n",
        "\n",
        "print(z1)\n",
        "print(a1)\n",
        "\n",
        "# trace: giving summation diagnal square matrix\n",
        "x = np.array([[1,2,3],[4,5,6],[7,8,9]])\n",
        "print(np.trace(x))\n",
        "\n",
        "# find determinat of matrix\n",
        "print(np.linalg.det(x))\n",
        "\n",
        "#find rank of a matrix\n",
        "x = np.linalg.matrix_rank(x)\n",
        "print(x)"
      ],
      "metadata": {
        "colab": {
          "base_uri": "https://localhost:8080/"
        },
        "id": "vPMbx-7cWL5a",
        "outputId": "548a2f60-0e79-4458-cc96-77d799353b35"
      },
      "execution_count": null,
      "outputs": [
        {
          "output_type": "stream",
          "name": "stdout",
          "text": [
            "[[0.22 ]\n",
            " [0.16 ]\n",
            " [0.125]]\n",
            "[[0.22 ]\n",
            " [0.16 ]\n",
            " [0.125]]\n",
            "15\n",
            "0.0\n",
            "2\n"
          ]
        }
      ]
    },
    {
      "cell_type": "markdown",
      "source": [
        "# **Practice**"
      ],
      "metadata": {
        "id": "JXOvym8ynQwX"
      }
    },
    {
      "cell_type": "code",
      "source": [
        "a = np.array([1,2,3,4,5,6])\n",
        "b = a.reshape(2,3)\n",
        "b.shape"
      ],
      "metadata": {
        "colab": {
          "base_uri": "https://localhost:8080/"
        },
        "id": "nCUZiT_SlACI",
        "outputId": "d3269fb1-6ce6-4358-b322-acd684698a3b"
      },
      "execution_count": null,
      "outputs": [
        {
          "output_type": "execute_result",
          "data": {
            "text/plain": [
              "(2, 3)"
            ]
          },
          "metadata": {},
          "execution_count": 186
        }
      ]
    },
    {
      "cell_type": "code",
      "source": [
        "np.sin(np.pi/2)"
      ],
      "metadata": {
        "colab": {
          "base_uri": "https://localhost:8080/"
        },
        "id": "ZZa3mZ8KlS1v",
        "outputId": "57b3f733-4dd8-47bd-d091-5fcfb5c8841a"
      },
      "execution_count": null,
      "outputs": [
        {
          "output_type": "execute_result",
          "data": {
            "text/plain": [
              "np.float64(1.0)"
            ]
          },
          "metadata": {},
          "execution_count": 187
        }
      ]
    },
    {
      "cell_type": "code",
      "source": [
        "a = np.array([1,2,3])\n",
        "b = np.array([4,5,6])\n",
        "\n",
        "np.std(a)"
      ],
      "metadata": {
        "colab": {
          "base_uri": "https://localhost:8080/"
        },
        "id": "cCEv-9yrleGe",
        "outputId": "8d749224-8064-4903-99b8-26a8e38f5906"
      },
      "execution_count": null,
      "outputs": [
        {
          "output_type": "execute_result",
          "data": {
            "text/plain": [
              "np.float64(0.816496580927726)"
            ]
          },
          "metadata": {},
          "execution_count": 189
        }
      ]
    },
    {
      "cell_type": "code",
      "source": [
        "a = np.array([3,1,2])\n",
        "print(np.sort(a))"
      ],
      "metadata": {
        "colab": {
          "base_uri": "https://localhost:8080/"
        },
        "id": "L5--bhDAl455",
        "outputId": "8577b363-5037-45f3-c89e-5aae23c803e7"
      },
      "execution_count": null,
      "outputs": [
        {
          "output_type": "stream",
          "name": "stdout",
          "text": [
            "[1 2 3]\n"
          ]
        }
      ]
    },
    {
      "cell_type": "code",
      "source": [
        "A = np.array([[1,2],[3,4]])\n",
        "B = np.array([[5,6],[7,8]])\n",
        "\n",
        "print(np.dot(A,B))"
      ],
      "metadata": {
        "colab": {
          "base_uri": "https://localhost:8080/"
        },
        "id": "7mLd_MIUmDaY",
        "outputId": "298937c7-d43d-4b9e-ba35-04975e5cf084"
      },
      "execution_count": null,
      "outputs": [
        {
          "output_type": "stream",
          "name": "stdout",
          "text": [
            "[[19 22]\n",
            " [43 50]]\n"
          ]
        }
      ]
    },
    {
      "cell_type": "code",
      "source": [
        "arr1 = np.array([1, 2, 3])\n",
        "print(np.size(arr1))"
      ],
      "metadata": {
        "colab": {
          "base_uri": "https://localhost:8080/"
        },
        "id": "InWwUMMT4q2a",
        "outputId": "19cdac19-bfa1-4625-d914-64260a21a7b4"
      },
      "execution_count": null,
      "outputs": [
        {
          "output_type": "stream",
          "name": "stdout",
          "text": [
            "3\n"
          ]
        }
      ]
    },
    {
      "cell_type": "markdown",
      "source": [
        "When you use the `axis` parameter with `np.size()`, it stops counting the *total* number of elements and instead returns the **size of that specific dimension**.\n",
        "\n",
        "It's a direct way of asking, \"How many elements are along this axis?\" This is identical to checking the array's shape.\n",
        "\n",
        "For your `arr3` example:\n",
        "\n",
        "```python\n",
        "import numpy as np\n",
        "\n",
        "arr3 = np.array([\n",
        "    # First Layer (or Matrix) - [Element 0 at axis=0]\n",
        "    [\n",
        "      [1, 2, 3],\n",
        "      [4, 5, 6]\n",
        "    ],\n",
        "    # Second Layer (or Matrix) - [Element 1 at axis=0]\n",
        "    [\n",
        "      [7, 8, 9],\n",
        "      [10, 11, 12]\n",
        "    ]\n",
        "])\n",
        "\n",
        "print(arr3.shape)\n",
        "# Output: (2, 2, 3)\n",
        "```\n",
        "\n",
        "Here's how it works for all axes:\n",
        "\n",
        "  * `np.size(arr3, axis=0)` returns `arr3.shape[0]`, which is **2**.\n",
        "  * `np.size(arr3, axis=1)` returns `arr3.shape[1]`, which is **2**.\n",
        "  * `np.size(arr3, axis=2)` returns `arr3.shape[2]`, which is **3**.\n",
        "  * `np.size(arr3)` (without an axis) returns the total number of elements ($2 \\times 2 \\times 3$), which is **12**."
      ],
      "metadata": {
        "id": "NcVXB_K657hI"
      }
    },
    {
      "cell_type": "code",
      "source": [
        "arr3 = np.array([\n",
        "    # First Layer (or Matrix)\n",
        "    [\n",
        "      [1, 2, 3],\n",
        "      [4, 5, 6]\n",
        "    ],\n",
        "    # Second Layer (or Matrix)\n",
        "    [\n",
        "      [7, 8, 9],\n",
        "      [10, 11, 12]\n",
        "    ]\n",
        "])\n",
        "\n",
        "print(np.size(arr3, axis=0))\n",
        "print(np.size(arr3, axis=1))\n",
        "print(np.size(arr3, axis=2))"
      ],
      "metadata": {
        "colab": {
          "base_uri": "https://localhost:8080/"
        },
        "id": "pgzX2WvZ4_Lh",
        "outputId": "d8a2edfb-2c94-4712-acbd-6c46876bb23e"
      },
      "execution_count": null,
      "outputs": [
        {
          "output_type": "stream",
          "name": "stdout",
          "text": [
            "2\n",
            "2\n",
            "3\n"
          ]
        }
      ]
    },
    {
      "cell_type": "code",
      "source": [
        "arr2 = np.array([\n",
        "    [1, 2, 3],\n",
        "    [4, 5, 6]\n",
        "])\n",
        "\n",
        "print(np.size(arr2, axis=0))\n",
        "print(np.size(arr2, axis=1))\n",
        "print(np.size(arr2, axis=2))"
      ],
      "metadata": {
        "colab": {
          "base_uri": "https://localhost:8080/"
        },
        "id": "wj4Z9y296F93",
        "outputId": "94ee9a01-cdb2-4604-ee13-5a3163bd855c"
      },
      "execution_count": null,
      "outputs": [
        {
          "output_type": "stream",
          "name": "stdout",
          "text": [
            "2\n",
            "3\n"
          ]
        }
      ]
    },
    {
      "cell_type": "code",
      "source": [
        "arr_float = np.array([1.1, 2.7, 3.5])\n",
        "new_arr = arr_float.astype(np.int64)\n",
        "print(new_arr)"
      ],
      "metadata": {
        "colab": {
          "base_uri": "https://localhost:8080/"
        },
        "id": "SPhO1T8J9NFU",
        "outputId": "f1839b49-81ca-482c-b0d7-c99be70103cf"
      },
      "execution_count": null,
      "outputs": [
        {
          "output_type": "stream",
          "name": "stdout",
          "text": [
            "[1 2 3]\n"
          ]
        }
      ]
    },
    {
      "cell_type": "code",
      "source": [
        "zeros_arr1 = np.zeros(5)\n",
        "print(zeros_arr1)\n",
        "\n",
        "zeros_arr2 = np.zeros((2, 3))\n",
        "print(zeros_arr2)\n",
        "\n",
        "zeros_arr3 = np.zeros((2, 3, 4), dtype=np.int8)\n",
        "print(zeros_arr3)\n",
        "\n",
        "zeros_like_arr1 = np.zeros_like(arr1)\n",
        "print(zeros_like_arr1)\n",
        "\n",
        "zeros_like_arr2 = np.zeros_like(arr2)\n",
        "print(zeros_like_arr2)\n",
        "\n",
        "zeros_like_arr3 = np.zeros_like(arr3)\n",
        "print(zeros_like_arr3)"
      ],
      "metadata": {
        "colab": {
          "base_uri": "https://localhost:8080/"
        },
        "id": "q-HpT29e9xus",
        "outputId": "1dc09df3-ad31-4038-b5cd-836fd08cfb47"
      },
      "execution_count": null,
      "outputs": [
        {
          "output_type": "stream",
          "name": "stdout",
          "text": [
            "[0. 0. 0. 0. 0.]\n",
            "[[0. 0. 0.]\n",
            " [0. 0. 0.]]\n",
            "[[[0 0 0 0]\n",
            "  [0 0 0 0]\n",
            "  [0 0 0 0]]\n",
            "\n",
            " [[0 0 0 0]\n",
            "  [0 0 0 0]\n",
            "  [0 0 0 0]]]\n",
            "[0 0 0]\n",
            "[[0 0 0]\n",
            " [0 0 0]]\n",
            "[[[0 0 0]\n",
            "  [0 0 0]]\n",
            "\n",
            " [[0 0 0]\n",
            "  [0 0 0]]]\n"
          ]
        }
      ]
    },
    {
      "cell_type": "code",
      "source": [
        "empty_arr = np.empty(3, dtype=np.int64)\n",
        "print(empty_arr)\n",
        "\n",
        "arr1 = np.array([1,2,3])\n",
        "\n",
        "empty_like = np.empty(arr1, dtype=np.int64)\n",
        "print(empty_like)\n",
        "\n",
        "arr2 = np.array([\n",
        "    [1, 22, 3],\n",
        "    [4, 53, 6]\n",
        "])\n",
        "\n",
        "empty_like = np.empty_like(arr2)\n",
        "print(empty_like)\n",
        "\n"
      ],
      "metadata": {
        "colab": {
          "base_uri": "https://localhost:8080/"
        },
        "id": "IIIFUs69-hlE",
        "outputId": "dfa71a42-4ab5-4839-d43b-4289d3fdeaa1"
      },
      "execution_count": null,
      "outputs": [
        {
          "output_type": "stream",
          "name": "stdout",
          "text": [
            "[1 2 3]\n",
            "[[[      232876634               0        11701552]\n",
            "  [       11662568 140311406784368 140311406784368]]]\n",
            "[[ 1 22  3]\n",
            " [ 4 53  6]]\n"
          ]
        }
      ]
    },
    {
      "cell_type": "code",
      "source": [
        "arr_full_int = np.full((2, 3), 5)\n",
        "print(arr_full_int)\n",
        "\n",
        "arr_full_arr1 = np.full(2, 3)\n",
        "print(arr_full_arr1)\n",
        "\n",
        "arr_full_arr2 = np.full((2, 3), [1,2,3])\n",
        "print(arr_full_arr2)"
      ],
      "metadata": {
        "colab": {
          "base_uri": "https://localhost:8080/"
        },
        "id": "N9txmt9o_YKh",
        "outputId": "5ca9cf07-29dd-4331-aff3-b516ee093106"
      },
      "execution_count": null,
      "outputs": [
        {
          "output_type": "stream",
          "name": "stdout",
          "text": [
            "[[5 5 5]\n",
            " [5 5 5]]\n",
            "[3 3]\n",
            "[[1 2 3]\n",
            " [1 2 3]]\n"
          ]
        }
      ]
    },
    {
      "cell_type": "code",
      "source": [
        "ran_arr1 = np.random.rand(3)\n",
        "print(ran_arr1)\n",
        "\n",
        "ran_arr2 = np.random.rand(2, 3)\n",
        "print(ran_arr2)\n",
        "\n",
        "ran_arr3 = np.random.rand(2, 3, 4)\n",
        "print(ran_arr3)"
      ],
      "metadata": {
        "colab": {
          "base_uri": "https://localhost:8080/"
        },
        "id": "tRA8TL0iBjct",
        "outputId": "e4a96373-e051-4c91-f29e-63257bf1bf74"
      },
      "execution_count": null,
      "outputs": [
        {
          "output_type": "stream",
          "name": "stdout",
          "text": [
            "[0.57684445 0.41634779 0.69416133]\n",
            "[[0.80548326 0.8922707  0.3630394 ]\n",
            " [0.13367981 0.12564461 0.7561941 ]]\n",
            "[[[0.68998427 0.499278   0.01443449 0.09831085]\n",
            "  [0.53884821 0.25622891 0.06639892 0.27043497]\n",
            "  [0.11662406 0.74967693 0.74638716 0.33761985]]\n",
            "\n",
            " [[0.01040845 0.81128613 0.5309044  0.41079844]\n",
            "  [0.54987536 0.71627263 0.24502381 0.30405004]\n",
            "  [0.03938395 0.98268078 0.18370208 0.32336329]]]\n"
          ]
        }
      ]
    },
    {
      "cell_type": "code",
      "source": [
        "ran_int_arr1 = np.random.randint(5,10, size=(3))\n",
        "print(ran_int_arr1)\n",
        "\n",
        "ran_int_arr2= np.random.randint(5,10, size=(3,5))\n",
        "print(ran_int_arr2)\n"
      ],
      "metadata": {
        "colab": {
          "base_uri": "https://localhost:8080/"
        },
        "id": "5cObmKVDCUSk",
        "outputId": "780cdcd2-808c-4f8e-9777-ebf32fc65dcc"
      },
      "execution_count": null,
      "outputs": [
        {
          "output_type": "stream",
          "name": "stdout",
          "text": [
            "[5 6 8]\n",
            "[[8 8 6 7 6]\n",
            " [6 6 6 5 8]\n",
            " [6 7 7 8 6]]\n"
          ]
        }
      ]
    },
    {
      "cell_type": "code",
      "source": [
        "x = np.random.uniform(0,1, size=(3)).reshape(1,3).T\n",
        "print(ran_int_arr1)"
      ],
      "metadata": {
        "colab": {
          "base_uri": "https://localhost:8080/"
        },
        "id": "0wCSLD-_DKeY",
        "outputId": "5386434a-afd5-4327-a094-457455eb1672"
      },
      "execution_count": null,
      "outputs": [
        {
          "output_type": "stream",
          "name": "stdout",
          "text": [
            "[[0.35545796 0.44837775 0.54310388]\n",
            " [0.10813642 0.89428458 0.17224699]\n",
            " [0.80604867 0.99392515 0.60504513]]\n"
          ]
        }
      ]
    },
    {
      "cell_type": "code",
      "source": [
        "w = np.random.uniform(0,1, size=(3,3))\n",
        "print(ran_int_arr2)"
      ],
      "metadata": {
        "colab": {
          "base_uri": "https://localhost:8080/"
        },
        "id": "JP3WxTPoDfNN",
        "outputId": "f4eae4a4-ddef-4c90-c0c0-f2471ee89715"
      },
      "execution_count": null,
      "outputs": [
        {
          "output_type": "stream",
          "name": "stdout",
          "text": [
            "[[0.03031971 0.88266881 0.96871937]\n",
            " [0.55385586 0.87359429 0.07758432]\n",
            " [0.14274555 0.98146691 0.41048279]]\n"
          ]
        }
      ]
    },
    {
      "cell_type": "code",
      "source": [
        "b = np.random.uniform(0,1, size=(3)).reshape(1,3).T\n",
        "print(b)"
      ],
      "metadata": {
        "colab": {
          "base_uri": "https://localhost:8080/"
        },
        "id": "0Tl3t-pxDn4x",
        "outputId": "913b17f0-2aea-426d-d19f-f9b84e19e660"
      },
      "execution_count": null,
      "outputs": [
        {
          "output_type": "stream",
          "name": "stdout",
          "text": [
            "[[0.4565072 ]\n",
            " [0.10074244]\n",
            " [0.42173883]]\n"
          ]
        }
      ]
    },
    {
      "cell_type": "code",
      "source": [
        "z1 = np.matmul(w,x) + b\n",
        "print(z1)"
      ],
      "metadata": {
        "colab": {
          "base_uri": "https://localhost:8080/"
        },
        "id": "bX7zPO_3D8X4",
        "outputId": "1a2e281f-6b91-44e7-ba47-21e0b1deaac7"
      },
      "execution_count": null,
      "outputs": [
        {
          "output_type": "stream",
          "name": "stdout",
          "text": [
            "[[1.75109014]\n",
            " [0.87863495]\n",
            " [1.51845879]]\n"
          ]
        }
      ]
    },
    {
      "cell_type": "code",
      "source": [
        "def sigmoid(z):\n",
        "  return 1/(1+np.exp(-z))\n",
        "\n",
        "def relu(z):\n",
        "  return np.where(z>0,z,0)"
      ],
      "metadata": {
        "id": "WwTaOL2CEHlR"
      },
      "execution_count": null,
      "outputs": []
    },
    {
      "cell_type": "code",
      "source": [
        "a1 = sigmoid(z1)\n",
        "print(a1)\n",
        "\n",
        "a1 = relu(z1)\n",
        "print(a1)"
      ],
      "metadata": {
        "colab": {
          "base_uri": "https://localhost:8080/"
        },
        "id": "OjMtYYprEOM6",
        "outputId": "c53a5fc8-ea2b-405c-9447-8fa6ce96c828"
      },
      "execution_count": null,
      "outputs": [
        {
          "output_type": "stream",
          "name": "stdout",
          "text": [
            "[[0.85209025]\n",
            " [0.70653927]\n",
            " [0.82031142]]\n",
            "[[1.75109014]\n",
            " [0.87863495]\n",
            " [1.51845879]]\n"
          ]
        }
      ]
    },
    {
      "cell_type": "code",
      "source": [
        "arng_arr = np.arange(5)\n",
        "print(arng_arr)\n",
        "\n",
        "arng_arr = np.arange(1,5)\n",
        "print(arng_arr)\n",
        "\n",
        "arng_arr = np.arange(2,11, 2)\n",
        "print(arng_arr)\n",
        "\n",
        "\n",
        "arr_arr = np.arange(1,37).reshape(6,6)\n",
        "print(arr_arr)\n"
      ],
      "metadata": {
        "colab": {
          "base_uri": "https://localhost:8080/"
        },
        "id": "fBCtZNqmFUdz",
        "outputId": "96b7c177-108e-4af0-c4e4-f1a272eeae79"
      },
      "execution_count": null,
      "outputs": [
        {
          "output_type": "stream",
          "name": "stdout",
          "text": [
            "[0 1 2 3 4]\n",
            "[1 2 3 4]\n",
            "[ 2  4  6  8 10]\n",
            "[[ 1  2  3  4  5  6]\n",
            " [ 7  8  9 10 11 12]\n",
            " [13 14 15 16 17 18]\n",
            " [19 20 21 22 23 24]\n",
            " [25 26 27 28 29 30]\n",
            " [31 32 33 34 35 36]]\n"
          ]
        }
      ]
    },
    {
      "cell_type": "code",
      "source": [
        "linsp_arr = np.linspace(0,1, num=5)\n",
        "print(linsp_arr)\n",
        "\n",
        "linsp_arr = np.linspace(0,1, num=5, endpoint=False)\n",
        "print(linsp_arr)\n",
        "\n",
        "linsp_arr = np.linspace(0,10, num=11)\n",
        "print(linsp_arr)\n"
      ],
      "metadata": {
        "colab": {
          "base_uri": "https://localhost:8080/"
        },
        "id": "Uh_FriQTGbk7",
        "outputId": "09342fa3-8262-44ad-b2b6-6d6490cffb14"
      },
      "execution_count": null,
      "outputs": [
        {
          "output_type": "stream",
          "name": "stdout",
          "text": [
            "[0.   0.25 0.5  0.75 1.  ]\n",
            "[0.  0.2 0.4 0.6 0.8]\n",
            "[ 0.  1.  2.  3.  4.  5.  6.  7.  8.  9. 10.]\n"
          ]
        }
      ]
    },
    {
      "cell_type": "code",
      "source": [
        "logsp_arr = np.logspace(1,5, num=5)\n",
        "print(logsp_arr)\n",
        "\n",
        "logsp_arr = np.logspace(1,5, num=5, base=2)\n",
        "print(logsp_arr)"
      ],
      "metadata": {
        "colab": {
          "base_uri": "https://localhost:8080/"
        },
        "id": "48ZNrbmvG-Pg",
        "outputId": "9d493aef-d75d-4ea0-b176-e06fbd9341e5"
      },
      "execution_count": null,
      "outputs": [
        {
          "output_type": "stream",
          "name": "stdout",
          "text": [
            "[1.e+01 1.e+02 1.e+03 1.e+04 1.e+05]\n",
            "[ 2.  4.  8. 16. 32.]\n"
          ]
        }
      ]
    },
    {
      "cell_type": "code",
      "source": [
        "diag_arr = np.diag([1,2,3])\n",
        "print(diag_arr)\n",
        "\n",
        "diag_arr"
      ],
      "metadata": {
        "colab": {
          "base_uri": "https://localhost:8080/"
        },
        "id": "kAVZjyIEHtKC",
        "outputId": "ded94cc6-310b-43b1-ad99-0756ad2ceb8c"
      },
      "execution_count": null,
      "outputs": [
        {
          "output_type": "stream",
          "name": "stdout",
          "text": [
            "[[1 0 0]\n",
            " [0 2 0]\n",
            " [0 0 3]]\n",
            "[[0 1 0 0]\n",
            " [0 0 2 0]\n",
            " [0 0 0 3]\n",
            " [0 0 0 0]]\n"
          ]
        }
      ]
    },
    {
      "cell_type": "code",
      "source": [
        "diag_arr = np.arange(1,37).reshape(6,6)\n",
        "np.fill_diagonal(diag_arr, 1)\n",
        "print(diag_arr)"
      ],
      "metadata": {
        "colab": {
          "base_uri": "https://localhost:8080/"
        },
        "outputId": "628b28ec-16ba-49e0-9e68-a0a11ee6ef19",
        "id": "1ayx8sOHLUx1"
      },
      "execution_count": null,
      "outputs": [
        {
          "output_type": "stream",
          "name": "stdout",
          "text": [
            "[[ 1  2  3  4  5  6]\n",
            " [ 7  1  9 10 11 12]\n",
            " [13 14  1 16 17 18]\n",
            " [19 20 21  1 23 24]\n",
            " [25 26 27 28  1 30]\n",
            " [31 32 33 34 35  1]]\n"
          ]
        }
      ]
    },
    {
      "cell_type": "code",
      "source": [
        "ide_mat = np.eye(3)\n",
        "print(ide_mat)\n",
        "\n",
        "ide_mat = np.eye(3,4)\n",
        "print(ide_mat)"
      ],
      "metadata": {
        "colab": {
          "base_uri": "https://localhost:8080/"
        },
        "id": "DOCdlTTIMIYg",
        "outputId": "7a613efe-8c1b-4c50-8ee4-e82cb4557a49"
      },
      "execution_count": null,
      "outputs": [
        {
          "output_type": "stream",
          "name": "stdout",
          "text": [
            "[[1. 0. 0.]\n",
            " [0. 1. 0.]\n",
            " [0. 0. 1.]]\n",
            "[[1. 0. 0. 0.]\n",
            " [0. 1. 0. 0.]\n",
            " [0. 0. 1. 0.]]\n"
          ]
        }
      ]
    },
    {
      "cell_type": "code",
      "source": [
        "arr2 = np.arange(1, 10).reshape(3, 3)\n",
        "print(arr2)\n",
        "\n"
      ],
      "metadata": {
        "colab": {
          "base_uri": "https://localhost:8080/"
        },
        "id": "Zy0DW_QRMbKX",
        "outputId": "8d0ec9d4-06a7-4d28-b0d6-b283a139ae21"
      },
      "execution_count": null,
      "outputs": [
        {
          "output_type": "stream",
          "name": "stdout",
          "text": [
            "[[1 2 3]\n",
            " [4 5 6]\n",
            " [7 8 9]]\n"
          ]
        }
      ]
    },
    {
      "cell_type": "code",
      "source": [
        "# Row access all way\n",
        "# All row and All column\n",
        "print(arr2[:,])\n",
        "print(arr2[0,])\n",
        "\n",
        "print(arr2[0:2,])\n",
        "\n",
        "# column access\n",
        "print(arr2[:,0])\n",
        "print(arr2[:,0:2])\n",
        "\n"
      ],
      "metadata": {
        "colab": {
          "base_uri": "https://localhost:8080/"
        },
        "id": "jZUPnYOhM0l5",
        "outputId": "6099fc0a-d456-4247-d220-1e10d7ca4e2b"
      },
      "execution_count": null,
      "outputs": [
        {
          "output_type": "stream",
          "name": "stdout",
          "text": [
            "[[1 2 3]\n",
            " [4 5 6]]\n",
            "[1 2 3]\n",
            "[[1 2 3]\n",
            " [4 5 6]]\n",
            "[1 4]\n",
            "[[1 2]\n",
            " [4 5]]\n"
          ]
        }
      ]
    },
    {
      "cell_type": "code",
      "source": [
        "print(arr2)"
      ],
      "metadata": {
        "colab": {
          "base_uri": "https://localhost:8080/"
        },
        "id": "NJesmYeTFV9m",
        "outputId": "070d7f8d-203d-4066-9ead-d7f817c880de"
      },
      "execution_count": null,
      "outputs": [
        {
          "output_type": "stream",
          "name": "stdout",
          "text": [
            "[[1 2 3]\n",
            " [4 5 6]]\n"
          ]
        }
      ]
    },
    {
      "cell_type": "code",
      "source": [
        "print(arr2[:,1:3])"
      ],
      "metadata": {
        "colab": {
          "base_uri": "https://localhost:8080/"
        },
        "id": "3H64iHJ3Fbgw",
        "outputId": "8246751a-7a09-4495-bc21-63a021892b7c"
      },
      "execution_count": null,
      "outputs": [
        {
          "output_type": "stream",
          "name": "stdout",
          "text": [
            "[[2 3]\n",
            " [5 6]]\n"
          ]
        }
      ]
    },
    {
      "cell_type": "code",
      "source": [
        "arr = np.linspace(1, 10, 10, dtype=int)\n",
        "print(f\"Original array:\\n{arr}\\n\")"
      ],
      "metadata": {
        "colab": {
          "base_uri": "https://localhost:8080/"
        },
        "id": "X8HnfbZvFt4e",
        "outputId": "d4d1b79a-dda7-42eb-bcc5-d57cff3c99da"
      },
      "execution_count": null,
      "outputs": [
        {
          "output_type": "stream",
          "name": "stdout",
          "text": [
            "Original array:\n",
            "[ 1  2  3  4  5  6  7  8  9 10]\n",
            "\n"
          ]
        }
      ]
    },
    {
      "cell_type": "code",
      "source": [
        "arr_copy = arr[[0,2,3,6,7]].copy()\n",
        "arr_copy\n",
        "\n"
      ],
      "metadata": {
        "colab": {
          "base_uri": "https://localhost:8080/"
        },
        "id": "n7RBu6BWFyFg",
        "outputId": "632d41a3-32de-4177-e8f5-ff4905bae852"
      },
      "execution_count": null,
      "outputs": [
        {
          "output_type": "execute_result",
          "data": {
            "text/plain": [
              "array([1, 3, 4, 7, 8])"
            ]
          },
          "metadata": {},
          "execution_count": 8
        }
      ]
    },
    {
      "cell_type": "code",
      "source": [
        "arr2 = np.random.randint(1,20, size=(10,5))\n",
        "print(arr2)\n",
        "arr2_copy = arr2[[1,3,0],[2,3,0]].copy()\n",
        "print(arr2_copy)"
      ],
      "metadata": {
        "colab": {
          "base_uri": "https://localhost:8080/"
        },
        "id": "JT-kO8TxF_pB",
        "outputId": "24e028fb-14bc-4427-babf-5d5249e2c22f"
      },
      "execution_count": null,
      "outputs": [
        {
          "output_type": "stream",
          "name": "stdout",
          "text": [
            "[[ 6 15 11  1  8]\n",
            " [13 10  7  7 18]\n",
            " [19  1  9  1  8]\n",
            " [ 6 15 19 10 11]\n",
            " [ 9  6  9 15 11]\n",
            " [ 7  4  1 18 15]\n",
            " [13  5 13 15  8]\n",
            " [12  7 10 10 14]\n",
            " [ 2  5 16  1 19]\n",
            " [15  4  3 13 14]]\n",
            "[ 7 10  6]\n"
          ]
        }
      ]
    },
    {
      "cell_type": "code",
      "source": [
        "arr2 = np.random.randint(-5,10, size=(10,5))\n",
        "print(arr2)"
      ],
      "metadata": {
        "colab": {
          "base_uri": "https://localhost:8080/"
        },
        "id": "HHxt_13nHkM7",
        "outputId": "d6578419-8530-4d19-d3b2-6c618cca5e5b"
      },
      "execution_count": null,
      "outputs": [
        {
          "output_type": "stream",
          "name": "stdout",
          "text": [
            "[[ 0 -4  4  5  0]\n",
            " [ 4  7  0  7  0]\n",
            " [-4 -3 -3 -1  0]\n",
            " [ 1 -5  2  9  2]\n",
            " [-2  8  5 -2  3]\n",
            " [ 3  5 -5  8 -4]\n",
            " [ 0  9  5  0  3]\n",
            " [ 6 -2  4  2  7]\n",
            " [ 1 -5  0  2 -1]\n",
            " [ 5  7  0  4  6]]\n"
          ]
        }
      ]
    },
    {
      "cell_type": "code",
      "source": [
        "a = relu(arr2)\n",
        "print(a)"
      ],
      "metadata": {
        "colab": {
          "base_uri": "https://localhost:8080/"
        },
        "id": "3kBtcvTTH6P3",
        "outputId": "7e3ceff4-47e2-4509-abfd-782e223b917f"
      },
      "execution_count": null,
      "outputs": [
        {
          "output_type": "stream",
          "name": "stdout",
          "text": [
            "[[0 0 4 5 0]\n",
            " [4 7 0 7 0]\n",
            " [0 0 0 0 0]\n",
            " [1 0 2 9 2]\n",
            " [0 8 5 0 3]\n",
            " [3 5 0 8 0]\n",
            " [0 9 5 0 3]\n",
            " [6 0 4 2 7]\n",
            " [1 0 0 2 0]\n",
            " [5 7 0 4 6]]\n"
          ]
        }
      ]
    },
    {
      "cell_type": "code",
      "source": [
        "\n",
        "for i in np.nditer(a):\n",
        "  print(i)"
      ],
      "metadata": {
        "colab": {
          "base_uri": "https://localhost:8080/"
        },
        "id": "XQSrnF4BJiw_",
        "outputId": "80e41fc9-5049-4f9f-cc79-1b67b69abf1b"
      },
      "execution_count": null,
      "outputs": [
        {
          "output_type": "stream",
          "name": "stdout",
          "text": [
            "0\n",
            "0\n",
            "4\n",
            "5\n",
            "0\n",
            "4\n",
            "7\n",
            "0\n",
            "7\n",
            "0\n",
            "0\n",
            "0\n",
            "0\n",
            "0\n",
            "0\n",
            "1\n",
            "0\n",
            "2\n",
            "9\n",
            "2\n",
            "0\n",
            "8\n",
            "5\n",
            "0\n",
            "3\n",
            "3\n",
            "5\n",
            "0\n",
            "8\n",
            "0\n",
            "0\n",
            "9\n",
            "5\n",
            "0\n",
            "3\n",
            "6\n",
            "0\n",
            "4\n",
            "2\n",
            "7\n",
            "1\n",
            "0\n",
            "0\n",
            "2\n",
            "0\n",
            "5\n",
            "7\n",
            "0\n",
            "4\n",
            "6\n"
          ]
        }
      ]
    },
    {
      "cell_type": "code",
      "source": [
        "arr = np.array([[1, 2, 3], [4, 5, 6]])\n",
        "arr_new = arr.flatten()\n",
        "print(arr)\n",
        "print(arr_new)"
      ],
      "metadata": {
        "colab": {
          "base_uri": "https://localhost:8080/"
        },
        "id": "Czl2PqK_LXjd",
        "outputId": "b3034e34-8b19-42b9-d338-c28e2ad2b49e"
      },
      "execution_count": null,
      "outputs": [
        {
          "output_type": "stream",
          "name": "stdout",
          "text": [
            "[[1 2 3]\n",
            " [4 5 6]]\n",
            "[1 2 3 4 5 6]\n"
          ]
        }
      ]
    },
    {
      "cell_type": "code",
      "source": [
        "arr_new = np.ravel(arr, order='F')\n",
        "print(arr_new)\n",
        "arr_new = np.ravel(arr, order='C')\n",
        "print(arr_new)"
      ],
      "metadata": {
        "colab": {
          "base_uri": "https://localhost:8080/"
        },
        "id": "tZHe8EjFLnPp",
        "outputId": "38bfbbc0-3c92-4c87-9361-a01645cf85c2"
      },
      "execution_count": null,
      "outputs": [
        {
          "output_type": "stream",
          "name": "stdout",
          "text": [
            "[1 4 2 5 3 6]\n",
            "[1 2 3 4 5 6]\n"
          ]
        }
      ]
    },
    {
      "cell_type": "code",
      "source": [
        "a = np.random.randint(1,10, size=(5,5))\n",
        "b = np.random.randint(1,10, size=(2,5))\n",
        "c = np.concatenate((a,b), axis=0)\n",
        "print(c)\n",
        "\n"
      ],
      "metadata": {
        "colab": {
          "base_uri": "https://localhost:8080/"
        },
        "id": "JAfI06-xMJKS",
        "outputId": "f9aab57f-56b9-466e-e59e-d9a7b9de0901"
      },
      "execution_count": null,
      "outputs": [
        {
          "output_type": "stream",
          "name": "stdout",
          "text": [
            "[[9 5 1 6 1]\n",
            " [6 7 5 8 3]\n",
            " [1 9 2 7 5]\n",
            " [2 7 3 3 2]\n",
            " [9 5 4 5 8]\n",
            " [5 9 1 4 6]\n",
            " [7 2 1 3 5]]\n"
          ]
        }
      ]
    },
    {
      "cell_type": "code",
      "source": [
        "a = np.random.randint(1,10, size=(5,5))\n",
        "b = np.random.randint(1,10, size=(5,3))\n",
        "c = np.concatenate((a,b), axis=1)\n",
        "print(c)"
      ],
      "metadata": {
        "colab": {
          "base_uri": "https://localhost:8080/"
        },
        "id": "QFc52giaMjOL",
        "outputId": "33d37f7a-656d-4fed-9af3-18d76e72ce7d"
      },
      "execution_count": null,
      "outputs": [
        {
          "output_type": "stream",
          "name": "stdout",
          "text": [
            "[[9 4 7 5 5 9 8 8]\n",
            " [3 8 9 3 2 8 8 6]\n",
            " [1 8 5 7 2 7 7 2]\n",
            " [2 7 3 4 8 8 6 9]\n",
            " [7 4 8 4 6 9 4 9]]\n"
          ]
        }
      ]
    },
    {
      "cell_type": "code",
      "source": [
        "c = np.concat((a,b), axis=1)\n",
        "print(c)"
      ],
      "metadata": {
        "colab": {
          "base_uri": "https://localhost:8080/"
        },
        "id": "DC3q0wwJNO_-",
        "outputId": "8b5afbf6-28b4-4393-b67a-c6583dc53154"
      },
      "execution_count": null,
      "outputs": [
        {
          "output_type": "stream",
          "name": "stdout",
          "text": [
            "[[9 4 7 5 5 9 8 8]\n",
            " [3 8 9 3 2 8 8 6]\n",
            " [1 8 5 7 2 7 7 2]\n",
            " [2 7 3 4 8 8 6 9]\n",
            " [7 4 8 4 6 9 4 9]]\n"
          ]
        }
      ]
    },
    {
      "cell_type": "code",
      "source": [
        "# both are same\n",
        "print(np.concat is np.concatenate)"
      ],
      "metadata": {
        "colab": {
          "base_uri": "https://localhost:8080/"
        },
        "id": "yZOvOLP6OD2V",
        "outputId": "7c72deb9-0ed8-4752-f53a-924f45e1fe70"
      },
      "execution_count": null,
      "outputs": [
        {
          "output_type": "stream",
          "name": "stdout",
          "text": [
            "True\n"
          ]
        }
      ]
    },
    {
      "cell_type": "code",
      "source": [
        "a, b, c = np.array_split(c, 3)\n",
        "print(np.size(a))\n",
        "print(np.size(b))\n",
        "print(np.size(c))"
      ],
      "metadata": {
        "colab": {
          "base_uri": "https://localhost:8080/"
        },
        "id": "HQ7cCTlHQfNI",
        "outputId": "3dd8658e-0c68-40be-bda6-b1ee61298c99"
      },
      "execution_count": null,
      "outputs": [
        {
          "output_type": "stream",
          "name": "stdout",
          "text": [
            "16\n",
            "16\n",
            "8\n"
          ]
        }
      ]
    },
    {
      "cell_type": "code",
      "source": [
        "x = np.array([50, 30, 40, 10, 10])\n",
        "print(np.where(x==10))"
      ],
      "metadata": {
        "colab": {
          "base_uri": "https://localhost:8080/"
        },
        "id": "wvKRd4n5kJ9R",
        "outputId": "2fe4297f-9d4b-4e54-b2ea-595250410e83"
      },
      "execution_count": null,
      "outputs": [
        {
          "output_type": "stream",
          "name": "stdout",
          "text": [
            "(array([3, 4]),)\n"
          ]
        }
      ]
    },
    {
      "cell_type": "code",
      "source": [
        "matrix = np.array([\n",
        "    [20, 10, 8],\n",
        "    [21, 4, 3]\n",
        "])"
      ],
      "metadata": {
        "id": "WYQZYtLzkViB"
      },
      "execution_count": null,
      "outputs": []
    },
    {
      "cell_type": "code",
      "source": [
        "index_2d = np.where(matrix >= 20)\n",
        "print(index_2d)"
      ],
      "metadata": {
        "colab": {
          "base_uri": "https://localhost:8080/"
        },
        "id": "oqZIn7CqkXEA",
        "outputId": "7fdebfe6-9ddf-4625-e4e2-dc9332ca6b48"
      },
      "execution_count": null,
      "outputs": [
        {
          "output_type": "stream",
          "name": "stdout",
          "text": [
            "(array([0, 1]), array([0, 0]))\n"
          ]
        }
      ]
    },
    {
      "cell_type": "code",
      "source": [
        "y = np.array([60, 30, 30, 10, 40])\n",
        "a = np.where(y==10, 1,0)\n",
        "a"
      ],
      "metadata": {
        "colab": {
          "base_uri": "https://localhost:8080/"
        },
        "id": "2hybZ7StkjkG",
        "outputId": "42b4d681-fc37-4331-c333-7258f7cd7df2"
      },
      "execution_count": null,
      "outputs": [
        {
          "output_type": "execute_result",
          "data": {
            "text/plain": [
              "array([0, 0, 0, 1, 0])"
            ]
          },
          "metadata": {},
          "execution_count": 71
        }
      ]
    },
    {
      "cell_type": "code",
      "source": [
        "x = np.array([50, 30, 40, 10, -50])\n",
        "print(np.argmax(x))\n",
        "print(np.argmin(x))\n",
        "print(np.max(x))\n",
        "\n",
        "def relu(x):\n",
        "  return np.maximum(0,x)\n",
        "print(relu(x))"
      ],
      "metadata": {
        "colab": {
          "base_uri": "https://localhost:8080/"
        },
        "id": "a0MVqNPYk6Ro",
        "outputId": "cd3dfd70-ffe1-4af5-d72c-2a758ba04926"
      },
      "execution_count": null,
      "outputs": [
        {
          "output_type": "stream",
          "name": "stdout",
          "text": [
            "0\n",
            "4\n",
            "50\n",
            "[50 30 40 10  0]\n"
          ]
        }
      ]
    },
    {
      "cell_type": "code",
      "source": [
        "x = np.array([2, 3, 1, 4, 7, 9])\n",
        "print(np.count_nonzero(x>3))\n",
        "print(np.count_nonzero(x==3))"
      ],
      "metadata": {
        "colab": {
          "base_uri": "https://localhost:8080/"
        },
        "id": "bKWF8K1ilo8q",
        "outputId": "3884ac7b-d8e8-4f21-bf68-c8264f1938cb"
      },
      "execution_count": null,
      "outputs": [
        {
          "output_type": "stream",
          "name": "stdout",
          "text": [
            "3\n",
            "1\n"
          ]
        }
      ]
    },
    {
      "cell_type": "code",
      "source": [
        "x = np.array([2, 3, 1, 4, 7, 9, 1, 4, 6, 1, 3, 5, 3, 5, 6, 3])\n",
        "print(np.unique(x))\n",
        "print(np.unique(x, return_counts=True))"
      ],
      "metadata": {
        "colab": {
          "base_uri": "https://localhost:8080/"
        },
        "id": "jZgiQku2l9Vj",
        "outputId": "4f7ca8f7-cc85-48fb-abce-b4ab0c53ebb3"
      },
      "execution_count": null,
      "outputs": [
        {
          "output_type": "stream",
          "name": "stdout",
          "text": [
            "[1 2 3 4 5 6 7 9]\n",
            "(array([1, 2, 3, 4, 5, 6, 7, 9]), array([3, 1, 4, 2, 2, 2, 1, 1]))\n"
          ]
        }
      ]
    },
    {
      "cell_type": "code",
      "source": [
        "numbers = np.random.randint(40, 100, (20, 3))\n",
        "print(numbers)\n",
        "print(np.std(numbers, axis=0))\n",
        "print(np.min(numbers, axis=0))\n",
        "print(np.max(numbers, axis=0))\n",
        "\n",
        "print(np.sum(numbers, axis=0))"
      ],
      "metadata": {
        "colab": {
          "base_uri": "https://localhost:8080/"
        },
        "id": "jaZ7rxFAmYKa",
        "outputId": "b09f2b12-9be0-489d-fdf3-3e3ee6bf845a"
      },
      "execution_count": null,
      "outputs": [
        {
          "output_type": "stream",
          "name": "stdout",
          "text": [
            "[[91 94 98]\n",
            " [92 41 58]\n",
            " [49 87 94]\n",
            " [50 53 61]\n",
            " [55 50 55]\n",
            " [79 53 71]\n",
            " [74 97 74]\n",
            " [71 68 96]\n",
            " [79 95 53]\n",
            " [59 94 51]\n",
            " [97 76 91]\n",
            " [53 63 79]\n",
            " [74 97 47]\n",
            " [45 62 53]\n",
            " [84 89 58]\n",
            " [57 69 50]\n",
            " [82 78 58]\n",
            " [78 88 87]\n",
            " [55 54 80]\n",
            " [45 66 56]]\n",
            "[16.31709227 17.66946519 16.91301274]\n",
            "[45 41 47]\n",
            "[97 97 98]\n",
            "[1369 1474 1370]\n"
          ]
        }
      ]
    },
    {
      "cell_type": "markdown",
      "source": [
        "# **Problem Solving**"
      ],
      "metadata": {
        "id": "l55WFFkzxTXL"
      }
    },
    {
      "cell_type": "markdown",
      "source": [
        "### **Array Creation and Manipulation**\n",
        "\n",
        "1. Create a NumPy array of shape (5, 5) filled with random integers between 1 and 20. Replace all the elements in the third column with 1.\n",
        "2. Create a NumPy array of shape (4, 4) with values from 1 to 16. Replace the diagonal elements with 0."
      ],
      "metadata": {
        "id": "mu9iBJH3tCUA"
      }
    },
    {
      "cell_type": "code",
      "source": [
        "# 1\n",
        "a = np.random.randint(1,21, size=(5,5))\n",
        "a[:,2] = 0\n",
        "print(a)\n"
      ],
      "metadata": {
        "id": "wEJMxSt0AMOv",
        "colab": {
          "base_uri": "https://localhost:8080/"
        },
        "outputId": "29182f31-4c72-4aa9-94c0-a138e6a93edf"
      },
      "execution_count": null,
      "outputs": [
        {
          "output_type": "stream",
          "name": "stdout",
          "text": [
            "[[15  6  0 10  5]\n",
            " [18 15  0  2 12]\n",
            " [ 9 18  0  2 17]\n",
            " [17  6  0 14  2]\n",
            " [15 19  0 17 13]]\n"
          ]
        }
      ]
    },
    {
      "cell_type": "code",
      "source": [
        "# 2\n",
        "a = np.arange(1,17).reshape(4,4)\n",
        "np.fill_diagonal(a,0)\n",
        "print(a)"
      ],
      "metadata": {
        "colab": {
          "base_uri": "https://localhost:8080/"
        },
        "id": "jJC1pyTCB2y-",
        "outputId": "56c42f46-0f5b-4fa9-98ed-ed924678a5b0"
      },
      "execution_count": null,
      "outputs": [
        {
          "output_type": "stream",
          "name": "stdout",
          "text": [
            "[[ 0  2  3  4]\n",
            " [ 5  0  7  8]\n",
            " [ 9 10  0 12]\n",
            " [13 14 15  0]]\n"
          ]
        }
      ]
    },
    {
      "cell_type": "markdown",
      "source": [
        "### **Array Indexing and Slicing**\n",
        "\n",
        "1. Create a NumPy array of shape (6, 6) with values from 1 to 36. Extract the sub-array consisting of the 3rd to 5th rows and 2nd to 4th columns.\n",
        "2. Create a NumPy array of shape (5, 5) with random integers. Extract the elements on the border."
      ],
      "metadata": {
        "id": "Z-TOIPYxcs3r"
      }
    },
    {
      "cell_type": "code",
      "source": [
        "# 1\n",
        "a = np.arange(1,37).reshape(6,6)\n",
        "print(a[2:5, 1:4])"
      ],
      "metadata": {
        "colab": {
          "base_uri": "https://localhost:8080/"
        },
        "id": "QeU1yjFzBtLo",
        "outputId": "89807e16-847f-4f1d-d00b-1564149a0333"
      },
      "execution_count": null,
      "outputs": [
        {
          "output_type": "stream",
          "name": "stdout",
          "text": [
            "[[14 15 16]\n",
            " [20 21 22]\n",
            " [26 27 28]]\n"
          ]
        }
      ]
    },
    {
      "cell_type": "code",
      "source": [
        "# 2\n",
        "a = np.random.randint(5,15, size=(5,5))\n",
        "print(a)\n",
        "one = a[0,]\n",
        "two = a[4,]\n",
        "three = a[0:1,1:4].flatten()\n",
        "four = a[4:5,1:4].flatten()\n",
        "print(np.concatenate((one,two,three,four)))"
      ],
      "metadata": {
        "colab": {
          "base_uri": "https://localhost:8080/"
        },
        "id": "vTEb_5nEEMjy",
        "outputId": "c239ea51-a9c2-41e3-a8f1-8b1e672b440a"
      },
      "execution_count": null,
      "outputs": [
        {
          "output_type": "stream",
          "name": "stdout",
          "text": [
            "[[10  8 11  8  8]\n",
            " [ 5 13 13 10  8]\n",
            " [ 5 10 13 13  5]\n",
            " [11  8 11  7  6]\n",
            " [ 5  9  5 13 11]]\n",
            "[10  8 11  8  8  5  9  5 13 11  8 11  8  9  5 13]\n"
          ]
        }
      ]
    },
    {
      "cell_type": "markdown",
      "source": [
        "### **Array Operations**\n",
        "\n",
        "1. Create two NumPy arrays of shape (3, 4) filled with random integers. Perform element-wise addition, subtraction, multiplication, and division.\n",
        "2. Create a NumPy array of shape (4, 4) with values from 1 to 16. Compute the row-wise and column-wise sum."
      ],
      "metadata": {
        "id": "d3p9NpuRdjlM"
      }
    },
    {
      "cell_type": "code",
      "source": [
        "# 1\n",
        "a = np.random.randint(1,10, size=(3,4))\n",
        "b = np.random.randint(1,10, size=(3,4))\n",
        "print(a+b)\n",
        "print(a-b)\n",
        "print(a*b)\n",
        "print(a/b)"
      ],
      "metadata": {
        "colab": {
          "base_uri": "https://localhost:8080/"
        },
        "id": "Aq0WcCkG3WAt",
        "outputId": "ace74578-572e-479b-ed15-1977cdae8cc3"
      },
      "execution_count": null,
      "outputs": [
        {
          "output_type": "stream",
          "name": "stdout",
          "text": [
            "[[ 7 15 14 15]\n",
            " [10  8  9 12]\n",
            " [12 14 15 12]]\n",
            "[[ 1 -1  2 -1]\n",
            " [ 2 -6 -3 -6]\n",
            " [ 0 -2  1  4]]\n",
            "[[12 56 48 56]\n",
            " [24  7 18 27]\n",
            " [36 48 56 32]]\n",
            "[[1.33333333 0.875      1.33333333 0.875     ]\n",
            " [1.5        0.14285714 0.5        0.33333333]\n",
            " [1.         0.75       1.14285714 2.        ]]\n"
          ]
        }
      ]
    },
    {
      "cell_type": "code",
      "source": [
        "arr = np.arange(1,17).reshape(4,4)\n",
        "\n",
        "print(arr)\n",
        "print(np.sum(arr, axis=1))\n",
        "print(np.sum(arr, axis=0))"
      ],
      "metadata": {
        "colab": {
          "base_uri": "https://localhost:8080/"
        },
        "id": "KjWGeWvQ4YeI",
        "outputId": "460d48e4-a598-44a5-bb21-222ff6f38cfb"
      },
      "execution_count": null,
      "outputs": [
        {
          "output_type": "stream",
          "name": "stdout",
          "text": [
            "[[ 1  2  3  4]\n",
            " [ 5  6  7  8]\n",
            " [ 9 10 11 12]\n",
            " [13 14 15 16]]\n",
            "[10 26 42 58]\n",
            "[28 32 36 40]\n"
          ]
        }
      ]
    },
    {
      "cell_type": "markdown",
      "source": [
        "### **Statistical Operations**\n",
        "\n",
        "1. Create a NumPy array of shape (5, 5) filled with random integers. Compute the mean, median, standard deviation, and variance of the array."
      ],
      "metadata": {
        "id": "K9yvG5HZeRD0"
      }
    },
    {
      "cell_type": "code",
      "source": [
        "a = np.random.randint(1,10, size=(5,5))\n",
        "print(a)\n",
        "print(np.mean(a))\n",
        "print(np.median(a))\n",
        "print(np.std(a))\n",
        "print(np.var(a))"
      ],
      "metadata": {
        "colab": {
          "base_uri": "https://localhost:8080/"
        },
        "id": "jHr5SURn5nht",
        "outputId": "e5f7bba1-8041-413e-b897-3019e5815299"
      },
      "execution_count": null,
      "outputs": [
        {
          "output_type": "stream",
          "name": "stdout",
          "text": [
            "[[5 1 2 8 6]\n",
            " [3 8 1 6 7]\n",
            " [9 2 7 3 6]\n",
            " [1 6 7 5 5]\n",
            " [7 6 7 2 3]]\n",
            "4.92\n",
            "6.0\n",
            "2.415284662312084\n",
            "5.833599999999999\n"
          ]
        }
      ]
    },
    {
      "cell_type": "markdown",
      "source": [
        "### **Broadcasting**\n",
        "\n",
        "1. Create a NumPy array of shape (3, 3) filled with random integers. Add a 1D array of shape (3,) to each row of the 2D array using broadcasting.\n",
        "2. Create a NumPy array of shape (4, 4) filled with random integers. Subtract a 1D array of shape (4,) from each column of the 2D array using broadcasting."
      ],
      "metadata": {
        "id": "J9J7kKldeSkC"
      }
    },
    {
      "cell_type": "code",
      "source": [
        "#1\n",
        "a = np.random.randint(1,10, size=(3,3))\n",
        "b = np.array([1,2,3])\n",
        "print(a+b)"
      ],
      "metadata": {
        "colab": {
          "base_uri": "https://localhost:8080/"
        },
        "id": "m0-MoSKr6h4t",
        "outputId": "174ebad8-ef50-45b0-8b16-a5b9b0aca230"
      },
      "execution_count": null,
      "outputs": [
        {
          "output_type": "stream",
          "name": "stdout",
          "text": [
            "[[ 4  8 12]\n",
            " [10  7  8]\n",
            " [ 9  3  7]]\n"
          ]
        }
      ]
    },
    {
      "cell_type": "code",
      "source": [
        "#2\n",
        "a = np.random.randint(1,10, size=(4,4))\n",
        "b = np.array([1,2,3,4])\n",
        "print(a-b)"
      ],
      "metadata": {
        "colab": {
          "base_uri": "https://localhost:8080/"
        },
        "id": "oGnllnTm7L22",
        "outputId": "29e96e02-9269-484b-cf74-3c1623e086b4"
      },
      "execution_count": null,
      "outputs": [
        {
          "output_type": "stream",
          "name": "stdout",
          "text": [
            "[[ 7 -1  1  0]\n",
            " [ 8  1  5  1]\n",
            " [ 0  5 -1  2]\n",
            " [ 5  4  4 -2]]\n"
          ]
        }
      ]
    },
    {
      "cell_type": "markdown",
      "source": [
        "### **Linear Algebra**\n",
        "\n",
        "1. Create two NumPy arrays of shape (2, 3) and (3, 2). Perform matrix multiplication on these arrays."
      ],
      "metadata": {
        "id": "bSrkjSh0eV_e"
      }
    },
    {
      "cell_type": "code",
      "source": [
        "a = np.random.randint(1,10, size=(2,3))\n",
        "b = np.random.randint(1,10, size=(3,2))\n",
        "print(np.dot(a,b))"
      ],
      "metadata": {
        "colab": {
          "base_uri": "https://localhost:8080/"
        },
        "id": "J-hIqjES8Bad",
        "outputId": "0aac00b0-2488-422c-b8c2-1764109c26fc"
      },
      "execution_count": null,
      "outputs": [
        {
          "output_type": "stream",
          "name": "stdout",
          "text": [
            "[[ 91  13]\n",
            " [128  20]]\n"
          ]
        }
      ]
    },
    {
      "cell_type": "markdown",
      "source": [
        "### **Advanced Array Manipulation**\n",
        "\n",
        "1. Create a NumPy array of shape (3, 3) with values from 1 to 9. Reshape the array to shape (1, 9) and then to shape (9, 1).\n",
        "2. Create a NumPy array of shape (5, 5) filled with random integers. Flatten the array and then reshape it back to (5, 5)."
      ],
      "metadata": {
        "id": "QdUgtsIieUJL"
      }
    },
    {
      "cell_type": "code",
      "source": [
        "# 1\n",
        "arr = np.arange(1,10).reshape(3,3)\n",
        "print(arr)\n",
        "print(arr.reshape(1,9))\n",
        "print(arr.reshape(9,1))"
      ],
      "metadata": {
        "colab": {
          "base_uri": "https://localhost:8080/"
        },
        "id": "jDzqpvP48XTp",
        "outputId": "b3424641-b091-41ba-df4f-67c5d6a0db26"
      },
      "execution_count": null,
      "outputs": [
        {
          "output_type": "stream",
          "name": "stdout",
          "text": [
            "[[1 2 3]\n",
            " [4 5 6]\n",
            " [7 8 9]]\n",
            "[[1 2 3 4 5 6 7 8 9]]\n",
            "[[1]\n",
            " [2]\n",
            " [3]\n",
            " [4]\n",
            " [5]\n",
            " [6]\n",
            " [7]\n",
            " [8]\n",
            " [9]]\n"
          ]
        }
      ]
    },
    {
      "cell_type": "code",
      "source": [
        "# 2\n",
        "arr = np.arange(1,26).reshape(5,5)\n",
        "print(arr)\n",
        "print(arr.flatten())\n",
        "print(arr.flatten().reshape(5,5))"
      ],
      "metadata": {
        "colab": {
          "base_uri": "https://localhost:8080/"
        },
        "id": "-44ppM7B9J1R",
        "outputId": "fa0f30dd-fc92-4458-c14d-13ae1967bd2c"
      },
      "execution_count": null,
      "outputs": [
        {
          "output_type": "stream",
          "name": "stdout",
          "text": [
            "[[ 1  2  3  4  5]\n",
            " [ 6  7  8  9 10]\n",
            " [11 12 13 14 15]\n",
            " [16 17 18 19 20]\n",
            " [21 22 23 24 25]]\n",
            "[ 1  2  3  4  5  6  7  8  9 10 11 12 13 14 15 16 17 18 19 20 21 22 23 24\n",
            " 25]\n",
            "[[ 1  2  3  4  5]\n",
            " [ 6  7  8  9 10]\n",
            " [11 12 13 14 15]\n",
            " [16 17 18 19 20]\n",
            " [21 22 23 24 25]]\n"
          ]
        }
      ]
    },
    {
      "cell_type": "markdown",
      "source": [
        "### **Boolean Indexing**\n",
        "\n",
        "1. Create a NumPy array of shape (4, 4) filled with random integers. Use boolean indexing to set all elements greater than 10 to 10."
      ],
      "metadata": {
        "id": "2p_e-uUDvkI2"
      }
    },
    {
      "cell_type": "code",
      "source": [
        "arr = np.random.randint(1,20, size=(4,4))\n",
        "print(arr)\n",
        "arr[arr>10] = 10\n",
        "print(arr)"
      ],
      "metadata": {
        "colab": {
          "base_uri": "https://localhost:8080/"
        },
        "id": "9TfJWzf59ZgS",
        "outputId": "5bc03dfe-3f28-4d11-fa54-47aff0d7b0fd"
      },
      "execution_count": null,
      "outputs": [
        {
          "output_type": "stream",
          "name": "stdout",
          "text": [
            "[[ 8 15  9 14]\n",
            " [ 8 18 19  3]\n",
            " [ 8 12  3 17]\n",
            " [15  9  2  4]]\n",
            "[[ 8 10  9 10]\n",
            " [ 8 10 10  3]\n",
            " [ 8 10  3 10]\n",
            " [10  9  2  4]]\n"
          ]
        }
      ]
    },
    {
      "cell_type": "markdown",
      "source": [
        "### **1 . Create a 1D, 2D, and 3D NumPy array and print their dimensions and shapes.**"
      ],
      "metadata": {
        "id": "evLIMQ6kd7Dm"
      }
    },
    {
      "cell_type": "code",
      "source": [
        "arr1 = np.random.randint(1,3,3)\n",
        "arr2 = np.random.randint(1,3,(2,2))\n",
        "arr3 = np.random.randint(1,3,(2,2,2))\n",
        "\n",
        "print(arr1.ndim, arr1.shape)\n",
        "print(arr2.ndim, arr2.shape)\n",
        "print(arr3.ndim, arr3.shape)\n"
      ],
      "metadata": {
        "colab": {
          "base_uri": "https://localhost:8080/"
        },
        "outputId": "72f570a2-4a18-485c-a108-537b213175d2",
        "id": "WPgdmwlKd7Dn"
      },
      "execution_count": null,
      "outputs": [
        {
          "output_type": "stream",
          "name": "stdout",
          "text": [
            "1 (3,)\n",
            "2 (2, 2)\n",
            "3 (2, 2, 2)\n"
          ]
        }
      ]
    },
    {
      "cell_type": "markdown",
      "source": [
        "### **2 . Create:**\n",
        "* an array of zeros of shape (3,3)\n",
        "* an array of ones of shape (2,5)\n",
        "* an array filled with 7\n",
        "\n",
        "\n"
      ],
      "metadata": {
        "id": "JKKLfUZkd7Dp"
      }
    },
    {
      "cell_type": "code",
      "source": [
        "arr = np.zeros((3,3))\n",
        "print(arr)\n",
        "\n",
        "arr2 = np.ones((2,5))\n",
        "print(arr2)\n",
        "\n",
        "arr3 = np.full((2,2), 7)\n",
        "print(arr3)"
      ],
      "metadata": {
        "colab": {
          "base_uri": "https://localhost:8080/"
        },
        "outputId": "3b59065d-220d-4ee4-d423-fdfcb3dd10a4",
        "id": "7HnN-jt1d7Dp"
      },
      "execution_count": null,
      "outputs": [
        {
          "output_type": "stream",
          "name": "stdout",
          "text": [
            "[[0. 0. 0.]\n",
            " [0. 0. 0.]\n",
            " [0. 0. 0.]]\n",
            "[[1. 1. 1. 1. 1.]\n",
            " [1. 1. 1. 1. 1.]]\n",
            "[[7 7]\n",
            " [7 7]]\n"
          ]
        }
      ]
    },
    {
      "cell_type": "markdown",
      "source": [
        "### **3 . Create an array of even numbers between 10 and 50 using arange.**"
      ],
      "metadata": {
        "id": "TlH27Ke1d7Dr"
      }
    },
    {
      "cell_type": "code",
      "source": [
        "arr = np.arange(10,51,2)\n",
        "print(arr)"
      ],
      "metadata": {
        "colab": {
          "base_uri": "https://localhost:8080/"
        },
        "outputId": "c2a08c58-f00b-4b80-b40f-291b0617c252",
        "id": "pIUirupNd7Dr"
      },
      "execution_count": null,
      "outputs": [
        {
          "output_type": "stream",
          "name": "stdout",
          "text": [
            "[10 12 14 16 18 20 22 24 26 28 30 32 34 36 38 40 42 44 46 48 50]\n"
          ]
        }
      ]
    },
    {
      "cell_type": "markdown",
      "source": [
        "\n",
        "### **4 . Create a 4×4 matrix from 0–15. Then , extract:**\n",
        "* the first row\n",
        "* the last column\n",
        "* a 2×2 subarray from the center\n",
        "\n"
      ],
      "metadata": {
        "id": "nUDrdK5Ld7Ds"
      }
    },
    {
      "cell_type": "code",
      "source": [
        "arr = np.arange(0,16).reshape(4,4)\n",
        "print(arr)\n",
        "\n",
        "print(arr[0])\n",
        "print(arr[:,-1])\n",
        "print(arr[1:3,1:3])"
      ],
      "metadata": {
        "colab": {
          "base_uri": "https://localhost:8080/"
        },
        "outputId": "6463daa8-e663-407c-9abc-b93337b9b081",
        "id": "glg3FhCjd7Dt"
      },
      "execution_count": null,
      "outputs": [
        {
          "output_type": "stream",
          "name": "stdout",
          "text": [
            "[[ 0  1  2  3]\n",
            " [ 4  5  6  7]\n",
            " [ 8  9 10 11]\n",
            " [12 13 14 15]]\n",
            "[0 1 2 3]\n",
            "[ 3  7 11 15]\n",
            "[[ 5  6]\n",
            " [ 9 10]]\n"
          ]
        }
      ]
    },
    {
      "cell_type": "markdown",
      "source": [
        "### **5 . Add a 1D array [1,2,3] to each row of a 3×3 matrix.**"
      ],
      "metadata": {
        "id": "SKzJyBVMd7Dt"
      }
    },
    {
      "cell_type": "code",
      "source": [
        "arr = np.arange(1,10).reshape(3,3)\n",
        "print(arr)\n",
        "\n",
        "arr2 = np.array([1,2,3])\n",
        "print(arr + arr2)"
      ],
      "metadata": {
        "colab": {
          "base_uri": "https://localhost:8080/"
        },
        "outputId": "0ef3712a-3ddb-46cb-a54c-c33011f9a88e",
        "id": "H0NIilzRd7Du"
      },
      "execution_count": null,
      "outputs": [
        {
          "output_type": "stream",
          "name": "stdout",
          "text": [
            "[[1 2 3]\n",
            " [4 5 6]\n",
            " [7 8 9]]\n",
            "[[ 2  4  6]\n",
            " [ 5  7  9]\n",
            " [ 8 10 12]]\n"
          ]
        }
      ]
    },
    {
      "cell_type": "markdown",
      "source": [
        "### **6 . Given two arrays A and B, compute:**\n",
        "* (A + B) / 2\n",
        "* A^2 + B^2"
      ],
      "metadata": {
        "id": "N5pUI0LGd7Dv"
      }
    },
    {
      "cell_type": "code",
      "source": [
        "A = np.array([1,2,3])\n",
        "B = np.array([4,5,6])\n",
        "\n",
        "print((A+B)/2)\n",
        "print(A**2 + B**2)"
      ],
      "metadata": {
        "colab": {
          "base_uri": "https://localhost:8080/"
        },
        "outputId": "b9a10bc2-f837-42da-83fe-030b15e702a2",
        "id": "s6jVCIUJd7Dv"
      },
      "execution_count": null,
      "outputs": [
        {
          "output_type": "stream",
          "name": "stdout",
          "text": [
            "[2.5 3.5 4.5]\n",
            "[17 29 45]\n"
          ]
        }
      ]
    },
    {
      "cell_type": "markdown",
      "source": [
        "### **Problem Solving deep ml**"
      ],
      "metadata": {
        "id": "DDRg4DBvShMI"
      }
    },
    {
      "cell_type": "markdown",
      "source": [
        "Easy\n",
        "https://www.deep-ml.com/problems/3\n",
        "\n",
        "![Screenshot from 2025-10-21 19-42-17.png](data:image/png;base64,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)"
      ],
      "metadata": {
        "id": "S5ay11PWS7Dv"
      }
    },
    {
      "cell_type": "code",
      "source": [
        "import numpy as np\n",
        "\n",
        "def reshape_matrix(a: list[list[int|float]], new_shape: tuple[int, int]) -> list[list[int|float]]:\n",
        "\t#Write your code here and return a python list after reshaping by using numpy's tolist() method\n",
        "    a = np.array(a)\n",
        "    x = np.size(a)\n",
        "    s = new_shape[0] * new_shape[1]\n",
        "    if x == s:\n",
        "        return a.reshape(new_shape).tolist()\n",
        "    else:\n",
        "        return []\n",
        "\n",
        "reshape_matrix(a = [[1,2,3,4],[5,6,7,8]], new_shape = (4, 2))"
      ],
      "metadata": {
        "id": "gxa_xQnlSl7g",
        "colab": {
          "base_uri": "https://localhost:8080/"
        },
        "outputId": "7d8898ad-879a-474d-8e06-356e75b25004"
      },
      "execution_count": null,
      "outputs": [
        {
          "output_type": "execute_result",
          "data": {
            "text/plain": [
              "[[1, 2], [3, 4], [5, 6], [7, 8]]"
            ]
          },
          "metadata": {},
          "execution_count": 138
        }
      ]
    },
    {
      "cell_type": "markdown",
      "source": [
        "Easy\n",
        "https://www.deep-ml.com/problems/5\n",
        "\n",
        "![Screenshot from 2025-10-21 21-00-34.png](data:image/png;base64,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)"
      ],
      "metadata": {
        "id": "HLRsxtKLS9VP"
      }
    },
    {
      "cell_type": "code",
      "source": [
        "def scalar_multiply(matrix: list[list[int|float]], scalar: int|float) -> list[list[int|float]]:\n",
        "\treturn np.array(matrix) * scalar\n",
        "\n",
        "scalar_multiply(matrix = [[1, 2], [3, 4]], scalar = 2)"
      ],
      "metadata": {
        "id": "mAOqIcObTGnP",
        "colab": {
          "base_uri": "https://localhost:8080/"
        },
        "outputId": "7da1c63b-c57f-4214-88f7-a7cb2f632673"
      },
      "execution_count": null,
      "outputs": [
        {
          "output_type": "execute_result",
          "data": {
            "text/plain": [
              "array([[2, 4],\n",
              "       [6, 8]])"
            ]
          },
          "metadata": {},
          "execution_count": 143
        }
      ]
    },
    {
      "cell_type": "markdown",
      "source": [
        "Easy\n",
        "https://www.deep-ml.com/problems/35\n",
        "![Screenshot from 2025-10-21 21-04-38.png](data:image/png;base64,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)"
      ],
      "metadata": {
        "id": "wJUZdu18TG-H"
      }
    },
    {
      "cell_type": "code",
      "source": [
        "import numpy as np\n",
        "\n",
        "def make_diagonal(x):\n",
        "  return np.diag(x)\n",
        "\n",
        "make_diagonal([1,2,3])"
      ],
      "metadata": {
        "id": "leIvylvkWkre",
        "colab": {
          "base_uri": "https://localhost:8080/"
        },
        "outputId": "e4be7aed-91ff-4397-ba2f-76bf0c3e66c1"
      },
      "execution_count": null,
      "outputs": [
        {
          "output_type": "execute_result",
          "data": {
            "text/plain": [
              "array([[1, 0, 0],\n",
              "       [0, 2, 0],\n",
              "       [0, 0, 3]])"
            ]
          },
          "metadata": {},
          "execution_count": 153
        }
      ]
    },
    {
      "cell_type": "markdown",
      "source": [
        "Easy\n",
        "https://www.deep-ml.com/problems/83\n",
        "\n",
        "![Screenshot from 2025-10-21 20-28-56.png](data:image/png;base64,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)"
      ],
      "metadata": {
        "id": "DFTQ6pRdXwpN"
      }
    },
    {
      "cell_type": "code",
      "source": [
        "import numpy as np\n",
        "\n",
        "def calculate_dot_product(vec1, vec2) -> float:\n",
        "  vec1 = np.array(vec1)\n",
        "  vec2 = np.array(vec2)\n",
        "  return np.dot(vec1, vec2)\n",
        "\n",
        "print(calculate_dot_product(vec1 = [1, 2, 3], vec2 = [4, 5, 6]))\n"
      ],
      "metadata": {
        "id": "7eNWs3CuXxoW",
        "colab": {
          "base_uri": "https://localhost:8080/"
        },
        "outputId": "4adac42e-1899-4e20-d594-d9a25b1419ee"
      },
      "execution_count": null,
      "outputs": [
        {
          "output_type": "stream",
          "name": "stdout",
          "text": [
            "32\n"
          ]
        }
      ]
    },
    {
      "cell_type": "markdown",
      "source": [
        "Easy\n",
        "https://www.deep-ml.com/problems/121\n",
        "![Screenshot from 2025-10-21 20-31-23.png](data:image/png;base64,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)"
      ],
      "metadata": {
        "id": "_8x-sXLpZEpv"
      }
    },
    {
      "cell_type": "code",
      "source": [
        "def vector_sum(a: list[int|float], b: list[int|float]) -> list[int|float]:\n",
        "  if len(a) != len(b):\n",
        "    return -1\n",
        "\n",
        "  arr = np.array([a,b])\n",
        "  return np.sum(arr, axis=0).tolist()\n",
        "\n",
        "vector_sum(a = [1, 3], b = [4, 5])"
      ],
      "metadata": {
        "colab": {
          "base_uri": "https://localhost:8080/"
        },
        "id": "YYf1mXzibLeC",
        "outputId": "98dfad02-f47e-489b-823e-983c036d5f4a"
      },
      "execution_count": null,
      "outputs": [
        {
          "output_type": "execute_result",
          "data": {
            "text/plain": [
              "[5, 8]"
            ]
          },
          "metadata": {},
          "execution_count": 183
        }
      ]
    },
    {
      "cell_type": "markdown",
      "source": [
        "https://www.deep-ml.com/problems/4\n",
        "![Screenshot from 2025-10-21 21-40-13.png](data:image/png;base64,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)"
      ],
      "metadata": {
        "id": "DVqnOZNGbQB7"
      }
    },
    {
      "cell_type": "code",
      "source": [
        "import numpy as np\n",
        "\n",
        "def calculate_matrix_mean(matrix: list[list[float]], mode: str) -> list[float]:\n",
        "  arr = np.array(matrix)\n",
        "  if mode == 'column':\n",
        "    means = np.mean(arr, axis=0)\n",
        "  else:\n",
        "    means = np.mean(arr, axis=1)\n",
        "  return means.tolist()\n",
        "\n",
        "calculate_matrix_mean(matrix = [[1, 2, 3], [4, 5, 6], [7, 8, 9]], mode = 'column')"
      ],
      "metadata": {
        "colab": {
          "base_uri": "https://localhost:8080/"
        },
        "id": "BKhMuK7gbk00",
        "outputId": "9bbe39e0-e946-417c-b522-95ab49dc3f2e"
      },
      "execution_count": null,
      "outputs": [
        {
          "output_type": "execute_result",
          "data": {
            "text/plain": [
              "[4.0, 5.0, 6.0]"
            ]
          },
          "metadata": {},
          "execution_count": 190
        }
      ]
    },
    {
      "cell_type": "code",
      "source": [
        "import numpy as np"
      ],
      "metadata": {
        "id": "MHtQb5WSZ5BO"
      },
      "execution_count": 1,
      "outputs": []
    },
    {
      "cell_type": "markdown",
      "source": [
        "**1. Student Marks Analyzer**\n",
        "\n",
        "You are helping a teacher check exam results.\n",
        " Create a NumPy array with 10 random integers between 0 and 100 (student scores).\n",
        "\n",
        " Find:\n",
        " - the highest score\n",
        " - the lowest score\n",
        " - the average score\n",
        "\n",
        " Hint: use np.random.randint(), arr.max(), arr.min(), arr.mean()"
      ],
      "metadata": {
        "id": "g4H7jdJvaEL1"
      }
    },
    {
      "cell_type": "code",
      "source": [
        "exam_res = np.random.randint(0, 101, 10)\n",
        "print(exam_res)\n",
        "print(exam_res.max())\n",
        "print(exam_res.min())\n",
        "print(exam_res.mean())"
      ],
      "metadata": {
        "colab": {
          "base_uri": "https://localhost:8080/"
        },
        "id": "XfmPPTA2a4ge",
        "outputId": "88596078-5481-415e-ee54-cab5c5847b7a"
      },
      "execution_count": 14,
      "outputs": [
        {
          "output_type": "stream",
          "name": "stdout",
          "text": [
            "[ 75  27   1 100  40  36  15  15   7  41]\n",
            "100\n",
            "1\n",
            "35.7\n"
          ]
        }
      ]
    },
    {
      "cell_type": "markdown",
      "source": [
        "**2. Warehouse Weights**\n",
        "\n",
        "A warehouse stores item weights (in kg):\n",
        " arr = np.array([45, 60, 55, 30, 90, 75, 40, 50])\n",
        "\n",
        " Find and print:\n",
        " - all items heavier than 50 kg\n",
        " - the sorted weights\n",
        " - the index of the heaviest item\n",
        "\n",
        " Hint: use arr[arr > 50], np.sort(arr), arr.argmax()"
      ],
      "metadata": {
        "id": "pAz1nq39aSC1"
      }
    },
    {
      "cell_type": "code",
      "source": [
        "arr = np.array([45, 60, 55, 30, 90, 75, 40, 50])\n",
        "print(arr[arr > 50])\n",
        "print(np.sort(arr))\n",
        "print(arr.argmax())"
      ],
      "metadata": {
        "colab": {
          "base_uri": "https://localhost:8080/"
        },
        "id": "XVVd0tn2bWtK",
        "outputId": "8a6c1eca-f2cf-42b4-c141-b1e22f9feb3e"
      },
      "execution_count": 15,
      "outputs": [
        {
          "output_type": "stream",
          "name": "stdout",
          "text": [
            "[60 55 90 75]\n",
            "[30 40 45 50 55 60 75 90]\n",
            "4\n"
          ]
        }
      ]
    },
    {
      "cell_type": "markdown",
      "source": [
        "**3. Temperature Report**\n",
        "\n",
        "A weather station collects temperatures (°C) from 4 zones.\n",
        " Generate random integers between 20 and 40 for a 4×4 grid.\n",
        "\n",
        " Then find:\n",
        " - the average temperature of each zone (row)\n",
        " - the highest temperature in the grid\n",
        " - replace all temperatures above 35 with 35"
      ],
      "metadata": {
        "id": "OZbRdE-UaY2G"
      }
    },
    {
      "cell_type": "code",
      "source": [
        "temp = np.random.randint(20, 41, (4, 4))\n",
        "print(temp)\n",
        "print(temp.mean(axis=1))\n",
        "print(temp.max())\n",
        "\n",
        "temp[temp > 35] = 35\n",
        "print(temp)"
      ],
      "metadata": {
        "colab": {
          "base_uri": "https://localhost:8080/"
        },
        "id": "GdA-lXRjbb2Z",
        "outputId": "6db929c2-5fe2-4acc-9e9b-d54eb8ef5f3c"
      },
      "execution_count": 16,
      "outputs": [
        {
          "output_type": "stream",
          "name": "stdout",
          "text": [
            "[[24 23 34 26]\n",
            " [22 36 24 34]\n",
            " [30 29 26 25]\n",
            " [30 29 28 38]]\n",
            "[26.75 29.   27.5  31.25]\n",
            "38\n",
            "[[24 23 34 26]\n",
            " [22 35 24 34]\n",
            " [30 29 26 25]\n",
            " [30 29 28 35]]\n"
          ]
        }
      ]
    },
    {
      "cell_type": "markdown",
      "source": [
        "**4. Traffic Data**\n",
        "\n",
        "A city records the number of cars passing 5 intersections in 3 time slots (morning, afternoon, night).\n",
        " Create a 3×5 array of random integers between 0 and 50.\n",
        "\n",
        " Then find:\n",
        " - total cars per intersection (sum by column)\n",
        " - total cars per time slot (sum by row)\n"
      ],
      "metadata": {
        "id": "6q3J9nbAafJI"
      }
    },
    {
      "cell_type": "code",
      "source": [
        "city_cars_record = np.random.randint(0, 51, (3, 5))\n",
        "print(city_cars_record)\n",
        "print(city_cars_record.sum(axis=0))\n",
        "print(city_cars_record.sum(axis=1))"
      ],
      "metadata": {
        "colab": {
          "base_uri": "https://localhost:8080/"
        },
        "id": "Kz1a8T6rcpQg",
        "outputId": "9069f4cd-078f-490d-dfb0-f4ab6ca8ec7b"
      },
      "execution_count": 17,
      "outputs": [
        {
          "output_type": "stream",
          "name": "stdout",
          "text": [
            "[[ 6 42 17 48 43]\n",
            " [16 18 49 36 16]\n",
            " [33 16 23 11 34]]\n",
            "[55 76 89 95 93]\n",
            "[156 135 117]\n"
          ]
        }
      ]
    },
    {
      "cell_type": "markdown",
      "source": [
        "**5. Fruit Store Stock**\n",
        "\n",
        "You sell fruits in your store. Stock levels (kg) for 5 days are:\n",
        " stock = np.array([12, 15, 9, 20, 18])\n",
        "\n",
        " * A new delivery adds 5 kg to each stock.\n",
        " Then 10% of all fruits get spoiled.\n",
        "\n",
        " * Find the final stock levels.\n",
        "\n",
        " Hint: use broadcasting and simple math."
      ],
      "metadata": {
        "id": "2BoNNhqcaj8z"
      }
    },
    {
      "cell_type": "code",
      "source": [
        "stock = np.array([12, 15, 9, 20, 18], dtype=np.dtype('float'))\n",
        "stock = (stock + 5) * 0.90\n",
        "stock"
      ],
      "metadata": {
        "colab": {
          "base_uri": "https://localhost:8080/"
        },
        "id": "X1NiKfIJe-h8",
        "outputId": "4db85de2-9bf5-4271-9858-10162cbbe735"
      },
      "execution_count": 32,
      "outputs": [
        {
          "output_type": "execute_result",
          "data": {
            "text/plain": [
              "array([15.3, 18. , 12.6, 22.5, 20.7])"
            ]
          },
          "metadata": {},
          "execution_count": 32
        }
      ]
    },
    {
      "cell_type": "code",
      "source": [
        "stock = np.array([12, 15, 9, 20, 18], dtype=np.dtype('float'))\n",
        "stock = stock + 5\n",
        "stock = stock * 0.90\n",
        "stock"
      ],
      "metadata": {
        "colab": {
          "base_uri": "https://localhost:8080/"
        },
        "id": "DOI2gPwhhHlf",
        "outputId": "aef40556-e2ae-4d6f-8209-e7c43cfce1ef"
      },
      "execution_count": 33,
      "outputs": [
        {
          "output_type": "execute_result",
          "data": {
            "text/plain": [
              "array([15.3, 18. , 12.6, 22.5, 20.7])"
            ]
          },
          "metadata": {},
          "execution_count": 33
        }
      ]
    }
  ]
}