{
  "nbformat": 4,
  "nbformat_minor": 0,
  "metadata": {
    "colab": {
      "provenance": [],
      "toc_visible": true,
      "collapsed_sections": [
        "IaBRaIe2F9oY",
        "1OLI0nX8PgV3",
        "-AJqpUEgP3QE",
        "AtAQedanlavb",
        "eKwdADeOkXtp",
        "hn_P9LaFFxGh",
        "3QreeZfu4jFr",
        "P3wU_vGf-l5T",
        "9FIBUSKR-vJ6",
        "RDx_ZXq1NGZT",
        "1RLTzhiBYwC1",
        "fxHDefnhOJjU",
        "0NZyddQ0R2Hq",
        "ItsUXVfqR5QS",
        "s4HR-gMER8rh",
        "ejxD9djHd3T0",
        "ODZR1bhgnzoO"
      ],
      "authorship_tag": "ABX9TyP1KIse7J+a9u/00DGEjsNu",
      "include_colab_link": true
    },
    "kernelspec": {
      "name": "python3",
      "display_name": "Python 3"
    },
    "language_info": {
      "name": "python"
    }
  },
  "cells": [
    {
      "cell_type": "markdown",
      "metadata": {
        "id": "view-in-github",
        "colab_type": "text"
      },
      "source": [
        "<a href=\"https://colab.research.google.com/github/coderzaman/Numpy-For-AI-ML/blob/main/Numpy_For__AI_ML.ipynb\" target=\"_parent\"><img src=\"https://colab.research.google.com/assets/colab-badge.svg\" alt=\"Open In Colab\"/></a>"
      ]
    },
    {
      "cell_type": "markdown",
      "source": [
        "# **Introduction to NumPy**"
      ],
      "metadata": {
        "id": "IaBRaIe2F9oY"
      }
    },
    {
      "cell_type": "markdown",
      "source": [
        "\n",
        "NumPy stands for **Num**erical **Py**thon. It's a fundamental library for scientific computing in Python.\n",
        "\n",
        "At its core, NumPy provides a powerful object called an `ndarray`, which stands for **n-dimensional array**. This object is the key to NumPy's speed and power.\n",
        "\n",
        "-----\n",
        "\n",
        "## **Why is NumPy Faster than a Python List?**\n",
        "\n",
        "While a NumPy `ndarray` might seem similar to a Python `list`, it has crucial architectural differences that make it significantly faster for numerical operations. The two main reasons are **data type homogeneity** and **contiguous memory layout**.\n",
        "\n",
        "### **1. Homogeneous Data Types**\n",
        "\n",
        "A NumPy array is **homogeneous**, meaning all elements inside the array must be of the **same data type** (e.g., all 32-bit integers or all 64-bit floats).\n",
        "\n",
        "  * **NumPy `ndarray`**: Since every element is the same type, NumPy knows exactly how much memory each element takes up and doesn't need to perform type-checking when iterating or performing operations.\n",
        "  * **Python `list`**: A list is **heterogeneous**. It can contain different data types (`int`, `string`, `object`, etc.). When you perform an operation on a list, Python must check the data type of each element before it can proceed, which adds significant overhead and slows down the process.\n",
        "\n",
        "### **2. Contiguous Memory Layout**\n",
        "\n",
        "This is the most important reason for NumPy's speed advantage.\n",
        "\n",
        "  * **NumPy `ndarray`**: Array data is stored in a single, **contiguous block of memory**. This means if the first element is at memory address 1000, the next element (of the same integer type) will be right next to it at 1004, the next at 1008, and so on. Computers are highly optimized to work with contiguous memory blocks. This is often called being \"cache-friendly.\"\n",
        "\n",
        "  * **Python `list`**: A list doesn't store the actual data items contiguously. Instead, it stores **pointers** to objects that are scattered across different locations in memory. To access the next item, the program has to follow the pointer to find it, an extra step that slows things down.\n",
        "\n",
        "-----\n",
        "\n",
        "## **The Power of Vectorization & SIMD(Single Instruction Multiple Data)**\n",
        "\n",
        "These two features—homogeneous types and contiguous memory—unlock a powerful programming paradigm called **vectorization**.\n",
        "\n",
        "**Vectorization** is the process of executing operations on entire arrays at once, instead of iterating through elements one by one with a `for` loop.\n",
        "\n",
        "For example, to multiply every element in a list by 5, you would write a loop:\n",
        "\n",
        "```python\n",
        "my_list = [1, 2, 3, 4, 5]\n",
        "for i in range(len(my_list)):\n",
        "    my_list[i] = my_list[i] * 5\n",
        "```\n",
        "\n",
        "With NumPy, you can perform this operation on the whole array in a single line:\n",
        "\n",
        "```python\n",
        "import numpy as np\n",
        "my_array = np.array([1, 2, 3, 4, 5])\n",
        "my_array = my_array * 5 # This is vectorization!\n",
        "```\n",
        "\n",
        "This is possible because NumPy can pass the entire block of contiguous data to highly optimized, pre-compiled C code. This code, in turn, can leverage modern CPU features like **SIMD (Single Instruction, Multiple Data)**. SIMD allows a single CPU instruction (e.g., \"multiply by 5\") to be performed on multiple data elements simultaneously, leading to massive performance gains.\n",
        "\n",
        "-----\n",
        "\n",
        "## **What Else is NumPy Used For? 🧑‍🔬**\n",
        "\n",
        "Because of its speed and efficiency, NumPy is the foundation of the scientific Python ecosystem. It provides a vast library of high-level mathematical functions that operate on `ndarray`s, including:\n",
        "\n",
        "  * **Linear Algebra**: Matrix multiplication, determinants, solving linear equations, and more.\n",
        "  * **Statistics**: Calculating mean, median, standard deviation, etc.\n",
        "  * **Fourier Transforms** and routines for shape manipulation.\n",
        "  * It serves as the underlying data structure for other major libraries, most notably **Pandas**, **SciPy**, and **Scikit-learn**."
      ],
      "metadata": {
        "id": "11ENfEJwPYIX"
      }
    },
    {
      "cell_type": "markdown",
      "source": [
        "## **NumPy পরিচিতি**"
      ],
      "metadata": {
        "id": "g27IntsqOq1j"
      }
    },
    {
      "cell_type": "markdown",
      "source": [
        "\n",
        "NumPy-এর পূর্ণরূপ হলো **Num**erical **Py**thon। এটি পাইথনে সায়েন্টিফিক কম্পিউটিং-এর জন্য একটি মৌলিক লাইব্রেরি।\n",
        "\n",
        "NumPy-এর কেন্দ্রে রয়েছে `ndarray` নামক একটি শক্তিশালী অবজেক্ট, যার অর্থ **n-dimensional array** (এন-ডাইমেনশনাল অ্যারে)। এই অবজেক্টটিই NumPy-এর গতি এবং ক্ষমতার মূল চাবিকাঠি।\n",
        "\n",
        "-----\n",
        "\n",
        "## **NumPy কেন Python List-এর চেয়ে দ্রুত?**\n",
        "\n",
        "যদিও একটি NumPy `ndarray`-কে পাইথনের `list`-এর মতোই মনে হতে পারে, তবে এর কিছু গুরুত্বপূর্ণ আর্কিটেকচারাল পার্থক্য রয়েছে যা এটিকে নিউমেরিক্যাল অপারেশনের জন্য অনেক বেশি দ্রুত করে তোলে। এর দুটি প্রধান কারণ হলো **সমজাতীয় ডেটা টাইপ** এবং **ধারাবাহিক মেমরি লেআউট**।\n",
        "\n",
        "### **১. সমজাতীয় ডেটা টাইপ (Homogeneous Data Types)**\n",
        "\n",
        "একটি NumPy অ্যারে **সমজাতীয় (homogeneous)** হয়, অর্থাৎ অ্যারের ভিতরের সমস্ত উপাদান অবশ্যই **একই ডেটা টাইপের** হতে হবে (যেমন, সব 32-bit integer অথবা সব 64-bit float)।\n",
        "\n",
        "  * **NumPy `ndarray`**: যেহেতু প্রতিটি উপাদান একই ধরনের, তাই NumPy ঠিকভাবে জানে প্রতিটি উপাদানের জন্য কতটা মেমরি প্রয়োজন। এর ফলে কোনো অপারেশন চালানোর সময় ডেটা টাইপ চেক করার প্রয়োজন হয় না।\n",
        "  * **Python `list`**: একটি লিস্ট **বিষমজাতীয় (heterogeneous)** হতে পারে। এতে বিভিন্ন ডেটা টাইপের উপাদান (`int`, `string`, `object` ইত্যাদি) থাকতে পারে। যখন একটি লিস্টের উপর কোনো অপারেশন করা হয়, তখন পাইথনকে প্রতিটি উপাদানের ডেটা টাইপ পরীক্ষা করতে হয়, যা অতিরিক্ত সময় নেয় এবং প্রক্রিয়াটিকে ধীর করে দেয়।\n",
        "\n",
        "### **২. ধারাবাহিক মেমরি লেআউট (Contiguous Memory Layout)**\n",
        "\n",
        "NumPy-এর গতির পেছনে এটিই সবচেয়ে গুরুত্বপূর্ণ কারণ।\n",
        "\n",
        "  * **NumPy `ndarray`**: অ্যারের ডেটা একটিমাত্র, **ধারাবাহিক মেমরি ব্লকে (contiguous block of memory)** সংরক্ষিত থাকে। এর মানে হলো, যদি প্রথম উপাদানটি মেমরি অ্যাড্রেস 1000-এ থাকে, তবে পরবর্তী (একই টাইপের) উপাদানটি ঠিক তার পাশেই 1004-এ থাকবে, তার পরেরটি 1008-এ, এবং এভাবেই চলতে থাকবে। কম্পিউটার এই ধরনের ধারাবাহিক মেমরি ব্লকের সাথে কাজ করতে অত্যন্ত অপ্টিমাইজড। একে প্রায়শই \"ক্যাশ-ফ্রেন্ডলি\" (cache-friendly) বলা হয়।\n",
        "\n",
        "  * **Python `list`**: একটি লিস্ট তার আসল ডেটা আইটেমগুলো ধারাবাহিকভাবে সংরক্ষণ করে না। পরিবর্তে, এটি মেমরির বিভিন্ন স্থানে ছড়িয়ে ছিটিয়ে থাকা অবজেক্টগুলোর **পয়েন্টার (pointers)** সংরক্ষণ করে। পরবর্তী আইটেমটি অ্যাক্সেস করার জন্য, প্রোগ্রামকে সেই পয়েন্টার অনুসরণ করে তাকে খুঁজে বের করতে হয়, যা একটি অতিরিক্ত ধাপ এবং প্রক্রিয়াটিকে ধীর করে দেয়।\n",
        "\n",
        "-----\n",
        "\n",
        "## **ভেক্টরাইজেশন এবং SIMD(Single Instruction Multiple Data)-এর শক্তি**\n",
        "\n",
        "এই দুটি বৈশিষ্ট্য—সমজাতীয় টাইপ এবং ধারাবাহিক মেমরি—একটি শক্তিশালী প্রোগ্রামিং কৌশলকে সম্ভব করে তোলে, যার নাম **ভেক্টরাইজেশন (vectorization)**।\n",
        "\n",
        "**ভেক্টরাইজেশন** হলো `for` লুপ ব্যবহার করে এক এক করে উপাদানের উপর কাজ না করে, একবারে পুরো অ্যারের উপর অপারেশন চালানো।\n",
        "\n",
        "উদাহরণস্বরূপ, একটি লিস্টের প্রতিটি উপাদানকে 5 দিয়ে গুণ করতে, আপনাকে একটি লুপ লিখতে হবে:\n",
        "\n",
        "```python\n",
        "my_list = [1, 2, 3, 4, 5]\n",
        "for i in range(len(my_list)):\n",
        "    my_list[i] = my_list[i] * 5\n",
        "```\n",
        "\n",
        "কিন্তু NumPy ব্যবহার করে, আপনি এই কাজটি একটিমাত্র লাইনে পুরো অ্যারের উপর করতে পারেন:\n",
        "\n",
        "```python\n",
        "import numpy as np\n",
        "my_array = np.array([1, 2, 3, 4, 5])\n",
        "my_array = my_array * 5 # এটাই ভেক্টরাইজেশন!\n",
        "```\n",
        "\n",
        "এটি সম্ভব কারণ NumPy পুরো ধারাবাহিক ডেটা ব্লকটিকে অত্যন্ত অপ্টিমাইজড এবং প্রি-কম্পাইলড C কোডের কাছে পাঠাতে পারে। এই C কোডটি আধুনিক CPU-এর **SIMD (Single Instruction, Multiple Data)**-এর মতো ফিচার ব্যবহার করতে পারে। SIMD একটিমাত্র CPU নির্দেশকে (যেমন, \"5 দ্বারা গুণ করো\") একই সময়ে একাধিক ডেটা উপাদানের উপর প্রয়োগ করতে দেয়, যার ফলে গতি বৃদ্ধি পায়।\n",
        "\n",
        "-----\n",
        "\n",
        "## **NumPy আর কী কী কাজে ব্যবহৃত হয়? 🧑‍🔬**\n",
        "\n",
        "এর গতি এবং কার্যকারিতার কারণে, NumPy সায়েন্টিফিক পাইথন ইকোসিস্টেমের ভিত্তি। এটি `ndarray`-এর উপর কাজ করার জন্য উচ্চ-স্তরের গাণিতিক ফাংশনের একটি বিশাল লাইব্রেরি সরবরাহ করে, যার মধ্যে রয়েছে:\n",
        "\n",
        "  * **রৈখিক বীজগণিত (Linear Algebra)**: ম্যাট্রিক্স গুণ, ডিটারমিন্যান্ট, রৈখিক সমীকরণ সমাধান এবং আরও অনেক কিছু।\n",
        "  * **পরিসংখ্যান (Statistics)**: গড় (mean), মধ্যক (median), স্ট্যান্ডার্ড ডেভিয়েশন (standard deviation) ইত্যাদি গণনা করা।\n",
        "  * **ফুরিয়ার ট্রান্সফর্ম** এবং শেপ ম্যানিপুলেশনের জন্য বিভিন্ন রুটিন।\n",
        "  * এটি অন্যান্য প্রধান লাইব্রেরি যেমন **Pandas**, **SciPy**, এবং **Scikit-learn**-এর মূল ডেটা স্ট্রাকচার হিসাবে কাজ করে।"
      ],
      "metadata": {
        "id": "X0owKTgJPNwx"
      }
    },
    {
      "cell_type": "markdown",
      "source": [
        "# **The NumPy `ndarray` and its Attributes**"
      ],
      "metadata": {
        "id": "1OLI0nX8PgV3"
      }
    },
    {
      "cell_type": "markdown",
      "source": [
        "As we've learned, the core of NumPy is the **`ndarray`** (N-dimensional array). It's a collection of one or more items of the **same data type**.\n",
        "\n",
        "Let's first understand the problem it solves by looking at a standard Python list.\n",
        "\n",
        "-----\n",
        "\n",
        "## **The Problem with Python Lists**\n",
        "\n",
        "If you try to perform a mathematical operation like multiplication on a list, it doesn't behave as you might expect for numerical tasks.\n",
        "\n",
        "```python\n",
        "# A standard Python list\n",
        "arr_list = [1, 2, 3]\n",
        "\n",
        "# Multiplying the list by 5\n",
        "print(arr_list * 5)\n",
        "```\n",
        "\n",
        "**Output:** `[1, 2, 3, 1, 2, 3, 1, 2, 3, 1, 2, 3, 1, 2, 3]`\n",
        "\n",
        "Instead of multiplying each element by 5, Python **duplicates the list** 5 times. To get the desired result, you need to use a loop or list comprehension, which is slower for large datasets.\n",
        "\n",
        "```python\n",
        "# Using a loop to multiply each item\n",
        "multiplied_list = [item * 5 for item in arr_list]\n",
        "print(multiplied_list)\n",
        "```\n",
        "\n",
        "**Output:** `[5, 10, 15]`\n",
        "\n",
        "-----\n",
        "\n",
        "## **NumPy Arrays: The Solution ✨**\n",
        "\n",
        "NumPy arrays allow you to perform these operations directly on the entire array. This is called **vectorization**, and it uses low-level features like **SIMD** to execute the operation on all elements at once, making it incredibly fast.\n",
        "\n",
        "### **Creating a NumPy Array**\n",
        "\n",
        "First, we need to import the NumPy package. The standard convention is to import it as `np`.\n",
        "\n",
        "```python\n",
        "import numpy as np\n",
        "\n",
        "# Creating a NumPy array from a list\n",
        "arr1 = np.array([1, 2, 3])\n",
        "\n",
        "print(arr1 * 5)\n",
        "print(type(arr1))\n",
        "```\n",
        "\n",
        "**Output:**\n",
        "\n",
        "```\n",
        "[ 5 10 15]\n",
        "<class 'numpy.ndarray'>\n",
        "```\n",
        "\n",
        "-----\n",
        "\n",
        "## **Dimensions in NumPy Arrays**\n",
        "\n",
        "NumPy arrays can have any number of dimensions.\n",
        "\n",
        "### **1D Array (Vector)**\n",
        "\n",
        "A 1D array is the simplest form, like a single list.\n",
        "\n",
        "```python\n",
        "arr1 = np.array([1, 2, 3])\n",
        "```\n",
        "\n",
        "### **2D Array (Matrix)**\n",
        "\n",
        "A 2D array is like a table with rows and columns. It's essentially an array of arrays.\n",
        "\n",
        "```python\n",
        "arr2 = np.array([\n",
        "    [1, 2, 3],\n",
        "    [4, 5, 6]\n",
        "])\n",
        "```\n",
        "\n",
        "### **3D Array (Tensor)**\n",
        "\n",
        "A 3D array can be visualized as a **collection of 2D arrays (matrices)** stacked on top of each other. This is very common in areas like image processing, where an image can be represented as three 2D arrays: one for the Red channel, one for Green, and one for Blue.\n",
        "\n",
        "You can think of it as having **depth (or layers), rows, and columns**.\n",
        "\n",
        "```python\n",
        "arr3 = np.array([\n",
        "    # First Layer (or Matrix)\n",
        "    [\n",
        "      [1, 2, 3],\n",
        "      [4, 5, 6]\n",
        "    ],\n",
        "    # Second Layer (or Matrix)\n",
        "    [\n",
        "      [7, 8, 9],\n",
        "      [10, 11, 12]\n",
        "    ]\n",
        "])\n",
        "```\n",
        "\n",
        "-----\n",
        "\n",
        "## **Key Array Attributes**\n",
        "\n",
        "You can inspect the properties of an `ndarray` using its attributes.\n",
        "\n",
        "### **`.ndim`**\n",
        "\n",
        "This attribute tells you the **number of dimensions** (or axes) of the array.\n",
        "\n",
        "```python\n",
        "print(f\"arr1 dimensions: {arr1.ndim}\") # Output: 1\n",
        "print(f\"arr2 dimensions: {arr2.ndim}\") # Output: 2\n",
        "print(f\"arr3 dimensions: {arr3.ndim}\") # Output: 3\n",
        "```\n",
        "\n",
        "### **`.shape`**\n",
        "\n",
        "This attribute returns a **tuple** representing the size of the array in each dimension. It's one of the most important attributes.\n",
        "\n",
        "```python\n",
        "print(f\"arr1 shape: {arr1.shape}\")\n",
        "print(f\"arr2 shape: {arr2.shape}\")\n",
        "print(f\"arr3 shape: {arr3.shape}\")\n",
        "```\n",
        "\n",
        "**Output:**\n",
        "\n",
        "```\n",
        "arr1 shape: (3,)\n",
        "arr2 shape: (2, 3)\n",
        "arr3 shape: (2, 2, 3)\n",
        "```\n",
        "\n",
        "**How to read the shape tuple:**\n",
        "\n",
        "  * `(3,)`: This is a **1D array** with **3 elements** along its single axis.\n",
        "  * `(2, 3)`: This is a **2D array** with **2 rows** and **3 columns**.\n",
        "  * `(2, 2, 3)`: This is a **3D array**. You can read it from left to right: It has **2 layers/matrices**. Each matrix has **2 rows** and **3 columns**.\n",
        "\n",
        "### **`.size`**\n",
        "\n",
        "This attribute gives you the **total number of elements** in the array. It's simply the product of the numbers in the shape tuple.\n",
        "\n",
        "```python\n",
        "print(f\"arr1 size: {arr1.size}\") # Output: 3\n",
        "print(f\"arr2 size: {arr2.size}\") # Output: 2 * 3 = 6\n",
        "print(f\"arr3 size: {arr3.size}\") # Output: 2 * 2 * 3 = 12\n",
        "```\n",
        "\n",
        "-----\n",
        "\n",
        "### **`.dtype`**\n",
        "\n",
        "The **`.dtype`** (data type) attribute is crucial. It tells you exactly what kind of data is stored inside the NumPy array. Since every element in a NumPy array must be of the **same type**, this attribute defines the type for the entire array.\n",
        "\n",
        "This uniformity is a cornerstone of NumPy's efficiency. Knowing the exact data type allows NumPy to store the data in a compact, predictable way and use optimized, low-level functions for computation.\n",
        "\n",
        "-----\n",
        "\n",
        "### **How NumPy Determines `dtype`**\n",
        "\n",
        "When you create a NumPy array without specifying a type, NumPy **infers** the most suitable `dtype` from the input data.\n",
        "\n",
        "  * If you provide only integers, it will choose an integer type (like `int64`).\n",
        "  * If you include even one floating-point number, it will promote the entire array to a float type (like `float64`) to avoid losing information.\n",
        "\n",
        "Let's look at the arrays we created earlier, which all contained only integers:\n",
        "\n",
        "```python\n",
        "import numpy as np\n",
        "\n",
        "# Let's redefine our arrays for clarity\n",
        "arr1 = np.array([1, 2, 3])\n",
        "arr2 = np.array([[1, 2, 3], [4, 5, 6]])\n",
        "arr3 = np.array([[[1, 2, 3], [4, 5, 6]], [[7, 8, 9], [10, 11, 12]]])\n",
        "\n",
        "print(f\"arr1 dtype: {arr1.dtype}\")\n",
        "print(f\"arr2 dtype: {arr2.dtype}\")\n",
        "print(f\"arr3 dtype: {arr3.dtype}\")\n",
        "```\n",
        "\n",
        "**Expected Output:**\n",
        "\n",
        "```\n",
        "arr1 dtype: int64\n",
        "arr2 dtype: int64\n",
        "arr3 dtype: int64\n",
        "```\n",
        "\n",
        "*(Note: The output might be `int32` on some systems, but `int64` is common. It refers to a 64-bit integer.)*\n",
        "\n",
        "-----\n",
        "\n",
        "### **Specifying `dtype` Manually ✍️**\n",
        "\n",
        "You can also explicitly tell NumPy what data type to use during creation. This is useful for controlling memory usage or ensuring precision.\n",
        "\n",
        "```python\n",
        "# Create an array of 64-bit floating-point numbers\n",
        "float_arr = np.array([1, 2, 3], dtype=np.float64)\n",
        "\n",
        "print(f\"Original array: {arr1}, dtype: {arr1.dtype}\")\n",
        "print(f\"New float array: {float_arr}, dtype: {float_arr.dtype}\")\n",
        "```\n",
        "\n",
        "**Output:**\n",
        "\n",
        "```\n",
        "Original array: [1 2 3], dtype: int64\n",
        "New float array: [1. 2. 3.], dtype: float64\n",
        "```\n",
        "\n",
        "Notice how NumPy added a decimal point to the numbers in `float_arr` to show they are now floats."
      ],
      "metadata": {
        "id": "-AJqpUEgP3QE"
      }
    },
    {
      "cell_type": "code",
      "source": [
        "arr = [1,2,3]\n",
        "print(arr*5) # it not multipy 5 on it. It duplicate this array to 5 times\n",
        "# for multiplying 5 with each item we need loop which slower the operaton\n",
        "arr = [i*5 for i in arr]\n",
        "print(arr)"
      ],
      "metadata": {
        "colab": {
          "base_uri": "https://localhost:8080/"
        },
        "id": "4ZQTr-wYQkhl",
        "outputId": "8993d47d-3c36-4bf3-a3d9-3b6fdb8284bd"
      },
      "execution_count": null,
      "outputs": [
        {
          "output_type": "stream",
          "name": "stdout",
          "text": [
            "[1, 2, 3, 1, 2, 3, 1, 2, 3, 1, 2, 3, 1, 2, 3]\n",
            "[5, 10, 15]\n"
          ]
        }
      ]
    },
    {
      "cell_type": "markdown",
      "source": [
        "But when we use numpy array which SIMD to allow to one single operation multipy all item with value"
      ],
      "metadata": {
        "id": "gXKYI-sTRNAe"
      }
    },
    {
      "cell_type": "code",
      "source": [
        "import numpy as np\n",
        "arr = np.array([1,2,3])\n",
        "print(arr*5)"
      ],
      "metadata": {
        "colab": {
          "base_uri": "https://localhost:8080/"
        },
        "id": "WYuhFEDNRLlr",
        "outputId": "9b236026-a2e2-4fde-ec91-1dae728df905"
      },
      "execution_count": null,
      "outputs": [
        {
          "output_type": "stream",
          "name": "stdout",
          "text": [
            "[ 5 10 15]\n"
          ]
        }
      ]
    },
    {
      "cell_type": "markdown",
      "source": [
        "## **NumPy `ndarray` এবং এর অ্যাট্রিবিউটসমূহ**"
      ],
      "metadata": {
        "id": "uJOFBHyGZ6Im"
      }
    },
    {
      "cell_type": "markdown",
      "source": [
        "আমরা আগেই জেনেছি যে NumPy-এর মূল ভিত্তি হলো **`ndarray`** (N-dimensional array)। এটি **একই ডেটা টাইপের** এক বা একাধিক আইটেমের একটি কালেকশন।\n",
        "\n",
        "প্রথমে চলুন দেখি, এটি কোন সমস্যার সমাধান করে এবং সাধারণ পাইথন লিস্টের সাথে এর পার্থক্য কোথায়।\n",
        "\n",
        "-----\n",
        "\n",
        "## **পাইথন লিস্টের সমস্যা**\n",
        "\n",
        "আপনি যদি একটি সাধারণ পাইথন লিস্টের উপর গুণ করার মতো গাণিতিক অপারেশন করতে চান, তবে এটি নিউমেরিক্যাল কাজের জন্য প্রত্যাশিত আচরণ করে না।\n",
        "\n",
        "```python\n",
        "# একটি সাধারণ পাইথন লিস্ট\n",
        "arr_list = [1, 2, 3]\n",
        "\n",
        "# লিস্টকে 5 দিয়ে গুণ করা হলো\n",
        "print(arr_list * 5)\n",
        "```\n",
        "\n",
        "**আউটপুট:** `[1, 2, 3, 1, 2, 3, 1, 2, 3, 1, 2, 3, 1, 2, 3]`\n",
        "\n",
        "এখানে প্রতিটি উপাদানকে 5 দিয়ে গুণ না করে, পাইথন লিস্টটিকে 5 বার **ডুপ্লিকেট** বা পুনরাবৃত্তি করেছে। কাঙ্ক্ষিত ফলাফল পেতে, আপনাকে একটি লুপ বা লিস্ট কম্প্রিহেনশন ব্যবহার করতে হবে, যা বড় ডেটাসেটের জন্য ধীরগতির।\n",
        "\n",
        "```python\n",
        "# প্রতিটি আইটেমকে গুণ করার জন্য লুপ ব্যবহার\n",
        "multiplied_list = [item * 5 for item in arr_list]\n",
        "print(multiplied_list)\n",
        "```\n",
        "\n",
        "**আউটপুট:** `[5, 10, 15]`\n",
        "\n",
        "-----\n",
        "\n",
        "## **NumPy অ্যারে: সমাধান ✨**\n",
        "\n",
        "NumPy অ্যারে আপনাকে এই ধরনের অপারেশন সরাসরি পুরো অ্যারের উপর করতে দেয়। একে **ভেক্টরাইজেশন (vectorization)** বলা হয় এবং এটি **SIMD**-এর মতো নিম্ন-স্তরের ফিচার ব্যবহার করে সব উপাদানের উপর একই সাথে অপারেশন চালায়, যা এটিকে অবিশ্বাস্যভাবে দ্রুত করে তোলে।\n",
        "\n",
        "### **NumPy অ্যারে তৈরি করা**\n",
        "\n",
        "প্রথমে, আমাদের NumPy প্যাকেজটি ইম্পোর্ট করতে হবে। সাধারণত এটিকে `np` হিসেবে ইম্পোর্ট করা হয়।\n",
        "\n",
        "```python\n",
        "import numpy as np\n",
        "\n",
        "# একটি লিস্ট থেকে NumPy অ্যারে তৈরি করা\n",
        "arr1 = np.array([1, 2, 3])\n",
        "\n",
        "print(arr1 * 5)\n",
        "print(type(arr1))\n",
        "```\n",
        "\n",
        "**আউটপুট:**\n",
        "\n",
        "```\n",
        "[ 5 10 15]\n",
        "<class 'numpy.ndarray'>\n",
        "```\n",
        "\n",
        "-----\n",
        "\n",
        "## **NumPy অ্যারেতে ডাইমেনশন (Dimension)**\n",
        "\n",
        "NumPy অ্যারে যেকোনো সংখ্যক ডাইমেনশনের হতে পারে।\n",
        "\n",
        "### **1D অ্যারে (ভেক্টর)**\n",
        "\n",
        "1D অ্যারে হলো সবচেয়ে সহজ রূপ, যা একটি সাধারণ লিস্টের মতো।\n",
        "\n",
        "```python\n",
        "arr1 = np.array([1, 2, 3])\n",
        "```\n",
        "\n",
        "### **2D অ্যারে (ম্যাট্রিক্স)**\n",
        "\n",
        "একটি 2D অ্যারে হলো সারি (row) এবং কলাম (column) সহ একটি টেবিলের মতো। এটি মূলত একটি অ্যারের ভিতরে থাকা একাধিক অ্যারে।\n",
        "\n",
        "```python\n",
        "arr2 = np.array([\n",
        "    [1, 2, 3],\n",
        "    [4, 5, 6]\n",
        "])\n",
        "```\n",
        "\n",
        "### **3D অ্যারে (টেনসর)**\n",
        "\n",
        "একটি 3D অ্যারে-কে কয়েকটি **2D অ্যারের (ম্যাট্রিক্স)** একটি স্ট্যাক বা floor হিসাবে কল্পনা করা যেতে পারে। এটি ইমেজ প্রসেসিং-এর মতো ক্ষেত্রে খুব সাধারণ, যেখানে একটি ছবিকে তিনটি 2D অ্যারে হিসাবে প্রকাশ করা হয়: একটি লাল (Red) চ্যানেলের জন্য, একটি সবুজ (Green) চ্যানেলের জন্য এবং একটি নীল (Blue) চ্যানেলের জন্য।\n",
        "\n",
        "আপনি এটিকে **গভীরতা (depth), সারি (row) এবং কলাম (column)** হিসেবে ভাবতে পারেন।\n",
        "\n",
        "```python\n",
        "arr3 = np.array([\n",
        "    # প্রথম স্তর (বা ম্যাট্রিক্স)\n",
        "    [\n",
        "      [1, 2, 3],\n",
        "      [4, 5, 6]\n",
        "    ],\n",
        "    # দ্বিতীয় স্তর (বা ম্যাট্রিক্স)\n",
        "    [\n",
        "      [7, 8, 9],\n",
        "      [10, 11, 12]\n",
        "    ]\n",
        "])\n",
        "```\n",
        "\n",
        "-----\n",
        "\n",
        "## **অ্যারের কিছু গুরুত্বপূর্ণ অ্যাট্রিবিউট**\n",
        "\n",
        "আপনি একটি `ndarray`-এর বৈশিষ্ট্যগুলো তার অ্যাট্রিবিউট ব্যবহার করে জানতে পারেন।\n",
        "\n",
        "### **`.ndim`**\n",
        "\n",
        "এই অ্যাট্রিবিউটটি অ্যারের **ডাইমেনশন সংখ্যা** (বা অক্ষের সংখ্যা) দেখায়।\n",
        "\n",
        "```python\n",
        "print(f\"arr1 ডাইমেনশন: {arr1.ndim}\") # আউটপুট: 1\n",
        "print(f\"arr2 ডাইমেনশন: {arr2.ndim}\") # আউটপুট: 2\n",
        "print(f\"arr3 ডাইমেনশন: {arr3.ndim}\") # আউটপুট: 3\n",
        "```\n",
        "\n",
        "### **`.shape`**\n",
        "\n",
        "এই অ্যাট্রিবিউটটি একটি **টাপল (tuple)** রিটার্ন করে যা প্রতিটি ডাইমেনশনে অ্যারের আকার দেখায়। এটি সবচেয়ে গুরুত্বপূর্ণ অ্যাট্রিবিউটগুলোর মধ্যে একটি।\n",
        "\n",
        "```python\n",
        "print(f\"arr1-এর শেপ: {arr1.shape}\")\n",
        "print(f\"arr2-এর শেপ: {arr2.shape}\")\n",
        "print(f\"arr3-এর শেপ: {arr3.shape}\")\n",
        "```\n",
        "\n",
        "**আউটপুট:**\n",
        "\n",
        "```\n",
        "arr1-এর শেপ: (3,)\n",
        "arr2-এর শেপ: (2, 3)\n",
        "arr3-এর শেপ: (2, 2, 3)\n",
        "```\n",
        "\n",
        "**শেপ টাপলটি কীভাবে পড়বেন:**\n",
        "\n",
        "  * `(3,)`: এটি একটি **1D অ্যারে** যার একটিমাত্র অক্ষে **3টি উপাদান** আছে।\n",
        "  * `(2, 3)`: এটি একটি **2D অ্যারে** যার **2টি সারি (row)** এবং **3টি কলাম (column)** আছে।\n",
        "  * `(2, 2, 3)`: এটি একটি **3D অ্যারে**। এটিকে বাম থেকে ডানে পড়ুন: এতে **2টি স্তর/ম্যাট্রিক্স** আছে। প্রতিটি ম্যাট্রিক্সে **2টি সারি** এবং **3টি কলাম** আছে।\n",
        "\n",
        "### **`.size`**\n",
        "\n",
        "এই অ্যাট্রিবিউটটি অ্যারের **মোট উপাদান সংখ্যা** দেখায়। এটি শেপ টাপলের সংখ্যাগুলোর গুণফল।\n",
        "\n",
        "```python\n",
        "print(f\"arr1-এর সাইজ: {arr1.size}\") # আউটপুট: 3\n",
        "print(f\"arr2-এর সাইজ: {arr2.size}\") # আউটপুট: 2 * 3 = 6\n",
        "print(f\"arr3-এর সাইজ: {arr3.size}\") # আউটপুট: 2 * 2 * 3 = 12\n",
        "```\n",
        "___\n",
        "\n",
        "### **`.dtype`**\n",
        "\n",
        "**`.dtype`** (data type) অ্যাট্রিবিউটটি অত্যন্ত গুরুত্বপূর্ণ। এটি আপনাকে বলে দেয় যে NumPy অ্যারের ভিতরে ঠিক কোন ধরনের ডেটা সংরক্ষণ করা আছে। যেহেতু একটি NumPy অ্যারের প্রতিটি উপাদান অবশ্যই **একই ধরনের** হতে হবে, তাই এই অ্যাট্রিবিউটটি পুরো অ্যারের জন্য সেই টাইপটি নির্ধারণ করে।\n",
        "\n",
        "এই সমজাতীয়তাই হলো NumPy-এর কার্যকারিতার মূল ভিত্তি। সঠিক ডেটা টাইপ জানার ফলে NumPy ডেটাগুলোকে একটি সুসংগঠিত উপায়ে সংরক্ষণ করতে পারে এবং গণনার জন্য অপ্টিমাইজড, নিম্ন-স্তরের ফাংশন ব্যবহার করতে পারে।\n",
        "\n",
        "-----\n",
        "\n",
        "### **NumPy কীভাবে `dtype` নির্ধারণ করে**\n",
        "\n",
        "আপনি যখন কোনো টাইপ উল্লেখ না করে একটি NumPy অ্যারে তৈরি করেন, তখন NumPy ইনপুট ডেটা থেকে সবচেয়ে উপযুক্ত **`dtype` অনুমান (infer)** করে নেয়।\n",
        "\n",
        "  * আপনি যদি শুধু পূর্ণসংখ্যা (integer) দেন, তবে এটি একটি ইন্টিজার টাইপ (যেমন `int64`) বেছে নেবে।\n",
        "  * আপনি যদি একটিও ফ্লোটিং-পয়েন্ট নম্বর (দশমিক সংখ্যা) অন্তর্ভুক্ত করেন, তবে এটি ডেটার Verlust এড়াতে পুরো অ্যারেটিকে একটি ফ্লোট টাইপে (যেমন `float64`) রূপান্তর করবে।\n",
        "\n",
        "চলুন আমাদের আগে তৈরি করা অ্যারেগুলো দেখি, যেগুলোতে শুধুমাত্র ইন্টিজার ছিল:\n",
        "\n",
        "```python\n",
        "import numpy as np\n",
        "\n",
        "# স্বচ্ছতার জন্য আমাদের অ্যারেগুলো আবার লিখি\n",
        "arr1 = np.array([1, 2, 3])\n",
        "arr2 = np.array([[1, 2, 3], [4, 5, 6]])\n",
        "arr3 = np.array([[[1, 2, 3], [4, 5, 6]], [[7, 8, 9], [10, 11, 12]]])\n",
        "\n",
        "print(f\"arr1-এর dtype: {arr1.dtype}\")\n",
        "print(f\"arr2-এর dtype: {arr2.dtype}\")\n",
        "print(f\"arr3-এর dtype: {arr3.dtype}\")\n",
        "```\n",
        "\n",
        "**প্রত্যাশিত আউটপুট:**\n",
        "\n",
        "```\n",
        "arr1-এর dtype: int64\n",
        "arr2-এর dtype: int64\n",
        "arr3-এর dtype: int64\n",
        "```\n",
        "\n",
        "*(দ্রষ্টব্য: কিছু সিস্টেমে আউটপুট `int32` হতে পারে, তবে `int64` বেশি প্রচলিত। এটি একটি 64-বিটের ইন্টিজার বোঝায়।)*\n",
        "\n",
        "-----\n",
        "\n",
        "### **`dtype` নিজে নির্দিষ্ট করা ✍️**\n",
        "\n",
        "আপনি অ্যারে তৈরির সময় NumPy-কে ডেটা টাইপ কী হবে তা স্পষ্টভাবে বলে দিতে পারেন। মেমরি ব্যবহার নিয়ন্ত্রণ করতে বা গণনার সঠিকতা নিশ্চিত করার জন্য এটি খুব দরকারি।\n",
        "\n",
        "```python\n",
        "# 64-বিট ফ্লোটিং-পয়েন্ট নম্বরের একটি অ্যারে তৈরি করা\n",
        "float_arr = np.array([1, 2, 3], dtype=np.float64)\n",
        "\n",
        "print(f\"আসল অ্যারে: {arr1}, dtype: {arr1.dtype}\")\n",
        "print(f\"নতুন ফ্লোট অ্যারে: {float_arr}, dtype: {float_arr.dtype}\")\n",
        "```\n",
        "\n",
        "**আউটপুট:**\n",
        "\n",
        "```\n",
        "আসল অ্যারে: [1 2 3], dtype: int64\n",
        "নতুন ফ্লোট অ্যারে: [1. 2. 3.], dtype: float64\n",
        "```\n",
        "\n",
        "লক্ষ্য করুন, `float_arr`-এর সংখ্যাগুলোকে ফ্লোট হিসেবে দেখানোর জন্য NumPy কীভাবে তাদের সাথে একটি দশমিক বিন্দু যোগ করেছে।"
      ],
      "metadata": {
        "id": "BxlozIwQZ0nx"
      }
    },
    {
      "cell_type": "code",
      "source": [
        "import numpy as np\n",
        "arr1 = np.array([1, 2, 3])\n",
        "print(arr1)\n",
        "print()\n",
        "\n",
        "arr2 = np.array([\n",
        "    [1, 2, 3],\n",
        "    [4, 5, 6]\n",
        "])\n",
        "print(arr2)\n",
        "print()\n",
        "\n",
        "arr3 = np.array([\n",
        "    [\n",
        "      [1, 2, 3],\n",
        "      [4, 5, 6]\n",
        "    ],\n",
        "    [\n",
        "      [7, 8, 9],\n",
        "      [10, 11, 12]\n",
        "    ],\n",
        "])\n",
        "print(arr3)\n",
        "print()\n",
        "\n",
        "# Types of Array\n",
        "print(type(arr1))\n",
        "print(type(arr2))\n",
        "print(type(arr3))"
      ],
      "metadata": {
        "colab": {
          "base_uri": "https://localhost:8080/"
        },
        "id": "2awFHW1qa9Tx",
        "outputId": "ddbd05c5-51f2-426d-f243-cb79063cdb8d"
      },
      "execution_count": null,
      "outputs": [
        {
          "output_type": "stream",
          "name": "stdout",
          "text": [
            "[1 2 3]\n",
            "\n",
            "[[1 2 3]\n",
            " [4 5 6]]\n",
            "\n",
            "[[[ 1  2  3]\n",
            "  [ 4  5  6]]\n",
            "\n",
            " [[ 7  8  9]\n",
            "  [10 11 12]]]\n",
            "\n",
            "<class 'numpy.ndarray'>\n",
            "<class 'numpy.ndarray'>\n",
            "<class 'numpy.ndarray'>\n"
          ]
        }
      ]
    },
    {
      "cell_type": "markdown",
      "source": [
        "### **Attributes**"
      ],
      "metadata": {
        "id": "XCdgXzYVcMtE"
      }
    },
    {
      "cell_type": "code",
      "source": [
        "print(arr1.ndim)\n",
        "print(arr2.ndim)\n",
        "print(arr3.ndim)"
      ],
      "metadata": {
        "colab": {
          "base_uri": "https://localhost:8080/"
        },
        "id": "beKkR-YWcWV7",
        "outputId": "5a17e81a-1f2d-4536-f463-209ec815b8cf"
      },
      "execution_count": null,
      "outputs": [
        {
          "output_type": "stream",
          "name": "stdout",
          "text": [
            "1\n",
            "2\n",
            "3\n"
          ]
        }
      ]
    },
    {
      "cell_type": "code",
      "source": [
        "print(arr1.shape)\n",
        "print(arr2.shape)\n",
        "print(arr3.shape)"
      ],
      "metadata": {
        "colab": {
          "base_uri": "https://localhost:8080/"
        },
        "id": "bKLGyVZRciEq",
        "outputId": "c70da034-fba6-4fc7-9d81-ac507eed88c7"
      },
      "execution_count": null,
      "outputs": [
        {
          "output_type": "stream",
          "name": "stdout",
          "text": [
            "(3,)\n",
            "(2, 3)\n",
            "(2, 2, 3)\n"
          ]
        }
      ]
    },
    {
      "cell_type": "code",
      "source": [
        "print(arr1.dtype)\n",
        "print(arr2.dtype)\n",
        "print(arr3.dtype)"
      ],
      "metadata": {
        "colab": {
          "base_uri": "https://localhost:8080/"
        },
        "id": "kASU3QiAcmrB",
        "outputId": "ccb73514-3a71-4049-d3a8-e2d053443cfa"
      },
      "execution_count": null,
      "outputs": [
        {
          "output_type": "stream",
          "name": "stdout",
          "text": [
            "int64\n",
            "int64\n",
            "int64\n"
          ]
        }
      ]
    },
    {
      "cell_type": "code",
      "source": [
        "print(arr1.size)\n",
        "print(arr2.size)\n",
        "print(arr3.size)"
      ],
      "metadata": {
        "colab": {
          "base_uri": "https://localhost:8080/"
        },
        "id": "MbCoculNc1th",
        "outputId": "f16d1c15-899c-4fe1-a8b9-8fa475e3f9b4"
      },
      "execution_count": null,
      "outputs": [
        {
          "output_type": "stream",
          "name": "stdout",
          "text": [
            "3\n",
            "6\n",
            "12\n"
          ]
        }
      ]
    },
    {
      "cell_type": "markdown",
      "source": [
        "# **NumPy Data Types: Upcasting and Type Control**"
      ],
      "metadata": {
        "id": "AtAQedanlavb"
      }
    },
    {
      "cell_type": "markdown",
      "source": [
        "NumPy's efficiency comes from its strict, uniform data types. When you create an array, NumPy has a smart system for deciding the `dtype` for you, a process called **upcasting**.\n",
        "\n",
        "-----\n",
        "\n",
        "## **Automatic Type Inference: The Rule of Upcasting 🧠**\n",
        "\n",
        "NumPy's primary rule is: **never lose information**. It will automatically \"upcast\" the data type of the entire array to the most general or precise type present in the input data.\n",
        "\n",
        "1.  **All Integers → Integer Type**\n",
        "    If all you provide are integers, NumPy creates an integer array. The specific kind (`int32` or `int64`) depends on your computer's operating system architecture (64-bit OS usually defaults to `int64`).\n",
        "\n",
        "    ```python\n",
        "    import numpy as np\n",
        "    arr_i = np.array([1, 2, 3])\n",
        "    print(arr_i.dtype) # Output: int64 (or int32 on some systems)\n",
        "    ```\n",
        "\n",
        "2.  **Integer + Float → Float Type**\n",
        "    If the array contains even a single floating-point number, NumPy upcasts the *entire array* to a float type to preserve the decimal part.\n",
        "\n",
        "    ```python\n",
        "    arr_f = np.array([1, 2.3, 3])\n",
        "    print(arr_f.dtype) # Output: float64\n",
        "    ```\n",
        "\n",
        "3.  **Anything + String → String Type**\n",
        "    The string is the most general type. If a string is present, everything else is converted to a string.\n",
        "\n",
        "    ```python\n",
        "    arr_s = np.array([1, 2.3, \"avc\"])\n",
        "    print(arr_s.dtype) # Output: <U32\n",
        "    ```\n",
        "\n",
        "    Here, `<U32` means a **Unicode string** with a maximum length of **32 characters**.\n",
        "\n",
        "-----\n",
        "\n",
        "## **A Note on Precision: `float32` vs. `float64`**\n",
        "\n",
        "When NumPy upcasts to a float, it typically defaults to `float64`. This is known as **double-precision**.\n",
        "\n",
        "  * **Single Precision (`float32`)**: Uses 32 bits of memory. It's faster and uses less memory but is less precise (about 7 decimal digits of precision).\n",
        "  * **Double Precision (`float64`)**: Uses 64 bits of memory. It's the default because it is much more precise (about 15-16 decimal digits), which is crucial for scientific and financial calculations.\n",
        "\n",
        "Think of it like a measuring tape. Single precision is like measuring to the nearest millimeter, while double precision is like measuring to the nearest micrometer.\n",
        "\n",
        "-----\n",
        "\n",
        "## **Manually Controlling `dtype` (and its Dangers ⚠️)**\n",
        "\n",
        "You can force a specific `dtype` during array creation, but you must be careful.\n",
        "\n",
        "### **1. \"Safe\" but Lossy Downcasting**\n",
        "\n",
        "You can force a float array to be an integer array. This is considered \"downcasting\". NumPy will allow it, but it will **truncate** (cut off) the decimal part, leading to data loss.\n",
        "\n",
        "```python\n",
        "# The .3 in 2.3 will be lost\n",
        "arr_downcast = np.array([1, 2.3, 3], dtype=np.int64)\n",
        "print(arr_downcast)      # Output: [1 2 3]\n",
        "print(arr_downcast.dtype) # Output: int64\n",
        "```\n",
        "\n",
        "### **2. Invalid Conversion Errors**\n",
        "\n",
        "You cannot downcast when it's impossible. Trying to convert a non-numeric string like `\"asd\"` into a number will raise a `ValueError`.\n",
        "\n",
        "```python\n",
        "# This will cause an error!\n",
        "# arr_error = np.array([1, 2.3, \"asd\"], dtype=np.int64)\n",
        "# ValueError: invalid literal for int() with base 10: 'asd'\n",
        "```\n",
        "\n",
        "### **3. Out-of-Range Errors**\n",
        "\n",
        "Specifying a smaller data type to save memory can be risky. If a value doesn't fit within the range of the specified type, you'll get an `OverflowError`. The range for `int8` is only **-128 to 127**.\n",
        "\n",
        "```python\n",
        "# This will cause an error because 422 is too large for int8\n",
        "# arr_overflow = np.array([1, 2, 422], dtype=np.int8)\n",
        "# OverflowError: Python int too large to convert to C long\n",
        "```\n",
        "\n",
        "-----\n",
        "\n",
        "## **Changing Type After Creation: `.astype()`**\n",
        "\n",
        "If you have an existing array, you can create a new copy with a different `dtype` using the `.astype()` method. This is a very common and useful operation.\n",
        "\n",
        "```python\n",
        "arr_float = np.array([1.1, 2.7, 3.5])\n",
        "print(f\"Original array: {arr_float}, dtype: {arr_float.dtype}\")\n",
        "\n",
        "# Create a new integer copy\n",
        "arr_int = arr_float.astype(np.int32)\n",
        "print(f\"New array: {arr_int}, dtype: {arr_int.dtype}\")\n",
        "```\n",
        "\n",
        "**Output:**\n",
        "\n",
        "```\n",
        "Original array: [1.1 2.7 3.5], dtype: float64\n",
        "New array: [1 2 3], dtype: int32\n",
        "```\n",
        "\n",
        "Notice again that the decimal values were **truncated**, not rounded."
      ],
      "metadata": {
        "id": "jLK5r9ZKlWST"
      }
    },
    {
      "cell_type": "markdown",
      "source": [
        "## **NumPy ডেটা টাইপ: আপকাস্টিং এবং টাইপ কন্ট্রোল**"
      ],
      "metadata": {
        "id": "-R7EDwtsvCTm"
      }
    },
    {
      "cell_type": "markdown",
      "source": [
        "NumPy-এর কার্যকারিতার মূলে রয়েছে এর কঠোর এবং অভিন্ন ডেটা টাইপ। আপনি যখন একটি অ্যারে তৈরি করেন, NumPy আপনার জন্য `dtype` নির্ধারণ করার জন্য একটি স্মার্ট সিস্টেম ব্যবহার করে, এই প্রক্রিয়াটিকে **আপকাস্টিং (upcasting)** বলা হয়।\n",
        "\n",
        "-----\n",
        "\n",
        "## **স্বয়ংক্রিয় টাইপ নির্ধারণ: আপকাস্টিং-এর নিয়ম 🧠**\n",
        "\n",
        "NumPy-এর মূল নিয়ম হলো: **কখনোই ডেটা হারানো যাবে না**। এটি ইনপুট ডেটার মধ্যে সবচেয়ে সাধারণ বা সুনির্দিষ্ট (precise) টাইপটিকে বেছে নেয় এবং পুরো অ্যারের ডেটা টাইপকে সেই অনুযায়ী \"আপকাস্ট\" বা উন্নত করে।\n",
        "\n",
        "1.  **সব ইন্টিজার → ইন্টিজার টাইপ**\n",
        "    যদি আপনি শুধু ইন্টিজার দেন, NumPy একটি ইন্টিজার অ্যারে তৈরি করবে। নির্দিষ্ট ধরনটি (`int32` বা `int64`) আপনার কম্পিউটারের অপারেটিং সিস্টেম আর্কিটেকচারের উপর নির্ভর করে (64-বিট OS সাধারণত `int64` ব্যবহার করে)।\n",
        "\n",
        "    ```python\n",
        "    import numpy as np\n",
        "    arr_i = np.array([1, 2, 3])\n",
        "    print(arr_i.dtype) # আউটপুট: int64 (কিছু সিস্টেমে int32 হতে পারে)\n",
        "    ```\n",
        "\n",
        "2.  **ইন্টিজার + ফ্লোট → ফ্লোট টাইপ**\n",
        "    অ্যারেতে যদি একটিও ফ্লোটিং-পয়েন্ট নম্বর (দশমিক সংখ্যা) থাকে, তবে NumPy দশমিক অংশটি রক্ষা করার জন্য *পুরো অ্যারেটিকে* একটি ফ্লোট টাইপে আপকাস্ট করে।\n",
        "\n",
        "    ```python\n",
        "    arr_f = np.array([1, 2.3, 3])\n",
        "    print(arr_f.dtype) # আউটপুট: float64\n",
        "    ```\n",
        "\n",
        "3.  **যেকোনো কিছু + স্ট্রিং → স্ট্রিং টাইপ**\n",
        "    স্ট্রিং হলো সবচেয়ে সাধারণ টাইপ। যদি একটি স্ট্রিং উপস্থিত থাকে, তবে বাকি সবকিছুকে স্ট্রিং-এ রূপান্তরিত করা হয়।\n",
        "\n",
        "    ```python\n",
        "    arr_s = np.array([1, 2.3, \"avc\"])\n",
        "    print(arr_s.dtype) # আউটপুট: <U32\n",
        "    ```\n",
        "\n",
        "    এখানে `<U32` মানে হলো একটি **ইউনিকোড স্ট্রিং**, যার সর্বোচ্চ দৈর্ঘ্য **32 ক্যারেক্টার** হতে পারে।\n",
        "\n",
        "-----\n",
        "\n",
        "## **প্রিসিশন নোট: `float32` বনাম `float64`**\n",
        "\n",
        "যখন NumPy একটি ফ্লোট টাইপে আপকাস্ট করে, তখন এটি সাধারণত `float64` ব্যবহার করে। এটিকে **ডাবল-প্রিসিশন (double-precision)** বলা হয়।\n",
        "\n",
        "  * **সিঙ্গেল প্রিসিশন (`float32`)**: 32 বিট মেমরি ব্যবহার করে। এটি দ্রুত এবং কম মেমরি নেয় কিন্তু কম সুনির্দিষ্ট (প্রায় 7 দশমিক স্থান পর্যন্ত নির্ভুল)।\n",
        "  * **ডাবল প্রিসিশন (`float64`)**: 64 বিট মেমরি ব্যবহার করে। এটি ডিফল্ট কারণ এটি অনেক বেশি সুনির্দিষ্ট (প্রায় 15-16 দশমিক স্থান পর্যন্ত নির্ভুল), যা বৈজ্ঞানিক এবং আর্থিক গণনার জন্য অত্যন্ত গুরুত্বপূর্ণ।\n",
        "\n",
        "-----\n",
        "\n",
        "## **`dtype` নিজে নিয়ন্ত্রণ করা (এবং এর বিপদ ⚠️)**\n",
        "\n",
        "আপনি অ্যারে তৈরির সময় একটি নির্দিষ্ট `dtype` জোর করে সেট করতে পারেন, তবে আপনাকে সতর্ক থাকতে হবে।\n",
        "\n",
        "### **১. \"নিরাপদ\" কিন্তু ডেটা হারানো ডাউনকাস্টিং**\n",
        "\n",
        "আপনি একটি ফ্লোট অ্যারে-কে ইন্টিজার অ্যারেতে রূপান্তর করতে পারেন। একে \"ডাউনকাস্টিং\" বলা হয়। NumPy এটি করতে দেবে, কিন্তু এটি দশমিক অংশটি **ট্রাঙ্কেট (truncate)** বা কেটে ফেলবে, যার ফলে ডেটা হারিয়ে যাবে।\n",
        "\n",
        "```python\n",
        "# 2.3 এর .3 অংশটি হারিয়ে যাবে\n",
        "arr_downcast = np.array([1, 2.3, 3], dtype=np.int64)\n",
        "print(arr_downcast)      # আউটপুট: [1 2 3]\n",
        "print(arr_downcast.dtype) # আউটপুট: int64\n",
        "```\n",
        "\n",
        "### **২. ValueError**\n",
        "\n",
        "যখন রূপান্তর অসম্ভব, তখন আপনি ডাউনকাস্ট করতে পারবেন না। `\"asd\"`-এর মতো একটি নন-নিউমেরিক স্ট্রিংকে নম্বরে রূপান্তর করার চেষ্টা করলে একটি `ValueError` দেখাবে।\n",
        "\n",
        "```python\n",
        "# এটি এরর দেবে!\n",
        "# arr_error = np.array([1, 2.3, \"asd\"], dtype=np.int64)\n",
        "# ValueError: invalid literal for int() with base 10: 'asd'\n",
        "```\n",
        "\n",
        "### **৩. OverflowError**\n",
        "\n",
        "মেমরি বাঁচানোর জন্য ছোট ডেটা টাইপ নির্দিষ্ট করা ঝুঁকিপূর্ণ হতে পারে। যদি কোনো মান নির্দিষ্ট টাইপের সীমার মধ্যে না থাকে, তবে আপনি একটি `OverflowError` পাবেন। `int8`-এর সীমা শুধুমাত্র **-128 থেকে 127** পর্যন্ত।\n",
        "\n",
        "```python\n",
        "# এটি এরর দেবে কারণ 422 সংখ্যাটি int8-এর জন্য খুব বড়\n",
        "# arr_overflow = np.array([1, 2, 422], dtype=np.int8)\n",
        "# OverflowError: Python int too large to convert to C long\n",
        "```\n",
        "\n",
        "-----\n",
        "\n",
        "## **তৈরির পরে টাইপ পরিবর্তন: `.astype()`**\n",
        "\n",
        "যদি আপনার কাছে একটি অ্যারে থাকে, তবে আপনি `.astype()` মেথড ব্যবহার করে ভিন্ন `dtype` সহ একটি নতুন কপি তৈরি করতে পারেন। এটি একটি খুব সাধারণ এবং দরকারী অপারেশন।\n",
        "\n",
        "```python\n",
        "arr_float = np.array([1.1, 2.7, 3.5])\n",
        "print(f\"আসল অ্যারে: {arr_float}, dtype: {arr_float.dtype}\")\n",
        "\n",
        "# একটি নতুন ইন্টিজার কপি তৈরি করা\n",
        "arr_int = arr_float.astype(np.int32)\n",
        "print(f\"নতুন অ্যারে: {arr_int}, dtype: {arr_int.dtype}\")\n",
        "```\n",
        "\n",
        "**আউটপুট:**\n",
        "\n",
        "```\n",
        "আসল অ্যারে: [1.1 2.7 3.5], dtype: float64\n",
        "নতুন অ্যারে: [1 2 3], dtype: int32\n",
        "```\n",
        "\n",
        "এখানেও লক্ষ্য করুন যে দশমিক মানগুলো রাউন্ড না হয়ে **ট্রাঙ্কেট** বা কেটে ফেলা হয়েছে।"
      ],
      "metadata": {
        "id": "JlFrK8Rgu2cL"
      }
    },
    {
      "cell_type": "code",
      "source": [
        "arr = np.array([1,2,3])\n",
        "print(arr.dtype)"
      ],
      "metadata": {
        "colab": {
          "base_uri": "https://localhost:8080/"
        },
        "id": "O4tW_qkDlvnH",
        "outputId": "8cf42aa7-36b4-4418-e814-2c3cd0154c1c"
      },
      "execution_count": null,
      "outputs": [
        {
          "output_type": "stream",
          "name": "stdout",
          "text": [
            "int64\n"
          ]
        }
      ]
    },
    {
      "cell_type": "code",
      "source": [
        "arr = np.array([1.2,2.3,3.5])\n",
        "print(arr.dtype)"
      ],
      "metadata": {
        "colab": {
          "base_uri": "https://localhost:8080/"
        },
        "id": "UHMZlKhymv9G",
        "outputId": "3f111b1f-04fe-4375-e9b3-ddc209cc1158"
      },
      "execution_count": null,
      "outputs": [
        {
          "output_type": "stream",
          "name": "stdout",
          "text": [
            "float64\n"
          ]
        }
      ]
    },
    {
      "cell_type": "code",
      "source": [
        "arr_f = np.array([1,2.3,3])\n",
        "print(arr_f.dtype)"
      ],
      "metadata": {
        "colab": {
          "base_uri": "https://localhost:8080/"
        },
        "id": "4xPwwIMEn94_",
        "outputId": "56743297-1caa-4b23-f61a-9f57422a3316"
      },
      "execution_count": null,
      "outputs": [
        {
          "output_type": "stream",
          "name": "stdout",
          "text": [
            "float64\n"
          ]
        }
      ]
    },
    {
      "cell_type": "code",
      "source": [
        "arr_s = np.array([1,2.3,3,\"avc\"])\n",
        "print(arr_s.dtype)"
      ],
      "metadata": {
        "colab": {
          "base_uri": "https://localhost:8080/"
        },
        "id": "ME1bHAo0oagZ",
        "outputId": "3c8c5570-f64a-486a-b127-fadab9f360f1"
      },
      "execution_count": null,
      "outputs": [
        {
          "output_type": "stream",
          "name": "stdout",
          "text": [
            "<U32\n"
          ]
        }
      ]
    },
    {
      "cell_type": "code",
      "source": [
        "\n",
        "arr_f = np.array([1,2.3,3], dtype=np.uint32)\n",
        "print(arr_f.dtype)\n",
        "print(arr_f)"
      ],
      "metadata": {
        "colab": {
          "base_uri": "https://localhost:8080/"
        },
        "id": "9W4TJM3IplBl",
        "outputId": "d32728cd-a19f-4888-c738-dc9285f14a82"
      },
      "execution_count": null,
      "outputs": [
        {
          "output_type": "stream",
          "name": "stdout",
          "text": [
            "uint32\n",
            "[1 2 3]\n"
          ]
        }
      ]
    },
    {
      "cell_type": "code",
      "source": [
        "# Throw error\n",
        "# arr_f = np.array([1,2.3,\"asd\"],dtype=np.int64)\n",
        "# print(arr_f.dtype)\n"
      ],
      "metadata": {
        "id": "uhEaxQIbqM8G"
      },
      "execution_count": null,
      "outputs": []
    },
    {
      "cell_type": "code",
      "source": [
        "arr_f = np.array([1,2.3,3])\n",
        "print(arr_f.dtype)\n",
        "\n",
        "arr_f = arr.astype(np.int32)\n",
        "print(arr_f.dtype)\n"
      ],
      "metadata": {
        "colab": {
          "base_uri": "https://localhost:8080/"
        },
        "id": "gEBl_kPfsMW6",
        "outputId": "20766451-6164-46a2-84b9-f22a6a5ddd92"
      },
      "execution_count": null,
      "outputs": [
        {
          "output_type": "stream",
          "name": "stdout",
          "text": [
            "float64\n",
            "int32\n"
          ]
        }
      ]
    },
    {
      "cell_type": "code",
      "source": [
        "# show erro\n",
        "#rr= np.array([1,2,3.5,[1,2,4],\"anv\"])\n"
      ],
      "metadata": {
        "id": "ELGfKOc4s2S-"
      },
      "execution_count": null,
      "outputs": []
    },
    {
      "cell_type": "code",
      "source": [
        "arr= np.array([1,2,3.5,\"anv\"])\n",
        "print(arr.dtype)"
      ],
      "metadata": {
        "colab": {
          "base_uri": "https://localhost:8080/"
        },
        "id": "elwIHMu4tEmN",
        "outputId": "f3809cc3-616d-44a5-889d-11f2be1022ba"
      },
      "execution_count": null,
      "outputs": [
        {
          "output_type": "stream",
          "name": "stdout",
          "text": [
            "<U32\n"
          ]
        }
      ]
    },
    {
      "cell_type": "markdown",
      "source": [
        "# **Creating an `ndarray` from Existing Data**"
      ],
      "metadata": {
        "id": "eKwdADeOkXtp"
      }
    },
    {
      "cell_type": "markdown",
      "source": [
        "You can easily create NumPy arrays from standard Python data structures like lists, tuples, sets, and dictionaries. However, there are important rules and behaviors to understand for each.\n",
        "\n",
        "-----\n",
        "\n",
        "### **1. From a Python `list` 📜**\n",
        "\n",
        "This is the most common way to create an `ndarray`.\n",
        "\n",
        "### **1D Lists**\n",
        "\n",
        "NumPy handles **upcasting** automatically to preserve data. If a list contains a mix of types, NumPy will choose the most general type for the entire array.\n",
        "\n",
        "```python\n",
        "import numpy as np\n",
        "\n",
        "# A float value forces the whole array to be float64\n",
        "lst = [10, 20, 30, 40, 40.5]\n",
        "arr = np.array(lst)\n",
        "\n",
        "print(f\"Array: {arr}\")\n",
        "print(f\"Dtype: {arr.dtype}\")\n",
        "```\n",
        "\n",
        "**Output:**\n",
        "\n",
        "```\n",
        "Array: [10.  20.  30.  40.  40.5]\n",
        "Dtype: float64\n",
        "```\n",
        "\n",
        "You can manually set the `dtype` during creation or change it later with `.astype()`, but be aware of potential data loss (truncation).\n",
        "\n",
        "### **2D Lists (Matrices)**\n",
        "\n",
        "For multi-dimensional arrays, NumPy requires a consistent, **rectangular shape**.\n",
        "\n",
        "**Rule:** Every inner list must have the **same number of elements**.\n",
        "\n",
        "```python\n",
        "# This will cause an error because the lists have different lengths\n",
        "two_d_list_bad = [\n",
        "    [1, 2, 3],\n",
        "    [4, 5, 6, 7] # This list is longer\n",
        "]\n",
        "# np.array(two_d_list_bad) -> ValueError\n",
        "```\n",
        "\n",
        "### **The `ValueError` from Ragged Arrays ⚠️**\n",
        "\n",
        "When a list contains a mix of single items and other sequences (like another list), it's called a **\"ragged\" array**. Modern NumPy will raise a `ValueError` because it cannot create a simple, rectangular grid.\n",
        "\n",
        "```python\n",
        "# This is a \"ragged\" list\n",
        "mixed_lst = [10,  40.5, True, \"hello\", [1,2,3]]\n",
        "\n",
        "# This will raise a ValueError.\n",
        "# arr = np.array(mixed_lst)\n",
        "```\n",
        "\n",
        "**Error:** `ValueError: setting an array element with a sequence.`\n",
        "\n",
        "**Solution:** You can force this to work by explicitly setting `dtype=object`. This tells NumPy to create a generic container of Python objects, but you **lose all performance benefits** and the ability to do math operations. Use it sparingly.\n",
        "\n",
        "```python\n",
        "arr_object = np.array(mixed_lst, dtype=object)\n",
        "print(f\"Object array: {arr_object}, dtype: {arr_object.dtype}\")\n",
        "```\n",
        "\n",
        "**Output:**\n",
        "\n",
        "```\n",
        "Object array: [10 40.5 True 'hello' list([1, 2, 3])], dtype: object\n",
        "```\n",
        "\n",
        "-----\n",
        "\n",
        "## **2. From a Python `tuple` 📦**\n",
        "\n",
        "Creating an array from a tuple works **exactly like creating one from a list**. All the same rules of upcasting and shape uniformity apply.\n",
        "\n",
        "```python\n",
        "mat_tu = (\n",
        "          (1, 2, 3),\n",
        "          (4, 5, 6),\n",
        "          (7, 8, 9)\n",
        "         )\n",
        "arr = np.array(mat_tu)\n",
        "\n",
        "print(f\"Array from tuple:\\n{arr}\")\n",
        "print(f\"Shape: {arr.shape}\")\n",
        "```\n",
        "\n",
        "**Output:**\n",
        "\n",
        "```\n",
        "Array from tuple:\n",
        "[[1 2 3]\n",
        " [4 5 6]\n",
        " [7 8 9]]\n",
        "Shape: (3, 3)\n",
        "```\n",
        "\n",
        "-----\n",
        "\n",
        "## **3. From a Python `set` 🌀**\n",
        "\n",
        "Directly converting a set to an `ndarray` is problematic. Because sets are **unordered**, NumPy doesn't try to infer a numeric type. Instead, it creates a single-element array of `dtype=object`.\n",
        "\n",
        "**Solution:** First, convert the set to a **`list`** or **`tuple`**.\n",
        "\n",
        "```python\n",
        "st = {1, 2, 3, 4, 5}\n",
        "\n",
        "# Wrong way - creates an object array\n",
        "arr_wrong = np.array(st)\n",
        "print(f\"Wrong Way Dtype: {arr_wrong.dtype}\") # Output: object\n",
        "\n",
        "# Correct way\n",
        "arr_correct = np.array(list(st))\n",
        "print(f\"Correct Way Dtype: {arr_correct.dtype}\") # Output: int64\n",
        "```\n",
        "\n",
        "To create a 2D array, you can use a set of tuples and convert it to a list first.\n",
        "\n",
        "```python\n",
        "st_2d = {(1,2,3), (4,5,6)}\n",
        "arr_2d_from_set = np.array(list(st_2d))\n",
        "print(f\"\\n2D Array from set of tuples:\\n{arr_2d_from_set}\")\n",
        "```\n",
        "\n",
        "-----\n",
        "\n",
        "## **4. From a Python `dict` 🔑**\n",
        "\n",
        "A dictionary has a key-value structure, so it cannot be directly converted. You must first extract the `.keys()`, `.values()`, or `.items()` and then convert those to a `list`.\n",
        "\n",
        "```python\n",
        "dic = {'a': 10, 'b': 20, 'c': 30}\n",
        "\n",
        "# Convert keys to an array\n",
        "keys_arr = np.array(list(dic.keys()))\n",
        "print(f\"Keys Array: {keys_arr}\")\n",
        "\n",
        "# Convert values to an array\n",
        "values_arr = np.array(list(dic.values()))\n",
        "print(f\"Values Array: {values_arr}\")\n",
        "\n",
        "# Convert items (key-value pairs) to a 2D array\n",
        "items_arr = np.array(list(dic.items()))\n",
        "print(f\"\\nItems Array:\\n{items_arr}\")\n",
        "print(f\"Items Dtype: {items_arr.dtype}\") # Dtype is string due to upcasting\n",
        "```\n",
        "\n",
        "**Output:**\n",
        "\n",
        "```\n",
        "Keys Array: ['a' 'b' 'c']\n",
        "Values Array: [10 20 30]\n",
        "\n",
        "Items Array:\n",
        "[['a' '10']\n",
        " ['b' '20']\n",
        " ['c' '30']]\n",
        "Items Dtype: <U21\n",
        "```\n",
        "\n",
        "___\n",
        "\n",
        "\n",
        "## **বিদ্যমান ডেটা থেকে `ndarray` তৈরি করা**\n",
        "\n",
        "আপনি পাইথনের সাধারণ ডেটা স্ট্রাকচার যেমন লিস্ট, টুপল, সেট এবং ডিকশনারি থেকে সহজেই NumPy অ্যারে তৈরি করতে পারেন। তবে, প্রতিটির জন্য কিছু গুরুত্বপূর্ণ নিয়ম এবং আচরণ বোঝা প্রয়োজন।\n",
        "\n",
        "-----\n",
        "\n",
        "## **১. পাইথন `list` থেকে 📜**\n",
        "\n",
        "`ndarray` তৈরি করার এটিই সবচেয়ে প্রচলিত উপায়।\n",
        "\n",
        "### **1D লিস্ট**\n",
        "\n",
        "ডেটা রক্ষা করার জন্য NumPy স্বয়ংক্রিয়ভাবে **আপকাস্টিং (upcasting)** পরিচালনা করে। যদি একটি লিস্টে বিভিন্ন ধরণের ডেটা মিশ্রিত থাকে, তবে NumPy পুরো অ্যারের জন্য সবচেয়ে সাধারণ টাইপটি বেছে নেয়।\n",
        "\n",
        "```python\n",
        "import numpy as np\n",
        "\n",
        "# একটি ফ্লোট মান পুরো অ্যারেটিকে float64 বানিয়ে দেবে\n",
        "lst = [10, 20, 30, 40, 40.5]\n",
        "arr = np.array(lst)\n",
        "\n",
        "print(f\"অ্যারে: {arr}\")\n",
        "print(f\"Dtype: {arr.dtype}\")\n",
        "```\n",
        "\n",
        "**আউটপুট:**\n",
        "\n",
        "```\n",
        "অ্যারে: [10.  20.  30.  40.  40.5]\n",
        "Dtype: float64\n",
        "```\n",
        "\n",
        "আপনি অ্যারে তৈরির সময় `dtype` নিজে সেট করতে পারেন অথবা পরে `.astype()` দিয়ে পরিবর্তন করতে পারেন, তবে এতে ডেটা হারানোর (truncation) সম্ভাবনা থাকে।\n",
        "\n",
        "### **2D লিস্ট (ম্যাট্রিক্স)**\n",
        "\n",
        "বহুমাত্রিক (multi-dimensional) অ্যারের জন্য NumPy-কে একটি সামঞ্জস্যপূর্ণ, **আয়তক্ষেত্রাকার (rectangular) আকৃতি** প্রয়োজন।\n",
        "\n",
        "**নিয়ম:** প্রতিটি ভেতরের লিস্টে অবশ্যই **একই সংখ্যক উপাদান** থাকতে হবে।\n",
        "\n",
        "```python\n",
        "# এটি এরর দেবে কারণ লিস্টগুলোর দৈর্ঘ্য ভিন্ন\n",
        "two_d_list_bad = [\n",
        "    [1, 2, 3],\n",
        "    [4, 5, 6, 7] # এই লিস্টটি দীর্ঘ\n",
        "]\n",
        "# np.array(two_d_list_bad) -> ValueError\n",
        "```\n",
        "\n",
        "### **র‍্যাগড অ্যারে (Ragged Arrays) থেকে `ValueError` ⚠️**\n",
        "\n",
        "যখন একটি লিস্টে একক আইটেম এবং অন্যান্য সিকোয়েন্স (যেমন আরেকটি লিস্ট) মিশ্রিত থাকে, তখন তাকে **\"র‍্যাগড\" অ্যারে** বলা হয়। আধুনিক NumPy এক্ষেত্রে একটি `ValueError` দেখায় কারণ এটি একটি সহজ, আয়তক্ষেত্রাকার গ্রিড তৈরি করতে পারে না।\n",
        "\n",
        "```python\n",
        "# এটি একটি \"র‍্যাগড\" লিস্ট\n",
        "mixed_lst = [10,  40.5, True, \"hello\", [1,2,3]]\n",
        "\n",
        "# এটি একটি ValueError দেবে\n",
        "# arr = np.array(mixed_lst)\n",
        "```\n",
        "\n",
        "**এরর:** `ValueError: setting an array element with a sequence.`\n",
        "\n",
        "**সমাধান:** আপনি `dtype=object` স্পষ্টভাবে সেট করে এটি কাজ করাতে পারেন। এটি NumPy-কে পাইথন অবজেক্টগুলোর একটি সাধারণ কন্টেইনার তৈরি করতে বলে, কিন্তু এর ফলে আপনি **পারফরম্যান্সের সমস্ত সুবিধা হারাবেন** এবং গাণিতিক অপারেশন করতে পারবেন না। তাই এটি খুব কম ব্যবহার করা উচিত।\n",
        "\n",
        "```python\n",
        "arr_object = np.array(mixed_lst, dtype=object)\n",
        "print(f\"অবজেক্ট অ্যারে: {arr_object}, dtype: {arr_object.dtype}\")\n",
        "```\n",
        "\n",
        "**আউটপুট:**\n",
        "\n",
        "```\n",
        "অবজেক্ট অ্যারে: [10 40.5 True 'hello' list([1, 2, 3])], dtype: object\n",
        "```\n",
        "\n",
        "-----\n",
        "\n",
        "## **২. পাইথন `tuple` থেকে 📦**\n",
        "\n",
        "একটি টুপল থেকে অ্যারে তৈরি করা **ঠিক একটি লিস্ট থেকে অ্যারে তৈরির মতোই** কাজ করে। আপকাস্টিং এবং আকৃতির সামঞ্জস্যের সমস্ত নিয়ম এখানেও প্রযোজ্য।\n",
        "\n",
        "```python\n",
        "mat_tu = (\n",
        "          (1, 2, 3),\n",
        "          (4, 5, 6),\n",
        "          (7, 8, 9)\n",
        "         )\n",
        "arr = np.array(mat_tu)\n",
        "\n",
        "print(f\"টুপল থেকে অ্যারে:\\n{arr}\")\n",
        "print(f\"Shape: {arr.shape}\")\n",
        "```\n",
        "\n",
        "**আউটপুট:**\n",
        "\n",
        "```\n",
        "টুপল থেকে অ্যারে:\n",
        "[[1 2 3]\n",
        " [4 5 6]\n",
        " [7 8 9]]\n",
        "Shape: (3, 3)\n",
        "```\n",
        "\n",
        "-----\n",
        "\n",
        "## **৩. পাইথন `set` থেকে 🌀**\n",
        "\n",
        "সরাসরি একটি সেটকে `ndarray`-তে রূপান্তর করা একটি সমস্যা। কারণ সেট **অগোছালো (unordered)**, তাই NumPy একটি নিউমেরিক টাইপ অনুমান করার চেষ্টা করে না। পরিবর্তে, এটি পুরো সেটটিকে ধারণ করে একটি একক-উপাদানের `dtype=object` অ্যারে তৈরি করে।\n",
        "\n",
        "**সমাধান:** প্রথমে সেটটিকে একটি **`list`** বা **`tuple`**-এ রূপান্তর করুন।\n",
        "\n",
        "```python\n",
        "st = {1, 2, 3, 4, 5}\n",
        "\n",
        "# ভুল পদ্ধতি - একটি অবজেক্ট অ্যারে তৈরি করে\n",
        "arr_wrong = np.array(st)\n",
        "print(f\"ভুল পদ্ধতির Dtype: {arr_wrong.dtype}\") # আউটপুট: object\n",
        "\n",
        "# সঠিক পদ্ধতি\n",
        "arr_correct = np.array(list(st))\n",
        "print(f\"সঠিক পদ্ধতির Dtype: {arr_correct.dtype}\") # আউটপুট: int64\n",
        "```\n",
        "\n",
        "একটি 2D অ্যারে তৈরি করতে, আপনি টুপলের একটি সেট ব্যবহার করতে পারেন এবং প্রথমে সেটিকে একটি লিস্টে রূপান্তর করতে পারেন।\n",
        "\n",
        "```python\n",
        "st_2d = {(1,2,3), (4,5,6)}\n",
        "arr_2d_from_set = np.array(list(st_2d))\n",
        "print(f\"\\nটুপলের সেট থেকে 2D অ্যারে:\\n{arr_2d_from_set}\")\n",
        "```\n",
        "\n",
        "-----\n",
        "\n",
        "## **৪. পাইথন `dict` থেকে 🔑**\n",
        "\n",
        "একটি ডিকশনারিতে কী-ভ্যালু (key-value) স্ট্রাকচার থাকায় এটিকে সরাসরি রূপান্তর করা যায় না। আপনাকে প্রথমে `.keys()`, `.values()`, বা `.items()` বের করে সেগুলোকে একটি `list`-এ রূপান্তর করতে হবে।\n",
        "\n",
        "```python\n",
        "dic = {'a': 10, 'b': 20, 'c': 30}\n",
        "\n",
        "# কী (keys) থেকে অ্যারে\n",
        "keys_arr = np.array(list(dic.keys()))\n",
        "print(f\"কী অ্যারে: {keys_arr}\")\n",
        "\n",
        "# ভ্যালু (values) থেকে অ্যারে\n",
        "values_arr = np.array(list(dic.values()))\n",
        "print(f\"ভ্যালু অ্যারে: {values_arr}\")\n",
        "\n",
        "# আইটেম (items) থেকে 2D অ্যারে\n",
        "items_arr = np.array(list(dic.items()))\n",
        "print(f\"\\nআইটেম অ্যারে:\\n{items_arr}\")\n",
        "print(f\"আইটেম Dtype: {items_arr.dtype}\") # আপকাস্টিং-এর কারণে Dtype স্ট্রিং হবে\n",
        "```\n",
        "\n",
        "**আউটপুট:**\n",
        "\n",
        "```\n",
        "কী অ্যারে: ['a' 'b' 'c']\n",
        "ভ্যালু অ্যারে: [10 20 30]\n",
        "\n",
        "আইটেম অ্যারে:\n",
        "[['a' '10']\n",
        " ['b' '20']\n",
        " ['c' '30']]\n",
        "আইটেম Dtype: <U21\n",
        "```"
      ],
      "metadata": {
        "id": "85-8vrC3knQJ"
      }
    },
    {
      "cell_type": "code",
      "source": [
        "import numpy as np\n",
        "\n",
        "lst = [10, 20, 30, 40, 40.5]\n",
        "arr = np.array(lst)\n",
        "print(type(arr))\n",
        "print(arr.dtype)\n",
        "print(arr.ndim)\n",
        "\n",
        "# arr = arr.astype(np.int32)\n",
        "# print(arr.dtype)"
      ],
      "metadata": {
        "colab": {
          "base_uri": "https://localhost:8080/"
        },
        "id": "Qy0ko7GZlKyS",
        "outputId": "5f661807-32df-43e0-b27d-8647c516fb0d"
      },
      "execution_count": 3,
      "outputs": [
        {
          "output_type": "stream",
          "name": "stdout",
          "text": [
            "<class 'numpy.ndarray'>\n",
            "float64\n",
            "1\n",
            "int32\n"
          ]
        }
      ]
    },
    {
      "cell_type": "code",
      "source": [
        "lst = [10, 20, 30, 40, 40.5]\n",
        "arr = np.array(lst, dtype=np.int32)\n",
        "print(type(arr))\n",
        "print(arr.dtype)"
      ],
      "metadata": {
        "colab": {
          "base_uri": "https://localhost:8080/"
        },
        "id": "cl4KDVIRmHrC",
        "outputId": "c780e1e5-1ab8-46f2-d0fc-22e4fa465ebc"
      },
      "execution_count": 4,
      "outputs": [
        {
          "output_type": "stream",
          "name": "stdout",
          "text": [
            "<class 'numpy.ndarray'>\n",
            "int32\n"
          ]
        }
      ]
    },
    {
      "cell_type": "code",
      "source": [
        "mixed_lst = [10,  40.5, True, \"hello\"]\n",
        "arr = np.array(mixed_lst)\n",
        "print(type(arr))\n",
        "print(arr.dtype)\n",
        "print(arr.ndim)"
      ],
      "metadata": {
        "colab": {
          "base_uri": "https://localhost:8080/"
        },
        "id": "erh9SYTJm9yh",
        "outputId": "6ec9867d-aeb9-4d2c-e5dd-ded34243b07b"
      },
      "execution_count": 5,
      "outputs": [
        {
          "output_type": "stream",
          "name": "stdout",
          "text": [
            "<class 'numpy.ndarray'>\n",
            "<U32\n",
            "1\n"
          ]
        }
      ]
    },
    {
      "cell_type": "code",
      "source": [
        "#ValueError\n",
        "# mixed_lst = [10,  40.5, True, \"hello\", [1,2,3]]\n",
        "# arr = np.array(mixed_lst)"
      ],
      "metadata": {
        "id": "5amnvHQonOj1"
      },
      "execution_count": 9,
      "outputs": []
    },
    {
      "cell_type": "code",
      "source": [
        "two_d_list = [\n",
        "    [1, 2, 3],\n",
        "    [4, 5, 6]\n",
        "]\n",
        "\n",
        "arr = np.array(two_d_list)\n",
        "print(type(arr))\n",
        "print(arr.dtype)\n",
        "print(arr.ndim)"
      ],
      "metadata": {
        "colab": {
          "base_uri": "https://localhost:8080/"
        },
        "id": "3tZ_mtpQpc1w",
        "outputId": "b7487a46-0eca-46f7-e409-344c9c0d0f08"
      },
      "execution_count": 25,
      "outputs": [
        {
          "output_type": "stream",
          "name": "stdout",
          "text": [
            "<class 'numpy.ndarray'>\n",
            "int64\n",
            "2\n"
          ]
        }
      ]
    },
    {
      "cell_type": "code",
      "source": [
        "# ValueError\n",
        "# two_d_list = [\n",
        "#     [1, 2, 3],\n",
        "#     [4, 5, 6, 7]\n",
        "# ]\n",
        "# two_d_array = np.array(two_d_list)"
      ],
      "metadata": {
        "id": "f5l-7Zpcnk_s"
      },
      "execution_count": 19,
      "outputs": []
    },
    {
      "cell_type": "code",
      "source": [
        "tu = (1,2,3)\n",
        "arr = np.array(tu)\n",
        "print(arr)\n",
        "print(type(arr))\n",
        "print(arr.dtype)\n",
        "print(arr.ndim)"
      ],
      "metadata": {
        "colab": {
          "base_uri": "https://localhost:8080/"
        },
        "id": "Gi6CYymRqYFM",
        "outputId": "1194e929-c520-489d-d6d7-47ad6dcfa6a4"
      },
      "execution_count": 27,
      "outputs": [
        {
          "output_type": "stream",
          "name": "stdout",
          "text": [
            "[1 2 3]\n",
            "<class 'numpy.ndarray'>\n",
            "int64\n",
            "1\n"
          ]
        }
      ]
    },
    {
      "cell_type": "code",
      "source": [
        "mat_tu = (\n",
        "          (1,2,3),\n",
        "          (4,5,6),\n",
        "          (7,8,9)\n",
        "          )\n",
        "arr = np.array(mat_tu)\n",
        "print(arr)\n",
        "print(type(arr))\n",
        "print(arr.dtype)\n",
        "print(arr.ndim)"
      ],
      "metadata": {
        "colab": {
          "base_uri": "https://localhost:8080/"
        },
        "id": "7gFWKn7DrAkj",
        "outputId": "4a86b179-68b9-4920-fa89-1f4ec861923c"
      },
      "execution_count": 28,
      "outputs": [
        {
          "output_type": "stream",
          "name": "stdout",
          "text": [
            "[[1 2 3]\n",
            " [4 5 6]\n",
            " [7 8 9]]\n",
            "<class 'numpy.ndarray'>\n",
            "int64\n",
            "2\n"
          ]
        }
      ]
    },
    {
      "cell_type": "code",
      "source": [
        "mat_tu = (\n",
        "          (1,2,3),\n",
        "          (4,5,6),\n",
        "          (7,8,9)\n",
        "          )\n",
        "arr = np.array(mat_tu, dtype=np.int32)\n",
        "print(arr)\n",
        "print(type(arr))\n",
        "print(arr.dtype)\n",
        "print(arr.ndim)\n",
        "\n",
        "arr = arr.astype(np.int8)\n",
        "print(arr.dtype)"
      ],
      "metadata": {
        "colab": {
          "base_uri": "https://localhost:8080/"
        },
        "id": "ZcxmKlaZru23",
        "outputId": "6168a641-fb99-4fbf-cb7b-302cced40155"
      },
      "execution_count": 29,
      "outputs": [
        {
          "output_type": "stream",
          "name": "stdout",
          "text": [
            "[[1 2 3]\n",
            " [4 5 6]\n",
            " [7 8 9]]\n",
            "<class 'numpy.ndarray'>\n",
            "int32\n",
            "2\n",
            "int8\n"
          ]
        }
      ]
    },
    {
      "cell_type": "code",
      "source": [
        "# st = {1,2,3,4,5}\n",
        "# arr = np.array(st, dtype=np.int32)"
      ],
      "metadata": {
        "id": "Y1rht_jgskq_"
      },
      "execution_count": 31,
      "outputs": []
    },
    {
      "cell_type": "code",
      "source": [
        "st = {1,2,3,4,5}\n",
        "arr = np.array(st)\n",
        "print(arr)\n",
        "print(type(arr))\n",
        "print(arr.dtype)\n"
      ],
      "metadata": {
        "colab": {
          "base_uri": "https://localhost:8080/"
        },
        "id": "b7z173TPtNFd",
        "outputId": "6b9432bf-0904-4b96-ad65-b0aa9d82bc06"
      },
      "execution_count": 32,
      "outputs": [
        {
          "output_type": "stream",
          "name": "stdout",
          "text": [
            "{1, 2, 3, 4, 5}\n",
            "<class 'numpy.ndarray'>\n",
            "object\n"
          ]
        }
      ]
    },
    {
      "cell_type": "code",
      "source": [
        "st = {1,2,3,4,5}\n",
        "arr = np.array(list(st), dtype=np.int32)\n",
        "print(arr)\n",
        "print(type(arr))\n",
        "print(arr.dtype)\n"
      ],
      "metadata": {
        "colab": {
          "base_uri": "https://localhost:8080/"
        },
        "id": "7P1_fobBtjIZ",
        "outputId": "459577e5-ff02-46a8-c582-5a9e35ea9033"
      },
      "execution_count": 34,
      "outputs": [
        {
          "output_type": "stream",
          "name": "stdout",
          "text": [
            "[1 2 3 4 5]\n",
            "<class 'numpy.ndarray'>\n",
            "int32\n"
          ]
        }
      ]
    },
    {
      "cell_type": "code",
      "source": [
        "st_2d = {(1,2,3),(4,5,6)}\n",
        "arr = np.array(list(st_2d))\n",
        "print(arr)\n",
        "print(type(arr))\n",
        "print(arr.dtype)"
      ],
      "metadata": {
        "colab": {
          "base_uri": "https://localhost:8080/"
        },
        "id": "ux-w1NRlt7Vj",
        "outputId": "daf3ec6e-bc5b-42cc-b364-19d736ba767c"
      },
      "execution_count": 38,
      "outputs": [
        {
          "output_type": "stream",
          "name": "stdout",
          "text": [
            "[[1 2 3]\n",
            " [4 5 6]]\n",
            "<class 'numpy.ndarray'>\n",
            "int8\n"
          ]
        }
      ]
    },
    {
      "cell_type": "code",
      "source": [
        "dic = {'a':10, 'b':20, 'c':30}\n",
        "keys = dic.keys()\n",
        "\n",
        "values = dic.values()\n",
        "\n",
        "key_value = dic.items()\n",
        "\n",
        "# It not possible directly\n",
        "keys_arr = np.array(keys)\n",
        "print(keys_arr.dtype) #object\n",
        "\n",
        "# firstly we need to convert list or tuple then make ndarry\n",
        "keys_arr = np.array(list(keys))\n",
        "print(keys_arr.dtype) #int64\n",
        "print(keys_arr)\n",
        "print()\n",
        "\n",
        "values_arr = np.array(list(values))\n",
        "print(values_arr.dtype) #int64\n",
        "print(values_arr)\n",
        "print()\n",
        "\n",
        "key_value_arr = np.array(list(key_value))\n",
        "print(key_value_arr.dtype) #object\n",
        "print(key_value_arr)\n",
        "\n"
      ],
      "metadata": {
        "colab": {
          "base_uri": "https://localhost:8080/"
        },
        "id": "OBNvelbrwGWT",
        "outputId": "f9bd8812-4368-4ab8-bc9e-becf2eab12ad"
      },
      "execution_count": 49,
      "outputs": [
        {
          "output_type": "stream",
          "name": "stdout",
          "text": [
            "object\n",
            "<U1\n",
            "['a' 'b' 'c']\n",
            "\n",
            "int64\n",
            "[10 20 30]\n",
            "\n",
            "<U21\n",
            "[['a' '10']\n",
            " ['b' '20']\n",
            " ['c' '30']]\n"
          ]
        }
      ]
    },
    {
      "cell_type": "markdown",
      "source": [
        "# **Creating an `ndarray` From Scratch**"
      ],
      "metadata": {
        "id": "hn_P9LaFFxGh"
      }
    },
    {
      "cell_type": "markdown",
      "source": [
        "NumPy provides several convenient functions to create arrays from scratch without needing an existing Python data structure. These are highly efficient for initializing arrays of a specific size with placeholder values.\n",
        "\n",
        "-----\n",
        "\n",
        "## **1. `np.zeros` and `np.zeros_like`**\n",
        "\n",
        "The `np.zeros()` function creates an array of a given shape, filling it entirely with **zeros**.\n",
        "\n",
        "  * **Default `dtype`**: By default, the array is filled with floating-point zeros (`0.`) and has a `dtype` of `float64`.\n",
        "  * **Shape**: The first argument is the shape, provided as an integer for 1D arrays or a tuple for multi-dimensional arrays.\n",
        "\n",
        "<!-- end list -->\n",
        "\n",
        "```python\n",
        "import numpy as np\n",
        "\n",
        "# 1D array of zeros (float by default)\n",
        "arr_1d = np.zeros(3)\n",
        "print(f\"1D Zeros:\\n{arr_1d}\\nDtype: {arr_1d.dtype}\\n\")\n",
        "\n",
        "# 2D array of zeros, with dtype specified as integer\n",
        "arr_2d = np.zeros((2, 3), dtype=np.int32)\n",
        "print(f\"2D Integer Zeros:\\n{arr_2d}\\nDtype: {arr_2d.dtype}\")\n",
        "```\n",
        "\n",
        "### **`np.zeros_like()`**\n",
        "\n",
        "This is a handy function to create a new array of zeros that has the **exact same shape and `dtype`** as an existing array.\n",
        "\n",
        "```python\n",
        "arr_existing = np.array([[1, 2], [3, 4]])\n",
        "\n",
        "arr_zeros_like = np.zeros_like(arr_existing)\n",
        "print(f\"\\nZeros array like existing one:\\n{arr_zeros_like}\")\n",
        "print(f\"Shape: {arr_zeros_like.shape}, Dtype: {arr_zeros_like.dtype}\")\n",
        "```\n",
        "\n",
        "-----\n",
        "\n",
        "## **2. `np.ones` and `np.ones_like`**\n",
        "\n",
        "This works exactly like `np.zeros()`, but it fills the array with **ones** (`1.`) instead.\n",
        "\n",
        "```python\n",
        "# 2D array of ones (float by default)\n",
        "arr_2d_ones = np.ones((2, 3))\n",
        "print(f\"2D Ones:\\n{arr_2d_ones}\\nDtype: {arr_2d_ones.dtype}\\n\")\n",
        "\n",
        "# 3D array of ones using ones_like\n",
        "arr3_ones_like = np.ones_like(arr_zeros_like) # Using the array from the previous example\n",
        "print(f\"Ones array like the zeros one:\\n{arr3_ones_like}\")\n",
        "print(f\"Shape: {arr3_ones_like.shape}, Dtype: {arr3_ones_like.dtype}\")\n",
        "```\n",
        "\n",
        "-----\n",
        "\n",
        "## **3. `np.empty` and `np.empty_like`**\n",
        "\n",
        "The `np.empty()` function creates an array of a given shape **without initializing its entries to any particular value**.\n",
        "\n",
        "**Important Note:** The values you see in an `empty` array are not truly random. They are whatever \"garbage\" data was already present in that memory location. This function is slightly faster than `zeros` or `ones` and is useful only when you plan to immediately overwrite every element in the array yourself.\n",
        "\n",
        "```python\n",
        "# Create a 2x3 empty array. The values will be unpredictable.\n",
        "arr_empty = np.empty((2, 3))\n",
        "print(f\"Empty Array (values are arbitrary):\\n{arr_empty}\")\n",
        "```\n",
        "\n",
        "-----\n",
        "\n",
        "## **4. `np.full` and `np.full_like`**\n",
        "\n",
        "This function gives you more control by allowing you to create an array of a specific shape filled with any **`fill_value`** you choose.\n",
        "\n",
        "  * **Arguments**: It takes two main arguments: `shape` and `fill_value`.\n",
        "  * **`dtype` Inference**: NumPy infers the `dtype` from the type of the `fill_value`.\n",
        "\n",
        "<!-- end list -->\n",
        "\n",
        "```python\n",
        "# Create a 2x3 array filled with the integer 5\n",
        "arr_full_int = np.full((2, 3), 5)\n",
        "print(f\"Full array with integers:\\n{arr_full_int}\\nDtype: {arr_full_int.dtype}\\n\")\n",
        "\n",
        "# Create a 2x3 array filled with boolean True\n",
        "arr_full_bool = np.full((2, 3), True)\n",
        "print(f\"Full array with booleans:\\n{arr_full_bool}\\nDtype: {arr_full_bool.dtype}\\n\")\n",
        "\n",
        "# Create a 2x3 array filled with infinity\n",
        "arr_full_inf = np.full((2, 3), np.inf)\n",
        "print(f\"Full array with infinity:\\n{arr_full_inf}\\nDtype: {arr_full_inf.dtype}\\n\")\n",
        "```\n",
        "\n",
        "The `np.full_like()` variant creates a new array with the shape and `dtype` of an existing array, but fills it with a new specified value.\n",
        "\n",
        "```python\n",
        "arr_existing = np.array([[1, 2], [3, 4]])\n",
        "\n",
        "# Create a new array like arr_existing but filled with -1\n",
        "arr_full_like = np.full_like(arr_existing, -1)\n",
        "print(f\"Full_like array:\\n{arr_full_like}\")\n",
        "```\n",
        "\n",
        "\n",
        "অবশ্যই\\! আপনার জন্য সম্পূর্ণ নোটটি বাংলাতে নিচে দেওয়া হলো।\n",
        "\n",
        "___\n",
        "\n",
        "## **Creating an ndarray From Scratch(Bangla)**\n",
        "\n",
        "বিদ্যমান কোনো পাইথন ডেটা স্ট্রাকচার ছাড়াই শুরু থেকে অ্যারে তৈরি করার জন্য NumPy বেশ কিছু সুবিধাজনক ফাংশন সরবরাহ করে। একটি নির্দিষ্ট আকারের অ্যারে ইনিশিয়ালাইজ করার জন্য এগুলো অত্যন্ত কার্যকর।\n",
        "\n",
        "-----\n",
        "\n",
        "## **১. `np.zeros` এবং `np.zeros_like`**\n",
        "\n",
        "`np.zeros()` ফাংশনটি একটি নির্দিষ্ট আকারের অ্যারে তৈরি করে, যা সম্পূর্ণরূপে **শূন্য (`0`)** দিয়ে পূর্ণ থাকে।\n",
        "\n",
        "  * **ডিফল্ট `dtype`**: ডিফল্টভাবে, অ্যারেটি ফ্লোটিং-পয়েন্ট শূন্য (`0.`) দিয়ে পূর্ণ থাকে এবং এর `dtype` হয় `float64`।\n",
        "  * **শেপ (Shape)**: প্রথম আর্গুমেন্ট হলো শেপ, যা 1D অ্যারের জন্য একটি ইন্টিজার বা বহুমাত্রিক (multi-dimensional) অ্যারের জন্য একটি টুপল হিসেবে দেওয়া হয়।\n",
        "\n",
        "<!-- end list -->\n",
        "\n",
        "```python\n",
        "import numpy as np\n",
        "\n",
        "# 1D শূন্যের অ্যারে (ডিফল্টভাবে ফ্লোট)\n",
        "arr_1d = np.zeros(3)\n",
        "print(f\"1D Zeros:\\n{arr_1d}\\nDtype: {arr_1d.dtype}\\n\")\n",
        "\n",
        "# 2D শূন্যের অ্যারে, যেখানে dtype ইন্টিজার হিসেবে নির্দিষ্ট করা হয়েছে\n",
        "arr_2d = np.zeros((2, 3), dtype=np.int32)\n",
        "print(f\"2D Integer Zeros:\\n{arr_2d}\\nDtype: {arr_2d.dtype}\")\n",
        "```\n",
        "\n",
        "### **`np.zeros_like()`**\n",
        "\n",
        "এটি একটি সুবিধাজনক ফাংশন যা একটি নতুন শূন্যের অ্যারে তৈরি করে, যার **শেপ এবং `dtype`** হুবহু বিদ্যমান একটি অ্যারের মতো হয়।\n",
        "\n",
        "```python\n",
        "arr_existing = np.array([[1, 2], [3, 4]])\n",
        "\n",
        "arr_zeros_like = np.zeros_like(arr_existing)\n",
        "print(f\"\\nবিদ্যমান অ্যারের মতো শূন্যের অ্যারে:\\n{arr_zeros_like}\")\n",
        "print(f\"Shape: {arr_zeros_like.shape}, Dtype: {arr_zeros_like.dtype}\")\n",
        "```\n",
        "\n",
        "-----\n",
        "\n",
        "## **২. `np.ones` এবং `np.ones_like`**\n",
        "\n",
        "এটি `np.zeros()`-এর মতোই কাজ করে, কিন্তু এটি অ্যারেটিকে **এক (`1`)** দিয়ে পূর্ণ করে।\n",
        "\n",
        "```python\n",
        "# 2D একের অ্যারে (ডিফল্টভাবে ফ্লোট)\n",
        "arr_2d_ones = np.ones((2, 3))\n",
        "print(f\"2D Ones:\\n{arr_2d_ones}\\nDtype: {arr_2d_ones.dtype}\\n\")\n",
        "\n",
        "# ones_like ব্যবহার করে 3D একের অ্যারে\n",
        "# আগের উদাহরণ থেকে অ্যারে ব্যবহার করে\n",
        "arr3_ones_like = np.ones_like(arr_zeros_like)\n",
        "print(f\"শূন্যের অ্যারের মতো একের অ্যারে:\\n{arr3_ones_like}\")\n",
        "print(f\"Shape: {arr3_ones_like.shape}, Dtype: {arr3_ones_like.dtype}\")\n",
        "```\n",
        "\n",
        "-----\n",
        "\n",
        "## **৩. `np.empty` এবং `np.empty_like`**\n",
        "\n",
        "`np.empty()` ফাংশনটি কোনো নির্দিষ্ট মান দিয়ে উপাদানগুলোকে ইনিশিয়ালাইজ না করেই একটি নির্দিষ্ট আকারের অ্যারে তৈরি করে।\n",
        "\n",
        "**গুরুত্বপূর্ণ নোট:** একটি `empty` অ্যারেতে যে মানগুলো দেখা যায়, সেগুলো সত্যি সত্যি র‍্যান্ডম নয়। এগুলো হলো সেই মেমরি লোকেশনে আগে থেকে থাকা \"গার্বেজ\" ডেটা। এই ফাংশনটি `zeros` বা `ones`-এর চেয়ে কিছুটা দ্রুত এবং শুধুমাত্র তখনই উপযোগী যখন আপনি অ্যারের প্রতিটি উপাদানকে உடனடியாக নিজে ওভাররাইট করার পরিকল্পনা করেন।\n",
        "\n",
        "```python\n",
        "# একটি 2x3 empty অ্যারে তৈরি করা হলো। এর মানগুলো অনির্ predictable হবে।\n",
        "arr_empty = np.empty((2, 3))\n",
        "print(f\"Empty Array (মানগুলো ইচ্ছামতো হতে পারে):\\n{arr_empty}\")\n",
        "```\n",
        "\n",
        "-----\n",
        "\n",
        "## **৪. `np.full` এবং `np.full_like`**\n",
        "\n",
        "এই ফাংশনটি আপনাকে আপনার পছন্দের যেকোনো **`fill_value`** দিয়ে একটি নির্দিষ্ট আকারের অ্যারে তৈরি করার সুবিধা দেয়।\n",
        "\n",
        "  * **আর্গুমেন্টস**: এটি দুটি প্রধান আর্গুমেন্ট নেয়: `shape` এবং `fill_value`।\n",
        "  * **`dtype` অনুমান**: NumPy `fill_value`-এর টাইপ থেকে `dtype` অনুমান করে নেয়।\n",
        "\n",
        "<!-- end list -->\n",
        "\n",
        "```python\n",
        "# ইন্টিজার 5 দিয়ে পূর্ণ একটি 2x3 অ্যারে\n",
        "arr_full_int = np.full((2, 3), 5)\n",
        "print(f\"ইন্টিজার দিয়ে পূর্ণ অ্যারে:\\n{arr_full_int}\\nDtype: {arr_full_int.dtype}\\n\")\n",
        "\n",
        "# বুলিয়ান True দিয়ে পূর্ণ একটি 2x3 অ্যারে\n",
        "arr_full_bool = np.full((2, 3), True)\n",
        "print(f\"বুলিয়ান দিয়ে পূর্ণ অ্যারে:\\n{arr_full_bool}\\nDtype: {arr_full_bool.dtype}\\n\")\n",
        "\n",
        "# ইনফিনিটি দিয়ে পূর্ণ একটি 2x3 অ্যারে\n",
        "arr_full_inf = np.full((2, 3), np.inf)\n",
        "print(f\"ইনফিনিটি দিয়ে পূর্ণ অ্যারে:\\n{arr_full_inf}\\nDtype: {arr_full_inf.dtype}\\n\")\n",
        "```\n",
        "\n",
        "`np.full_like()` ভেরিয়েন্টটি একটি বিদ্যমান অ্যারের শেপ এবং `dtype` অনুযায়ী একটি নতুন অ্যারে তৈরি করে, কিন্তু সেটিকে একটি নতুন নির্দিষ্ট মান দিয়ে পূর্ণ করে।\n",
        "\n",
        "```python\n",
        "arr_existing = np.array([[1, 2], [3, 4]])\n",
        "\n",
        "# arr_existing-এর মতো একটি নতুন অ্যারে তৈরি করা হলো যা -1 দিয়ে পূর্ণ\n",
        "arr_full_like = np.full_like(arr_existing, -1)\n",
        "print(f\"Full_like অ্যারে:\\n{arr_full_like}\")\n",
        "```"
      ],
      "metadata": {
        "id": "3QreeZfu4jFr"
      }
    },
    {
      "cell_type": "markdown",
      "source": [
        "###**np.zeros**"
      ],
      "metadata": {
        "id": "P3wU_vGf-l5T"
      }
    },
    {
      "cell_type": "code",
      "source": [
        "# Make 1d array with value 0\n",
        "arr = np.zeros(3)\n",
        "print(arr)\n",
        "print(arr.dtype) # by default it will be float"
      ],
      "metadata": {
        "colab": {
          "base_uri": "https://localhost:8080/"
        },
        "id": "ZRegd8UH7sdX",
        "outputId": "63555c1a-ee07-4968-ffb8-90829f6f5209"
      },
      "execution_count": 62,
      "outputs": [
        {
          "output_type": "stream",
          "name": "stdout",
          "text": [
            "[0. 0. 0.]\n",
            "float64\n"
          ]
        }
      ]
    },
    {
      "cell_type": "code",
      "source": [
        "# Make 2d arrays with value 0\n",
        "arr = np.zeros((2,3))\n",
        "print(arr)\n",
        "print(arr.dtype)"
      ],
      "metadata": {
        "colab": {
          "base_uri": "https://localhost:8080/"
        },
        "id": "onJmnIUn7uS9",
        "outputId": "782d726b-be27-41e2-b705-ddf23e8b6cad"
      },
      "execution_count": 63,
      "outputs": [
        {
          "output_type": "stream",
          "name": "stdout",
          "text": [
            "[[0. 0. 0.]\n",
            " [0. 0. 0.]]\n",
            "float64\n"
          ]
        }
      ]
    },
    {
      "cell_type": "code",
      "source": [
        "# make 3d array with value 0\n",
        "arr = np.zeros((2,3,4))\n",
        "print(arr)\n",
        "print(arr.dtype)"
      ],
      "metadata": {
        "colab": {
          "base_uri": "https://localhost:8080/"
        },
        "id": "HO2meEpe7vVC",
        "outputId": "06adc26b-01c3-450d-942e-4d34f5871a3e"
      },
      "execution_count": 64,
      "outputs": [
        {
          "output_type": "stream",
          "name": "stdout",
          "text": [
            "[[[0. 0. 0. 0.]\n",
            "  [0. 0. 0. 0.]\n",
            "  [0. 0. 0. 0.]]\n",
            "\n",
            " [[0. 0. 0. 0.]\n",
            "  [0. 0. 0. 0.]\n",
            "  [0. 0. 0. 0.]]]\n",
            "float64\n"
          ]
        }
      ]
    },
    {
      "cell_type": "code",
      "source": [
        "#we can determine datatype when creaing or after creating to int\n",
        "arr = np.zeros((3,3), dtype=np.int32)\n",
        "print(arr)\n",
        "print(arr.dtype)"
      ],
      "metadata": {
        "colab": {
          "base_uri": "https://localhost:8080/"
        },
        "id": "MUXlXpg6762z",
        "outputId": "ffd65c66-d961-4cb1-b1be-0c0b7457d4d1"
      },
      "execution_count": 65,
      "outputs": [
        {
          "output_type": "stream",
          "name": "stdout",
          "text": [
            "[[0 0 0]\n",
            " [0 0 0]\n",
            " [0 0 0]]\n",
            "int32\n"
          ]
        }
      ]
    },
    {
      "cell_type": "code",
      "source": [
        "# We can make nd array as like previous array with value 0\n",
        "arr3 = np.array([\n",
        "    [\n",
        "      [1, 2, 3],\n",
        "      [4, 5, 6]\n",
        "    ],\n",
        "    [\n",
        "      [7, 8, 9],\n",
        "      [10, 11, 12]\n",
        "    ],\n",
        "])\n",
        "\n",
        "print(arr3)\n",
        "print(arr3.dtype)\n",
        "print(arr3.ndim)\n",
        "\n",
        "print()\n",
        "\n",
        "arr3_zeros = np.zeros_like(arr3)\n",
        "print(arr3_zeros)\n",
        "print(arr3_zeros.dtype)\n",
        "print(arr3_zeros.ndim)"
      ],
      "metadata": {
        "colab": {
          "base_uri": "https://localhost:8080/"
        },
        "id": "G4VUt2ON79AX",
        "outputId": "65725a6f-473a-4dac-bf63-c47a5fde4a95"
      },
      "execution_count": 68,
      "outputs": [
        {
          "output_type": "stream",
          "name": "stdout",
          "text": [
            "[[[ 1  2  3]\n",
            "  [ 4  5  6]]\n",
            "\n",
            " [[ 7  8  9]\n",
            "  [10 11 12]]]\n",
            "int64\n",
            "3\n",
            "\n",
            "[[[0 0 0]\n",
            "  [0 0 0]]\n",
            "\n",
            " [[0 0 0]\n",
            "  [0 0 0]]]\n",
            "int64\n",
            "3\n"
          ]
        }
      ]
    },
    {
      "cell_type": "markdown",
      "source": [
        "### **np.ones**"
      ],
      "metadata": {
        "id": "9FIBUSKR-vJ6"
      }
    },
    {
      "cell_type": "code",
      "source": [
        "# Make 1d array with value 1\n",
        "arr = np.ones(3)\n",
        "print(arr)\n",
        "print(arr.dtype) # by default it will be float"
      ],
      "metadata": {
        "colab": {
          "base_uri": "https://localhost:8080/"
        },
        "outputId": "fe36d643-2d8d-490c-9776-13fb74eb2a2a",
        "id": "sZAwAVPB-zZs"
      },
      "execution_count": 69,
      "outputs": [
        {
          "output_type": "stream",
          "name": "stdout",
          "text": [
            "[1. 1. 1.]\n",
            "float64\n"
          ]
        }
      ]
    },
    {
      "cell_type": "code",
      "source": [
        "# Make 2d arrays with value 1\n",
        "arr = np.ones((2,3))\n",
        "print(arr)\n",
        "print(arr.dtype)"
      ],
      "metadata": {
        "colab": {
          "base_uri": "https://localhost:8080/"
        },
        "outputId": "780d45f8-ad98-41f3-d938-a30fdde1790e",
        "id": "EBNkntV3-zZt"
      },
      "execution_count": 70,
      "outputs": [
        {
          "output_type": "stream",
          "name": "stdout",
          "text": [
            "[[1. 1. 1.]\n",
            " [1. 1. 1.]]\n",
            "float64\n"
          ]
        }
      ]
    },
    {
      "cell_type": "code",
      "source": [
        "# make 3d array with value 1\n",
        "arr = np.ones((2,3,4))\n",
        "print(arr)\n",
        "print(arr.dtype)"
      ],
      "metadata": {
        "colab": {
          "base_uri": "https://localhost:8080/"
        },
        "outputId": "073f583e-092e-43ff-8eb6-959e4fad4078",
        "id": "nOLmZbdb-zZt"
      },
      "execution_count": 71,
      "outputs": [
        {
          "output_type": "stream",
          "name": "stdout",
          "text": [
            "[[[1. 1. 1. 1.]\n",
            "  [1. 1. 1. 1.]\n",
            "  [1. 1. 1. 1.]]\n",
            "\n",
            " [[1. 1. 1. 1.]\n",
            "  [1. 1. 1. 1.]\n",
            "  [1. 1. 1. 1.]]]\n",
            "float64\n"
          ]
        }
      ]
    },
    {
      "cell_type": "code",
      "source": [
        "#we can determine datatype when creaing or after creating to int\n",
        "arr = np.ones((3,3), dtype=np.int32)\n",
        "print(arr)\n",
        "print(arr.dtype)"
      ],
      "metadata": {
        "colab": {
          "base_uri": "https://localhost:8080/"
        },
        "outputId": "f0e0673b-c645-4f72-f4c3-a67f96d70031",
        "id": "fCFoFbw0-zZu"
      },
      "execution_count": 72,
      "outputs": [
        {
          "output_type": "stream",
          "name": "stdout",
          "text": [
            "[[1 1 1]\n",
            " [1 1 1]\n",
            " [1 1 1]]\n",
            "int32\n"
          ]
        }
      ]
    },
    {
      "cell_type": "code",
      "source": [
        "# We can make nd array as like previous array with value 0\n",
        "arr3 = np.array([\n",
        "    [\n",
        "      [1, 2, 3],\n",
        "      [4, 5, 6]\n",
        "    ],\n",
        "    [\n",
        "      [7, 8, 9],\n",
        "      [10, 11, 12]\n",
        "    ],\n",
        "])\n",
        "\n",
        "print(arr3)\n",
        "print(arr3.dtype)\n",
        "print(arr3.ndim)\n",
        "\n",
        "print()\n",
        "\n",
        "arr3_ones = np.ones_like(arr3)\n",
        "print(arr3_ones)\n",
        "print(arr3_ones.dtype)\n",
        "print(arr3_ones.ndim)"
      ],
      "metadata": {
        "colab": {
          "base_uri": "https://localhost:8080/"
        },
        "outputId": "bb6d3a21-0082-45da-cb78-2c06f13ab722",
        "id": "o4omhZ6s-zZu"
      },
      "execution_count": 73,
      "outputs": [
        {
          "output_type": "stream",
          "name": "stdout",
          "text": [
            "[[[ 1  2  3]\n",
            "  [ 4  5  6]]\n",
            "\n",
            " [[ 7  8  9]\n",
            "  [10 11 12]]]\n",
            "int64\n",
            "3\n",
            "\n",
            "[[[1 1 1]\n",
            "  [1 1 1]]\n",
            "\n",
            " [[1 1 1]\n",
            "  [1 1 1]]]\n",
            "int64\n",
            "3\n"
          ]
        }
      ]
    },
    {
      "cell_type": "markdown",
      "source": [
        "### **np.empty**"
      ],
      "metadata": {
        "id": "qDpvnKVp_-AL"
      }
    },
    {
      "cell_type": "code",
      "source": [
        "# Make 1d array with random value\n",
        "arr = np.empty(3)\n",
        "print(arr)\n",
        "print(arr.dtype) # by default it will be float\n"
      ],
      "metadata": {
        "colab": {
          "base_uri": "https://localhost:8080/"
        },
        "id": "9ejyUXBB_9Ht",
        "outputId": "a9b9360c-9dda-44e8-db42-299faa12cd1f"
      },
      "execution_count": 81,
      "outputs": [
        {
          "output_type": "stream",
          "name": "stdout",
          "text": [
            "[7.74860419e-304 7.74860419e-304 7.74860419e-304]\n",
            "float64\n"
          ]
        }
      ]
    },
    {
      "cell_type": "code",
      "source": [
        "\n",
        "# Make 2d arrays with random value\n",
        "arr = np.empty((2,3))\n",
        "print(arr)\n",
        "print(arr.dtype)"
      ],
      "metadata": {
        "colab": {
          "base_uri": "https://localhost:8080/"
        },
        "id": "2_GcfQzaCd1K",
        "outputId": "8af4e13d-b282-4c2c-c22e-73db3dd99887"
      },
      "execution_count": 84,
      "outputs": [
        {
          "output_type": "stream",
          "name": "stdout",
          "text": [
            "[[1. 1. 1.]\n",
            " [1. 1. 1.]]\n",
            "float64\n"
          ]
        }
      ]
    },
    {
      "cell_type": "code",
      "source": [
        "\n",
        "# make 3d array with random value\n",
        "arr = np.empty((2,3,4))\n",
        "print(arr)\n",
        "print(arr.dtype)"
      ],
      "metadata": {
        "colab": {
          "base_uri": "https://localhost:8080/"
        },
        "id": "U53fg8K4Cf3W",
        "outputId": "cd38d90e-fef0-43e7-ddb2-f934e07e0894"
      },
      "execution_count": 83,
      "outputs": [
        {
          "output_type": "stream",
          "name": "stdout",
          "text": [
            "[[[1. 1. 1. 1.]\n",
            "  [1. 1. 1. 1.]\n",
            "  [1. 1. 1. 1.]]\n",
            "\n",
            " [[1. 1. 1. 1.]\n",
            "  [1. 1. 1. 1.]\n",
            "  [1. 1. 1. 1.]]]\n",
            "float64\n"
          ]
        }
      ]
    },
    {
      "cell_type": "code",
      "source": [
        "#we can determine datatype when creaing or after creating to int\n",
        "arr = np.empty((3,3), dtype=np.int32)\n",
        "print(arr)\n",
        "print(arr.dtype)"
      ],
      "metadata": {
        "colab": {
          "base_uri": "https://localhost:8080/"
        },
        "id": "bx4EuW2qCi8H",
        "outputId": "4597e061-4fd2-4526-9241-4186beea705d"
      },
      "execution_count": 86,
      "outputs": [
        {
          "output_type": "stream",
          "name": "stdout",
          "text": [
            "[[453752996         0         0]\n",
            " [        0        99       116]\n",
            " [      108       121  11665408]]\n",
            "int32\n"
          ]
        }
      ]
    },
    {
      "cell_type": "code",
      "source": [
        "# We can make nd array as like previous array with random value\n",
        "arr3 = np.array([\n",
        "    [\n",
        "      [1, 2, 3],\n",
        "      [4, 5, 6]\n",
        "    ],\n",
        "    [\n",
        "      [7, 8, 9],\n",
        "      [10, 11, 12]\n",
        "    ],\n",
        "])\n",
        "\n",
        "print(arr3)\n",
        "print(arr3.dtype)\n",
        "print(arr3.ndim)\n",
        "\n",
        "print()\n",
        "\n",
        "arr3_random = np.empty_like(arr3)\n",
        "print(arr3_random)\n",
        "print(arr3_random.dtype)\n",
        "print(arr3_random.ndim)"
      ],
      "metadata": {
        "colab": {
          "base_uri": "https://localhost:8080/"
        },
        "id": "V6SozqSpCl-h",
        "outputId": "6126f7ad-827c-4dbb-e455-95d078768012"
      },
      "execution_count": 88,
      "outputs": [
        {
          "output_type": "stream",
          "name": "stdout",
          "text": [
            "[[[ 1  2  3]\n",
            "  [ 4  5  6]]\n",
            "\n",
            " [[ 7  8  9]\n",
            "  [10 11 12]]]\n",
            "int64\n",
            "3\n",
            "\n",
            "[[[ 1  2  3]\n",
            "  [ 4  5  6]]\n",
            "\n",
            " [[ 7  8  9]\n",
            "  [10 11 12]]]\n",
            "int64\n",
            "3\n"
          ]
        }
      ]
    },
    {
      "cell_type": "markdown",
      "source": [
        "### **np.full**"
      ],
      "metadata": {
        "id": "Flra8ERMDOGx"
      }
    },
    {
      "cell_type": "code",
      "source": [
        "arr = np.full((2,3), 5)\n",
        "print(arr)\n",
        "print(arr.dtype)"
      ],
      "metadata": {
        "colab": {
          "base_uri": "https://localhost:8080/"
        },
        "id": "Z8jjqiMuDm-l",
        "outputId": "36118007-8100-4489-f5ed-43e764cd1dfe"
      },
      "execution_count": 89,
      "outputs": [
        {
          "output_type": "stream",
          "name": "stdout",
          "text": [
            "[[5 5 5]\n",
            " [5 5 5]]\n",
            "int64\n"
          ]
        }
      ]
    },
    {
      "cell_type": "code",
      "source": [
        "arr = np.full((2,3), True)\n",
        "print(arr)\n",
        "print(arr.dtype)"
      ],
      "metadata": {
        "colab": {
          "base_uri": "https://localhost:8080/"
        },
        "id": "3a6tXOyNDsqU",
        "outputId": "a795dc98-2f9f-467e-ae5f-2930a878101b"
      },
      "execution_count": 90,
      "outputs": [
        {
          "output_type": "stream",
          "name": "stdout",
          "text": [
            "[[ True  True  True]\n",
            " [ True  True  True]]\n",
            "bool\n"
          ]
        }
      ]
    },
    {
      "cell_type": "code",
      "source": [
        "arr = np.full((2,3), np.inf)\n",
        "print(arr)\n",
        "print(arr.dtype)"
      ],
      "metadata": {
        "colab": {
          "base_uri": "https://localhost:8080/"
        },
        "id": "QmwnqjUQDyDJ",
        "outputId": "6e2cbd53-d914-4a98-825a-8c586944da20"
      },
      "execution_count": 92,
      "outputs": [
        {
          "output_type": "stream",
          "name": "stdout",
          "text": [
            "[[inf inf inf]\n",
            " [inf inf inf]]\n",
            "float64\n"
          ]
        }
      ]
    },
    {
      "cell_type": "code",
      "source": [
        "arr3 = np.array([\n",
        "    [\n",
        "      [1, 2, 3],\n",
        "      [4, 5, 6]\n",
        "    ],\n",
        "    [\n",
        "      [7, 8, 9],\n",
        "      [10, 11, 12]\n",
        "    ],\n",
        "], dtype=np.float64)\n",
        "\n",
        "arr3_full = np.full_like(arr3, np.inf)\n",
        "print(arr3_full)\n",
        "print(arr3_full.dtype)\n",
        "print(arr3_full.ndim)\n",
        "#"
      ],
      "metadata": {
        "colab": {
          "base_uri": "https://localhost:8080/"
        },
        "id": "PYMsU-UhD6aj",
        "outputId": "383bb3f1-d019-448e-fd48-00539e93d717"
      },
      "execution_count": 94,
      "outputs": [
        {
          "output_type": "stream",
          "name": "stdout",
          "text": [
            "[[[inf inf inf]\n",
            "  [inf inf inf]]\n",
            "\n",
            " [[inf inf inf]\n",
            "  [inf inf inf]]]\n",
            "float64\n",
            "3\n"
          ]
        }
      ]
    },
    {
      "cell_type": "markdown",
      "source": [
        "# **`ndarray` Generation with Random Values 🎲**"
      ],
      "metadata": {
        "id": "RDx_ZXq1NGZT"
      }
    },
    {
      "cell_type": "markdown",
      "source": [
        "Generating random data is a fundamental task in Machine Learning and Data Science. It's used for creating synthetic datasets, initializing model parameters (like the weights in a neural network), and evaluating model performance through random sampling. NumPy's `random` module provides a powerful suite of tools for this.\n",
        "\n",
        "-----\n",
        "\n",
        "## **1. `np.random.rand()`**\n",
        "\n",
        "This function creates an array of a given shape and populates it with random samples from a **uniform distribution** over the interval **[0, 1)**. This means every number between 0 (inclusive) and 1 (exclusive) has an equal chance of being generated.\n",
        "\n",
        "**Syntax Note:** Unlike other functions, you pass the dimensions as separate arguments, not as a tuple. `np.random.rand(d0, d1, ...)`\n",
        "\n",
        "```python\n",
        "import numpy as np\n",
        "\n",
        "# Create a 1D array of 4 random floats\n",
        "arr_1d = np.random.rand(4)\n",
        "print(f\"1D Random Array:\\n{arr_1d}\\n\")\n",
        "\n",
        "# Create a 2D array (4 rows, 3 columns)\n",
        "arr_2d = np.random.rand(4, 3)\n",
        "print(f\"2D Random Array:\\n{arr_2d}\\n\")\n",
        "\n",
        "# Create a 3D array\n",
        "arr_3d = np.random.rand(2, 4, 3)\n",
        "print(f\"3D Random Array:\\n{arr_3d}\")\n",
        "```\n",
        "\n",
        "The `dtype` of arrays created with `rand()` is always `float64`.\n",
        "\n",
        "-----\n",
        "\n",
        "## **2. `np.random.randint()`**\n",
        "\n",
        "This function generates an array of a given shape filled with random **integers** from a specified range.\n",
        "\n",
        "**Syntax:** `np.random.randint(low, high=None, size=None)`\n",
        "\n",
        "  * If only `low` is provided, the range is `[0, low)`.\n",
        "  * If `low` and `high` are provided, the range is `[low, high)`.\n",
        "  * `size` is a tuple that defines the shape of the array.\n",
        "\n",
        "<!-- end list -->\n",
        "\n",
        "```python\n",
        "# Generate a 2x3 array with random integers from 0 up to (but not including) 10\n",
        "arr_int1 = np.random.randint(10, size=(2, 3))\n",
        "print(f\"Random integers in [0, 10):\\n{arr_int1}\\n\")\n",
        "\n",
        "# Generate a 2x3 array with random integers from 8 up to (but not including) 10\n",
        "# The only possible values are 8 and 9\n",
        "arr_int2 = np.random.randint(8, 10, size=(2, 3))\n",
        "print(f\"Random integers in [8, 10):\\n{arr_int2}\")\n",
        "```\n",
        "\n",
        "-----\n",
        "\n",
        "## **3. `np.random.uniform()`**\n",
        "\n",
        "This function is similar to `np.random.rand()`, but it allows you to specify a custom range `[low, high)` for your uniformly distributed random **floating-point numbers**.\n",
        "\n",
        "**Syntax:** `np.random.uniform(low=0.0, high=1.0, size=None)`\n",
        "\n",
        "```python\n",
        "# Generate a 2x3 array with random floats from 0.0 up to (but not including) 10.0\n",
        "arr_uni1 = np.random.uniform(10, size=(2, 3))\n",
        "print(f\"Random floats in [0, 10):\\n{arr_uni1}\\n\")\n",
        "\n",
        "# Generate a 2x3 array with random floats from 5.0 up to (but not including) 10.0\n",
        "arr_uni2 = np.random.uniform(5, 10, size=(2, 3))\n",
        "print(f\"Random floats in [5, 10):\\n{arr_uni2}\")\n",
        "```\n",
        "___\n",
        "# **`ndarray` Generation with Random Values 🎲**\n",
        "\n",
        "মেশিন লার্নিং এবং ডেটা সায়েন্সে র‍্যান্ডম ডেটা তৈরি করা একটি মৌলিক কাজ। এটি সিন্থেটিক ডেটাসেট তৈরি করতে, মডেলের প্যারামিটার (যেমন একটি নিউরাল নেটওয়ার্কের ওয়েটস) ইনিশিয়ালাইজ করতে এবং র‍্যান্ডম স্যাম্পলিং-এর মাধ্যমে মডেলের পারফরম্যান্স মূল্যায়ন করতে ব্যবহৃত হয়। NumPy-এর `random` মডিউল এর জন্য একটি শক্তিশালী টুলকিট সরবরাহ করে।\n",
        "\n",
        "-----\n",
        "\n",
        "## **1. `np.random.rand()`**\n",
        "\n",
        "এই ফাংশনটি একটি নির্দিষ্ট আকারের অ্যারে তৈরি করে এবং এটিকে **[0, 1)** ব্যবধানের মধ্যে একটি **ইউনিফর্ম ডিস্ট্রিবিউশন** থেকে র‍্যান্ডম স্যাম্পল দিয়ে পূর্ণ করে। এর মানে হলো ০ (অন্তর্ভুক্ত) এবং ১ (ব্যতীত) এর মধ্যে প্রতিটি সংখ্যা তৈরি হওয়ার সমান সম্ভাবনা থাকে।\n",
        "\n",
        "**সিনট্যাক্স নোট:** অন্যান্য ফাংশনের মতো এখানে শেপ টুপল হিসেবে না দিয়ে, ডাইমেনশনগুলো আলাদা আর্গুমেন্ট হিসেবে পাস করতে হয়। যেমন: `np.random.rand(d0, d1, ...)`\n",
        "\n",
        "```python\n",
        "import numpy as np\n",
        "\n",
        "# ৪টি র‍্যান্ডম ফ্লোট মানের একটি 1D অ্যারে তৈরি\n",
        "arr_1d = np.random.rand(4)\n",
        "print(f\"1D Random Array:\\n{arr_1d}\\n\")\n",
        "\n",
        "# একটি 2D অ্যারে তৈরি (৪টি সারি, ৩টি কলাম)\n",
        "arr_2d = np.random.rand(4, 3)\n",
        "print(f\"2D Random Array:\\n{arr_2d}\\n\")\n",
        "\n",
        "# একটি 3D অ্যারে তৈরি\n",
        "arr_3d = np.random.rand(2, 4, 3)\n",
        "print(f\"3D Random Array:\\n{arr_3d}\")\n",
        "```\n",
        "\n",
        "`rand()` দিয়ে তৈরি অ্যারের `dtype` সবসময় `float64` হয়।\n",
        "\n",
        "-----\n",
        "\n",
        "## **2. `np.random.randint()`**\n",
        "\n",
        "এই ফাংশনটি একটি নির্দিষ্ট আকারের অ্যারে তৈরি করে যা একটি নির্দিষ্ট পরিসরের র‍্যান্ডম **পূর্ণসংখ্যা (integers)** দিয়ে পূর্ণ থাকে।\n",
        "\n",
        "**সিনট্যাক্স:** `np.random.randint(low, high=None, size=None)`\n",
        "\n",
        "  * যদি শুধু `low` দেওয়া হয়, পরিসর হবে `[0, low)`।\n",
        "  * যদি `low` এবং `high` উভয়ই দেওয়া হয়, পরিসর হবে `[low, high)`।\n",
        "  * `size` একটি টুপল যা অ্যারের শেপ নির্ধারণ করে।\n",
        "\n",
        "<!-- end list -->\n",
        "\n",
        "```python\n",
        "# ০ থেকে ১০-এর আগ পর্যন্ত (exclusive) র‍্যান্ডম ইন্টিজার দিয়ে একটি 2x3 অ্যারে তৈরি\n",
        "arr_int1 = np.random.randint(10, size=(2, 3))\n",
        "print(f\"Random integers in [0, 10):\\n{arr_int1}\\n\")\n",
        "\n",
        "# ৮ থেকে ১০-এর আগ পর্যন্ত র‍্যান্ডম ইন্টিজার দিয়ে একটি 2x3 অ্যারে তৈরি\n",
        "# এখানে শুধুমাত্র ৮ এবং ৯ মানগুলোই সম্ভব\n",
        "arr_int2 = np.random.randint(8, 10, size=(2, 3))\n",
        "print(f\"Random integers in [8, 10):\\n{arr_int2}\")\n",
        "```\n",
        "\n",
        "-----\n",
        "\n",
        "## **3. `np.random.uniform()`**\n",
        "\n",
        "এই ফাংশনটি `np.random.rand()`-এর মতোই, কিন্তু এটি আপনাকে ইউনিফর্মলি ডিস্ট্রিবিউটেড র‍্যান্ডম **ফ্লোটিং-পয়েন্ট নম্বরগুলোর** জন্য একটি কাস্টম পরিসর `[low, high)` নির্দিষ্ট করতে দেয়।\n",
        "\n",
        "**সিনট্যাক্স:** `np.random.uniform(low=0.0, high=1.0, size=None)`\n",
        "\n",
        "```python\n",
        "# ০.০ থেকে ১০.০-এর আগ পর্যন্ত র‍্যান্ডম ফ্লোট দিয়ে একটি 2x3 অ্যারে তৈরি\n",
        "arr_uni1 = np.random.uniform(10, size=(2, 3))\n",
        "print(f\"Random floats in [0, 10):\\n{arr_uni1}\\n\")\n",
        "\n",
        "# ৫.০ থেকে ১০.০-এর আগ পর্যন্ত র‍্যান্ডম ফ্লোট দিয়ে একটি 2x3 অ্যারে তৈরি\n",
        "arr_uni2 = np.random.uniform(5, 10, size=(2, 3))\n",
        "print(f\"Random floats in [5, 10):\\n{arr_uni2}\")\n",
        "```"
      ],
      "metadata": {
        "id": "uMyalSucHFbO"
      }
    },
    {
      "cell_type": "code",
      "source": [
        "# np.random.rand()\n",
        "# Create 1d array with random value\n",
        "arr = np.random.rand(4)\n",
        "print(arr)\n",
        "print(arr.dtype)\n",
        "print(arr.ndim)\n",
        "print(arr.shape)\n",
        "print(arr.dtype)\n",
        "\n",
        "print()\n",
        "# Create 2d array with random value\n",
        "arr = np.random.rand(4,3)\n",
        "print(arr)\n",
        "print(arr.dtype)\n",
        "print(arr.ndim)\n",
        "print(arr.shape)\n",
        "print(arr.dtype)\n",
        "print()\n",
        "\n",
        "# Create 3d array with random value\n",
        "arr = np.random.rand(2,4,3)\n",
        "print(arr)\n",
        "print(arr.dtype)\n",
        "print(arr.ndim)\n",
        "print(arr.shape)\n",
        "print(arr.dtype)\n",
        "\n",
        "#this value withing 0 to one range all are like equally distributed"
      ],
      "metadata": {
        "colab": {
          "base_uri": "https://localhost:8080/"
        },
        "id": "PMNLLwBsIidn",
        "outputId": "95bf34e4-5309-49da-f58f-a72c211a7f58"
      },
      "execution_count": 116,
      "outputs": [
        {
          "output_type": "stream",
          "name": "stdout",
          "text": [
            "[0.47145217 0.77241083 0.32241774 0.59199957]\n",
            "float64\n",
            "1\n",
            "(4,)\n",
            "float64\n",
            "\n",
            "[[0.00329412 0.77721725 0.32284827]\n",
            " [0.60425329 0.58096305 0.03019702]\n",
            " [0.58732095 0.7322091  0.22667302]\n",
            " [0.43496581 0.05705622 0.79401279]]\n",
            "float64\n",
            "2\n",
            "(4, 3)\n",
            "float64\n",
            "\n",
            "[[[0.27697981 0.84868112 0.99422411]\n",
            "  [0.65170631 0.68871249 0.86337053]\n",
            "  [0.29273968 0.29746853 0.47385468]\n",
            "  [0.20260456 0.357075   0.17417866]]\n",
            "\n",
            " [[0.70980134 0.72491354 0.4653913 ]\n",
            "  [0.5834332  0.64951802 0.42078038]\n",
            "  [0.6456875  0.00371873 0.51257865]\n",
            "  [0.36861186 0.91544508 0.53681805]]]\n",
            "float64\n",
            "3\n",
            "(2, 4, 3)\n",
            "float64\n"
          ]
        }
      ]
    },
    {
      "cell_type": "code",
      "source": [
        "# Make int random array\n",
        "# np.random.randint(range_with_comma, shape)\n",
        "arr = np.random.randint(10, size=(2,3)) # Generate a 2x3 array with random integers from 0 up to (but not including) 10\n",
        "print(arr)\n",
        "print(arr.dtype)\n",
        "print(arr.ndim)\n",
        "print(arr.shape)\n",
        "print(arr.dtype)\n",
        "\n",
        "print()\n",
        "\n",
        "# ro we can hardcode the start to end range\n",
        "arr = np.random.randint(8,10, size=(2,3)) # Generate a 2x3 array with random integers from 8 up to (but not including) 10\n",
        "# The only possible values are 8 and 9\n",
        "print(arr)\n",
        "print(arr.dtype)\n",
        "print(arr.ndim)\n",
        "print(arr.shape)\n",
        "print(arr.dtype)"
      ],
      "metadata": {
        "colab": {
          "base_uri": "https://localhost:8080/"
        },
        "id": "jLUoDAeJJyqv",
        "outputId": "b62e1ac7-7a58-4ac5-9ef5-8b9e5516b76d"
      },
      "execution_count": 115,
      "outputs": [
        {
          "output_type": "stream",
          "name": "stdout",
          "text": [
            "[[7 5 4]\n",
            " [9 8 9]]\n",
            "int64\n",
            "2\n",
            "(2, 3)\n",
            "int64\n",
            "\n",
            "[[9 8 9]\n",
            " [8 8 8]]\n",
            "int64\n",
            "2\n",
            "(2, 3)\n",
            "int64\n"
          ]
        }
      ]
    },
    {
      "cell_type": "code",
      "source": [
        "# np.random.uniform(range, shape): we can generate random floating value with in range\n",
        "\n",
        "arr = np.random.uniform(10, size=(2,3)) # Generate a 2x3 array with random floats from 0.0 up to (but not including) 10.0\n",
        "print(arr)\n",
        "print(arr.dtype)\n",
        "print(arr.ndim)\n",
        "print(arr.shape)\n",
        "print(arr.dtype)\n",
        "\n",
        "\n",
        "print()\n",
        "\n",
        "arr = np.random.uniform(5,10, size=(2,3)) # Generate a 2x3 array with random floats from 5.0 up to (but not including) 10.0\n",
        "print(arr)\n",
        "print(arr.dtype)\n",
        "print(arr.ndim)\n",
        "print(arr.shape)\n",
        "print(arr.dtype)\n"
      ],
      "metadata": {
        "colab": {
          "base_uri": "https://localhost:8080/"
        },
        "id": "XqfG1ribLJLc",
        "outputId": "c869be8e-feeb-4976-8381-643a78aa3314"
      },
      "execution_count": 119,
      "outputs": [
        {
          "output_type": "stream",
          "name": "stdout",
          "text": [
            "[[5.01441972 9.60172903 7.8263776 ]\n",
            " [3.09363797 7.77904901 3.1625865 ]]\n",
            "float64\n",
            "2\n",
            "(2, 3)\n",
            "float64\n",
            "\n",
            "[[6.09132681 7.56337183 8.31283609]\n",
            " [8.79001311 9.15119675 7.47461772]]\n",
            "float64\n",
            "2\n",
            "(2, 3)\n",
            "float64\n"
          ]
        }
      ]
    },
    {
      "cell_type": "markdown",
      "source": [
        "# **`ndarray` Creation from a Range**"
      ],
      "metadata": {
        "id": "1RLTzhiBYwC1"
      }
    },
    {
      "cell_type": "markdown",
      "source": [
        "Instead of filling an array with a single value or random numbers, you can generate an array with a **sequence of numbers**. These functions are perfect for creating arrays with predictable, ordered data.\n",
        "\n",
        "-----\n",
        "\n",
        "## **1. `np.arange()`**\n",
        "\n",
        "The `np.arange()` function is very similar to Python's built-in `range()` function but returns a NumPy array instead of a list iterator. It generates values within a half-open interval `[start, stop)`.\n",
        "\n",
        "**Syntax:** `np.arange(start, stop, step)`\n",
        "\n",
        "  * **`start`**: The starting value of the sequence (inclusive).\n",
        "  * **`stop`**: The end value of the sequence (**exclusive**).\n",
        "  * **`step`**: The difference between consecutive values.\n",
        "\n",
        "<!-- end list -->\n",
        "\n",
        "```python\n",
        "import numpy as np\n",
        "\n",
        "# Create a sequence of numbers from 1 to 10\n",
        "arr = np.arange(1, 11, 1)\n",
        "print(f\"Array from arange: {arr}\\n\")\n",
        "\n",
        "# We can easily reshape the output into a matrix\n",
        "# Create a sequence from 1 to 9 and reshape it into a 3x3 matrix\n",
        "matrix = np.arange(1, 10, 1).reshape(3, 3)\n",
        "print(f\"Reshaped matrix:\\n{matrix}\")\n",
        "```\n",
        "\n",
        "-----\n",
        "\n",
        "## **2. `np.linspace()`**\n",
        "\n",
        "The `np.linspace()` function (short for **lin**ear **space**) is incredibly useful. It creates an array with a specified number of evenly spaced points over a given interval.\n",
        "\n",
        "**Key Difference:** Unlike `arange()`, `linspace()` **includes the `stop` value** in the array. You don't specify the step size; you specify how many total points you want, and NumPy calculates the step size for you.\n",
        "\n",
        "**Syntax:** `np.linspace(start, stop, num)`\n",
        "\n",
        "  * **`start`**: The starting value (inclusive).\n",
        "  * **`stop`**: The ending value (**inclusive**).\n",
        "  * **`num`**: The total number of points to generate.\n",
        "\n",
        "<!-- end list -->\n",
        "\n",
        "```python\n",
        "# Generate 10 evenly spaced points from 1 to 10. The step is 1.0.\n",
        "arr_10 = np.linspace(1, 10, 10)\n",
        "print(f\"10 points from 1 to 10:\\n{arr_10}\\n\")\n",
        "\n",
        "# Generate 19 evenly spaced points from 1 to 10. The step is calculated as 0.5.\n",
        "arr_19 = np.linspace(1, 10, 19)\n",
        "print(f\"19 points from 1 to 10:\\n{arr_19}\")\n",
        "```\n",
        "\n",
        "-----\n",
        "\n",
        "## **3. `np.logspace()`**\n",
        "\n",
        "The `np.logspace()` function is the logarithmic equivalent of `linspace()`. It generates numbers that are evenly spaced on a **logarithmic scale**. This is very useful for plotting data that spans several orders of magnitude.\n",
        "\n",
        "**How it works:** It creates a linear sequence of exponents (using `linspace`) and then raises a `base` to the power of those exponents.\n",
        "\n",
        "  * **Default Base**: The default base is `10`.\n",
        "\n",
        "**Syntax:** `np.logspace(start, stop, num, base=10.0)`\n",
        "\n",
        "```python\n",
        "# Generate 6 points from 10^0 to 10^5\n",
        "# The exponents will be [0, 1, 2, 3, 4, 5]\n",
        "arr_log = np.logspace(0, 5, 6)\n",
        "print(f\"Logspace with base 10:\\n{arr_log}\\n\")\n",
        "\n",
        "# You can also change the base\n",
        "# Generate 6 points from 2^0 to 2^5\n",
        "arr_log_base2 = np.logspace(0, 5, 6, base=2)\n",
        "print(f\"Logspace with base 2:\\n{arr_log_base2}\")\n",
        "```\n",
        "\n",
        "-----\n",
        "\n",
        "\n",
        "## **`ndarray` Creation from a Range**\n",
        "\n",
        "একটি অ্যারে শুধুমাত্র একটি নির্দিষ্ট মান বা র‍্যান্ডম সংখ্যা দিয়ে পূর্ণ না করে, আপনি **সংখ্যার ক্রম (sequence)** দিয়েও একটি অ্যারে তৈরি করতে পারেন। এই ফাংশনগুলো পূর্বাভাসযোগ্য, সাজানো ডেটা সহ অ্যারে তৈরির জন্য উপযুক্ত।\n",
        "\n",
        "-----\n",
        "\n",
        "## **১. `np.arange()`**\n",
        "\n",
        "`np.arange()` ফাংশনটি পাইথনের বিল্ট-ইন `range()` ফাংশনের মতোই, কিন্তু এটি একটি লিস্ট ইটারেটরের পরিবর্তে একটি NumPy অ্যারে রিটার্ন করে। এটি একটি অর্ধ-খোলা ব্যবধান `[start, stop)`-এর মধ্যে মান তৈরি করে।\n",
        "\n",
        "**সিনট্যাক্স:** `np.arange(start, stop, step)`\n",
        "\n",
        "  * **`start`**: ক্রমের শুরুর মান (অন্তর্ভুক্ত)।\n",
        "  * **`stop`**: ক্রমের শেষ মান (**ব্যতীত**)।\n",
        "  * **`step`**: পরপর দুটি মানের মধ্যে পার্থক্য।\n",
        "\n",
        "<!-- end list -->\n",
        "\n",
        "```python\n",
        "import numpy as np\n",
        "\n",
        "# ১ থেকে ১০ পর্যন্ত সংখ্যার একটি ক্রম তৈরি\n",
        "arr = np.arange(1, 11, 1)\n",
        "print(f\"arange থেকে তৈরি অ্যারে: {arr}\\n\")\n",
        "\n",
        "# আমরা সহজেই আউটপুটটিকে একটি ম্যাট্রিক্সে রিশেপ করতে পারি\n",
        "# ১ থেকে ৯ পর্যন্ত একটি ক্রম তৈরি করে সেটিকে 3x3 ম্যাট্রিক্সে রিশেপ করা হলো\n",
        "matrix = np.arange(1, 10, 1).reshape(3, 3)\n",
        "print(f\"রিশেপ করা ম্যাট্রিক্স:\\n{matrix}\")\n",
        "```\n",
        "\n",
        "-----\n",
        "\n",
        "## **২. `np.linspace()`**\n",
        "\n",
        "`np.linspace()` ফাংশনটি (**lin**ear **space**-এর সংক্ষিপ্ত রূপ) অত্যন্ত দরকারী। এটি একটি নির্দিষ্ট ব্যবধানে, নির্দিষ্ট সংখ্যক সমদূরবর্তী পয়েন্টসহ একটি অ্যারে তৈরি করে।\n",
        "\n",
        "**মূল পার্থক্য:** `arange()`-এর বিপরীতে, `linspace()` তার অ্যারেতে **`stop` মানটিকে অন্তর্ভুক্ত করে**। এখানে আপনি ধাপের আকার (step size) নির্দিষ্ট করেন না; বরং আপনি মোট কতগুলো পয়েন্ট চান তা নির্দিষ্ট করেন এবং NumPy আপনার জন্য ধাপের আকার গণনা করে নেয়।\n",
        "\n",
        "**সিনট্যাক্স:** `np.linspace(start, stop, num)`\n",
        "\n",
        "  * **`start`**: শুরুর মান (অন্তর্ভুক্ত)।\n",
        "  * **`stop`**: শেষ মান (**অন্তর্ভুক্ত**)।\n",
        "  * **`num`**: মোট কতগুলো পয়েন্ট তৈরি করতে হবে।\n",
        "\n",
        "<!-- end list -->\n",
        "\n",
        "```python\n",
        "# ১ থেকে ১০ পর্যন্ত ১০টি সমদূরবর্তী পয়েন্ট তৈরি। এখানে ধাপ হলো ১.০।\n",
        "arr_10 = np.linspace(1, 10, 10)\n",
        "print(f\"১ থেকে ১০ পর্যন্ত ১০টি পয়েন্ট:\\n{arr_10}\\n\")\n",
        "\n",
        "# ১ থেকে ১০ পর্যন্ত ১৯টি সমদূরবর্তী পয়েন্ট তৈরি। এখানে ধাপ গণনা করে ০.৫ পাওয়া গেছে।\n",
        "arr_19 = np.linspace(1, 10, 19)\n",
        "print(f\"১ থেকে ১০ পর্যন্ত ১৯টি পয়েন্ট:\\n{arr_19}\")\n",
        "```\n",
        "\n",
        "-----\n",
        "\n",
        "## **৩. `np.logspace()`**\n",
        "\n",
        "`np.logspace()` ফাংশনটি `linspace()`-এর লগারিদমিক সমতুল্য। এটি এমন সংখ্যা তৈরি করে যা একটি **লগারিদমিক স্কেলে** সমদূরবর্তী। যে ডেটা কয়েক অর্ডারের ম্যাগনিচিউড জুড়ে বিস্তৃত থাকে, তা প্লট করার জন্য এটি খুব দরকারী।\n",
        "\n",
        "**এটি কীভাবে কাজ করে:** এটি প্রথমে এক্সপোনেন্টগুলোর একটি রৈখিক ক্রম (`linspace` ব্যবহার করে) তৈরি করে এবং তারপরে একটি `base`-কে সেই এক্সপোনেন্টগুলোর ঘাতে (power) উন্নীত করে।\n",
        "\n",
        "  * **ডিফল্ট বেস**: ডিফল্ট বেস হলো `10`।\n",
        "\n",
        "**সিনট্যাক্স:** `np.logspace(start, stop, num, base=10.0)`\n",
        "\n",
        "```python\n",
        "# 10^0 থেকে 10^5 পর্যন্ত ৬টি পয়েন্ট তৈরি\n",
        "# এক্সপোনেন্টগুলো হবে [0, 1, 2, 3, 4, 5]\n",
        "arr_log = np.logspace(0, 5, 6)\n",
        "print(f\"বেস ১০ সহ Logspace:\\n{arr_log}\\n\")\n",
        "\n",
        "# আপনি বেস পরিবর্তনও করতে পারেন\n",
        "# 2^0 থেকে 2^5 পর্যন্ত ৬টি পয়েন্ট তৈরি\n",
        "arr_log_base2 = np.logspace(0, 5, 6, base=2)\n",
        "print(f\"বেস ২ সহ Logspace:\\n{arr_log_base2}\")\n",
        "```"
      ],
      "metadata": {
        "id": "fxHDefnhOJjU"
      }
    },
    {
      "cell_type": "markdown",
      "source": [
        "### **arange**"
      ],
      "metadata": {
        "id": "0NZyddQ0R2Hq"
      }
    },
    {
      "cell_type": "code",
      "source": [
        "arr = np.arange(1,11,1)\n",
        "print(arr)\n",
        "print(arr.dtype)\n",
        "print(arr.ndim)\n",
        "print(arr.shape)\n",
        "print(arr.dtype)"
      ],
      "metadata": {
        "colab": {
          "base_uri": "https://localhost:8080/"
        },
        "id": "zeNWdVTROI79",
        "outputId": "0381df06-c17c-40cc-bfdc-787f641b548e"
      },
      "execution_count": 122,
      "outputs": [
        {
          "output_type": "stream",
          "name": "stdout",
          "text": [
            "[ 1  2  3  4  5  6  7  8  9 10]\n",
            "int64\n",
            "1\n",
            "(10,)\n",
            "int64\n"
          ]
        }
      ]
    },
    {
      "cell_type": "markdown",
      "source": [
        "### **reshape**"
      ],
      "metadata": {
        "id": "ItsUXVfqR5QS"
      }
    },
    {
      "cell_type": "code",
      "source": [
        "#Also we can make it 2d array matrix reshape function\n",
        "arr = np.arange(1,10,1)\n",
        "matrix = arr.reshape(3,3)\n",
        "print(matrix)\n",
        "print(matrix.dtype)\n",
        "print(matrix.ndim)\n",
        "print(matrix.shape)\n",
        "print(matrix.dtype)"
      ],
      "metadata": {
        "colab": {
          "base_uri": "https://localhost:8080/"
        },
        "id": "wDEOWFacPugd",
        "outputId": "e015e65a-3944-40c0-e03b-dda1df0b8d08"
      },
      "execution_count": 124,
      "outputs": [
        {
          "output_type": "stream",
          "name": "stdout",
          "text": [
            "[[1 2 3]\n",
            " [4 5 6]\n",
            " [7 8 9]]\n",
            "int64\n",
            "2\n",
            "(3, 3)\n",
            "int64\n"
          ]
        }
      ]
    },
    {
      "cell_type": "markdown",
      "source": [
        "### **linspace**"
      ],
      "metadata": {
        "id": "s4HR-gMER8rh"
      }
    },
    {
      "cell_type": "code",
      "source": [
        "arr = np.linspace(1,10,10)\n",
        "print(arr)\n",
        "print(arr.dtype)\n",
        "print(arr.ndim)\n",
        "print(arr.shape)\n",
        "print(arr.dtype)\n"
      ],
      "metadata": {
        "colab": {
          "base_uri": "https://localhost:8080/"
        },
        "id": "8mzZnn9TSCDC",
        "outputId": "3888105a-9630-437e-8a97-ca6b682e216e"
      },
      "execution_count": 126,
      "outputs": [
        {
          "output_type": "stream",
          "name": "stdout",
          "text": [
            "[ 1.  2.  3.  4.  5.  6.  7.  8.  9. 10.]\n",
            "float64\n",
            "1\n",
            "(10,)\n",
            "float64\n"
          ]
        }
      ]
    },
    {
      "cell_type": "code",
      "source": [
        "arr = np.linspace(1,10,11)\n",
        "print(arr)\n",
        "print(arr.dtype)\n",
        "print(arr.ndim)\n",
        "print(arr.shape)\n",
        "print(arr.dtype)"
      ],
      "metadata": {
        "colab": {
          "base_uri": "https://localhost:8080/"
        },
        "id": "tD8AY5vvSXSY",
        "outputId": "c19d2e4b-0ddc-424d-d53c-7b37b80a7780"
      },
      "execution_count": 127,
      "outputs": [
        {
          "output_type": "stream",
          "name": "stdout",
          "text": [
            "[ 1.   1.9  2.8  3.7  4.6  5.5  6.4  7.3  8.2  9.1 10. ]\n",
            "float64\n",
            "1\n",
            "(11,)\n",
            "float64\n"
          ]
        }
      ]
    },
    {
      "cell_type": "code",
      "source": [
        "arr = np.linspace(1,10,19)\n",
        "print(arr)\n",
        "print(arr.dtype)\n",
        "print(arr.ndim)\n",
        "print(arr.shape)\n",
        "print(arr.dtype)"
      ],
      "metadata": {
        "colab": {
          "base_uri": "https://localhost:8080/"
        },
        "id": "ipIFxZt2SZ-a",
        "outputId": "cf87f8be-5d4f-46ec-ad5d-98ee80aeeee4"
      },
      "execution_count": 129,
      "outputs": [
        {
          "output_type": "stream",
          "name": "stdout",
          "text": [
            "[ 1.   1.5  2.   2.5  3.   3.5  4.   4.5  5.   5.5  6.   6.5  7.   7.5\n",
            "  8.   8.5  9.   9.5 10. ]\n",
            "float64\n",
            "1\n",
            "(19,)\n",
            "float64\n"
          ]
        }
      ]
    },
    {
      "cell_type": "markdown",
      "source": [
        "### **logspace**\n"
      ],
      "metadata": {
        "id": "LkppMCqVVyWx"
      }
    },
    {
      "cell_type": "code",
      "source": [
        "arr = np.logspace(0,5,6)\n",
        "print(arr)"
      ],
      "metadata": {
        "colab": {
          "base_uri": "https://localhost:8080/"
        },
        "id": "S0O3ftSJWTdQ",
        "outputId": "11d6f37a-2d6b-4518-eb5e-0d22ea14992a"
      },
      "execution_count": 135,
      "outputs": [
        {
          "output_type": "stream",
          "name": "stdout",
          "text": [
            "[1.e+00 1.e+01 1.e+02 1.e+03 1.e+04 1.e+05]\n"
          ]
        }
      ]
    },
    {
      "cell_type": "code",
      "source": [
        "arr = np.linspace(0,5,10)\n",
        "print(arr)\n",
        "\n",
        "print()\n",
        "arr = np.logspace(0,5,10) # here it doing 10^1, 10^0.55555556 ,  10^1.11111111 so on\n",
        "print(arr)"
      ],
      "metadata": {
        "colab": {
          "base_uri": "https://localhost:8080/"
        },
        "id": "Cew6PU4mWqii",
        "outputId": "958837d5-b504-41ea-88b1-17a1ffb48bba"
      },
      "execution_count": 140,
      "outputs": [
        {
          "output_type": "stream",
          "name": "stdout",
          "text": [
            "[0.         0.55555556 1.11111111 1.66666667 2.22222222 2.77777778\n",
            " 3.33333333 3.88888889 4.44444444 5.        ]\n",
            "\n",
            "[1.00000000e+00 3.59381366e+00 1.29154967e+01 4.64158883e+01\n",
            " 1.66810054e+02 5.99484250e+02 2.15443469e+03 7.74263683e+03\n",
            " 2.78255940e+04 1.00000000e+05]\n"
          ]
        }
      ]
    },
    {
      "cell_type": "code",
      "source": [
        "# we can also change base here\n",
        "arr = np.logspace(0,5,6, base=2)\n",
        "print(arr)"
      ],
      "metadata": {
        "colab": {
          "base_uri": "https://localhost:8080/"
        },
        "id": "jxnJ_JYCXFOk",
        "outputId": "c2f1a8a5-e571-47f7-d1f6-e95935319599"
      },
      "execution_count": 139,
      "outputs": [
        {
          "output_type": "stream",
          "name": "stdout",
          "text": [
            "[ 1.  2.  4.  8. 16. 32.]\n"
          ]
        }
      ]
    },
    {
      "cell_type": "markdown",
      "source": [
        "# **Creating Diagonal and Identity Matrices**"
      ],
      "metadata": {
        "id": "ejxD9djHd3T0"
      }
    },
    {
      "cell_type": "markdown",
      "source": [
        "Diagonal and identity matrices are special types of square matrices that are fundamental building blocks in linear algebra and have significant applications in machine learning algorithms.\n",
        "\n",
        "1.  **Diagonal Matrix**: A square matrix where all the elements are zero except for the elements on the **main diagonal** (where the row index equals the column index).\n",
        "2.  **Identity Matrix**: A special type of diagonal matrix where all the elements on the main diagonal are **exactly 1**, and all other elements are 0.\n",
        "\n",
        "-----\n",
        "\n",
        "## **1. `np.diag()` - Creating a Diagonal Matrix**\n",
        "\n",
        "The `np.diag()` function is versatile. When you pass it a 1D array-like object (list, tuple, or another NumPy array), it creates a 2D square matrix and places the elements of the input on the main diagonal.\n",
        "\n",
        "```python\n",
        "import numpy as np\n",
        "\n",
        "# Create a diagonal matrix from a list\n",
        "mat_diag_list = np.diag([1, 2, 3, 4])\n",
        "print(f\"Diagonal matrix from a list:\\n{mat_diag_list}\\n\")\n",
        "```\n",
        "\n",
        "**Output:**\n",
        "\n",
        "```\n",
        "Diagonal matrix from a list:\n",
        "[[1 0 0 0]\n",
        " [0 2 0 0]\n",
        " [0 0 3 0]\n",
        " [0 0 0 4]]\n",
        "```\n",
        "\n",
        "```python\n",
        "# Create a diagonal matrix from a 1D NumPy array\n",
        "mat_diag_arr = np.diag(np.arange(5, 8))\n",
        "print(f\"Diagonal matrix from a NumPy array:\\n{mat_diag_arr}\")\n",
        "```\n",
        "\n",
        "**Output:**\n",
        "\n",
        "```\n",
        "Diagonal matrix from a NumPy array:\n",
        "[[5 0 0]\n",
        " [0 6 0]\n",
        " [0 0 7]]\n",
        "```\n",
        "\n",
        "*(Note: `np.diag()` can also be used to extract the diagonal elements from an existing matrix, making it a dual-purpose function.)*\n",
        "\n",
        "-----\n",
        "\n",
        "## **2. `np.eye()` - Creating an Identity Matrix**\n",
        "\n",
        "The `np.eye()` function is the standard way to create an identity matrix. The name \"eye\" comes from the pronunciation of the letter \"I\", which is the mathematical symbol for an identity matrix.\n",
        "\n",
        "```python\n",
        "# Create a 3x3 identity matrix\n",
        "mat_identity = np.eye(3)\n",
        "print(f\"3x3 Identity Matrix:\\n{mat_identity}\\n\")\n",
        "```\n",
        "\n",
        "**Output:**\n",
        "\n",
        "```\n",
        "3x3 Identity Matrix:\n",
        "[[1. 0. 0.]\n",
        " [0. 1. 0.]\n",
        " [0. 0. 1.]]\n",
        "```\n",
        "\n",
        "The `eye()` function can also create non-square matrices and allows you to shift the diagonal of ones up or down using the optional `k` parameter.\n",
        "\n",
        "  * `k=0` (default): Main diagonal.\n",
        "  * `k > 0`: Shifts the diagonal upwards.\n",
        "  * `k < 0`: Shifts the diagonal downwards.\n",
        "\n",
        "<!-- end list -->\n",
        "\n",
        "```python\n",
        "# Create a 3x4 matrix with the main diagonal of ones\n",
        "mat_rect = np.eye(3, 4)\n",
        "print(f\"3x4 matrix with k=0:\\n{mat_rect}\\n\")\n",
        "\n",
        "# Shift the diagonal up by 1 position (k=1)\n",
        "mat_up = np.eye(3, 4, k=1)\n",
        "print(f\"3x4 matrix with k=1:\\n{mat_up}\\n\")\n",
        "\n",
        "# Shift the diagonal down by 1 position (k=-1)\n",
        "mat_down = np.eye(3, 4, k=-1)\n",
        "print(f\"3x4 matrix with k=-1:\\n{mat_down}\")\n",
        "```\n",
        "\n",
        "**Output:**\n",
        "\n",
        "```\n",
        "3x4 matrix with k=0:\n",
        "[[1. 0. 0. 0.]\n",
        " [0. 1. 0. 0.]\n",
        " [0. 0. 1. 0.]]\n",
        "\n",
        "3x4 matrix with k=1:\n",
        "[[0. 1. 0. 0.]\n",
        " [0. 0. 1. 0.]\n",
        " [0. 0. 0. 1.]]\n",
        "\n",
        "3x4 matrix with k=-1:\n",
        "[[0. 0. 0. 0.]\n",
        " [1. 0. 0. 0.]\n",
        " [0. 1. 0. 0.]]\n",
        "```\n",
        "\n",
        "-----\n",
        "\n",
        "## **Why are these matrices important in ML? 🤔**\n",
        "\n",
        "### **Identity Matrix (I)**\n",
        "\n",
        "Think of the identity matrix as the matrix equivalent of the number **1**. Just as `5 * 1 = 5`, multiplying any compatible matrix **A** by the identity matrix **I** results in **A** (`A * I = A`).\n",
        "\n",
        "  * **Initialization**: In neural networks, weight matrices are sometimes initialized to be close to an identity matrix. This ensures that, at the start of training, the layer doesn't drastically change the input, providing a stable starting point.\n",
        "  * **Regularization**: In techniques like **Ridge Regression**, a small multiple of the identity matrix (`λI`) is added to the data's covariance matrix. This helps to make the matrix invertible and prevents the model's parameters from becoming too large, which helps to reduce overfitting.\n",
        "\n",
        "### **Diagonal Matrix (D)**\n",
        "\n",
        "Diagonal matrices represent simple **scaling transformations**. When you multiply a vector by a diagonal matrix, each component of the vector is scaled by the corresponding diagonal element. This is a very efficient operation.\n",
        "\n",
        "  * **Feature Scaling/Standardization**: Operations like standardizing features can be represented by diagonal matrices.\n",
        "  * **Model Simplification**: In some probabilistic models like the **Gaussian Naive Bayes classifier**, the covariance matrix is assumed to be diagonal. This is a simplifying assumption that means the features are treated as statistically independent, which makes calculations much faster.\n",
        "  * **Optimization Algorithms**: They appear frequently in the theory behind optimization algorithms and in matrix decomposition methods like **Singular Value Decomposition (SVD)**, where the matrix of singular values (**Σ**) is a diagonal matrix.\n",
        "\n",
        "\n",
        "----\n",
        "# **Creating Diagonal and Identity Matrices(Bangla)**\n",
        "\n",
        "ডায়াগোনাল এবং আইডেন্টিটি ম্যাট্রিক্স হলো বিশেষ ধরনের বর্গ ম্যাট্রিক্স যা রৈখিক বীজগণিতের (linear algebra) মৌলিক অংশ এবং মেশিন লার্নিং অ্যালগরিদমে এদের উল্লেখযোগ্য প্রয়োগ রয়েছে।\n",
        "\n",
        "1.  **ডায়াগোনাল ম্যাট্রিক্স (Diagonal Matrix)**: একটি বর্গ ম্যাট্রিক্স যেখানে **প্রধান কর্ণ** (main diagonal) বরাবর উপাদানগুলো ছাড়া বাকি সব উপাদান শূন্য থাকে (যেখানে সারি এবং কলামের ইনডেক্স সমান)।\n",
        "2.  **আইডেন্টিটি ম্যাট্রিক্স (Identity Matrix)**: এটি একটি বিশেষ ধরনের ডায়াগোনাল ম্যাট্রিক্স যেখানে প্রধান কর্ণের সমস্ত উপাদান **ঠিক ১** থাকে এবং বাকি সব উপাদান শূন্য থাকে।\n",
        "\n",
        "-----\n",
        "\n",
        "## **1. `np.diag()` - ডায়াগোনাল ম্যাট্রিক্স তৈরি**\n",
        "\n",
        "`np.diag()` ফাংশনটি বেশ বহুমুখী। যখন আপনি এটিকে একটি 1D অ্যারের মতো অবজেক্ট (লিস্ট, টুপল, বা অন্য NumPy অ্যারে) পাস করেন, তখন এটি একটি 2D বর্গ ম্যাট্রিক্স তৈরি করে এবং ইনপুটের উপাদানগুলোকে প্রধান কর্ণে স্থাপন করে।\n",
        "\n",
        "```python\n",
        "import numpy as np\n",
        "\n",
        "# একটি লিস্ট থেকে ডায়াগোনাল ম্যাট্রিক্স তৈরি\n",
        "mat_diag_list = np.diag([1, 2, 3, 4])\n",
        "print(f\"লিস্ট থেকে ডায়াগোনাল ম্যাট্রিক্স:\\n{mat_diag_list}\\n\")\n",
        "```\n",
        "\n",
        "**আউটপুট:**\n",
        "\n",
        "```\n",
        "লিস্ট থেকে ডায়াগোনাল ম্যাট্রিক্স:\n",
        "[[1 0 0 0]\n",
        " [0 2 0 0]\n",
        " [0 0 3 0]\n",
        " [0 0 0 4]]\n",
        "```\n",
        "\n",
        "```python\n",
        "# একটি NumPy অ্যারে থেকে ডায়াগোনাল ম্যাট্রিক্স তৈরি\n",
        "mat_diag_arr = np.diag(np.arange(5, 8))\n",
        "print(f\"NumPy অ্যারে থেকে ডায়াগোনাল ম্যাট্রিক্স:\\n{mat_diag_arr}\")\n",
        "```\n",
        "\n",
        "**আউটপুট:**\n",
        "\n",
        "```\n",
        "NumPy অ্যারে থেকে ডায়াগোনাল ম্যাট্রিক্স:\n",
        "[[5 0 0]\n",
        " [0 6 0]\n",
        " [0 0 7]]\n",
        "```\n",
        "\n",
        "*(দ্রষ্টব্য: `np.diag()` একটি বিদ্যমান ম্যাট্রিক্স থেকে কর্ণের উপাদানগুলো বের করার জন্যও ব্যবহার করা যেতে পারে, যা এটিকে একটি দ্বৈত-উদ্দেশ্যমূলক ফাংশন করে তোলে।)*\n",
        "\n",
        "-----\n",
        "\n",
        "## **2. `np.eye()` - আইডেন্টিটি ম্যাট্রিক্স তৈরি**\n",
        "\n",
        "আইডেন্টিটি ম্যাট্রিক্স তৈরি করার জন্য `np.eye()` একটি স্ট্যান্ডার্ড ফাংশন। এর নাম \"eye\" এসেছে \"I\" অক্ষরের উচ্চারণ থেকে, যা আইডেন্টিটি ম্যাট্রিক্সের গাণিতিক প্রতীক।\n",
        "\n",
        "```python\n",
        "# একটি 3x3 আইডেন্টিটি ম্যাট্রিক্স তৈরি\n",
        "mat_identity = np.eye(3)\n",
        "print(f\"3x3 আইডেন্টিটি ম্যাট্রিক্স:\\n{mat_identity}\\n\")\n",
        "```\n",
        "\n",
        "**আউটপুট:**\n",
        "\n",
        "```\n",
        "3x3 আইডেন্টিটি ম্যাট্রিক্স:\n",
        "[[1. 0. 0.]\n",
        " [0. 1. 0.]\n",
        " [0. 0. 1.]]\n",
        "```\n",
        "\n",
        "`eye()` ফাংশনটি বর্গাকার নয় এমন ম্যাট্রিক্সও তৈরি করতে পারে এবং `k` প্যারামিটার ব্যবহার করে আপনি ১-এর কর্ণটিকে উপরে বা নিচে সরাতে পারেন।\n",
        "\n",
        "  * `k=0` (ডিফল্ট): প্রধান কর্ণ।\n",
        "  * `k > 0`: কর্ণটিকে উপরে সরায়।\n",
        "  * `k < 0`: কর্ণটিকে নিচে সরায়।\n",
        "\n",
        "<!-- end list -->\n",
        "\n",
        "```python\n",
        "# ১-এর প্রধান কর্ণ সহ একটি 3x4 ম্যাট্রিক্স\n",
        "mat_rect = np.eye(3, 4)\n",
        "print(f\"k=0 সহ 3x4 ম্যাট্রিক্স:\\n{mat_rect}\\n\")\n",
        "\n",
        "# কর্ণটিকে ১ ঘর উপরে সরানো হলো (k=1)\n",
        "mat_up = np.eye(3, 4, k=1)\n",
        "print(f\"k=1 সহ 3x4 ম্যাট্রিক্স:\\n{mat_up}\\n\")\n",
        "\n",
        "# কর্ণটিকে ১ ঘর নিচে সরানো হলো (k=-1)\n",
        "mat_down = np.eye(3, 4, k=-1)\n",
        "print(f\"k=-1 সহ 3x4 ম্যাট্রিক্স:\\n{mat_down}\")\n",
        "```\n",
        "\n",
        "**আউটপুট:**\n",
        "\n",
        "```\n",
        "k=0 সহ 3x4 ম্যাট্রিক্স:\n",
        "[[1. 0. 0. 0.]\n",
        " [0. 1. 0. 0.]\n",
        " [0. 0. 1. 0.]]\n",
        "\n",
        "k=1 সহ 3x4 ম্যাট্রিক্স:\n",
        "[[0. 1. 0. 0.]\n",
        " [0. 0. 1. 0.]\n",
        " [0. 0. 0. 1.]]\n",
        "\n",
        "k=-1 সহ 3x4 ম্যাট্রিক্স:\n",
        "[[0. 0. 0. 0.]\n",
        " [1. 0. 0. 0.]\n",
        " [0. 1. 0. 0.]]\n",
        "```\n",
        "\n",
        "-----\n",
        "\n",
        "## **মেশিন লার্নিং-এ এই ম্যাট্রিক্সগুলো কেন গুরুত্বপূর্ণ? 🤔**\n",
        "\n",
        "### **আইডেন্টিটি ম্যাট্রিক্স (I)**\n",
        "\n",
        "আইডেন্টিটি ম্যাট্রিক্সকে সংখ্যা **১**-এর ম্যাট্রিক্স সমতুল্য হিসেবে ভাবুন। যেমন `5 * 1 = 5` হয়, তেমনই যেকোনো সামঞ্জস্যপূর্ণ ম্যাট্রিক্স **A**-কে আইডেন্টিটি ম্যাট্রিক্স **I** দ্বারা গুণ করলে **A** পাওয়া যায় (`A * I = A`)।\n",
        "\n",
        "  * **ইনিশিয়ালাইজেশন (Initialization)**: নিউরাল নেটওয়ার্কে, ওয়েট ম্যাট্রিক্সগুলোকে কখনও কখনও আইডেন্টিটি ম্যাট্রিক্সের কাছাকাছি মানে ইনিশিয়ালাইজ করা হয়। এটি নিশ্চিত করে যে, প্রশিক্ষণের শুরুতে লেয়ারটি ইনপুটকে খুব বেশি পরিবর্তন করবে না, যা একটি স্থিতিশীল সূচনা প্রদান করে।\n",
        "  * **রেগুলারাইজেশন (Regularization)**: **রিজ রিগ্রেশন (Ridge Regression)**-এর মতো কৌশলে, ডেটার কোভ্যারিয়েন্স ম্যাট্রিক্সের সাথে আইডেন্টিটি ম্যাট্রিক্সের একটি ছোট গুণিতক (`λI`) যোগ করা হয়। এটি ম্যাট্রিক্সটিকে ইনভার্টেবল করতে সাহায্য করে এবং মডেলের প্যারামিটারগুলোকে খুব বড় হতে বাধা দেয়, যা ওভারফিটিং কমাতে সাহায্য করে।\n",
        "\n",
        "### **ডায়াগোনাল ম্যাট্রিক্স (D)**\n",
        "\n",
        "ডায়াগোনাল ম্যাট্রিক্স সাধারণ **স্কেলিং রূপান্তর (scaling transformations)** প্রকাশ করে। যখন আপনি একটি ভেক্টরকে একটি ডায়াগোনাল ম্যাট্রিক্স দ্বারা গুণ করেন, তখন ভেক্টরের প্রতিটি উপাদান সংশ্লিষ্ট ডায়াগোনাল উপাদান দ্বারা স্কেল বা গুণ হয়। এটি একটি অত্যন্ত কার্যকর অপারেশন।\n",
        "\n",
        "  * **ফিচার স্কেলিং/স্ট্যান্ডার্ডাইজেশন**: ফিচার স্ট্যান্ডার্ডাইজ করার মতো অপারেশনগুলোকে ডায়াগোনাল ম্যাট্রিক্স দ্বারা প্রকাশ করা যেতে পারে।\n",
        "  * **মডেল সরলীকরণ**: কিছু সম্ভাব্যতা মডেলে, যেমন **গাউসিয়ান নাইভ বেইজ ক্লাসিফায়ার (Gaussian Naive Bayes classifier)**, কোভ্যারিয়েন্স ম্যাট্রিক্সকে ডায়াগোনাল বলে ধরে নেওয়া হয়। এই সরল অনুমানের অর্থ হলো ফিচারগুলোকে পরিসংখ্যানগতভাবে স্বাধীন হিসেবে গণ্য করা হয়, যা গণনাকে অনেক দ্রুত করে তোলে।\n",
        "  * **অপ্টিমাইজেশন অ্যালগরিদম**: অপ্টিমাইজেশন অ্যালগরিদমের তত্ত্ব এবং **সিঙ্গুলার ভ্যালু ডিকম্পোজিশন (SVD)**-এর মতো ম্যাট্রিক্স ডিকম্পোজিশন পদ্ধতিতে এগুলো প্রায়শই দেখা যায়, যেখানে সিঙ্গুলার মানের ম্যাট্রিক্সটি (**Σ**) একটি ডায়াগোনাল ম্যাট্রিক্স।"
      ],
      "metadata": {
        "id": "Z2M3E4KJZh99"
      }
    },
    {
      "cell_type": "markdown",
      "source": [
        "### **diag()**"
      ],
      "metadata": {
        "id": "K2NInw-rbl0A"
      }
    },
    {
      "cell_type": "code",
      "source": [
        "mat = np.diag([1,2,3,4])\n",
        "print(mat)"
      ],
      "metadata": {
        "colab": {
          "base_uri": "https://localhost:8080/"
        },
        "id": "eD5G17Kobadi",
        "outputId": "35172094-2645-4c00-df3a-6b120eb7d773"
      },
      "execution_count": 141,
      "outputs": [
        {
          "output_type": "stream",
          "name": "stdout",
          "text": [
            "[[1 0 0 0]\n",
            " [0 2 0 0]\n",
            " [0 0 3 0]\n",
            " [0 0 0 4]]\n"
          ]
        }
      ]
    },
    {
      "cell_type": "code",
      "source": [
        "# It can hold tuple or can be ndarray\n",
        "mat = np.diag(np.arange(1,7))\n",
        "print(mat)"
      ],
      "metadata": {
        "colab": {
          "base_uri": "https://localhost:8080/"
        },
        "id": "L3ln9hXPbyRP",
        "outputId": "7047d335-9af9-49e3-db09-8436856e707e"
      },
      "execution_count": 153,
      "outputs": [
        {
          "output_type": "stream",
          "name": "stdout",
          "text": [
            "[[1 0 0 0 0 0]\n",
            " [0 2 0 0 0 0]\n",
            " [0 0 3 0 0 0]\n",
            " [0 0 0 4 0 0]\n",
            " [0 0 0 0 5 0]\n",
            " [0 0 0 0 0 6]]\n"
          ]
        }
      ]
    },
    {
      "cell_type": "markdown",
      "source": [
        "### **eye()**"
      ],
      "metadata": {
        "id": "WBcQw44mcCOY"
      }
    },
    {
      "cell_type": "code",
      "source": [
        "# identitiy Matrix\n",
        "\n",
        "mat = np.eye(3)\n",
        "print(mat)\n",
        "\n"
      ],
      "metadata": {
        "colab": {
          "base_uri": "https://localhost:8080/"
        },
        "id": "W1ScCgXbb9uy",
        "outputId": "1b0938b2-565e-45ea-a196-b13ad13c00e9"
      },
      "execution_count": 145,
      "outputs": [
        {
          "output_type": "stream",
          "name": "stdout",
          "text": [
            "[[1. 0. 0.]\n",
            " [0. 1. 0.]\n",
            " [0. 0. 1.]]\n"
          ]
        }
      ]
    },
    {
      "cell_type": "code",
      "source": [
        "# we can also make identity matrix but it it is not identify matrix when it is not squar\n",
        "mat = np.eye(3,4)\n",
        "print(mat)\n"
      ],
      "metadata": {
        "colab": {
          "base_uri": "https://localhost:8080/"
        },
        "id": "pDmcth85cR8B",
        "outputId": "77eb593c-fb10-49e0-9ce4-fd6c25b98a90"
      },
      "execution_count": 146,
      "outputs": [
        {
          "output_type": "stream",
          "name": "stdout",
          "text": [
            "[[1. 0. 0. 0.]\n",
            " [0. 1. 0. 0.]\n",
            " [0. 0. 1. 0.]]\n"
          ]
        }
      ]
    },
    {
      "cell_type": "code",
      "source": [
        "# We can move diagnal bottom to using -1 and top to +1\n",
        "mat = np.eye(3,4,-1)\n",
        "print(mat)"
      ],
      "metadata": {
        "colab": {
          "base_uri": "https://localhost:8080/"
        },
        "id": "an_XXp5Uchim",
        "outputId": "d87ad1c1-1c18-4002-8e24-5286b2c7c020"
      },
      "execution_count": 149,
      "outputs": [
        {
          "output_type": "stream",
          "name": "stdout",
          "text": [
            "[[0. 0. 0. 0.]\n",
            " [1. 0. 0. 0.]\n",
            " [0. 1. 0. 0.]]\n"
          ]
        }
      ]
    },
    {
      "cell_type": "code",
      "source": [
        "mat = np.eye(3,4,1)\n",
        "print(mat)"
      ],
      "metadata": {
        "colab": {
          "base_uri": "https://localhost:8080/"
        },
        "id": "CGnXQIcQcrqx",
        "outputId": "5d153774-620d-48c7-cfeb-128fe1bdef19"
      },
      "execution_count": 150,
      "outputs": [
        {
          "output_type": "stream",
          "name": "stdout",
          "text": [
            "[[0. 1. 0. 0.]\n",
            " [0. 0. 1. 0.]\n",
            " [0. 0. 0. 1.]]\n"
          ]
        }
      ]
    },
    {
      "cell_type": "markdown",
      "source": [
        "# **`ndarray` Indexing and Slicing**"
      ],
      "metadata": {
        "id": "ODZR1bhgnzoO"
      }
    },
    {
      "cell_type": "markdown",
      "source": [
        "Accessing and manipulating specific parts of an array is a fundamental operation. NumPy provides a powerful and flexible syntax for indexing (accessing single elements) and slicing (accessing sub-arrays) that is similar to Python lists but extended for multiple dimensions.\n",
        "\n",
        "-----\n",
        "\n",
        "## **1. Working with 1D Arrays**\n",
        "\n",
        "Indexing and slicing on 1D arrays work just like they do for Python lists.\n",
        "\n",
        "```python\n",
        "import numpy as np\n",
        "\n",
        "arr = np.arange(1, 10)\n",
        "print(f\"Original 1D array:\\n{arr}\\n\")\n",
        "```\n",
        "\n",
        "**Output:**\n",
        "\n",
        "```\n",
        "Original 1D array:\n",
        "[1 2 3 4 5 6 7 8 9]\n",
        "```\n",
        "\n",
        "### **Accessing and Modifying Elements**\n",
        "\n",
        "You use square brackets `[]` with the index of the element you want to access. Remember, indexing starts at 0.\n",
        "\n",
        "```python\n",
        "# Access the element at index 2 (the third element)\n",
        "print(f\"Element at index 2: {arr[2]}\\n\")\n",
        "\n",
        "# Change the value at index 2\n",
        "arr[2] = 100\n",
        "print(f\"Array after modification:\\n{arr}\\n\")\n",
        "```\n",
        "\n",
        "**Output:**\n",
        "\n",
        "```\n",
        "Element at index 2: 3\n",
        "\n",
        "Array after modification:\n",
        "[  1   2 100   4   5   6   7   8   9]\n",
        "```\n",
        "\n",
        "### **Slicing 1D Arrays**\n",
        "\n",
        "The slicing syntax is `[start:stop:step]`.\n",
        "\n",
        "```python\n",
        "# Slice from index 2 up to (but not including) index 9, with a step of 2\n",
        "sliced_arr = arr[2:9:2]\n",
        "print(f\"Sliced array [2:9:2]:\\n{sliced_arr}\")\n",
        "```\n",
        "\n",
        "**Output:**\n",
        "\n",
        "```\n",
        "Sliced array [2:9:2]:\n",
        "[100   5   7   9]\n",
        "```\n",
        "\n",
        "-----\n",
        "\n",
        "## **2. Working with 2D Arrays (Matrices)**\n",
        "\n",
        "For 2D arrays, indexing and slicing are extended with a comma-separated syntax: `[row_specifier, column_specifier]`.\n",
        "\n",
        "```python\n",
        "arr2 = np.arange(1, 10).reshape(3, 3)\n",
        "print(f\"Original 2D array:\\n{arr2}\\n\")\n",
        "```\n",
        "\n",
        "**Output:**\n",
        "\n",
        "```\n",
        "Original 2D array:\n",
        "[[1 2 3]\n",
        " [4 5 6]\n",
        " [7 8 9]]\n",
        "```\n",
        "\n",
        "### **Accessing and Modifying Elements**\n",
        "\n",
        "You can use `[row][col]` syntax, but the more efficient and standard NumPy way is `[row, col]`.\n",
        "\n",
        "```python\n",
        "# Access the element in the first row (index 0) and second column (index 1)\n",
        "element = arr2[0, 1] # Preferred NumPy syntax\n",
        "print(f\"Element at [0, 1]: {element}\\n\")\n",
        "\n",
        "# Reassign the value at that position\n",
        "arr2[0, 1] = 20\n",
        "print(f\"Array after modification:\\n{arr2}\\n\")\n",
        "```\n",
        "\n",
        "**Output:**\n",
        "\n",
        "```\n",
        "Element at [0, 1]: 2\n",
        "\n",
        "Array after modification:\n",
        "[[ 1 20  3]\n",
        " [ 4  5  6]\n",
        " [ 7  8  9]]\n",
        "```\n",
        "\n",
        "### **Slicing 2D Arrays**\n",
        "\n",
        "The syntax is `[row_start:row_end:row_step, col_start:col_end:col_step]`. A colon `:` by itself means \"select all\".\n",
        "\n",
        "```python\n",
        "# Let's reset the array for clarity\n",
        "arr2 = np.arange(1, 10).reshape(3, 3)\n",
        "print(f\"Reset 2D array:\\n{arr2}\\n\")\n",
        "\n",
        "# Getting one or more rows\n",
        "print(f\"Getting the second row (index 1):\\n{arr2[1, :]}\\n\") # or simply arr2[1]\n",
        "print(f\"Getting first and third rows (step=2):\\n{arr2[0:3:2, :]}\\n\")\n",
        "\n",
        "\n",
        "# Getting one or more columns\n",
        "print(f\"Getting the first column (index 0):\\n{arr2[:, 0:1]}\\n\")\n",
        "print(f\"Getting first and third columns (step=2):\\n{arr2[:, 0:3:2]}\\n\")\n",
        "\n",
        "\n",
        "# Getting a portion (submatrix)\n",
        "# Get the top-left 2x2 matrix\n",
        "# Rows 0 to 2 (exclusive), Columns 0 to 2 (exclusive)\n",
        "submatrix = arr2[0:2, 0:2]\n",
        "print(f\"Top-left 2x2 submatrix:\\n{submatrix}\")\n",
        "```\n",
        "\n",
        "**Output:**\n",
        "\n",
        "```\n",
        "Reset 2D array:\n",
        "[[1 2 3]\n",
        " [4 5 6]\n",
        " [7 8 9]]\n",
        "\n",
        "Getting the second row (index 1):\n",
        "[4 5 6]\n",
        "\n",
        "Getting first and third rows (step=2):\n",
        "[[1 2 3]\n",
        " [7 8 9]]\n",
        "\n",
        "Getting the first column (index 0):\n",
        "[[1]\n",
        " [4]\n",
        " [7]]\n",
        "\n",
        "Getting first and third columns (step=2):\n",
        "[[1 3]\n",
        " [4 6]\n",
        " [7 9]]\n",
        "\n",
        "Top-left 2x2 submatrix:\n",
        "[[1 2]\n",
        " [4 5]]\n",
        "```\n",
        "---\n",
        "\n",
        "## **`ndarray` ইনডেক্সিং এবং স্লাইসিং**\n",
        "\n",
        "একটি অ্যারের নির্দিষ্ট অংশ অ্যাক্সেস এবং পরিবর্তন করা একটি মৌলিক কাজ। NumPy **ইনডেক্সিং** (একক উপাদান অ্যাক্সেস করা) এবং **স্লাইসিং** (সাব-অ্যারে অ্যাক্সেস করা)-এর জন্য একটি শক্তিশালী এবং নমনীয় সিনট্যাক্স সরবরাহ করে, যা পাইথন লিস্টের মতোই কিন্তু একাধিক ডাইমেনশনের জন্য প্রসারিত।\n",
        "\n",
        "-----\n",
        "\n",
        "## **১. 1D অ্যারের সাথে কাজ করা**\n",
        "\n",
        "1D অ্যারেতে ইনডেক্সিং এবং স্লাইসিং পাইথন লিস্টের মতোই কাজ করে।\n",
        "\n",
        "```python\n",
        "import numpy as np\n",
        "\n",
        "arr = np.arange(1, 10)\n",
        "print(f\"মূল 1D অ্যারে:\\n{arr}\\n\")\n",
        "```\n",
        "\n",
        "**আউটপুট:**\n",
        "\n",
        "```\n",
        "মূল 1D অ্যারে:\n",
        "[1 2 3 4 5 6 7 8 9]\n",
        "```\n",
        "\n",
        "### **উপাদান অ্যাক্সেস এবং পরিবর্তন করা**\n",
        "\n",
        "আপনি যে উপাদানটি অ্যাক্সেস করতে চান তার ইনডেক্স সহ স্কয়ার ব্র্যাকেট `[]` ব্যবহার করবেন। মনে রাখবেন, ইনডেক্সিং ০ থেকে শুরু হয়।\n",
        "\n",
        "```python\n",
        "# ইনডেক্স ২-এর উপাদানটি (তৃতীয় উপাদান) অ্যাক্সেস করা\n",
        "print(f\"ইনডেক্স ২-এর উপাদান: {arr[2]}\\n\")\n",
        "\n",
        "# ইনডেক্স ২-এর মান পরিবর্তন করা\n",
        "arr[2] = 100\n",
        "print(f\"পরিবর্তনের পর অ্যারে:\\n{arr}\\n\")\n",
        "```\n",
        "\n",
        "**আউটপুট:**\n",
        "\n",
        "```\n",
        "ইনডেক্স ২-এর উপাদান: 3\n",
        "\n",
        "পরিবর্তনের পর অ্যারে:\n",
        "[  1   2 100   4   5   6   7   8   9]\n",
        "```\n",
        "\n",
        "### **1D অ্যারে স্লাইস করা**\n",
        "\n",
        "স্লাইসিং-এর সিনট্যাক্স হলো `[start:stop:step]`।\n",
        "\n",
        "```python\n",
        "# ইনডেক্স ২ থেকে ৯-এর আগ পর্যন্ত (exclusive) স্লাইস করা, যেখানে ধাপ ২\n",
        "sliced_arr = arr[2:9:2]\n",
        "print(f\"স্লাইস করা অ্যারে [2:9:2]:\\n{sliced_arr}\")\n",
        "```\n",
        "\n",
        "**আউটপুট:**\n",
        "\n",
        "```\n",
        "স্লাইস করা অ্যারে [2:9:2]:\n",
        "[100   5   7   9]\n",
        "```\n",
        "\n",
        "-----\n",
        "\n",
        "## **২. 2D অ্যারের (ম্যাট্রিক্স) সাথে কাজ করা**\n",
        "\n",
        "2D অ্যারের জন্য, ইনডেক্সিং এবং স্লাইসিং কমা-দ্বারা পৃথক করা সিনট্যাক্স ব্যবহার করে প্রসারিত করা হয়েছে: `[row_specifier, column_specifier]`।\n",
        "\n",
        "```python\n",
        "arr2 = np.arange(1, 10).reshape(3, 3)\n",
        "print(f\"মূল 2D অ্যারে:\\n{arr2}\\n\")\n",
        "```\n",
        "\n",
        "**আউটপুট:**\n",
        "\n",
        "```\n",
        "মূল 2D অ্যারে:\n",
        "[[1 2 3]\n",
        " [4 5 6]\n",
        " [7 8 9]]\n",
        "```\n",
        "\n",
        "### **উপাদান অ্যাক্সেস এবং পরিবর্তন করা**\n",
        "\n",
        "আপনি `[row][col]` সিনট্যাক্স ব্যবহার করতে পারেন, তবে NumPy-এর জন্য বেশি কার্যকর এবং স্ট্যান্ডার্ড উপায় হলো `[row, col]`।\n",
        "\n",
        "```python\n",
        "# প্রথম সারি (ইনডেক্স ০) এবং দ্বিতীয় কলামের (ইনডেক্স ১) উপাদান অ্যাক্সেস করা\n",
        "element = arr2[0, 1] # NumPy-এর পছন্দের সিনট্যাক্স\n",
        "print(f\"[0, 1] অবস্থানের উপাদান: {element}\\n\")\n",
        "\n",
        "# সেই অবস্থানের মান পরিবর্তন করা\n",
        "arr2[0, 1] = 20\n",
        "print(f\"পরিবর্তনের পর অ্যারে:\\n{arr2}\\n\")\n",
        "```\n",
        "\n",
        "**আউটপুট:**\n",
        "\n",
        "```\n",
        "[0, 1] অবস্থানের উপাদান: 2\n",
        "\n",
        "পরিবর্তনের পর অ্যারে:\n",
        "[[ 1 20  3]\n",
        " [ 4  5  6]\n",
        " [ 7  8  9]]\n",
        "```\n",
        "\n",
        "### **2D অ্যারে স্লাইস করা**\n",
        "\n",
        "সিনট্যাক্সটি হলো `[row_start:row_end:row_step, col_start:col_end:col_step]`। একটি কোলন `:` একা থাকলে তার মানে হলো \"সবগুলো নির্বাচন করো\"।\n",
        "\n",
        "```python\n",
        "# স্বচ্ছতার জন্য অ্যারেটি রিসেট করা হলো\n",
        "arr2 = np.arange(1, 10).reshape(3, 3)\n",
        "print(f\"রিসেট করা 2D অ্যারে:\\n{arr2}\\n\")\n",
        "\n",
        "# এক বা একাধিক সারি পাওয়া\n",
        "print(f\"দ্বিতীয় সারি (ইনডেক্স ১) পাওয়া:\\n{arr2[1, :]}\\n\") # অথবা শুধু arr2[1]\n",
        "print(f\"প্রথম এবং তৃতীয় সারি পাওয়া (ধাপ=২):\\n{arr2[0:3:2, :]}\\n\")\n",
        "\n",
        "\n",
        "# এক বা একাধিক কলাম পাওয়া\n",
        "print(f\"প্রথম কলাম (ইনডেক্স ০) পাওয়া:\\n{arr2[:, 0:1]}\\n\")\n",
        "print(f\"প্রথম এবং তৃতীয় কলাম পাওয়া (ধাপ=২):\\n{arr2[:, 0:3:2]}\\n\")\n",
        "\n",
        "\n",
        "# একটি অংশ (সাবম্যাট্রিক্স) পাওয়া\n",
        "# উপরের-বামের 2x2 ম্যাট্রিক্সটি পাওয়া\n",
        "# সারি ০ থেকে ২ (exclusive), কলাম ০ থেকে ২ (exclusive)\n",
        "submatrix = arr2[0:2, 0:2]\n",
        "print(f\"উপরের-বামের 2x2 সাবম্যাট্রিক্স:\\n{submatrix}\")\n",
        "```\n",
        "\n",
        "**আউটপুট:**\n",
        "\n",
        "```\n",
        "রিসেট করা 2D অ্যারে:\n",
        "[[1 2 3]\n",
        " [4 5 6]\n",
        " [7 8 9]]\n",
        "\n",
        "দ্বিতীয় সারি (ইনডেক্স ১) পাওয়া:\n",
        "[4 5 6]\n",
        "\n",
        "প্রথম এবং তৃতীয় সারি পাওয়া (ধাপ=২):\n",
        "[[1 2 3]\n",
        " [7 8 9]]\n",
        "\n",
        "প্রথম কলাম (ইনডেক্স ০) পাওয়া:\n",
        "[[1]\n",
        " [4]\n",
        " [7]]\n",
        "\n",
        "প্রথম এবং তৃতীয় কলাম পাওয়া (ধাপ=২):\n",
        "[[1 3]\n",
        " [4 6]\n",
        " [7 9]]\n",
        "\n",
        "উপরের-বামের 2x2 সাবম্যাট্রিক্স:\n",
        "[[1 2]\n",
        " [4 5]]\n",
        "```"
      ],
      "metadata": {
        "id": "fTBwjoTQid_m"
      }
    },
    {
      "cell_type": "code",
      "source": [
        "# work with 1d array\n",
        "arr = np.arange(1,10)\n",
        "print(arr)\n",
        "\n",
        "# access index\n",
        "print(arr[2])\n",
        "\n",
        "# change the value of index\n",
        "arr[2] = 100\n",
        "print(arr)\n",
        "\n",
        "\n",
        "# slicing array\n",
        "print(arr[2:9:2])"
      ],
      "metadata": {
        "colab": {
          "base_uri": "https://localhost:8080/"
        },
        "id": "MX6Obxkvkl0c",
        "outputId": "5e578793-4b29-47b9-f438-6495b4cf6b63"
      },
      "execution_count": 165,
      "outputs": [
        {
          "output_type": "stream",
          "name": "stdout",
          "text": [
            "[1 2 3 4 5 6 7 8 9]\n",
            "3\n",
            "[  1   2 100   4   5   6   7   8   9]\n",
            "[100   5   7   9]\n"
          ]
        }
      ]
    },
    {
      "cell_type": "code",
      "source": [
        "# working with 2d array\n",
        "arr2 = np.reshape(np.arange(1,10),(3,3))\n",
        "print(arr2)\n",
        "\n",
        "# Accesing element\n",
        "print(arr2[0][1])\n",
        "\n",
        "# reassing value\n",
        "arr2[0][1] = 20\n",
        "print(arr2[0][1])"
      ],
      "metadata": {
        "colab": {
          "base_uri": "https://localhost:8080/"
        },
        "id": "UGO72PTUi0eK",
        "outputId": "0eb59fbb-0809-4372-eced-cd4cb4024248"
      },
      "execution_count": 169,
      "outputs": [
        {
          "output_type": "stream",
          "name": "stdout",
          "text": [
            "[[1 2 3]\n",
            " [4 5 6]\n",
            " [7 8 9]]\n",
            "2\n",
            "20\n"
          ]
        }
      ]
    },
    {
      "cell_type": "code",
      "source": [
        "# Slicing 2d array\n",
        "# how it work [row_start : row_end : row_step , col_start : col_end : col_step]\n",
        "\n",
        "# Getting a row\n",
        "# working with 2d array\n",
        "arr2 = np.reshape(np.arange(1,10),(3,3))\n",
        "print(arr2)\n"
      ],
      "metadata": {
        "colab": {
          "base_uri": "https://localhost:8080/"
        },
        "id": "7IH-F6E8leu4",
        "outputId": "93fc0509-58c1-4a9a-deff-e378aaf25247"
      },
      "execution_count": 171,
      "outputs": [
        {
          "output_type": "stream",
          "name": "stdout",
          "text": [
            "[[1 2 3]\n",
            " [4 5 6]\n",
            " [7 8 9]]\n",
            "[[1 2 3]\n",
            " [4 5 6]]\n"
          ]
        }
      ]
    },
    {
      "cell_type": "code",
      "source": [
        "# Gettig a row\n",
        "print(arr2[1:2,])\n",
        "\n",
        "# Getting one or more row with step\n",
        "print(arr2[0:3:2,])\n"
      ],
      "metadata": {
        "colab": {
          "base_uri": "https://localhost:8080/"
        },
        "id": "PDKAP6fHl6-l",
        "outputId": "2e4e93ed-50c1-4cf1-862c-f6d86cacfd7c"
      },
      "execution_count": 183,
      "outputs": [
        {
          "output_type": "stream",
          "name": "stdout",
          "text": [
            "[[4 5 6]]\n",
            "[[1 2 3]\n",
            " [7 8 9]]\n"
          ]
        }
      ]
    },
    {
      "cell_type": "code",
      "source": [
        "# getting a column\n",
        "print(arr2[::,0:1])\n",
        "\n",
        "# Getting one or more row with step\n",
        "print(arr2[::,0:3:2])\n"
      ],
      "metadata": {
        "colab": {
          "base_uri": "https://localhost:8080/"
        },
        "id": "5xbRGgP9mnXf",
        "outputId": "82b6dc01-c332-4b01-bc87-b219056b39f5"
      },
      "execution_count": 186,
      "outputs": [
        {
          "output_type": "stream",
          "name": "stdout",
          "text": [
            "[[1]\n",
            " [4]\n",
            " [7]]\n",
            "[[1 3]\n",
            " [4 6]\n",
            " [7 9]]\n"
          ]
        }
      ]
    },
    {
      "cell_type": "code",
      "source": [
        "# Getting a protion\n",
        "print(arr2[0:2, 0:2])"
      ],
      "metadata": {
        "colab": {
          "base_uri": "https://localhost:8080/"
        },
        "id": "fzlZG5y9m20l",
        "outputId": "71100026-dbba-42ea-ca19-9b6914836a9d"
      },
      "execution_count": 188,
      "outputs": [
        {
          "output_type": "stream",
          "name": "stdout",
          "text": [
            "[[1 2]\n",
            " [4 5]]\n"
          ]
        }
      ]
    },
    {
      "cell_type": "markdown",
      "source": [
        "# **`ndarray`: Views, Copies, Advanced Indexing, and Iteration**"
      ],
      "metadata": {
        "id": "jm4Gze8h50Eo"
      }
    },
    {
      "cell_type": "markdown",
      "source": [
        "This note covers some advanced but crucial concepts: how NumPy handles memory when slicing, how to select elements in non-sequential ways, and the best practices for iterating over arrays.\n",
        "\n",
        "-----\n",
        "\n",
        "## **1. Slicing: View vs. Copy 🔗**\n",
        "\n",
        "This is one of the most important concepts to understand in NumPy for avoiding unexpected bugs. By default, slicing a NumPy array creates a **view**, not a copy.\n",
        "\n",
        "A **view** is a new array object that looks at the *same underlying data* as the original array. This makes slicing very fast and memory-efficient. However, it means that if you modify the view, you also modify the original array.\n",
        "\n",
        "```python\n",
        "import numpy as np\n",
        "\n",
        "arr = np.linspace(1, 10, 10, dtype=int)\n",
        "print(f\"Original array:\\n{arr}\\n\")\n",
        "\n",
        "# Slicing creates a view\n",
        "mod_arr_view = arr[1:5]\n",
        "print(f\"This is a view of the original:\\n{mod_arr_view}\\n\")\n",
        "\n",
        "# Modify the first element of the view\n",
        "mod_arr_view[0] = 200\n",
        "print(f\"The view is modified:\\n{mod_arr_view}\\n\")\n",
        "\n",
        "# The original array is also changed!\n",
        "print(f\"The original array has also been changed:\\n{arr}\\n\")\n",
        "```\n",
        "\n",
        "**Output:**\n",
        "\n",
        "```\n",
        "Original array:\n",
        "[ 1  2  3  4  5  6  7  8  9 10]\n",
        "\n",
        "This is a view of the original:\n",
        "[2 3 4 5]\n",
        "\n",
        "The view is modified:\n",
        "[200   3   4   5]\n",
        "\n",
        "The original array has also been changed:\n",
        "[  1 200   3   4   5   6   7   8   9  10]\n",
        "```\n",
        "\n",
        "### **Making an Explicit Copy**\n",
        "\n",
        "If you want to modify a slice without affecting the original array, you must create an explicit **copy** using the `.copy()` method.\n",
        "\n",
        "```python\n",
        "arr = np.linspace(1, 10, 10, dtype=int)\n",
        "print(f\"Original array:\\n{arr}\\n\")\n",
        "\n",
        "# Create an explicit copy\n",
        "mod_arr_copy = arr[0:4].copy()\n",
        "mod_arr_copy[1] = 200 # Modify the copy\n",
        "\n",
        "print(f\"The modified copy is:\\n{mod_arr_copy}\\n\")\n",
        "print(f\"The original array is NOT changed:\\n{arr}\")\n",
        "```\n",
        "\n",
        "**Output:**\n",
        "\n",
        "```\n",
        "Original array:\n",
        "[ 1  2  3  4  5  6  7  8  9 10]\n",
        "\n",
        "The modified copy is:\n",
        "[  1 200   3   4]\n",
        "\n",
        "The original array is NOT changed:\n",
        "[ 1  2  3  4  5  6  7  8  9 10]\n",
        "```\n",
        "\n",
        "-----\n",
        "\n",
        "## **2. Advanced Indexing**\n",
        "\n",
        "Standard slicing is limited to creating sequential views. Advanced indexing (also known as \"fancy indexing\") allows you to select any arbitrary set of elements.\n",
        "\n",
        "### **Integer Array Indexing**\n",
        "\n",
        "You can pass a list or an array of indices to access multiple, specific elements at once.\n",
        "\n",
        "```python\n",
        "arr = np.linspace(1, 10, 10, dtype=int)\n",
        "print(f\"Original array:\\n{arr}\\n\")\n",
        "\n",
        "# Access elements at indices 0, 1, 3, 4, and 5\n",
        "values = arr[[0, 1, 3, 4, 5]]\n",
        "print(f\"Specifically chosen values:\\n{values}\\n\")\n",
        "\n",
        "# For 2D arrays, you pass a tuple of lists: ([rows], [cols])\n",
        "arr2 = np.arange(1, 10).reshape(3, 3)\n",
        "print(f\"Original 2D array:\\n{arr2}\\n\")\n",
        "\n",
        "# Get the elements at (row 1, col 1) and (row 1, col 2)\n",
        "elements = arr2[[1, 1], [1, 2]]\n",
        "print(f\"Elements at (1,1) and (1,2):\\n{elements}\")\n",
        "```\n",
        "\n",
        "**Output:**\n",
        "\n",
        "```\n",
        "Original array:\n",
        "[ 1  2  3  4  5  6  7  8  9 10]\n",
        "\n",
        "Specifically chosen values:\n",
        "[1 2 4 5 6]\n",
        "\n",
        "Original 2D array:\n",
        "[[1 2 3]\n",
        " [4 5 6]\n",
        " [7 8 9]]\n",
        "\n",
        "Elements at (1,1) and (1,2):\n",
        "[5 6]\n",
        "```\n",
        "\n",
        "### **Boolean Indexing (Filtering)**\n",
        "\n",
        "You can use a boolean expression to select or modify elements that meet a certain condition.\n",
        "\n",
        "```python\n",
        "arr = np.arange(1, 10).reshape(3, 3)\n",
        "print(f\"Original array:\\n{arr}\\n\")\n",
        "\n",
        "# Select all elements greater than 2\n",
        "filtered_arr = arr[arr > 2]\n",
        "print(f\"Values greater than 2:\\n{filtered_arr}\\n\")\n",
        "\n",
        "# Reassign a value to all elements greater than 8\n",
        "arr[arr > 8] = 0\n",
        "print(f\"Array after reassigning values > 8 to 0:\\n{arr}\")\n",
        "```\n",
        "\n",
        "**Output:**\n",
        "\n",
        "```\n",
        "Original array:\n",
        "[[1 2 3]\n",
        " [4 5 6]\n",
        " [7 8 9]]\n",
        "\n",
        "Values greater than 2:\n",
        "[3 4 5 6 7 8 9]\n",
        "\n",
        "Array after reassigning values > 8 to 0:\n",
        "[[1 2 3]\n",
        " [4 5 6]\n",
        " [7 8 0]]\n",
        "```\n",
        "\n",
        "-----\n",
        "\n",
        "## **3. Iterating Over Arrays 🚶‍♂️**\n",
        "\n",
        "While vectorized operations are always preferred for speed, sometimes you need to loop through an array.\n",
        "\n",
        "```python\n",
        "arr = np.arange(1, 10).reshape(3, 3)\n",
        "\n",
        "# Standard Python loop iterates over rows\n",
        "print(\"Iterating over rows:\")\n",
        "for row in arr:\n",
        "  print(row)\n",
        "\n",
        "# Nested loop to access each item\n",
        "print(\"\\nIterating over each element (nested loop):\")\n",
        "for row in arr:\n",
        "  for col in row:\n",
        "    print(col, end=\" \")\n",
        "```\n",
        "\n",
        "**Output:**\n",
        "\n",
        "```\n",
        "Iterating over rows:\n",
        "[1 2 3]\n",
        "[4 5 6]\n",
        "[7 8 9]\n",
        "\n",
        "Iterating over each element (nested loop):\n",
        "1 2 3 4 5 6 7 8 9\n",
        "```\n",
        "\n",
        "### **The NumPy Way: `np.nditer()`**\n",
        "\n",
        "For large or multi-dimensional arrays, the `np.nditer()` iterator is much more efficient. It provides a clean way to visit every element regardless of the array's shape.\n",
        "\n",
        "```python\n",
        "arr = np.arange(1, 10).reshape(3, 3)\n",
        "print(\"\\n\\nIterating with np.nditer():\")\n",
        "for i in np.nditer(arr):\n",
        "  print(i, end=\" \")\n",
        "```\n",
        "\n",
        "**Output:**\n",
        "\n",
        "```\n",
        "Iterating with np.nditer():\n",
        "1 2 3 4 5 6 7 8 9\n",
        "```\n",
        "\n",
        "___\n",
        "\n",
        "## **`ndarray`: ভিউ, কপি, অ্যাডভান্সড ইনডেক্সিং এবং ইটারেশন**\n",
        "\n",
        "এই নোটে কিছু অ্যাডভান্সড কিন্তু অত্যন্ত গুরুত্বপূর্ণ বিষয় আলোচনা করা হয়েছে: স্লাইস করার সময় NumPy কীভাবে মেমরি পরিচালনা করে, নন-সিকোয়েন্সিয়াল পদ্ধতিতে কীভাবে উপাদান নির্বাচন করতে হয় এবং অ্যারের উপর ইটারেট করার সেরা উপায়গুলো কী কী।\n",
        "\n",
        "-----\n",
        "\n",
        "## **১. স্লাইসিং: ভিউ বনাম কপি 🔗**\n",
        "\n",
        "অপ্রত্যাশিত বাগ এড়ানোর জন্য NumPy-তে এটি একটি সবচেয়ে গুরুত্বপূর্ণ ধারণা। ডিফল্টভাবে, একটি NumPy অ্যারে স্লাইস করলে একটি **ভিউ (view)** তৈরি হয়, কপি নয়।\n",
        "\n",
        "একটি **ভিউ** হলো একটি নতুন অ্যারে অবজেক্ট যা মূল অ্যারের *একই ডেটার দিকে নির্দেশ করে*। এটি স্লাইসিংকে খুব দ্রুত এবং মেমরি-সাশ্রয়ী করে তোলে। তবে, এর মানে হলো আপনি যদি ভিউটি পরিবর্তন করেন, তবে মূল অ্যারেটিও পরিবর্তিত হয়ে যাবে।\n",
        "\n",
        "```python\n",
        "import numpy as np\n",
        "\n",
        "arr = np.linspace(1, 10, 10, dtype=int)\n",
        "print(f\"মূল অ্যারে:\\n{arr}\\n\")\n",
        "\n",
        "# স্লাইসিং একটি ভিউ তৈরি করে\n",
        "mod_arr_view = arr[1:5]\n",
        "print(f\"এটি মূল অ্যারের একটি ভিউ:\\n{mod_arr_view}\\n\")\n",
        "\n",
        "# ভিউয়ের প্রথম উপাদানটি পরিবর্তন করা হলো\n",
        "mod_arr_view[0] = 200\n",
        "print(f\"ভিউটি পরিবর্তিত হয়েছে:\\n{mod_arr_view}\\n\")\n",
        "\n",
        "# মূল অ্যারেটিও পরিবর্তিত হয়ে গেছে!\n",
        "print(f\"মূল অ্যারেটিও পরিবর্তিত হয়েছে:\\n{arr}\\n\")\n",
        "```\n",
        "\n",
        "**আউটপুট:**\n",
        "\n",
        "```\n",
        "মূল অ্যারে:\n",
        "[ 1  2  3  4  5  6  7  8  9 10]\n",
        "\n",
        "এটি মূল অ্যারের একটি ভিউ:\n",
        "[2 3 4 5]\n",
        "\n",
        "ভিউটি পরিবর্তিত হয়েছে:\n",
        "[200   3   4   5]\n",
        "\n",
        "মূল অ্যারেটিও পরিবর্তিত হয়েছে:\n",
        "[  1 200   3   4   5   6   7   8   9  10]\n",
        "```\n",
        "\n",
        "### **একটি সুস্পষ্ট কপি তৈরি করা**\n",
        "\n",
        "আপনি যদি মূল অ্যারেটিকে প্রভাবিত না করে একটি স্লাইস পরিবর্তন করতে চান, তবে আপনাকে অবশ্যই `.copy()` মেথড ব্যবহার করে একটি সুস্পষ্ট **কপি** তৈরি করতে হবে।\n",
        "\n",
        "```python\n",
        "arr = np.linspace(1, 10, 10, dtype=int)\n",
        "print(f\"মূল অ্যারে:\\n{arr}\\n\")\n",
        "\n",
        "# একটি সুস্পষ্ট কপি তৈরি\n",
        "mod_arr_copy = arr[0:4].copy()\n",
        "mod_arr_copy[1] = 200 # কপিটি পরিবর্তন করা হলো\n",
        "\n",
        "print(f\"পরিবর্তিত কপিটি হলো:\\n{mod_arr_copy}\\n\")\n",
        "print(f\"মূল অ্যারেটি পরিবর্তিত হয়নি:\\n{arr}\")\n",
        "```\n",
        "\n",
        "**আউটপুট:**\n",
        "\n",
        "```\n",
        "মূল অ্যারে:\n",
        "[ 1  2  3  4  5  6  7  8  9 10]\n",
        "\n",
        "পরিবর্তিত কপিটি হলো:\n",
        "[  1 200   3   4]\n",
        "\n",
        "মূল অ্যারেটি পরিবর্তিত হয়নি:\n",
        "[ 1  2  3  4  5  6  7  8  9 10]\n",
        "```\n",
        "\n",
        "-----\n",
        "\n",
        "## **২. অ্যাডভান্সড ইনডেক্সিং**\n",
        "\n",
        "স্ট্যান্ডার্ড স্লাইসিং শুধুমাত্র ক্রমিক (sequential) ভিউ তৈরি করার মধ্যে সীমাবদ্ধ। অ্যাডভান্সড ইনডেক্সিং (যাকে \"ফ্যান্সি ইনডেক্সিং\"ও বলা হয়) আপনাকে যেকোনো ইচ্ছামত উপাদান নির্বাচন করার অনুমতি দেয়।\n",
        "\n",
        "### **ইন্টিজার অ্যারে ইনডেক্সিং**\n",
        "\n",
        "আপনি একাধিক, নির্দিষ্ট উপাদান একসাথে অ্যাক্সেস করার জন্য ইনডেক্সগুলোর একটি লিস্ট বা অ্যারে পাস করতে পারেন।\n",
        "\n",
        "```python\n",
        "arr = np.linspace(1, 10, 10, dtype=int)\n",
        "print(f\"মূল অ্যারে:\\n{arr}\\n\")\n",
        "\n",
        "# ইনডেক্স ০, ১, ৩, ৪, এবং ৫ এর উপাদানগুলো অ্যাক্সেস করা\n",
        "values = arr[[0, 1, 3, 4, 5]]\n",
        "print(f\"নির্দিষ্টভাবে নির্বাচিত মান:\\n{values}\\n\")\n",
        "\n",
        "# 2D অ্যারের জন্য, আপনি লিস্টের একটি টুপল পাস করবেন: ([সারি], [কলাম])\n",
        "arr2 = np.arange(1, 10).reshape(3, 3)\n",
        "print(f\"মূল 2D অ্যারে:\\n{arr2}\\n\")\n",
        "\n",
        "# (সারি ১, কলাম ১) এবং (সারি ১, কলাম ২) এর উপাদানগুলো পাওয়া\n",
        "elements = arr2[[1, 1], [1, 2]]\n",
        "print(f\"(1,1) এবং (1,2) অবস্থানের উপাদান:\\n{elements}\")\n",
        "```\n",
        "\n",
        "**আউটপুট:**\n",
        "\n",
        "```\n",
        "মূল অ্যারে:\n",
        "[ 1  2  3  4  5  6  7  8  9 10]\n",
        "\n",
        "নির্দিষ্টভাবে নির্বাচিত মান:\n",
        "[1 2 4 5 6]\n",
        "\n",
        "মূল 2D অ্যারে:\n",
        "[[1 2 3]\n",
        " [4 5 6]\n",
        " [7 8 9]]\n",
        "\n",
        "(1,1) এবং (1,2) অবস্থানের উপাদান:\n",
        "[5 6]\n",
        "```\n",
        "\n",
        "### **বুলিয়ান ইনডেক্সিং (ফিল্টারিং)**\n",
        "\n",
        "আপনি একটি নির্দিষ্ট শর্ত পূরণকারী উপাদানগুলো নির্বাচন বা পরিবর্তন করতে একটি বুলিয়ান এক্সপ্রেশন ব্যবহার করতে পারেন।\n",
        "\n",
        "```python\n",
        "arr = np.arange(1, 10).reshape(3, 3)\n",
        "print(f\"মূল অ্যারে:\\n{arr}\\n\")\n",
        "\n",
        "# ২-এর চেয়ে বড় সমস্ত উপাদান নির্বাচন করা\n",
        "filtered_arr = arr[arr > 2]\n",
        "print(f\"২-এর চেয়ে বড় মানগুলো:\\n{filtered_arr}\\n\")\n",
        "\n",
        "# ৮-এর চেয়ে বড় সমস্ত উপাদানের মান পরিবর্তন করা\n",
        "arr[arr > 8] = 0\n",
        "print(f\"৮-এর চেয়ে বড় মানগুলোকে ০ করার পর অ্যারে:\\n{arr}\")\n",
        "```\n",
        "\n",
        "**আউটপুট:**\n",
        "\n",
        "```\n",
        "মূল অ্যারে:\n",
        "[[1 2 3]\n",
        " [4 5 6]\n",
        " [7 8 9]]\n",
        "\n",
        "২-এর চেয়ে বড় মানগুলো:\n",
        "[3 4 5 6 7 8 9]\n",
        "\n",
        "৮-এর চেয়ে বড় মানগুলোকে ০ করার পর অ্যারে:\n",
        "[[1 2 3]\n",
        " [4 5 6]\n",
        " [7 8 0]]\n",
        "```\n",
        "\n",
        "-----\n",
        "\n",
        "## **৩. অ্যারের উপর ইটারেট করা 🚶‍♂️**\n",
        "\n",
        "যদিও গতির জন্য ভেক্টরাইজড অপারেশন সবসময়ই শ্রেয়, কখনও কখনও আপনাকে একটি অ্যারের মধ্য দিয়ে লুপ করতে হতে পারে।\n",
        "\n",
        "```python\n",
        "arr = np.arange(1, 10).reshape(3, 3)\n",
        "\n",
        "# সাধারণ পাইথন লুপ সারিগুলোর উপর ইটারেট করে\n",
        "print(\"সারিগুলোর উপর ইটারেট করা:\")\n",
        "for row in arr:\n",
        "  print(row)\n",
        "\n",
        "# প্রতিটি আইটেম অ্যাক্সেস করার জন্য নেস্টেড লুপ\n",
        "print(\"\\nপ্রতিটি উপাদানের উপর ইটারেট করা (নেস্টেড লুপ):\")\n",
        "for row in arr:\n",
        "  for col in row:\n",
        "    print(col, end=\" \")\n",
        "```\n",
        "\n",
        "**আউটপুট:**\n",
        "\n",
        "```\n",
        "সারিগুলোর উপর ইটারেট করা:\n",
        "[1 2 3]\n",
        "[4 5 6]\n",
        "[7 8 9]\n",
        "\n",
        "প্রতিটি উপাদানের উপর ইটারেট করা (নেস্টেড লুপ):\n",
        "1 2 3 4 5 6 7 8 9\n",
        "```\n",
        "\n",
        "### **NumPy-এর উপায়: `np.nditer()`**\n",
        "\n",
        "বড় বা বহুমাত্রিক অ্যারের জন্য `np.nditer()` ইটারেটরটি অনেক বেশি কার্যকর। এটি অ্যারের শেপ নির্বিশেষে প্রতিটি উপাদান ভিজিট করার একটি সহজ উপায় সরবরাহ করে।\n",
        "\n",
        "```python\n",
        "arr = np.arange(1, 10).reshape(3, 3)\n",
        "print(\"\\n\\nnp.nditer() দিয়ে ইটারেট করা:\")\n",
        "for i in np.nditer(arr):\n",
        "  print(i, end=\" \")\n",
        "```\n",
        "\n",
        "**আউটপুট:**\n",
        "\n",
        "```\n",
        "np.nditer() দিয়ে ইটারেট করা:\n",
        "1 2 3 4 5 6 7 8 9\n",
        "```\n"
      ],
      "metadata": {
        "id": "-86Qp8ltoS8b"
      }
    },
    {
      "cell_type": "code",
      "source": [
        "arr = np.linspace(1,10,10, dtype=int)\n",
        "mod_arr = arr[1:5] # It not make copy it hold a portion of arr aray\n",
        "print(mod_arr)\n",
        "mod_arr[0] = 200\n",
        "# it chnge the original array\n",
        "print(arr)"
      ],
      "metadata": {
        "colab": {
          "base_uri": "https://localhost:8080/"
        },
        "id": "mXFD6tIeyf4N",
        "outputId": "015edb51-8895-4bd3-bae8-c040948a0df1"
      },
      "execution_count": 194,
      "outputs": [
        {
          "output_type": "stream",
          "name": "stdout",
          "text": [
            "[2 3 4 5]\n",
            "[  1 200   3   4   5   6   7   8   9  10]\n"
          ]
        }
      ]
    },
    {
      "cell_type": "code",
      "source": [
        "# we also make copy instead of taking portion of original array which not effecting in original array\n",
        "\n",
        "arr = np.linspace(1,10,10, dtype=int)\n",
        "mod_arr = arr[0:4].copy()\n",
        "print(mod_arr)\n",
        "\n",
        "mod_arr[1] = 200\n",
        "print(mod_arr)\n",
        "print(arr)"
      ],
      "metadata": {
        "colab": {
          "base_uri": "https://localhost:8080/"
        },
        "id": "GDjsQ-mPzi22",
        "outputId": "5249bf8d-30b9-4134-bae3-ec12bf38448c"
      },
      "execution_count": 200,
      "outputs": [
        {
          "output_type": "stream",
          "name": "stdout",
          "text": [
            "[1 2 3 4]\n",
            "[  1 200   3   4]\n",
            "[ 1  2  3  4  5  6  7  8  9 10]\n"
          ]
        }
      ]
    },
    {
      "cell_type": "markdown",
      "source": [
        "### **Advance Indexing**"
      ],
      "metadata": {
        "id": "EGQAaWiK0a8h"
      }
    },
    {
      "cell_type": "code",
      "source": [
        "# we can access specific multiple index which not possible with slicing\n",
        "arr = np.linspace(1,10,10, dtype=int)\n",
        "print(arr)\n",
        "values = arr[[0,1,3,4,5]]\n",
        "print(values)"
      ],
      "metadata": {
        "colab": {
          "base_uri": "https://localhost:8080/"
        },
        "id": "Dk_CXxZv08jQ",
        "outputId": "13669dc3-95b2-4ffa-de6b-7e8df71b96fc"
      },
      "execution_count": 205,
      "outputs": [
        {
          "output_type": "stream",
          "name": "stdout",
          "text": [
            "[ 1  2  3  4  5  6  7  8  9 10]\n",
            "[1 2 4 5 6]\n"
          ]
        }
      ]
    },
    {
      "cell_type": "code",
      "source": [
        "# 2d array\n",
        "arr = np.linspace(1,9,9, dtype=int)\n",
        "arr = np.reshape(arr,(3,3))\n",
        "print(arr)\n",
        "\n",
        "\n",
        "#arr[[row_no_first_item, row_no_second_item,...row_no_n_item],[col_no_first_item, col_no_second_item,...col_no_n_item ]]\n",
        "print(arr[[1,1],[1,2]])\n",
        "\n"
      ],
      "metadata": {
        "colab": {
          "base_uri": "https://localhost:8080/"
        },
        "id": "t0qekHOM1nzw",
        "outputId": "bf85681f-237b-4346-e7d4-46191acb91f9"
      },
      "execution_count": 216,
      "outputs": [
        {
          "output_type": "stream",
          "name": "stdout",
          "text": [
            "[[1 2 3]\n",
            " [4 5 6]\n",
            " [7 8 9]]\n",
            "[5 6]\n"
          ]
        }
      ]
    },
    {
      "cell_type": "code",
      "source": [
        "# filtering or reassing value with bollean expression\n",
        "\n",
        "print(arr[arr>2])\n",
        "\n",
        "# reassing value 0 to value greater than 8\n",
        "arr[arr>8] = 0\n",
        "\n",
        "print(arr)"
      ],
      "metadata": {
        "colab": {
          "base_uri": "https://localhost:8080/"
        },
        "id": "CnZzZzyA2ozq",
        "outputId": "98d62c18-9f5d-4422-b42b-dd953c0949f3"
      },
      "execution_count": 217,
      "outputs": [
        {
          "output_type": "stream",
          "name": "stdout",
          "text": [
            "[3 4 5 6 7 8 9]\n",
            "[[1 2 3]\n",
            " [4 5 6]\n",
            " [7 8 0]]\n"
          ]
        }
      ]
    },
    {
      "cell_type": "markdown",
      "source": [
        "### **Iteration**"
      ],
      "metadata": {
        "id": "URaB84723uaj"
      }
    },
    {
      "cell_type": "code",
      "source": [
        "arr = np.linspace(1,9,9, dtype=int)\n",
        "arr = np.reshape(arr,(3,3))\n",
        "# we can itereate with for\n",
        "for row in arr:\n",
        "  print(row)\n",
        "\n",
        "# access each item\n",
        "for row in arr:\n",
        "  for col in row:\n",
        "    print(col)"
      ],
      "metadata": {
        "colab": {
          "base_uri": "https://localhost:8080/"
        },
        "id": "Ej4JynRi3rrM",
        "outputId": "de05b4d6-a31e-4426-d2ad-cafb8d0f361c"
      },
      "execution_count": 221,
      "outputs": [
        {
          "output_type": "stream",
          "name": "stdout",
          "text": [
            "[1 2 3]\n",
            "[4 5 6]\n",
            "[7 8 9]\n",
            "1\n",
            "2\n",
            "3\n",
            "4\n",
            "5\n",
            "6\n",
            "7\n",
            "8\n",
            "9\n"
          ]
        }
      ]
    },
    {
      "cell_type": "code",
      "source": [
        "# best way is doint it np.nditer()\n",
        "\n",
        "arr = np.linspace(1,9,9, dtype=int)\n",
        "arr = np.reshape(arr,(3,3))\n",
        "\n",
        "for i in np.nditer(arr):\n",
        "  print(i)\n",
        "\n",
        "# it also print 3 darray with one loop\n",
        "# our arr3 is 3d array\n",
        "\n",
        "for i in np.nditer(arr3):\n",
        "  print(i)\n"
      ],
      "metadata": {
        "colab": {
          "base_uri": "https://localhost:8080/"
        },
        "id": "abLeVOjx4XIC",
        "outputId": "02ad5960-29ea-4706-827d-9a850b0216de"
      },
      "execution_count": 225,
      "outputs": [
        {
          "output_type": "stream",
          "name": "stdout",
          "text": [
            "1\n",
            "2\n",
            "3\n",
            "4\n",
            "5\n",
            "6\n",
            "7\n",
            "8\n",
            "9\n",
            "1.0\n",
            "2.0\n",
            "3.0\n",
            "4.0\n",
            "5.0\n",
            "6.0\n",
            "7.0\n",
            "8.0\n",
            "9.0\n",
            "10.0\n",
            "11.0\n",
            "12.0\n"
          ]
        }
      ]
    }
  ]
}